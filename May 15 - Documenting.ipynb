{
 "cells": [
  {
   "cell_type": "code",
   "execution_count": 1,
   "id": "2e860697-3740-48b0-babb-56a539e2e1e9",
   "metadata": {},
   "outputs": [],
   "source": [
    "from functions import *"
   ]
  },
  {
   "cell_type": "markdown",
   "id": "509e0ba0-5d9b-4eeb-bb28-b529697a471f",
   "metadata": {
    "jp-MarkdownHeadingCollapsed": true,
    "tags": []
   },
   "source": [
    "# Step 01: Converting JSON Files to Tabular Dataset"
   ]
  },
  {
   "cell_type": "markdown",
   "id": "537ee29f-92b6-464d-96f2-f44391a30c87",
   "metadata": {
    "tags": []
   },
   "source": [
    "## 1.1. Choosing Files To Convert"
   ]
  },
  {
   "cell_type": "code",
   "execution_count": 2,
   "id": "dd007e2c-6fe4-4d78-bc86-da74d660ec0a",
   "metadata": {},
   "outputs": [],
   "source": [
    "df = pd.read_csv('_test.csv')"
   ]
  },
  {
   "cell_type": "code",
   "execution_count": 4,
   "id": "35a001e1-03a9-47a0-8d4e-7a52384adccf",
   "metadata": {},
   "outputs": [
    {
     "data": {
      "text/plain": [
       "51"
      ]
     },
     "execution_count": 4,
     "metadata": {},
     "output_type": "execute_result"
    }
   ],
   "source": [
    "len(df['CIK'].unique())"
   ]
  },
  {
   "cell_type": "code",
   "execution_count": 5,
   "id": "893e9a80-c77e-4abe-8069-24ecda1cf9d8",
   "metadata": {},
   "outputs": [
    {
     "data": {
      "text/html": [
       "<div>\n",
       "<style scoped>\n",
       "    .dataframe tbody tr th:only-of-type {\n",
       "        vertical-align: middle;\n",
       "    }\n",
       "\n",
       "    .dataframe tbody tr th {\n",
       "        vertical-align: top;\n",
       "    }\n",
       "\n",
       "    .dataframe thead th {\n",
       "        text-align: right;\n",
       "    }\n",
       "</style>\n",
       "<table border=\"1\" class=\"dataframe\">\n",
       "  <thead>\n",
       "    <tr style=\"text-align: right;\">\n",
       "      <th></th>\n",
       "      <th>CIK</th>\n",
       "      <th>Frame</th>\n",
       "      <th>Assets</th>\n",
       "      <th>CommonStockValue</th>\n",
       "      <th>EarningsPerShareBasic</th>\n",
       "      <th>GrossProfit</th>\n",
       "      <th>NetIncomeLoss</th>\n",
       "    </tr>\n",
       "  </thead>\n",
       "  <tbody>\n",
       "    <tr>\n",
       "      <th>0</th>\n",
       "      <td>89439</td>\n",
       "      <td>CY2012Q1</td>\n",
       "      <td>1.445962e+09</td>\n",
       "      <td>401000.0</td>\n",
       "      <td>0.86</td>\n",
       "      <td>8.449300e+07</td>\n",
       "      <td>32599000.0</td>\n",
       "    </tr>\n",
       "    <tr>\n",
       "      <th>1</th>\n",
       "      <td>89439</td>\n",
       "      <td>CY2012Q2</td>\n",
       "      <td>1.272440e+09</td>\n",
       "      <td>401000.0</td>\n",
       "      <td>0.47</td>\n",
       "      <td>7.124800e+07</td>\n",
       "      <td>17917000.0</td>\n",
       "    </tr>\n",
       "    <tr>\n",
       "      <th>2</th>\n",
       "      <td>89439</td>\n",
       "      <td>CY2012Q3</td>\n",
       "      <td>1.039416e+09</td>\n",
       "      <td>401000.0</td>\n",
       "      <td>0.41</td>\n",
       "      <td>6.444700e+07</td>\n",
       "      <td>15511000.0</td>\n",
       "    </tr>\n",
       "    <tr>\n",
       "      <th>3</th>\n",
       "      <td>89439</td>\n",
       "      <td>CY2012Q4</td>\n",
       "      <td>1.104155e+09</td>\n",
       "      <td>401000.0</td>\n",
       "      <td>0.59</td>\n",
       "      <td>6.528700e+07</td>\n",
       "      <td>16368000.0</td>\n",
       "    </tr>\n",
       "    <tr>\n",
       "      <th>4</th>\n",
       "      <td>89439</td>\n",
       "      <td>CY2013Q1</td>\n",
       "      <td>1.142913e+09</td>\n",
       "      <td>401000.0</td>\n",
       "      <td>0.47</td>\n",
       "      <td>7.684000e+07</td>\n",
       "      <td>26202000.0</td>\n",
       "    </tr>\n",
       "    <tr>\n",
       "      <th>...</th>\n",
       "      <td>...</td>\n",
       "      <td>...</td>\n",
       "      <td>...</td>\n",
       "      <td>...</td>\n",
       "      <td>...</td>\n",
       "      <td>...</td>\n",
       "      <td>...</td>\n",
       "    </tr>\n",
       "    <tr>\n",
       "      <th>2170</th>\n",
       "      <td>310764</td>\n",
       "      <td>CY2022Q3</td>\n",
       "      <td>3.598300e+10</td>\n",
       "      <td>NaN</td>\n",
       "      <td>2.16</td>\n",
       "      <td>2.782000e+09</td>\n",
       "      <td>816000000.0</td>\n",
       "    </tr>\n",
       "    <tr>\n",
       "      <th>2171</th>\n",
       "      <td>310764</td>\n",
       "      <td>CY2022Q4</td>\n",
       "      <td>3.688400e+10</td>\n",
       "      <td>NaN</td>\n",
       "      <td>1.48</td>\n",
       "      <td>3.236000e+09</td>\n",
       "      <td>563000000.0</td>\n",
       "    </tr>\n",
       "    <tr>\n",
       "      <th>2172</th>\n",
       "      <td>310764</td>\n",
       "      <td>CY2023Q1</td>\n",
       "      <td>3.683000e+10</td>\n",
       "      <td>NaN</td>\n",
       "      <td>1.56</td>\n",
       "      <td>3.016000e+09</td>\n",
       "      <td>592000000.0</td>\n",
       "    </tr>\n",
       "    <tr>\n",
       "      <th>2173</th>\n",
       "      <td>310764</td>\n",
       "      <td>CY2023Q2</td>\n",
       "      <td>3.740900e+10</td>\n",
       "      <td>NaN</td>\n",
       "      <td>1.95</td>\n",
       "      <td>3.181000e+09</td>\n",
       "      <td>738000000.0</td>\n",
       "    </tr>\n",
       "    <tr>\n",
       "      <th>2174</th>\n",
       "      <td>310764</td>\n",
       "      <td>CY2023Q3</td>\n",
       "      <td>3.804200e+10</td>\n",
       "      <td>NaN</td>\n",
       "      <td>1.82</td>\n",
       "      <td>3.158000e+09</td>\n",
       "      <td>692000000.0</td>\n",
       "    </tr>\n",
       "  </tbody>\n",
       "</table>\n",
       "<p>2175 rows × 7 columns</p>\n",
       "</div>"
      ],
      "text/plain": [
       "         CIK     Frame        Assets  CommonStockValue  EarningsPerShareBasic  \\\n",
       "0      89439  CY2012Q1  1.445962e+09          401000.0                   0.86   \n",
       "1      89439  CY2012Q2  1.272440e+09          401000.0                   0.47   \n",
       "2      89439  CY2012Q3  1.039416e+09          401000.0                   0.41   \n",
       "3      89439  CY2012Q4  1.104155e+09          401000.0                   0.59   \n",
       "4      89439  CY2013Q1  1.142913e+09          401000.0                   0.47   \n",
       "...      ...       ...           ...               ...                    ...   \n",
       "2170  310764  CY2022Q3  3.598300e+10               NaN                   2.16   \n",
       "2171  310764  CY2022Q4  3.688400e+10               NaN                   1.48   \n",
       "2172  310764  CY2023Q1  3.683000e+10               NaN                   1.56   \n",
       "2173  310764  CY2023Q2  3.740900e+10               NaN                   1.95   \n",
       "2174  310764  CY2023Q3  3.804200e+10               NaN                   1.82   \n",
       "\n",
       "       GrossProfit  NetIncomeLoss  \n",
       "0     8.449300e+07     32599000.0  \n",
       "1     7.124800e+07     17917000.0  \n",
       "2     6.444700e+07     15511000.0  \n",
       "3     6.528700e+07     16368000.0  \n",
       "4     7.684000e+07     26202000.0  \n",
       "...            ...            ...  \n",
       "2170  2.782000e+09    816000000.0  \n",
       "2171  3.236000e+09    563000000.0  \n",
       "2172  3.016000e+09    592000000.0  \n",
       "2173  3.181000e+09    738000000.0  \n",
       "2174  3.158000e+09    692000000.0  \n",
       "\n",
       "[2175 rows x 7 columns]"
      ]
     },
     "execution_count": 5,
     "metadata": {},
     "output_type": "execute_result"
    }
   ],
   "source": [
    "df"
   ]
  },
  {
   "cell_type": "code",
   "execution_count": 6,
   "id": "e5a28514-e5a7-4739-9cf1-e38e6b29f394",
   "metadata": {},
   "outputs": [],
   "source": [
    "sic = pd.read_csv('sic_counts.csv')"
   ]
  },
  {
   "cell_type": "code",
   "execution_count": 21,
   "id": "9958463d-196f-4cdd-aae2-2a1a8cade182",
   "metadata": {},
   "outputs": [
    {
     "data": {
      "text/html": [
       "<div>\n",
       "<style scoped>\n",
       "    .dataframe tbody tr th:only-of-type {\n",
       "        vertical-align: middle;\n",
       "    }\n",
       "\n",
       "    .dataframe tbody tr th {\n",
       "        vertical-align: top;\n",
       "    }\n",
       "\n",
       "    .dataframe thead th {\n",
       "        text-align: right;\n",
       "    }\n",
       "</style>\n",
       "<table border=\"1\" class=\"dataframe\">\n",
       "  <thead>\n",
       "    <tr style=\"text-align: right;\">\n",
       "      <th></th>\n",
       "      <th>SIC</th>\n",
       "      <th>Count</th>\n",
       "      <th>Description</th>\n",
       "    </tr>\n",
       "  </thead>\n",
       "  <tbody>\n",
       "    <tr>\n",
       "      <th>1</th>\n",
       "      <td>2834.0</td>\n",
       "      <td>1087</td>\n",
       "      <td>Pharmaceutical Preparations</td>\n",
       "    </tr>\n",
       "    <tr>\n",
       "      <th>2</th>\n",
       "      <td>6770.0</td>\n",
       "      <td>1045</td>\n",
       "      <td>Blank Checks</td>\n",
       "    </tr>\n",
       "    <tr>\n",
       "      <th>3</th>\n",
       "      <td>7372.0</td>\n",
       "      <td>653</td>\n",
       "      <td>Services-Prepackaged Software</td>\n",
       "    </tr>\n",
       "    <tr>\n",
       "      <th>4</th>\n",
       "      <td>6798.0</td>\n",
       "      <td>502</td>\n",
       "      <td>Real Estate Investment Trusts</td>\n",
       "    </tr>\n",
       "    <tr>\n",
       "      <th>5</th>\n",
       "      <td>1311.0</td>\n",
       "      <td>441</td>\n",
       "      <td>Crude Petroleum &amp; Natural Gas</td>\n",
       "    </tr>\n",
       "    <tr>\n",
       "      <th>...</th>\n",
       "      <td>...</td>\n",
       "      <td>...</td>\n",
       "      <td>...</td>\n",
       "    </tr>\n",
       "    <tr>\n",
       "      <th>430</th>\n",
       "      <td>7384.0</td>\n",
       "      <td>1</td>\n",
       "      <td>Services-Photofinishing Laboratories</td>\n",
       "    </tr>\n",
       "    <tr>\n",
       "      <th>431</th>\n",
       "      <td>3260.0</td>\n",
       "      <td>1</td>\n",
       "      <td>Pottery &amp; Related Products</td>\n",
       "    </tr>\n",
       "    <tr>\n",
       "      <th>432</th>\n",
       "      <td>2092.0</td>\n",
       "      <td>1</td>\n",
       "      <td>Prepared Fresh or  Frozen Fish &amp; Seafoods</td>\n",
       "    </tr>\n",
       "    <tr>\n",
       "      <th>433</th>\n",
       "      <td>2253.0</td>\n",
       "      <td>1</td>\n",
       "      <td>Knit Outerwear Mills</td>\n",
       "    </tr>\n",
       "    <tr>\n",
       "      <th>434</th>\n",
       "      <td>8351.0</td>\n",
       "      <td>1</td>\n",
       "      <td>Services-Child Day Care Services</td>\n",
       "    </tr>\n",
       "  </tbody>\n",
       "</table>\n",
       "<p>434 rows × 3 columns</p>\n",
       "</div>"
      ],
      "text/plain": [
       "        SIC  Count                                Description\n",
       "1    2834.0   1087                Pharmaceutical Preparations\n",
       "2    6770.0   1045                               Blank Checks\n",
       "3    7372.0    653              Services-Prepackaged Software\n",
       "4    6798.0    502              Real Estate Investment Trusts\n",
       "5    1311.0    441              Crude Petroleum & Natural Gas\n",
       "..      ...    ...                                        ...\n",
       "430  7384.0      1       Services-Photofinishing Laboratories\n",
       "431  3260.0      1                 Pottery & Related Products\n",
       "432  2092.0      1  Prepared Fresh or  Frozen Fish & Seafoods\n",
       "433  2253.0      1                       Knit Outerwear Mills\n",
       "434  8351.0      1           Services-Child Day Care Services\n",
       "\n",
       "[434 rows x 3 columns]"
      ]
     },
     "execution_count": 21,
     "metadata": {},
     "output_type": "execute_result"
    }
   ],
   "source": [
    "sic.iloc[1:]"
   ]
  },
  {
   "cell_type": "code",
   "execution_count": 50,
   "id": "020d7c29-2994-4b3a-9382-ebcc1456522b",
   "metadata": {},
   "outputs": [
    {
     "data": {
      "image/png": "[encoded data removed]",
      "text/plain": [
       "<Figure size 1000x600 with 1 Axes>"
      ]
     },
     "metadata": {},
     "output_type": "display_data"
    }
   ],
   "source": [
    "numbers = sic.iloc[1:]['Count']#df.iloc[:, 0]  # Assuming the first column contains numbers\n",
    "labels = sic.iloc[1:]['SIC'] \n",
    "plt.figure(figsize=(10, 6))  # Adjust the figure size as needed\n",
    "plt.plot(numbers,color='black',linewidth=3)  # Plot numbers against labels\n",
    "plt.xlabel('Industries', fontsize=20, fontweight = 'bold')  # X-axis label\n",
    "plt.ylabel('Number of Companies', fontsize=20, fontweight = 'bold')   # Y-axis label\n",
    "plt.title('Number of Companies Per Industries', fontsize=25, fontweight = 'bold')  # Plot title\n",
    "plt.grid(True)  # Show grid\n",
    "plt.xticks(fontname='Georgia')  # Set font to Georgia for x-axis labels\n",
    "plt.yticks(fontname='Georgia') \n",
    "plt.show()  # Show plot\n"
   ]
  },
  {
   "cell_type": "code",
   "execution_count": 51,
   "id": "50c630a4-ef11-42e2-8d0b-fa95a5d401bd",
   "metadata": {},
   "outputs": [],
   "source": [
    "sub = pd.read_csv('Submissions.csv')"
   ]
  },
  {
   "cell_type": "code",
   "execution_count": 52,
   "id": "0a3e7cfc-d8c4-4b85-b750-344b6714257b",
   "metadata": {},
   "outputs": [
    {
     "data": {
      "text/html": [
       "<div>\n",
       "<style scoped>\n",
       "    .dataframe tbody tr th:only-of-type {\n",
       "        vertical-align: middle;\n",
       "    }\n",
       "\n",
       "    .dataframe tbody tr th {\n",
       "        vertical-align: top;\n",
       "    }\n",
       "\n",
       "    .dataframe thead th {\n",
       "        text-align: right;\n",
       "    }\n",
       "</style>\n",
       "<table border=\"1\" class=\"dataframe\">\n",
       "  <thead>\n",
       "    <tr style=\"text-align: right;\">\n",
       "      <th></th>\n",
       "      <th>CIK</th>\n",
       "      <th>Type</th>\n",
       "      <th>SIC</th>\n",
       "      <th>Description</th>\n",
       "      <th>Name</th>\n",
       "      <th>Ticker</th>\n",
       "      <th>Exchange</th>\n",
       "    </tr>\n",
       "  </thead>\n",
       "  <tbody>\n",
       "    <tr>\n",
       "      <th>0</th>\n",
       "      <td>743870</td>\n",
       "      <td>operating</td>\n",
       "      <td>6500.0</td>\n",
       "      <td>Real Estate</td>\n",
       "      <td>RANCON REALTY FUND IV</td>\n",
       "      <td>[]</td>\n",
       "      <td>[]</td>\n",
       "    </tr>\n",
       "    <tr>\n",
       "      <th>1</th>\n",
       "      <td>815097</td>\n",
       "      <td>operating</td>\n",
       "      <td>4400.0</td>\n",
       "      <td>Water Transportation</td>\n",
       "      <td>CARNIVAL CORP</td>\n",
       "      <td>['CCL']</td>\n",
       "      <td>['NYSE']</td>\n",
       "    </tr>\n",
       "    <tr>\n",
       "      <th>2</th>\n",
       "      <td>1466739</td>\n",
       "      <td>operating</td>\n",
       "      <td>7361.0</td>\n",
       "      <td>Services-Employment Agencies</td>\n",
       "      <td>Next Galaxy Corp.</td>\n",
       "      <td>[]</td>\n",
       "      <td>[]</td>\n",
       "    </tr>\n",
       "    <tr>\n",
       "      <th>3</th>\n",
       "      <td>1841661</td>\n",
       "      <td>operating</td>\n",
       "      <td>6770.0</td>\n",
       "      <td>Blank Checks</td>\n",
       "      <td>AF Acquisition Corp.</td>\n",
       "      <td>[]</td>\n",
       "      <td>[]</td>\n",
       "    </tr>\n",
       "    <tr>\n",
       "      <th>4</th>\n",
       "      <td>1831099</td>\n",
       "      <td>other</td>\n",
       "      <td>7370.0</td>\n",
       "      <td>Services-Computer Programming, Data Processing...</td>\n",
       "      <td>AFR Inc.</td>\n",
       "      <td>[]</td>\n",
       "      <td>[]</td>\n",
       "    </tr>\n",
       "    <tr>\n",
       "      <th>...</th>\n",
       "      <td>...</td>\n",
       "      <td>...</td>\n",
       "      <td>...</td>\n",
       "      <td>...</td>\n",
       "      <td>...</td>\n",
       "      <td>...</td>\n",
       "      <td>...</td>\n",
       "    </tr>\n",
       "    <tr>\n",
       "      <th>17687</th>\n",
       "      <td>899749</td>\n",
       "      <td>operating</td>\n",
       "      <td>6798.0</td>\n",
       "      <td>Real Estate Investment Trusts</td>\n",
       "      <td>HRTI, LLC</td>\n",
       "      <td>[]</td>\n",
       "      <td>[]</td>\n",
       "    </tr>\n",
       "    <tr>\n",
       "      <th>17688</th>\n",
       "      <td>1524083</td>\n",
       "      <td>operating</td>\n",
       "      <td>7374.0</td>\n",
       "      <td>Services-Computer Processing &amp; Data Preparation</td>\n",
       "      <td>ChatChing Inc.</td>\n",
       "      <td>[]</td>\n",
       "      <td>[]</td>\n",
       "    </tr>\n",
       "    <tr>\n",
       "      <th>17689</th>\n",
       "      <td>1381668</td>\n",
       "      <td>operating</td>\n",
       "      <td>6035.0</td>\n",
       "      <td>Savings Institution, Federally Chartered</td>\n",
       "      <td>TFS Financial CORP</td>\n",
       "      <td>['TFSL']</td>\n",
       "      <td>['Nasdaq']</td>\n",
       "    </tr>\n",
       "    <tr>\n",
       "      <th>17690</th>\n",
       "      <td>1354772</td>\n",
       "      <td>operating</td>\n",
       "      <td>6035.0</td>\n",
       "      <td>Savings Institution, Federally Chartered</td>\n",
       "      <td>NORTHEAST COMMUNITY BANCORP INC</td>\n",
       "      <td>[]</td>\n",
       "      <td>[]</td>\n",
       "    </tr>\n",
       "    <tr>\n",
       "      <th>17691</th>\n",
       "      <td>1873441</td>\n",
       "      <td>operating</td>\n",
       "      <td>6770.0</td>\n",
       "      <td>Blank Checks</td>\n",
       "      <td>Blockchain Coinvestors Acquisition Corp. I</td>\n",
       "      <td>['BCSA', 'BCSAU', 'BCSAW']</td>\n",
       "      <td>['Nasdaq', 'Nasdaq', 'Nasdaq']</td>\n",
       "    </tr>\n",
       "  </tbody>\n",
       "</table>\n",
       "<p>17692 rows × 7 columns</p>\n",
       "</div>"
      ],
      "text/plain": [
       "           CIK       Type     SIC  \\\n",
       "0       743870  operating  6500.0   \n",
       "1       815097  operating  4400.0   \n",
       "2      1466739  operating  7361.0   \n",
       "3      1841661  operating  6770.0   \n",
       "4      1831099      other  7370.0   \n",
       "...        ...        ...     ...   \n",
       "17687   899749  operating  6798.0   \n",
       "17688  1524083  operating  7374.0   \n",
       "17689  1381668  operating  6035.0   \n",
       "17690  1354772  operating  6035.0   \n",
       "17691  1873441  operating  6770.0   \n",
       "\n",
       "                                             Description  \\\n",
       "0                                            Real Estate   \n",
       "1                                   Water Transportation   \n",
       "2                           Services-Employment Agencies   \n",
       "3                                           Blank Checks   \n",
       "4      Services-Computer Programming, Data Processing...   \n",
       "...                                                  ...   \n",
       "17687                      Real Estate Investment Trusts   \n",
       "17688    Services-Computer Processing & Data Preparation   \n",
       "17689           Savings Institution, Federally Chartered   \n",
       "17690           Savings Institution, Federally Chartered   \n",
       "17691                                       Blank Checks   \n",
       "\n",
       "                                             Name                      Ticker  \\\n",
       "0                           RANCON REALTY FUND IV                          []   \n",
       "1                                   CARNIVAL CORP                     ['CCL']   \n",
       "2                               Next Galaxy Corp.                          []   \n",
       "3                            AF Acquisition Corp.                          []   \n",
       "4                                        AFR Inc.                          []   \n",
       "...                                           ...                         ...   \n",
       "17687                                   HRTI, LLC                          []   \n",
       "17688                              ChatChing Inc.                          []   \n",
       "17689                          TFS Financial CORP                    ['TFSL']   \n",
       "17690             NORTHEAST COMMUNITY BANCORP INC                          []   \n",
       "17691  Blockchain Coinvestors Acquisition Corp. I  ['BCSA', 'BCSAU', 'BCSAW']   \n",
       "\n",
       "                             Exchange  \n",
       "0                                  []  \n",
       "1                            ['NYSE']  \n",
       "2                                  []  \n",
       "3                                  []  \n",
       "4                                  []  \n",
       "...                               ...  \n",
       "17687                              []  \n",
       "17688                              []  \n",
       "17689                      ['Nasdaq']  \n",
       "17690                              []  \n",
       "17691  ['Nasdaq', 'Nasdaq', 'Nasdaq']  \n",
       "\n",
       "[17692 rows x 7 columns]"
      ]
     },
     "execution_count": 52,
     "metadata": {},
     "output_type": "execute_result"
    }
   ],
   "source": [
    "sub"
   ]
  },
  {
   "cell_type": "code",
   "execution_count": 192,
   "id": "e682e327-a472-4c53-88ec-9bca94a9505b",
   "metadata": {},
   "outputs": [],
   "source": [
    "df_list = list(sub[sub['SIC']==6022]['CIK'])"
   ]
  },
  {
   "cell_type": "code",
   "execution_count": 193,
   "id": "56d21b91-7fa0-4e42-85d1-6ff11b1cd8e3",
   "metadata": {},
   "outputs": [],
   "source": [
    "def Step01A_CikToFile(num_list):\n",
    "    newlist = []\n",
    "    for i in num_list:\n",
    "        if len(str(i))==4:\n",
    "            newlist.append('companyfacts/CIK000000' + str(i)+'.json')\n",
    "        if len(str(i))==5:\n",
    "            newlist.append('companyfacts/CIK00000' + str(i)+'.json')\n",
    "        if len(str(i))==6:\n",
    "            newlist.append('companyfacts/CIK0000' + str(i)+'.json')\n",
    "        if len(str(i))==7:\n",
    "            newlist.append('companyfacts/CIK000' + str(i)+'.json')\n",
    "    return newlist"
   ]
  },
  {
   "cell_type": "code",
   "execution_count": 194,
   "id": "7d123218-f467-4006-8beb-5e1a3a4a1942",
   "metadata": {},
   "outputs": [],
   "source": [
    "new_list = Step01A_CikToFile(df_list)"
   ]
  },
  {
   "cell_type": "markdown",
   "id": "8cb671f1-acfb-407c-8fce-9a756933d175",
   "metadata": {
    "tags": []
   },
   "source": [
    "## 1.2 Converting & Merging JSON Files."
   ]
  },
  {
   "cell_type": "code",
   "execution_count": 195,
   "id": "b069f48e-b591-46be-a521-2268193284c3",
   "metadata": {},
   "outputs": [],
   "source": [
    "def Step01B_ConvertorMultiple(file_paths):\n",
    "    all_dfs = []\n",
    "    \n",
    "    for idx, path in enumerate(file_paths, start=1):\n",
    "        with open(path, 'r') as json_file:\n",
    "            data = json.load(json_file)\n",
    "\n",
    "        columns = set()\n",
    "        values = {}\n",
    "        \n",
    "        try:\n",
    "            cik = data['cik']\n",
    "            entity_name = data['entityName']\n",
    "            us_gaap_facts = data['facts']['us-gaap']\n",
    "        except KeyError as e:\n",
    "            print(f\"Key {e} missing in file {path}. Skipping this file.\")\n",
    "            continue\n",
    "\n",
    "        for key, value in us_gaap_facts.items():\n",
    "            for unit_key in value['units'].keys():\n",
    "                for entry in value['units'][unit_key]:\n",
    "                    try:\n",
    "                        if 'frame' in entry:\n",
    "                            frame = entry['frame']\n",
    "                            if frame.endswith('I'):\n",
    "                                frame = frame[:-1]\n",
    "                            row_key = (frame, cik)\n",
    "                            columns.add(key)\n",
    "                            values.setdefault(row_key, {}).update({\n",
    "                                'CIK': cik,\n",
    "                                'EntityName': entity_name,\n",
    "                                'Form': entry['form'],\n",
    "                                'FP': entry['fp'],\n",
    "                                'End': entry['end'],\n",
    "                                'Filed': entry['filed'],\n",
    "                                'Frame': frame,\n",
    "                                key: entry['val']\n",
    "                            })\n",
    "                    except KeyError as e:\n",
    "                        print(f\"Key {e} missing in entry for {key}. Skipping this entry.\")\n",
    "\n",
    "        df = pd.DataFrame.from_dict(values, orient='index')\n",
    "        all_dfs.append(df)\n",
    "\n",
    "    merged_df = pd.concat(all_dfs, ignore_index=True)\n",
    "    return merged_df"
   ]
  },
  {
   "cell_type": "code",
   "execution_count": null,
   "id": "a9d79528-3c53-4a27-8d9a-a601aa6d020a",
   "metadata": {},
   "outputs": [],
   "source": [
    "def v2_Step01B_ConvertorMultiple(file_paths):\n",
    "    all_dfs = []\n",
    "    \n",
    "    for idx, path in enumerate(file_paths, start=1):\n",
    "        with open(path, 'r') as json_file:\n",
    "            data = json.load(json_file)\n",
    "\n",
    "        columns = set()\n",
    "        values = {}\n",
    "        \n",
    "        try:\n",
    "            cik = data['cik']\n",
    "            entity_name = data['entityName']\n",
    "            us_gaap_facts = data['facts']['us-gaap']\n",
    "            dei = data['facts']['dei']\n",
    "        except KeyError as e:\n",
    "            print(f\"Key {e} missing in file {path}. Skipping this file.\")\n",
    "            continue\n",
    "\n",
    "        for key, value in us_gaap_facts.items():\n",
    "            for unit_key in value['units'].keys():\n",
    "                for entry in value['units'][unit_key]:\n",
    "                    try:\n",
    "                        if 'frame' in entry:\n",
    "                            frame = entry['frame']\n",
    "                            if frame.endswith('I'):\n",
    "                                frame = frame[:-1]\n",
    "                            row_key = (frame, cik)\n",
    "                            columns.add(key)\n",
    "                            values.setdefault(row_key, {}).update({\n",
    "                                'CIK': cik,\n",
    "                                'EntityName': entity_name,\n",
    "                                'Form': entry['form'],\n",
    "                                'FP': entry['fp'],\n",
    "                                'End': entry['end'],\n",
    "                                'Filed': entry['filed'],\n",
    "                                'Frame': frame,\n",
    "                                key: entry['val']\n",
    "                            })\n",
    "                    except KeyError as e:\n",
    "                        print(f\"Key {e} missing in entry for {key}. Skipping this entry.\")\n",
    "        \n",
    "        for key, value in dei.items():\n",
    "            for unit_key in value['units'].keys():\n",
    "                for entry in value['units'][unit_key]:\n",
    "                    try:\n",
    "                        if 'frame' in entry:\n",
    "                            frame = entry['frame']\n",
    "                            if frame.endswith('I'):\n",
    "                                frame = frame[:-1]\n",
    "                            row_key = (frame, cik)\n",
    "                            columns.add(key)\n",
    "                            values.setdefault(row_key, {}).update({\n",
    "                                'CIK': cik,\n",
    "                                'EntityName': entity_name,\n",
    "                                'Form': entry['form'],\n",
    "                                'FP': entry['fp'],\n",
    "                                'End': entry['end'],\n",
    "                                'Filed': entry['filed'],\n",
    "                                'Frame': frame,\n",
    "                                key: entry['val']\n",
    "                            })\n",
    "                    except KeyError as e:\n",
    "                        print(f\"Key {e} missing in entry for {key}. Skipping this entry.\")\n",
    "\n",
    "        df = pd.DataFrame.from_dict(values, orient='index')\n",
    "        all_dfs.append(df)\n",
    "\n",
    "    merged_df = pd.concat(all_dfs, ignore_index=True)\n",
    "    return merged_df"
   ]
  },
  {
   "cell_type": "code",
   "execution_count": 196,
   "id": "354d8ba4-4777-4c90-b8e4-97b788a427ca",
   "metadata": {},
   "outputs": [
    {
     "name": "stdout",
     "output_type": "stream",
     "text": [
      "Key 'us-gaap' missing in file companyfacts/CIK0001159508.json. Skipping this file.\n"
     ]
    }
   ],
   "source": [
    "merged_df = Step01B_ConvertorMultiple(new_list)"
   ]
  },
  {
   "cell_type": "code",
   "execution_count": 106,
   "id": "98eb0caa-15ee-4320-b061-44b8586c2aff",
   "metadata": {},
   "outputs": [],
   "source": [
    "def Step01C_CikFramesEpsDrop(df):\n",
    "    \n",
    "    years_quarters = [\n",
    "            \"CY2012Q1\", \"CY2012Q2\", \"CY2012Q3\", \"CY2012Q4\",\n",
    "            \"CY2013Q1\", \"CY2013Q2\", \"CY2013Q3\", \"CY2013Q4\",\n",
    "            \"CY2014Q1\", \"CY2014Q2\", \"CY2014Q3\", \"CY2014Q4\",\n",
    "            \"CY2015Q1\", \"CY2015Q2\", \"CY2015Q3\", \"CY2015Q4\",\n",
    "            \"CY2016Q1\", \"CY2016Q2\", \"CY2016Q3\", \"CY2016Q4\",\n",
    "            \"CY2017Q1\", \"CY2017Q2\", \"CY2017Q3\", \"CY2017Q4\",\n",
    "            \"CY2018Q1\", \"CY2018Q2\", \"CY2018Q3\", \"CY2018Q4\",\n",
    "            \"CY2019Q1\", \"CY2019Q2\", \"CY2019Q3\", \"CY2019Q4\",\n",
    "            \"CY2020Q1\", \"CY2020Q2\", \"CY2020Q3\", \"CY2020Q4\",\n",
    "            \"CY2021Q1\", \"CY2021Q2\", \"CY2021Q3\", \"CY2021Q4\",\n",
    "            \"CY2022Q1\", \"CY2022Q2\", \"CY2022Q3\", \"CY2022Q4\",\n",
    "            \"CY2023Q1\", \"CY2023Q2\", \"CY2023Q3\", \"CY2023Q4\"\n",
    "        ]\n",
    "\n",
    "    df = df[df['Frame'].isin(years_quarters)]\n",
    "    df = df.sort_values(['CIK','Frame'])\n",
    "    df = df.drop(['EntityName', 'Form', 'FP', 'End', 'Filed'],axis=1)\n",
    "    df = df.dropna(subset=['EarningsPerShareBasic'])\n",
    "\n",
    "    return df"
   ]
  },
  {
   "cell_type": "code",
   "execution_count": 107,
   "id": "fe8fe383-1351-430c-bce9-9f5a10075a89",
   "metadata": {},
   "outputs": [],
   "source": [
    "df = Step01C_CikFramesEpsDrop(merged_df)"
   ]
  },
  {
   "cell_type": "code",
   "execution_count": 108,
   "id": "30c98e01-629e-4070-a3f7-0492409fda7f",
   "metadata": {},
   "outputs": [
    {
     "data": {
      "text/plain": [
       "(9709, 5698)"
      ]
     },
     "execution_count": 108,
     "metadata": {},
     "output_type": "execute_result"
    }
   ],
   "source": [
    "df.shape"
   ]
  },
  {
   "cell_type": "code",
   "execution_count": 109,
   "id": "45f8517a-d201-446e-a509-682a54668595",
   "metadata": {},
   "outputs": [
    {
     "data": {
      "text/plain": [
       "(18431, 5703)"
      ]
     },
     "execution_count": 109,
     "metadata": {},
     "output_type": "execute_result"
    }
   ],
   "source": [
    "merged_df.shape"
   ]
  },
  {
   "cell_type": "code",
   "execution_count": 122,
   "id": "a9168060-3e81-4d8c-ae84-5092b8200d0e",
   "metadata": {},
   "outputs": [],
   "source": [
    "no_eps = merged_df[merged_df['EarningsPerShareBasic'].isna()]"
   ]
  },
  {
   "cell_type": "code",
   "execution_count": 124,
   "id": "36f5a5f8-8bed-4f7c-9709-aada29eeb2c4",
   "metadata": {},
   "outputs": [],
   "source": [
    "years_quarters = [\n",
    "            \"CY2012Q1\", \"CY2012Q2\", \"CY2012Q3\", \"CY2012Q4\",\n",
    "            \"CY2013Q1\", \"CY2013Q2\", \"CY2013Q3\", \"CY2013Q4\",\n",
    "            \"CY2014Q1\", \"CY2014Q2\", \"CY2014Q3\", \"CY2014Q4\",\n",
    "            \"CY2015Q1\", \"CY2015Q2\", \"CY2015Q3\", \"CY2015Q4\",\n",
    "            \"CY2016Q1\", \"CY2016Q2\", \"CY2016Q3\", \"CY2016Q4\",\n",
    "            \"CY2017Q1\", \"CY2017Q2\", \"CY2017Q3\", \"CY2017Q4\",\n",
    "            \"CY2018Q1\", \"CY2018Q2\", \"CY2018Q3\", \"CY2018Q4\",\n",
    "            \"CY2019Q1\", \"CY2019Q2\", \"CY2019Q3\", \"CY2019Q4\",\n",
    "            \"CY2020Q1\", \"CY2020Q2\", \"CY2020Q3\", \"CY2020Q4\",\n",
    "            \"CY2021Q1\", \"CY2021Q2\", \"CY2021Q3\", \"CY2021Q4\",\n",
    "            \"CY2022Q1\", \"CY2022Q2\", \"CY2022Q3\", \"CY2022Q4\",\n",
    "            \"CY2023Q1\", \"CY2023Q2\", \"CY2023Q3\", \"CY2023Q4\"\n",
    "        ]\n"
   ]
  },
  {
   "cell_type": "code",
   "execution_count": 125,
   "id": "4dcc6b66-2518-4aa5-82ca-04df7ebf3ab7",
   "metadata": {},
   "outputs": [],
   "source": [
    "no_eps = no_eps[no_eps['Frame'].isin(years_quarters)]"
   ]
  },
  {
   "cell_type": "code",
   "execution_count": 130,
   "id": "14f3847d-5c92-405f-9767-ffac7532b30d",
   "metadata": {},
   "outputs": [],
   "source": [
    "asd = list(no_eps['Frame'])"
   ]
  },
  {
   "cell_type": "code",
   "execution_count": 131,
   "id": "c16fa5c2-ac60-42e5-9e59-0fb180ca6d3f",
   "metadata": {},
   "outputs": [],
   "source": [
    "q4 = []\n",
    "for i in asd:\n",
    "    if i.endswith('4'):\n",
    "        q4.append(i)"
   ]
  },
  {
   "cell_type": "code",
   "execution_count": 134,
   "id": "b6983ee2-6ada-429f-af62-72b4c83d606f",
   "metadata": {},
   "outputs": [
    {
     "data": {
      "text/plain": [
       "1965"
      ]
     },
     "execution_count": 134,
     "metadata": {},
     "output_type": "execute_result"
    }
   ],
   "source": [
    "len(asd)"
   ]
  },
  {
   "cell_type": "code",
   "execution_count": 135,
   "id": "6cd6a308-6d14-4e48-881c-f9065f24faa2",
   "metadata": {},
   "outputs": [
    {
     "data": {
      "text/plain": [
       "1480"
      ]
     },
     "execution_count": 135,
     "metadata": {},
     "output_type": "execute_result"
    }
   ],
   "source": [
    "len(q4)"
   ]
  },
  {
   "cell_type": "markdown",
   "id": "f69f7330-b4ae-4b73-be34-c173ff0d1051",
   "metadata": {
    "tags": []
   },
   "source": [
    "# Dealing with Missing EPS"
   ]
  },
  {
   "cell_type": "code",
   "execution_count": 137,
   "id": "6f0166ca-055a-4349-a956-e4469c33cf5a",
   "metadata": {},
   "outputs": [],
   "source": [
    "no_eps = merged_df[merged_df['EarningsPerShareBasic'].isna()]"
   ]
  },
  {
   "cell_type": "code",
   "execution_count": 140,
   "id": "c7fba3da-1c90-487a-aaa6-7f238730ad2c",
   "metadata": {},
   "outputs": [
    {
     "data": {
      "text/plain": [
       "0.20633714936791275"
      ]
     },
     "execution_count": 140,
     "metadata": {},
     "output_type": "execute_result"
    }
   ],
   "source": [
    "3803/18431"
   ]
  },
  {
   "cell_type": "code",
   "execution_count": 144,
   "id": "9d9e6366-abd1-4cff-9bec-f6e126d44786",
   "metadata": {},
   "outputs": [],
   "source": [
    "df_list = [944745,1609065,715072]"
   ]
  },
  {
   "cell_type": "code",
   "execution_count": 145,
   "id": "7bb347e5-bf4c-45dc-a8e7-6a5eeb8dac67",
   "metadata": {},
   "outputs": [],
   "source": [
    "new_list = Step01A_CikToFile(df_list)"
   ]
  },
  {
   "cell_type": "code",
   "execution_count": 146,
   "id": "1484bbc7-0992-48c1-93e5-13126789bf3c",
   "metadata": {},
   "outputs": [
    {
     "data": {
      "text/plain": [
       "['companyfacts/CIK0000944745.json',\n",
       " 'companyfacts/CIK0001609065.json',\n",
       " 'companyfacts/CIK0000715072.json']"
      ]
     },
     "execution_count": 146,
     "metadata": {},
     "output_type": "execute_result"
    }
   ],
   "source": [
    "new_list"
   ]
  },
  {
   "cell_type": "code",
   "execution_count": 147,
   "id": "4a253098-db6f-43ac-945d-4ac282ecfe64",
   "metadata": {},
   "outputs": [],
   "source": [
    "merged_chosen = Step01B_ConvertorMultiple(new_list)"
   ]
  },
  {
   "cell_type": "code",
   "execution_count": 149,
   "id": "d42e2ded-3d5e-4b29-9bd4-9fb5a569a218",
   "metadata": {},
   "outputs": [],
   "source": [
    "def na_max(df,threshold):\n",
    "\n",
    "    missing_values = df.isnull().sum()\n",
    "\n",
    "    # Calculate the percentage of missing values in each column\n",
    "    missing_percentage = missing_values / len(df)\n",
    "\n",
    "    # Get the columns where the missing percentage is greater than the threshold\n",
    "    columns_to_drop = missing_percentage[missing_percentage > threshold].index\n",
    "\n",
    "    # Drop the columns from the DataFrame\n",
    "    df = df.drop(columns=columns_to_drop)\n",
    "    return df"
   ]
  },
  {
   "cell_type": "code",
   "execution_count": 152,
   "id": "5b25453c-95a2-482f-b598-2cabce986875",
   "metadata": {},
   "outputs": [],
   "source": [
    "na_maxed = na_max(merged_chosen,0.2)"
   ]
  },
  {
   "cell_type": "code",
   "execution_count": 153,
   "id": "cb1e078d-eb37-4e3c-aaba-86aabe403bc9",
   "metadata": {},
   "outputs": [
    {
     "data": {
      "text/plain": [
       "(197, 14)"
      ]
     },
     "execution_count": 153,
     "metadata": {},
     "output_type": "execute_result"
    }
   ],
   "source": [
    "na_maxed.shape"
   ]
  },
  {
   "cell_type": "code",
   "execution_count": 164,
   "id": "1de31352-ee00-4071-a517-1189ed9c86bb",
   "metadata": {},
   "outputs": [],
   "source": [
    "df1 = merged_chosen[['InterestExpense','NetIncomeLoss','EarningsPerShareBasic']]"
   ]
  },
  {
   "cell_type": "code",
   "execution_count": 163,
   "id": "de15c2ed-f9ca-463a-a53b-ff25c0e12319",
   "metadata": {},
   "outputs": [],
   "source": [
    "df2=merged_chosen[merged_chosen.columns[:7]]"
   ]
  },
  {
   "cell_type": "code",
   "execution_count": 170,
   "id": "eb63f574-2d86-4c0e-8995-a432b938a9db",
   "metadata": {},
   "outputs": [],
   "source": [
    "merged_new = pd.concat([df2,df1],axis=1)"
   ]
  },
  {
   "cell_type": "code",
   "execution_count": 172,
   "id": "3674c520-1e6c-42fe-b1a5-61d6a2720586",
   "metadata": {},
   "outputs": [],
   "source": [
    "merged_new.to_csv('eps_missing.csv',index=False)"
   ]
  },
  {
   "cell_type": "code",
   "execution_count": 174,
   "id": "32f0542a-4517-4aab-895d-68d24d3c9f37",
   "metadata": {},
   "outputs": [],
   "source": [
    "merged_chosen.to_csv('eps_missing_2.csv',index=False)"
   ]
  },
  {
   "cell_type": "code",
   "execution_count": 176,
   "id": "468c5b9c-859f-40da-8173-ff69b8c73ed1",
   "metadata": {},
   "outputs": [],
   "source": [
    "years = ['CY2012', 'CY2013', 'CY2014', 'CY2015', 'CY2016', 'CY2017', 'CY2018', 'CY2019', 'CY2020', 'CY2021', 'CY2022','CY2023']\n"
   ]
  },
  {
   "cell_type": "code",
   "execution_count": 177,
   "id": "63a5635d-4625-4e31-a234-555e3f5959ec",
   "metadata": {},
   "outputs": [],
   "source": [
    "merged_df = merged_df[merged_df['Frame'].isin(years)]"
   ]
  },
  {
   "cell_type": "code",
   "execution_count": 179,
   "id": "097de37b-0ce8-4648-abd9-581573332736",
   "metadata": {},
   "outputs": [],
   "source": [
    "df_cleaned = merged_df.dropna(axis='columns', how='all')"
   ]
  },
  {
   "cell_type": "code",
   "execution_count": 181,
   "id": "4431eabd-05e2-4767-8b6e-0b5829d4687d",
   "metadata": {},
   "outputs": [],
   "source": [
    "df_cleaned.to_csv('all_annual.csv',index=False)"
   ]
  },
  {
   "cell_type": "code",
   "execution_count": 182,
   "id": "1fc8b953-382f-4096-b125-17adba77d704",
   "metadata": {},
   "outputs": [
    {
     "data": {
      "text/plain": [
       "(0.94, (2730, 2683))"
      ]
     },
     "execution_count": 182,
     "metadata": {},
     "output_type": "execute_result"
    }
   ],
   "source": [
    "df_info(df_cleaned)"
   ]
  },
  {
   "cell_type": "code",
   "execution_count": 187,
   "id": "0422eb79-0ff0-41cc-b10e-58fe5d3388fa",
   "metadata": {},
   "outputs": [
    {
     "name": "stdout",
     "output_type": "stream",
     "text": [
      "(0.19, (2730, 60))\n"
     ]
    }
   ],
   "source": [
    "na_maxed = na_max(df_cleaned,0.4)\n",
    "print(df_info(na_maxed))"
   ]
  },
  {
   "cell_type": "code",
   "execution_count": 188,
   "id": "11de8ea0-2055-42c3-96b2-cdcc1dfd3aa7",
   "metadata": {},
   "outputs": [
    {
     "data": {
      "text/html": [
       "<div>\n",
       "<style scoped>\n",
       "    .dataframe tbody tr th:only-of-type {\n",
       "        vertical-align: middle;\n",
       "    }\n",
       "\n",
       "    .dataframe tbody tr th {\n",
       "        vertical-align: top;\n",
       "    }\n",
       "\n",
       "    .dataframe thead th {\n",
       "        text-align: right;\n",
       "    }\n",
       "</style>\n",
       "<table border=\"1\" class=\"dataframe\">\n",
       "  <thead>\n",
       "    <tr style=\"text-align: right;\">\n",
       "      <th></th>\n",
       "      <th>CIK</th>\n",
       "      <th>EntityName</th>\n",
       "      <th>Form</th>\n",
       "      <th>FP</th>\n",
       "      <th>End</th>\n",
       "      <th>Filed</th>\n",
       "      <th>Frame</th>\n",
       "      <th>AccretionAmortizationOfDiscountsAndPremiumsInvestments</th>\n",
       "      <th>AmortizationOfIntangibleAssets</th>\n",
       "      <th>BankOwnedLifeInsuranceIncome</th>\n",
       "      <th>...</th>\n",
       "      <th>ProfessionalFees</th>\n",
       "      <th>ProvisionForLoanAndLeaseLosses</th>\n",
       "      <th>WeightedAverageNumberOfDilutedSharesOutstanding</th>\n",
       "      <th>WeightedAverageNumberOfSharesOutstandingBasic</th>\n",
       "      <th>ShareBasedCompensation</th>\n",
       "      <th>IncreaseDecreaseInOtherOperatingAssets</th>\n",
       "      <th>CurrentFederalTaxExpenseBenefit</th>\n",
       "      <th>IncomeTaxReconciliationTaxExemptIncome</th>\n",
       "      <th>CurrentStateAndLocalTaxExpenseBenefit</th>\n",
       "      <th>DeferredFederalIncomeTaxExpenseBenefit</th>\n",
       "    </tr>\n",
       "  </thead>\n",
       "  <tbody>\n",
       "    <tr>\n",
       "      <th>0</th>\n",
       "      <td>944745</td>\n",
       "      <td>Civista Bancshares, Inc.</td>\n",
       "      <td>10-K</td>\n",
       "      <td>FY</td>\n",
       "      <td>2013-12-31</td>\n",
       "      <td>2016-03-15</td>\n",
       "      <td>CY2013</td>\n",
       "      <td>-1633000.0</td>\n",
       "      <td>846000.0</td>\n",
       "      <td>555000.0</td>\n",
       "      <td>...</td>\n",
       "      <td>1677000.0</td>\n",
       "      <td>1100000.0</td>\n",
       "      <td>7821780.0</td>\n",
       "      <td>7707917.0</td>\n",
       "      <td>NaN</td>\n",
       "      <td>NaN</td>\n",
       "      <td>NaN</td>\n",
       "      <td>NaN</td>\n",
       "      <td>NaN</td>\n",
       "      <td>NaN</td>\n",
       "    </tr>\n",
       "    <tr>\n",
       "      <th>1</th>\n",
       "      <td>944745</td>\n",
       "      <td>Civista Bancshares, Inc.</td>\n",
       "      <td>10-K</td>\n",
       "      <td>FY</td>\n",
       "      <td>2014-12-31</td>\n",
       "      <td>2017-03-15</td>\n",
       "      <td>CY2014</td>\n",
       "      <td>-1491000.0</td>\n",
       "      <td>769000.0</td>\n",
       "      <td>492000.0</td>\n",
       "      <td>...</td>\n",
       "      <td>1855000.0</td>\n",
       "      <td>1500000.0</td>\n",
       "      <td>10904848.0</td>\n",
       "      <td>7707917.0</td>\n",
       "      <td>NaN</td>\n",
       "      <td>NaN</td>\n",
       "      <td>NaN</td>\n",
       "      <td>NaN</td>\n",
       "      <td>NaN</td>\n",
       "      <td>NaN</td>\n",
       "    </tr>\n",
       "    <tr>\n",
       "      <th>2</th>\n",
       "      <td>944745</td>\n",
       "      <td>Civista Bancshares, Inc.</td>\n",
       "      <td>10-K</td>\n",
       "      <td>FY</td>\n",
       "      <td>2015-12-31</td>\n",
       "      <td>2018-03-08</td>\n",
       "      <td>CY2015</td>\n",
       "      <td>-1410000.0</td>\n",
       "      <td>711000.0</td>\n",
       "      <td>467000.0</td>\n",
       "      <td>...</td>\n",
       "      <td>2461000.0</td>\n",
       "      <td>1200000.0</td>\n",
       "      <td>10918335.0</td>\n",
       "      <td>7822369.0</td>\n",
       "      <td>106000.0</td>\n",
       "      <td>NaN</td>\n",
       "      <td>NaN</td>\n",
       "      <td>NaN</td>\n",
       "      <td>NaN</td>\n",
       "      <td>NaN</td>\n",
       "    </tr>\n",
       "    <tr>\n",
       "      <th>3</th>\n",
       "      <td>944745</td>\n",
       "      <td>Civista Bancshares, Inc.</td>\n",
       "      <td>10-K</td>\n",
       "      <td>FY</td>\n",
       "      <td>2016-12-31</td>\n",
       "      <td>2019-03-15</td>\n",
       "      <td>CY2016</td>\n",
       "      <td>-1383000.0</td>\n",
       "      <td>699000.0</td>\n",
       "      <td>563000.0</td>\n",
       "      <td>...</td>\n",
       "      <td>1895000.0</td>\n",
       "      <td>-1300000.0</td>\n",
       "      <td>10950961.0</td>\n",
       "      <td>8010399.0</td>\n",
       "      <td>323000.0</td>\n",
       "      <td>NaN</td>\n",
       "      <td>NaN</td>\n",
       "      <td>NaN</td>\n",
       "      <td>NaN</td>\n",
       "      <td>NaN</td>\n",
       "    </tr>\n",
       "    <tr>\n",
       "      <th>4</th>\n",
       "      <td>944745</td>\n",
       "      <td>Civista Bancshares, Inc.</td>\n",
       "      <td>10-K</td>\n",
       "      <td>FY</td>\n",
       "      <td>2017-12-31</td>\n",
       "      <td>2020-03-16</td>\n",
       "      <td>CY2017</td>\n",
       "      <td>-1263000.0</td>\n",
       "      <td>586000.0</td>\n",
       "      <td>573000.0</td>\n",
       "      <td>...</td>\n",
       "      <td>2300000.0</td>\n",
       "      <td>NaN</td>\n",
       "      <td>12352616.0</td>\n",
       "      <td>9906856.0</td>\n",
       "      <td>426000.0</td>\n",
       "      <td>NaN</td>\n",
       "      <td>NaN</td>\n",
       "      <td>NaN</td>\n",
       "      <td>NaN</td>\n",
       "      <td>NaN</td>\n",
       "    </tr>\n",
       "    <tr>\n",
       "      <th>...</th>\n",
       "      <td>...</td>\n",
       "      <td>...</td>\n",
       "      <td>...</td>\n",
       "      <td>...</td>\n",
       "      <td>...</td>\n",
       "      <td>...</td>\n",
       "      <td>...</td>\n",
       "      <td>...</td>\n",
       "      <td>...</td>\n",
       "      <td>...</td>\n",
       "      <td>...</td>\n",
       "      <td>...</td>\n",
       "      <td>...</td>\n",
       "      <td>...</td>\n",
       "      <td>...</td>\n",
       "      <td>...</td>\n",
       "      <td>...</td>\n",
       "      <td>...</td>\n",
       "      <td>...</td>\n",
       "      <td>...</td>\n",
       "      <td>...</td>\n",
       "    </tr>\n",
       "    <tr>\n",
       "      <th>18417</th>\n",
       "      <td>736772</td>\n",
       "      <td>CNB FINANCIAL CORP/PA</td>\n",
       "      <td>10-K</td>\n",
       "      <td>FY</td>\n",
       "      <td>2019-12-31</td>\n",
       "      <td>2022-03-03</td>\n",
       "      <td>CY2019</td>\n",
       "      <td>NaN</td>\n",
       "      <td>NaN</td>\n",
       "      <td>1317000.0</td>\n",
       "      <td>...</td>\n",
       "      <td>NaN</td>\n",
       "      <td>6024000.0</td>\n",
       "      <td>15164000.0</td>\n",
       "      <td>15164000.0</td>\n",
       "      <td>1346000.0</td>\n",
       "      <td>-1072000.0</td>\n",
       "      <td>8265000.0</td>\n",
       "      <td>1382000.0</td>\n",
       "      <td>499000.0</td>\n",
       "      <td>-204000.0</td>\n",
       "    </tr>\n",
       "    <tr>\n",
       "      <th>18418</th>\n",
       "      <td>736772</td>\n",
       "      <td>CNB FINANCIAL CORP/PA</td>\n",
       "      <td>10-K</td>\n",
       "      <td>FY</td>\n",
       "      <td>2020-12-31</td>\n",
       "      <td>2023-03-03</td>\n",
       "      <td>CY2020</td>\n",
       "      <td>NaN</td>\n",
       "      <td>NaN</td>\n",
       "      <td>1747000.0</td>\n",
       "      <td>...</td>\n",
       "      <td>NaN</td>\n",
       "      <td>15354000.0</td>\n",
       "      <td>16000000.0</td>\n",
       "      <td>16000000.0</td>\n",
       "      <td>1410000.0</td>\n",
       "      <td>6242000.0</td>\n",
       "      <td>8681000.0</td>\n",
       "      <td>1119000.0</td>\n",
       "      <td>729000.0</td>\n",
       "      <td>-1672000.0</td>\n",
       "    </tr>\n",
       "    <tr>\n",
       "      <th>18419</th>\n",
       "      <td>736772</td>\n",
       "      <td>CNB FINANCIAL CORP/PA</td>\n",
       "      <td>10-K</td>\n",
       "      <td>FY</td>\n",
       "      <td>2021-12-31</td>\n",
       "      <td>2023-03-03</td>\n",
       "      <td>CY2021</td>\n",
       "      <td>NaN</td>\n",
       "      <td>NaN</td>\n",
       "      <td>2638000.0</td>\n",
       "      <td>...</td>\n",
       "      <td>NaN</td>\n",
       "      <td>6003000.0</td>\n",
       "      <td>16820000.0</td>\n",
       "      <td>16820000.0</td>\n",
       "      <td>1411000.0</td>\n",
       "      <td>1056000.0</td>\n",
       "      <td>13494000.0</td>\n",
       "      <td>1016000.0</td>\n",
       "      <td>1268000.0</td>\n",
       "      <td>-1025000.0</td>\n",
       "    </tr>\n",
       "    <tr>\n",
       "      <th>18420</th>\n",
       "      <td>736772</td>\n",
       "      <td>CNB FINANCIAL CORP/PA</td>\n",
       "      <td>10-Q</td>\n",
       "      <td>Q3</td>\n",
       "      <td>2022-12-31</td>\n",
       "      <td>2023-11-01</td>\n",
       "      <td>CY2022</td>\n",
       "      <td>NaN</td>\n",
       "      <td>NaN</td>\n",
       "      <td>3433000.0</td>\n",
       "      <td>...</td>\n",
       "      <td>NaN</td>\n",
       "      <td>NaN</td>\n",
       "      <td>18020000.0</td>\n",
       "      <td>17987000.0</td>\n",
       "      <td>1248000.0</td>\n",
       "      <td>19065000.0</td>\n",
       "      <td>15494000.0</td>\n",
       "      <td>1036000.0</td>\n",
       "      <td>1346000.0</td>\n",
       "      <td>-1618000.0</td>\n",
       "    </tr>\n",
       "    <tr>\n",
       "      <th>18423</th>\n",
       "      <td>736772</td>\n",
       "      <td>CNB FINANCIAL CORP/PA</td>\n",
       "      <td>10-K</td>\n",
       "      <td>FY</td>\n",
       "      <td>2012-12-31</td>\n",
       "      <td>2015-03-06</td>\n",
       "      <td>CY2012</td>\n",
       "      <td>NaN</td>\n",
       "      <td>NaN</td>\n",
       "      <td>973000.0</td>\n",
       "      <td>...</td>\n",
       "      <td>1265000.0</td>\n",
       "      <td>6381000.0</td>\n",
       "      <td>12403000.0</td>\n",
       "      <td>12400000.0</td>\n",
       "      <td>277000.0</td>\n",
       "      <td>455000.0</td>\n",
       "      <td>6535000.0</td>\n",
       "      <td>1553000.0</td>\n",
       "      <td>1474000.0</td>\n",
       "      <td>-240000.0</td>\n",
       "    </tr>\n",
       "  </tbody>\n",
       "</table>\n",
       "<p>2730 rows × 60 columns</p>\n",
       "</div>"
      ],
      "text/plain": [
       "          CIK                EntityName  Form  FP         End       Filed  \\\n",
       "0      944745  Civista Bancshares, Inc.  10-K  FY  2013-12-31  2016-03-15   \n",
       "1      944745  Civista Bancshares, Inc.  10-K  FY  2014-12-31  2017-03-15   \n",
       "2      944745  Civista Bancshares, Inc.  10-K  FY  2015-12-31  2018-03-08   \n",
       "3      944745  Civista Bancshares, Inc.  10-K  FY  2016-12-31  2019-03-15   \n",
       "4      944745  Civista Bancshares, Inc.  10-K  FY  2017-12-31  2020-03-16   \n",
       "...       ...                       ...   ...  ..         ...         ...   \n",
       "18417  736772     CNB FINANCIAL CORP/PA  10-K  FY  2019-12-31  2022-03-03   \n",
       "18418  736772     CNB FINANCIAL CORP/PA  10-K  FY  2020-12-31  2023-03-03   \n",
       "18419  736772     CNB FINANCIAL CORP/PA  10-K  FY  2021-12-31  2023-03-03   \n",
       "18420  736772     CNB FINANCIAL CORP/PA  10-Q  Q3  2022-12-31  2023-11-01   \n",
       "18423  736772     CNB FINANCIAL CORP/PA  10-K  FY  2012-12-31  2015-03-06   \n",
       "\n",
       "        Frame  AccretionAmortizationOfDiscountsAndPremiumsInvestments  \\\n",
       "0      CY2013                                         -1633000.0        \n",
       "1      CY2014                                         -1491000.0        \n",
       "2      CY2015                                         -1410000.0        \n",
       "3      CY2016                                         -1383000.0        \n",
       "4      CY2017                                         -1263000.0        \n",
       "...       ...                                                ...        \n",
       "18417  CY2019                                                NaN        \n",
       "18418  CY2020                                                NaN        \n",
       "18419  CY2021                                                NaN        \n",
       "18420  CY2022                                                NaN        \n",
       "18423  CY2012                                                NaN        \n",
       "\n",
       "       AmortizationOfIntangibleAssets  BankOwnedLifeInsuranceIncome  ...  \\\n",
       "0                            846000.0                      555000.0  ...   \n",
       "1                            769000.0                      492000.0  ...   \n",
       "2                            711000.0                      467000.0  ...   \n",
       "3                            699000.0                      563000.0  ...   \n",
       "4                            586000.0                      573000.0  ...   \n",
       "...                               ...                           ...  ...   \n",
       "18417                             NaN                     1317000.0  ...   \n",
       "18418                             NaN                     1747000.0  ...   \n",
       "18419                             NaN                     2638000.0  ...   \n",
       "18420                             NaN                     3433000.0  ...   \n",
       "18423                             NaN                      973000.0  ...   \n",
       "\n",
       "       ProfessionalFees  ProvisionForLoanAndLeaseLosses  \\\n",
       "0             1677000.0                       1100000.0   \n",
       "1             1855000.0                       1500000.0   \n",
       "2             2461000.0                       1200000.0   \n",
       "3             1895000.0                      -1300000.0   \n",
       "4             2300000.0                             NaN   \n",
       "...                 ...                             ...   \n",
       "18417               NaN                       6024000.0   \n",
       "18418               NaN                      15354000.0   \n",
       "18419               NaN                       6003000.0   \n",
       "18420               NaN                             NaN   \n",
       "18423         1265000.0                       6381000.0   \n",
       "\n",
       "       WeightedAverageNumberOfDilutedSharesOutstanding  \\\n",
       "0                                            7821780.0   \n",
       "1                                           10904848.0   \n",
       "2                                           10918335.0   \n",
       "3                                           10950961.0   \n",
       "4                                           12352616.0   \n",
       "...                                                ...   \n",
       "18417                                       15164000.0   \n",
       "18418                                       16000000.0   \n",
       "18419                                       16820000.0   \n",
       "18420                                       18020000.0   \n",
       "18423                                       12403000.0   \n",
       "\n",
       "       WeightedAverageNumberOfSharesOutstandingBasic  ShareBasedCompensation  \\\n",
       "0                                          7707917.0                     NaN   \n",
       "1                                          7707917.0                     NaN   \n",
       "2                                          7822369.0                106000.0   \n",
       "3                                          8010399.0                323000.0   \n",
       "4                                          9906856.0                426000.0   \n",
       "...                                              ...                     ...   \n",
       "18417                                     15164000.0               1346000.0   \n",
       "18418                                     16000000.0               1410000.0   \n",
       "18419                                     16820000.0               1411000.0   \n",
       "18420                                     17987000.0               1248000.0   \n",
       "18423                                     12400000.0                277000.0   \n",
       "\n",
       "       IncreaseDecreaseInOtherOperatingAssets  \\\n",
       "0                                         NaN   \n",
       "1                                         NaN   \n",
       "2                                         NaN   \n",
       "3                                         NaN   \n",
       "4                                         NaN   \n",
       "...                                       ...   \n",
       "18417                              -1072000.0   \n",
       "18418                               6242000.0   \n",
       "18419                               1056000.0   \n",
       "18420                              19065000.0   \n",
       "18423                                455000.0   \n",
       "\n",
       "       CurrentFederalTaxExpenseBenefit  \\\n",
       "0                                  NaN   \n",
       "1                                  NaN   \n",
       "2                                  NaN   \n",
       "3                                  NaN   \n",
       "4                                  NaN   \n",
       "...                                ...   \n",
       "18417                        8265000.0   \n",
       "18418                        8681000.0   \n",
       "18419                       13494000.0   \n",
       "18420                       15494000.0   \n",
       "18423                        6535000.0   \n",
       "\n",
       "       IncomeTaxReconciliationTaxExemptIncome  \\\n",
       "0                                         NaN   \n",
       "1                                         NaN   \n",
       "2                                         NaN   \n",
       "3                                         NaN   \n",
       "4                                         NaN   \n",
       "...                                       ...   \n",
       "18417                               1382000.0   \n",
       "18418                               1119000.0   \n",
       "18419                               1016000.0   \n",
       "18420                               1036000.0   \n",
       "18423                               1553000.0   \n",
       "\n",
       "       CurrentStateAndLocalTaxExpenseBenefit  \\\n",
       "0                                        NaN   \n",
       "1                                        NaN   \n",
       "2                                        NaN   \n",
       "3                                        NaN   \n",
       "4                                        NaN   \n",
       "...                                      ...   \n",
       "18417                               499000.0   \n",
       "18418                               729000.0   \n",
       "18419                              1268000.0   \n",
       "18420                              1346000.0   \n",
       "18423                              1474000.0   \n",
       "\n",
       "       DeferredFederalIncomeTaxExpenseBenefit  \n",
       "0                                         NaN  \n",
       "1                                         NaN  \n",
       "2                                         NaN  \n",
       "3                                         NaN  \n",
       "4                                         NaN  \n",
       "...                                       ...  \n",
       "18417                               -204000.0  \n",
       "18418                              -1672000.0  \n",
       "18419                              -1025000.0  \n",
       "18420                              -1618000.0  \n",
       "18423                               -240000.0  \n",
       "\n",
       "[2730 rows x 60 columns]"
      ]
     },
     "execution_count": 188,
     "metadata": {},
     "output_type": "execute_result"
    }
   ],
   "source": [
    "na_maxed"
   ]
  },
  {
   "cell_type": "code",
   "execution_count": 191,
   "id": "9647bd1a-0b66-4b89-8eb6-d56ff9521fd1",
   "metadata": {},
   "outputs": [],
   "source": [
    "df_cleaned[df_cleaned['CIK']==35527].dropna(axis='columns', how='all').to_csv('annual_35527.csv',index=False)"
   ]
  },
  {
   "cell_type": "markdown",
   "id": "01b762dd-4981-40e8-bce8-cf8977f7ff85",
   "metadata": {
    "jp-MarkdownHeadingCollapsed": true,
    "tags": []
   },
   "source": [
    "# Full model on Annual Data"
   ]
  },
  {
   "cell_type": "code",
   "execution_count": 206,
   "id": "09bd6349-2473-48eb-8c05-09877053af0a",
   "metadata": {},
   "outputs": [],
   "source": [
    "merged_df = merged_df[(merged_df['Form']=='10-K') & (merged_df['FP']=='FY')]"
   ]
  },
  {
   "cell_type": "code",
   "execution_count": 207,
   "id": "696a50f6-a99f-4c88-afbb-754fc4de5701",
   "metadata": {},
   "outputs": [
    {
     "data": {
      "text/plain": [
       "(7512, 5703)"
      ]
     },
     "execution_count": 207,
     "metadata": {},
     "output_type": "execute_result"
    }
   ],
   "source": [
    "merged_df.shape"
   ]
  },
  {
   "cell_type": "code",
   "execution_count": 208,
   "id": "2113e3d2-21fa-4495-8c95-926af61da833",
   "metadata": {},
   "outputs": [],
   "source": [
    "merged_df = merged_df[merged_df['Frame'].isin(years)]"
   ]
  },
  {
   "cell_type": "code",
   "execution_count": 209,
   "id": "21d92cb8-7054-46a1-a9e9-946188992874",
   "metadata": {},
   "outputs": [
    {
     "data": {
      "text/plain": [
       "(2613, 5703)"
      ]
     },
     "execution_count": 209,
     "metadata": {},
     "output_type": "execute_result"
    }
   ],
   "source": [
    "merged_df.shape"
   ]
  },
  {
   "cell_type": "code",
   "execution_count": 211,
   "id": "d9daea6d-5965-49f9-a334-7ebb18afe4e2",
   "metadata": {},
   "outputs": [],
   "source": [
    "merged_df = merged_df.dropna(axis='columns', how='all')"
   ]
  },
  {
   "cell_type": "code",
   "execution_count": 213,
   "id": "c22f66fd-373a-4aac-b602-369f464f3ccb",
   "metadata": {},
   "outputs": [
    {
     "data": {
      "text/plain": [
       "(2613, 2654)"
      ]
     },
     "execution_count": 213,
     "metadata": {},
     "output_type": "execute_result"
    }
   ],
   "source": [
    "merged_df.shape"
   ]
  },
  {
   "cell_type": "code",
   "execution_count": 214,
   "id": "934d07ac-cf5e-47b6-9ae7-56efd5c9d8e6",
   "metadata": {},
   "outputs": [],
   "source": [
    "df = merged_df"
   ]
  },
  {
   "cell_type": "code",
   "execution_count": 215,
   "id": "37adaa3a-d57d-406f-b830-caafccd0cbc6",
   "metadata": {},
   "outputs": [],
   "source": [
    "df = df.sort_values(['CIK','Frame'])\n",
    "df = df.drop(['EntityName', 'Form', 'FP', 'End', 'Filed'],axis=1)\n",
    "df = df.dropna(subset=['EarningsPerShareBasic'])"
   ]
  },
  {
   "cell_type": "code",
   "execution_count": 221,
   "id": "66949648-db41-4055-a00f-adc480cb3548",
   "metadata": {},
   "outputs": [
    {
     "data": {
      "text/plain": [
       "(2485, 2649)"
      ]
     },
     "execution_count": 221,
     "metadata": {},
     "output_type": "execute_result"
    }
   ],
   "source": [
    "df.shape"
   ]
  },
  {
   "cell_type": "code",
   "execution_count": 223,
   "id": "441e8630-b060-4d47-a5b2-73955983c739",
   "metadata": {},
   "outputs": [],
   "source": [
    "def Step02_PercentageDifference(df):\n",
    "    df_2 = df[df.columns[2:]].pct_change(fill_method=None).round(3)\n",
    "    df_1 = df[df.columns[:2]]\n",
    "    df = pd.concat([df_1,df_2],axis=1)\n",
    "    pivoted = pd.pivot_table(df, index=['CIK', 'Frame'])\n",
    "    rows_to_drop = pivoted.groupby(level=0).head(1).index\n",
    "    pivoted = pivoted.drop(rows_to_drop)\n",
    "    pivoted = pivoted.reset_index()\n",
    "    pivoted = pivoted.fillna(0)\n",
    "    return pivoted"
   ]
  },
  {
   "cell_type": "code",
   "execution_count": 224,
   "id": "bfb44f74-d395-491d-a0a5-0902a26509fc",
   "metadata": {},
   "outputs": [],
   "source": [
    "def process_in_chunks(df, key_column_1, key_column_2, number_of_shifts, n):\n",
    "    # Ensure the key columns are at the front\n",
    "    cols = [key_column_1, key_column_2] + [col for col in df if col not in [key_column_1, key_column_2]]\n",
    "    df = df[cols]\n",
    "    \n",
    "    # Calculate the number of columns per chunk, excluding the first two key columns\n",
    "    columns_per_chunk = (len(df.columns) - 2) // n\n",
    "    \n",
    "    # List to hold each processed chunk\n",
    "    processed_chunks = []\n",
    "    \n",
    "    for i in range(0, len(df.columns) - 2, columns_per_chunk):\n",
    "        # Select columns for the chunk, always include the first two key columns\n",
    "        chunk_columns = [key_column_1, key_column_2] + df.columns[2+i:2+i+columns_per_chunk].tolist()\n",
    "        sub_df = df[chunk_columns]\n",
    "        \n",
    "        # Apply the df_lagged function to the chunk\n",
    "        processed_chunk = Step03_PivotLag(sub_df, key_column_1, key_column_2, number_of_shifts)\n",
    "        \n",
    "        # Append the processed chunk to the list\n",
    "        processed_chunks.append(processed_chunk)\n",
    "    \n",
    "    # Concatenate all processed chunks\n",
    "    merged_df = pd.concat(processed_chunks, axis=1)\n",
    "    \n",
    "    # Drop duplicate columns that may have been included in multiple chunks\n",
    "    merged_df = merged_df.loc[:,~merged_df.columns.duplicated()]\n",
    "    \n",
    "    return merged_df"
   ]
  },
  {
   "cell_type": "code",
   "execution_count": 225,
   "id": "8824cae2-14bc-4119-bc17-ca6f861861bb",
   "metadata": {},
   "outputs": [],
   "source": [
    "def Step04_TargetDropNA(df,lvl1,lvl2,last):\n",
    "    df = pd.pivot_table(df, index=[lvl1,lvl2])\n",
    "    df['target_lag'] = df.groupby(level=lvl1)[last].shift(-1)\n",
    "    df['target'] = 0\n",
    "    df.loc[df[last] < df[df.columns[-2]], 'target'] = 1\n",
    "    df.loc[df[last] > df[df.columns[-2]], 'target'] = 0\n",
    "    df = df.drop('target_lag',axis=1)\n",
    "    df = df.reset_index()\n",
    "    df = df.drop(lvl1,axis=1)\n",
    "    df = df.drop(lvl2,axis=1)\n",
    "    df = df.dropna()\n",
    "    df = df.replace([np.inf, -np.inf, np.nan], 0).round(2)\n",
    "    return df"
   ]
  },
  {
   "cell_type": "code",
   "execution_count": 241,
   "id": "cf25ff95-307c-4662-96ce-f0ec878097ae",
   "metadata": {},
   "outputs": [],
   "source": [
    "def Step03_PivotLag(df, level_1, level_2, shift):\n",
    "    shift_periods = [-i for i in range(1, shift + 1)]\n",
    "    pivoted = pd.pivot_table(df, index=[level_1, level_2])\n",
    "    new_columns = {}\n",
    "\n",
    "    for col in pivoted.columns:\n",
    "        for period in shift_periods:\n",
    "            new_col_name = f'{col}_{abs(period)}'\n",
    "            new_columns[new_col_name] = pivoted.groupby(level=level_1)[col].shift(periods=period)\n",
    "\n",
    "    # Use pd.concat to join all new columns at once\n",
    "    pivoted = pd.concat([pivoted, pd.DataFrame(new_columns, index=pivoted.index)], axis=1)\n",
    "    desired_order = sorted(list(pivoted.columns))\n",
    "    pivoted = pivoted[desired_order]\n",
    "    pivoted = pivoted.reset_index()\n",
    "    return pivoted"
   ]
  },
  {
   "cell_type": "code",
   "execution_count": 247,
   "id": "569823f4-9bb4-479d-831f-35b65f738641",
   "metadata": {},
   "outputs": [],
   "source": [
    "def everything(df,threshold,lvl1,lvl2,shift,chunk,target_shift,testsize):\n",
    "    na_maxed = na_max(df,threshold)\n",
    "    df_2 = Step02_PercentageDifference(na_maxed)\n",
    "    merged = process_in_chunks(df_2,lvl1,lvl2,shift,chunk)\n",
    "    df_targeted=Step04_TargetDropNA(merged,lvl1,lvl2,target_shift)\n",
    "    df_shuffled = df_targeted.sample(frac=1, random_state=42)\n",
    "    train_set, test_set = train_test_split(df_shuffled, test_size=testsize, random_state=42)\n",
    "    df = train_set\n",
    "    df2 = test_set\n",
    "    rf_model, train_accuracy, train_roc_auc = train_random_forest(df, 'target')\n",
    "    feature_importances = rf_model.feature_importances_\n",
    "    # Create a pandas series with the feature importances\n",
    "    importances = pd.Series(feature_importances, index=df.columns[:-1])  # assuming last column is 'target'\n",
    "    # Sort the feature importances in descending order\n",
    "    sorted_importances = importances.sort_values(ascending=False)\n",
    "\n",
    "    # Print the feature importances\n",
    "    print(\"Feature Importances:\\n\", sorted_importances)\n",
    "    save_model(rf_model, 'random_forest_classifier.joblib')\n",
    "    rf_model_loaded = load_model('random_forest_classifier.joblib')\n",
    "    unseen_accuracy, unseen_roc_auc = evaluate_model(rf_model_loaded, df2, 'target')\n",
    "    print(f\"Training Accuracy: {train_accuracy}\")\n",
    "    print(f\"Training ROC AUC: {train_roc_auc}\")\n",
    "    print(f\"Unseen Data Accuracy: {unseen_accuracy}\")\n",
    "    print(f\"Unseen Data ROC AUC: {unseen_roc_auc}\")\n",
    "    print(df_info(df))\n",
    "\n",
    "    return train_accuracy, train_roc_auc, unseen_accuracy, unseen_roc_auc, feature_importances"
   ]
  },
  {
   "cell_type": "code",
   "execution_count": 254,
   "id": "3dfb03f4-620c-4c14-b0f6-0ab8172d381c",
   "metadata": {},
   "outputs": [
    {
     "name": "stdout",
     "output_type": "stream",
     "text": [
      "Feature Importances:\n",
      " EarningsPerShareBasic_1                                                                       0.075401\n",
      "EarningsPerShareDiluted_1                                                                     0.065241\n",
      "NetIncomeLoss_1                                                                               0.048665\n",
      "NetIncomeLossAvailableToCommonStockholdersBasic_1                                             0.017633\n",
      "InterestExpense                                                                               0.016575\n",
      "                                                                                                ...   \n",
      "Depreciation                                                                                  0.002729\n",
      "OtherComprehensiveIncomeLossReclassificationAdjustmentFromAOCIForSaleOfSecuritiesBeforeTax    0.002706\n",
      "GainsLossesOnSalesOfOtherRealEstate_1                                                         0.002671\n",
      "PaymentsForRepurchaseOfCommonStock                                                            0.002008\n",
      "EffectiveIncomeTaxRateReconciliationAtFederalStatutoryIncomeTaxRate                           0.001492\n",
      "Length: 152, dtype: float64\n",
      "Training Accuracy: 0.8162729658792651\n",
      "Training ROC AUC: 0.8994241289951052\n",
      "Unseen Data Accuracy: 0.78125\n",
      "Unseen Data ROC AUC: 0.8412649542575651\n",
      "(0.0, (1267, 153))\n"
     ]
    }
   ],
   "source": [
    "threshold = 0.5       #Threshold of Missing Values in a column\n",
    "lvl1      = 'CIK'     #Level 1 index to pivot.\n",
    "lvl2      = 'Frame'   #Level 2 index to pivot. \n",
    "shift    = 1       #Number of Shifts/Lags\n",
    "chunk    = 10        #Chunks to Divide\n",
    "target_shift    = f'EarningsPerShareBasic_{shifts}' #Target column make into target.\n",
    "testsize = 0.3       #Test split size for first round.\n",
    "\n",
    "train_accuracy, train_roc_auc, unseen_accuracy, unseen_roc_auc, feature_importances = everything(df,threshold,lvl1,lvl2,shift,chunk,target_shift,testsize)"
   ]
  },
  {
   "cell_type": "markdown",
   "id": "f7fca1f2-8563-48c1-a8bc-bb14d3bc4539",
   "metadata": {
    "tags": []
   },
   "source": [
    "# Convertor for only 10K"
   ]
  },
  {
   "cell_type": "code",
   "execution_count": 14,
   "id": "078e4f27-17d1-47ee-a4b6-deda8a48b0d7",
   "metadata": {},
   "outputs": [],
   "source": [
    "import json\n",
    "import pandas as pd\n",
    "\n",
    "def Convertor_10K(file_paths):\n",
    "    all_dfs = []\n",
    "    columns = ['CIK', 'EntityName', 'Form', 'FP', 'End', 'Filed', 'Frame']  # Define the columns explicitly\n",
    "\n",
    "    for path in file_paths:\n",
    "        with open(path, 'r') as json_file:\n",
    "            data = json.load(json_file)\n",
    "\n",
    "        values = {}\n",
    "        \n",
    "        try:\n",
    "            cik = data['cik']\n",
    "            entity_name = data['entityName']\n",
    "            us_gaap_facts = data['facts']['us-gaap']\n",
    "        except KeyError as e:\n",
    "            print(f\"Key {e} missing in file {path}. Skipping this file.\")\n",
    "            continue\n",
    "\n",
    "        for key, value in us_gaap_facts.items():\n",
    "            for unit_key in value['units'].keys():\n",
    "                for entry in value['units'][unit_key]:\n",
    "                    try:\n",
    "                        if 'frame' in entry and entry['form'] == '10-K' and entry['fp'] == 'FY':\n",
    "                            frame = entry['frame']\n",
    "                            if len(frame) == 6:\n",
    "                                if frame.endswith('I'):\n",
    "                                    frame = frame[:-1]\n",
    "                                row_key = (frame, cik)\n",
    "                                columns.append(key)  # Add the key to the columns list\n",
    "                                values.setdefault(row_key, {}).update({\n",
    "                                    'CIK': cik,\n",
    "                                    'EntityName': entity_name,\n",
    "                                    'Form': entry['form'],\n",
    "                                    'FP': entry['fp'],\n",
    "                                    'End': entry['end'],\n",
    "                                    'Filed': entry['filed'],\n",
    "                                    'Frame': frame,\n",
    "                                    key: entry['val']\n",
    "                                })\n",
    "                    except KeyError as e:\n",
    "                        print(f\"Key {e} missing in entry for {key}. Skipping this entry.\")\n",
    "\n",
    "        df = pd.DataFrame.from_dict(values, orient='index', columns=sorted(set(columns)))  # Use sorted set of columns\n",
    "        all_dfs.append(df)\n",
    "\n",
    "    merged_df = pd.concat(all_dfs, ignore_index=True)\n",
    "    return merged_df\n"
   ]
  },
  {
   "cell_type": "code",
   "execution_count": 2,
   "id": "a8884dd8-cd97-4304-9121-02aeeb2c0730",
   "metadata": {},
   "outputs": [],
   "source": [
    "sub = pd.read_csv('Submissions.csv')"
   ]
  },
  {
   "cell_type": "code",
   "execution_count": 3,
   "id": "c0bbb5f6-58af-41eb-ba5b-3fa86670971f",
   "metadata": {},
   "outputs": [],
   "source": [
    "df_list = list(sub[sub['SIC']==2834]['CIK'].unique())"
   ]
  },
  {
   "cell_type": "code",
   "execution_count": 285,
   "id": "a05b0107-309f-4168-a2ff-5d1dbc8ebbac",
   "metadata": {},
   "outputs": [],
   "source": [
    "df_list = list(sub['CIK'].unique())"
   ]
  },
  {
   "cell_type": "code",
   "execution_count": 4,
   "id": "45aeea40-b785-45b4-a0c0-f45f0daef33c",
   "metadata": {},
   "outputs": [],
   "source": [
    "new_list = Step01A_CikToFile(df_list)"
   ]
  },
  {
   "cell_type": "code",
   "execution_count": null,
   "id": "655bd074-8428-4bfc-869a-89e561c8d3cc",
   "metadata": {},
   "outputs": [],
   "source": [
    "merged_19k = Convertor_10K(new_list)"
   ]
  },
  {
   "cell_type": "code",
   "execution_count": null,
   "id": "96ec5e2c-3ac3-4b1e-9084-dbe4b8d50483",
   "metadata": {},
   "outputs": [],
   "source": [
    "merged_2834 = Convertor_10K(new_list)"
   ]
  },
  {
   "cell_type": "code",
   "execution_count": 10,
   "id": "1fd03767-0acd-4669-afd7-abab483e6f4a",
   "metadata": {},
   "outputs": [],
   "source": [
    "daf = merged_2834[merged_2834['EarningsPerShareBasic'].isna()]"
   ]
  },
  {
   "cell_type": "code",
   "execution_count": 13,
   "id": "69abbff5-04b2-4e58-9300-685cb6183ec7",
   "metadata": {},
   "outputs": [
    {
     "data": {
      "text/html": [
       "<div>\n",
       "<style scoped>\n",
       "    .dataframe tbody tr th:only-of-type {\n",
       "        vertical-align: middle;\n",
       "    }\n",
       "\n",
       "    .dataframe tbody tr th {\n",
       "        vertical-align: top;\n",
       "    }\n",
       "\n",
       "    .dataframe thead th {\n",
       "        text-align: right;\n",
       "    }\n",
       "</style>\n",
       "<table border=\"1\" class=\"dataframe\">\n",
       "  <thead>\n",
       "    <tr style=\"text-align: right;\">\n",
       "      <th></th>\n",
       "      <th>CIK</th>\n",
       "      <th>EarningsPerShareBasic</th>\n",
       "    </tr>\n",
       "  </thead>\n",
       "  <tbody>\n",
       "    <tr>\n",
       "      <th>0</th>\n",
       "      <td>1069308</td>\n",
       "      <td>NaN</td>\n",
       "    </tr>\n",
       "    <tr>\n",
       "      <th>1</th>\n",
       "      <td>1069308</td>\n",
       "      <td>NaN</td>\n",
       "    </tr>\n",
       "    <tr>\n",
       "      <th>2</th>\n",
       "      <td>1069308</td>\n",
       "      <td>NaN</td>\n",
       "    </tr>\n",
       "    <tr>\n",
       "      <th>3</th>\n",
       "      <td>1069308</td>\n",
       "      <td>NaN</td>\n",
       "    </tr>\n",
       "    <tr>\n",
       "      <th>4</th>\n",
       "      <td>1069308</td>\n",
       "      <td>NaN</td>\n",
       "    </tr>\n",
       "    <tr>\n",
       "      <th>...</th>\n",
       "      <td>...</td>\n",
       "      <td>...</td>\n",
       "    </tr>\n",
       "    <tr>\n",
       "      <th>7408</th>\n",
       "      <td>1178879</td>\n",
       "      <td>NaN</td>\n",
       "    </tr>\n",
       "    <tr>\n",
       "      <th>7409</th>\n",
       "      <td>1178879</td>\n",
       "      <td>NaN</td>\n",
       "    </tr>\n",
       "    <tr>\n",
       "      <th>7410</th>\n",
       "      <td>1178879</td>\n",
       "      <td>NaN</td>\n",
       "    </tr>\n",
       "    <tr>\n",
       "      <th>7411</th>\n",
       "      <td>1178879</td>\n",
       "      <td>NaN</td>\n",
       "    </tr>\n",
       "    <tr>\n",
       "      <th>7416</th>\n",
       "      <td>949699</td>\n",
       "      <td>NaN</td>\n",
       "    </tr>\n",
       "  </tbody>\n",
       "</table>\n",
       "<p>4244 rows × 2 columns</p>\n",
       "</div>"
      ],
      "text/plain": [
       "          CIK  EarningsPerShareBasic\n",
       "0     1069308                    NaN\n",
       "1     1069308                    NaN\n",
       "2     1069308                    NaN\n",
       "3     1069308                    NaN\n",
       "4     1069308                    NaN\n",
       "...       ...                    ...\n",
       "7408  1178879                    NaN\n",
       "7409  1178879                    NaN\n",
       "7410  1178879                    NaN\n",
       "7411  1178879                    NaN\n",
       "7416   949699                    NaN\n",
       "\n",
       "[4244 rows x 2 columns]"
      ]
     },
     "execution_count": 13,
     "metadata": {},
     "output_type": "execute_result"
    }
   ],
   "source": [
    "daf[['CIK','EarningsPerShareBasic']]"
   ]
  },
  {
   "cell_type": "code",
   "execution_count": 277,
   "id": "0b1135d1-823e-413f-b8ce-9f4b842c68a8",
   "metadata": {},
   "outputs": [
    {
     "data": {
      "text/plain": [
       "(0.97, (7417, 2791))"
      ]
     },
     "execution_count": 277,
     "metadata": {},
     "output_type": "execute_result"
    }
   ],
   "source": [
    "df_info(merged_19k)"
   ]
  },
  {
   "cell_type": "code",
   "execution_count": 281,
   "id": "4067d4af-5fe4-40e9-ade4-a4594eec6923",
   "metadata": {},
   "outputs": [
    {
     "data": {
      "text/plain": [
       "(0.56, (7417, 94))"
      ]
     },
     "execution_count": 281,
     "metadata": {},
     "output_type": "execute_result"
    }
   ],
   "source": [
    "maxed = na_max(merged_19k,0.8)\n",
    "df_info(maxed)"
   ]
  },
  {
   "cell_type": "code",
   "execution_count": 1,
   "id": "1c067915-6b7f-4d1f-9a82-e0108fbec647",
   "metadata": {},
   "outputs": [
    {
     "ename": "NameError",
     "evalue": "name 'merged_19k' is not defined",
     "output_type": "error",
     "traceback": [
      "\u001b[0;31m---------------------------------------------------------------------------\u001b[0m",
      "\u001b[0;31mNameError\u001b[0m                                 Traceback (most recent call last)",
      "Cell \u001b[0;32mIn[1], line 1\u001b[0m\n\u001b[0;32m----> 1\u001b[0m \u001b[43mmerged_19k\u001b[49m\n",
      "\u001b[0;31mNameError\u001b[0m: name 'merged_19k' is not defined"
     ]
    }
   ],
   "source": [
    "merged_19k"
   ]
  },
  {
   "cell_type": "markdown",
   "id": "693609ef-870f-4bdf-93b2-b2c29d5b7134",
   "metadata": {
    "tags": []
   },
   "source": [
    "# Tag with multiple units"
   ]
  },
  {
   "cell_type": "code",
   "execution_count": 2,
   "id": "b613f77c-ef75-4288-a066-a5426fa78308",
   "metadata": {},
   "outputs": [],
   "source": [
    "df = pd.read_csv('all_annual.csv')"
   ]
  },
  {
   "cell_type": "code",
   "execution_count": 8,
   "id": "b777cbd0-ae6a-400c-b2f5-97767e3439d4",
   "metadata": {},
   "outputs": [],
   "source": [
    "daf = df[df['DefinedBenefitPlanAmortizationOfPriorServiceCostCredit'].notna()]"
   ]
  },
  {
   "cell_type": "code",
   "execution_count": 10,
   "id": "020fd7e3-a968-4883-9feb-e33f44e9e0ca",
   "metadata": {},
   "outputs": [
    {
     "data": {
      "text/plain": [
       "array([ 759944, 1522420, 1277902, 1769617,  946647,  880116,  722256,\n",
       "       1093672, 1594012,  723646,  714562,  715579,  922487,  701853,\n",
       "        729986,  835324,  740806,  320387, 1013272,  706863,  353191,\n",
       "       1668224, 1323648, 1823608,  356171,  719220,  859070, 1366367,\n",
       "         22356,  770460,  933590,  714395,  703329,  716605, 1212545,\n",
       "        731653,  726601,  714530,  798941,  920427,  857855, 1047170,\n",
       "       1093728])"
      ]
     },
     "execution_count": 10,
     "metadata": {},
     "output_type": "execute_result"
    }
   ],
   "source": [
    "daf[['CIK','DefinedBenefitPlanAmortizationOfPriorServiceCostCredit']]['CIK'].unique()"
   ]
  },
  {
   "cell_type": "code",
   "execution_count": null,
   "id": "5c67c012-9339-4762-848d-22c40bb4c7d9",
   "metadata": {},
   "outputs": [],
   "source": [
    "import os\n",
    "import json\n",
    "\n",
    "# Replace 'your_folder_path' with the path to your folder containing JSON files\n",
    "folder_path = 'companyfacts'\n",
    "\n",
    "for filename in os.listdir(folder_path):\n",
    "    if filename.endswith('.json'):\n",
    "        file_path = os.path.join(folder_path, filename)\n",
    "        with open(file_path, 'r') as file:\n",
    "            try:\n",
    "                # Load the JSON data from the file\n",
    "                json_data = json.load(file)\n",
    "                \n",
    "                \n",
    "                # Replace 'key' with the key where the subkey is located\n",
    "                # Check if the subkey exists and meets the condition\n",
    "                if subkey in json_data['key'] and json_data['key'][subkey] == condition:\n",
    "                    # Append the data to the list\n",
    "                    data_list.append(json_data)\n",
    "            except json.JSONDecodeError:\n",
    "                print(f\"Error decoding JSON from file {filename}\")\n",
    "\n",
    "# Do something with the data_list\n",
    "# For example, print it\n",
    "print(data_list)\n"
   ]
  },
  {
   "cell_type": "code",
   "execution_count": 12,
   "id": "3d4017ba-7c83-4f42-babd-7ca92df97fb7",
   "metadata": {},
   "outputs": [],
   "source": [
    "with open('companyfacts/CIK0000759944.json', 'r') as file:\n",
    "    data = json.load(file)"
   ]
  },
  {
   "cell_type": "code",
   "execution_count": 37,
   "id": "b6588259-977b-42a2-9373-ca79be2e880c",
   "metadata": {},
   "outputs": [
    {
     "name": "stdout",
     "output_type": "stream",
     "text": [
      "DebtSecuritiesAvailableForSaleContinuousUnrealizedLossPosition12MonthsOrLongerNumberOfPositions\n",
      "DebtSecuritiesAvailableForSaleContinuousUnrealizedLossPositionLessThan12MonthsNumberOfPositions\n",
      "DebtSecuritiesAvailableForSaleUnrealizedLossPositionNumberOfPositions\n",
      "NumberOfReportingUnits\n",
      "NumberOfReportingUnits\n"
     ]
    }
   ],
   "source": [
    "folder_path = 'companyfacts'\n",
    "original_df = pd.DataFrame(\n",
    "    {\n",
    "        'Company': [],\n",
    "        'B': [],\n",
    "        'subkeys': []\n",
    "    }\n",
    ")\n",
    "for filename in os.listdir(folder_path):\n",
    "    if filename.endswith('.json'):\n",
    "        file_path = os.path.join(folder_path, filename)\n",
    "        with open(file_path, 'r') as file:\n",
    "            data = json.load(file)\n",
    "            for key,value in data['facts']['us-gaap'].items():\n",
    "                asd = []\n",
    "                for i in value['units'].keys():\n",
    "                    asd.append(i)\n",
    "                    if len(asd)>1:\n",
    "                        new_data = [\n",
    "                            {'Company':filename,\n",
    "                             'Key': key,\n",
    "                             'subkeys': asd\n",
    "                            }\n",
    "                        ]\n",
    "                        new_data = pd.DataFrame(new_data)\n",
    "                        pd.concat([original_df, new_data], ignore_index=True)\n",
    "                        "
   ]
  },
  {
   "cell_type": "code",
   "execution_count": 10,
   "id": "541c46c6-add6-482b-8aa4-495cd4dcd120",
   "metadata": {},
   "outputs": [
    {
     "ename": "KeyError",
     "evalue": "'us-gaap'",
     "output_type": "error",
     "traceback": [
      "\u001b[0;31m---------------------------------------------------------------------------\u001b[0m",
      "\u001b[0;31mKeyError\u001b[0m                                  Traceback (most recent call last)",
      "Cell \u001b[0;32mIn[10], line 15\u001b[0m\n\u001b[1;32m     13\u001b[0m \u001b[38;5;28;01mwith\u001b[39;00m \u001b[38;5;28mopen\u001b[39m(file_path, \u001b[38;5;124m'\u001b[39m\u001b[38;5;124mr\u001b[39m\u001b[38;5;124m'\u001b[39m) \u001b[38;5;28;01mas\u001b[39;00m file:\n\u001b[1;32m     14\u001b[0m     data \u001b[38;5;241m=\u001b[39m json\u001b[38;5;241m.\u001b[39mload(file)\n\u001b[0;32m---> 15\u001b[0m     \u001b[38;5;28;01mfor\u001b[39;00m key, value \u001b[38;5;129;01min\u001b[39;00m \u001b[43mdata\u001b[49m\u001b[43m[\u001b[49m\u001b[38;5;124;43m'\u001b[39;49m\u001b[38;5;124;43mfacts\u001b[39;49m\u001b[38;5;124;43m'\u001b[39;49m\u001b[43m]\u001b[49m\u001b[43m[\u001b[49m\u001b[38;5;124;43m'\u001b[39;49m\u001b[38;5;124;43mus-gaap\u001b[39;49m\u001b[38;5;124;43m'\u001b[39;49m\u001b[43m]\u001b[49m\u001b[38;5;241m.\u001b[39mitems():\n\u001b[1;32m     16\u001b[0m         asd \u001b[38;5;241m=\u001b[39m \u001b[38;5;28mlist\u001b[39m(value[\u001b[38;5;124m'\u001b[39m\u001b[38;5;124munits\u001b[39m\u001b[38;5;124m'\u001b[39m]\u001b[38;5;241m.\u001b[39mkeys())\n\u001b[1;32m     17\u001b[0m         \u001b[38;5;28;01mif\u001b[39;00m \u001b[38;5;28mlen\u001b[39m(asd) \u001b[38;5;241m>\u001b[39m \u001b[38;5;241m1\u001b[39m:\n",
      "\u001b[0;31mKeyError\u001b[0m: 'us-gaap'"
     ]
    }
   ],
   "source": [
    "folder_path = 'companyfacts'\n",
    "original_df = pd.DataFrame(\n",
    "    {\n",
    "        'Company': [],\n",
    "        'Key': [],  # Changed 'B' to 'Key' to match the keys used later\n",
    "        'subkeys': []\n",
    "    }\n",
    ")\n",
    "\n",
    "for filename in os.listdir(folder_path):\n",
    "    if filename.endswith('.json'):\n",
    "        file_path = os.path.join(folder_path, filename)\n",
    "        with open(file_path, 'r') as file:\n",
    "            data = json.load(file)\n",
    "            for key, value in data['facts']['us-gaap'].items():\n",
    "                asd = list(value['units'].keys())\n",
    "                if len(asd) > 1:\n",
    "                    new_data = pd.DataFrame(\n",
    "                        [{\n",
    "                            'Company': filename.replace('.json', ''),  # Remove the file extension from the company name\n",
    "                            'Key': key,\n",
    "                            'subkeys': asd\n",
    "                        }]\n",
    "                    )\n",
    "                    original_df = pd.concat([original_df, new_data], ignore_index=True)  # Assign the result back to original_df\n"
   ]
  },
  {
   "cell_type": "code",
   "execution_count": 7,
   "id": "50762208-3195-4507-a172-446f2e41027d",
   "metadata": {},
   "outputs": [],
   "source": [
    "df = pd.DataFrame()"
   ]
  },
  {
   "cell_type": "code",
   "execution_count": 8,
   "id": "7cd54195-2670-4279-8b61-4c61799271f8",
   "metadata": {},
   "outputs": [
    {
     "data": {
      "text/html": [
       "<div>\n",
       "<style scoped>\n",
       "    .dataframe tbody tr th:only-of-type {\n",
       "        vertical-align: middle;\n",
       "    }\n",
       "\n",
       "    .dataframe tbody tr th {\n",
       "        vertical-align: top;\n",
       "    }\n",
       "\n",
       "    .dataframe thead th {\n",
       "        text-align: right;\n",
       "    }\n",
       "</style>\n",
       "<table border=\"1\" class=\"dataframe\">\n",
       "  <thead>\n",
       "    <tr style=\"text-align: right;\">\n",
       "      <th></th>\n",
       "    </tr>\n",
       "  </thead>\n",
       "  <tbody>\n",
       "  </tbody>\n",
       "</table>\n",
       "</div>"
      ],
      "text/plain": [
       "Empty DataFrame\n",
       "Columns: []\n",
       "Index: []"
      ]
     },
     "execution_count": 8,
     "metadata": {},
     "output_type": "execute_result"
    }
   ],
   "source": [
    "df"
   ]
  },
  {
   "cell_type": "code",
   "execution_count": 9,
   "id": "ed7bcc4d-730d-40fb-854d-401a48a64385",
   "metadata": {},
   "outputs": [
    {
     "name": "stderr",
     "output_type": "stream",
     "text": [
      "/var/folders/rg/tjzq_l195rgdqwr9j37d24n00000gn/T/ipykernel_50093/2821761998.py:1: FutureWarning: The frame.append method is deprecated and will be removed from pandas in a future version. Use pandas.concat instead.\n",
      "  df.append(['asd','asdff'])\n"
     ]
    },
    {
     "data": {
      "text/html": [
       "<div>\n",
       "<style scoped>\n",
       "    .dataframe tbody tr th:only-of-type {\n",
       "        vertical-align: middle;\n",
       "    }\n",
       "\n",
       "    .dataframe tbody tr th {\n",
       "        vertical-align: top;\n",
       "    }\n",
       "\n",
       "    .dataframe thead th {\n",
       "        text-align: right;\n",
       "    }\n",
       "</style>\n",
       "<table border=\"1\" class=\"dataframe\">\n",
       "  <thead>\n",
       "    <tr style=\"text-align: right;\">\n",
       "      <th></th>\n",
       "      <th>0</th>\n",
       "    </tr>\n",
       "  </thead>\n",
       "  <tbody>\n",
       "    <tr>\n",
       "      <th>0</th>\n",
       "      <td>asd</td>\n",
       "    </tr>\n",
       "    <tr>\n",
       "      <th>1</th>\n",
       "      <td>asdff</td>\n",
       "    </tr>\n",
       "  </tbody>\n",
       "</table>\n",
       "</div>"
      ],
      "text/plain": [
       "       0\n",
       "0    asd\n",
       "1  asdff"
      ]
     },
     "execution_count": 9,
     "metadata": {},
     "output_type": "execute_result"
    }
   ],
   "source": [
    "df.append(['asd','asdff'])"
   ]
  },
  {
   "cell_type": "code",
   "execution_count": 2,
   "id": "3d85a55c-d664-4921-b0b7-78a9da61862b",
   "metadata": {},
   "outputs": [],
   "source": [
    "df = Convertor_Single('companyfacts/CIK0000759944.json')"
   ]
  },
  {
   "cell_type": "code",
   "execution_count": 6,
   "id": "fa501488-485a-4b57-9547-47052062d48e",
   "metadata": {},
   "outputs": [
    {
     "data": {
      "text/html": [
       "<div>\n",
       "<style scoped>\n",
       "    .dataframe tbody tr th:only-of-type {\n",
       "        vertical-align: middle;\n",
       "    }\n",
       "\n",
       "    .dataframe tbody tr th {\n",
       "        vertical-align: top;\n",
       "    }\n",
       "\n",
       "    .dataframe thead th {\n",
       "        text-align: right;\n",
       "    }\n",
       "</style>\n",
       "<table border=\"1\" class=\"dataframe\">\n",
       "  <thead>\n",
       "    <tr style=\"text-align: right;\">\n",
       "      <th></th>\n",
       "      <th></th>\n",
       "      <th>CIK</th>\n",
       "      <th>Frame</th>\n",
       "      <th>NumberOfReportingUnits</th>\n",
       "    </tr>\n",
       "  </thead>\n",
       "  <tbody>\n",
       "    <tr>\n",
       "      <th>CY2013Q4</th>\n",
       "      <th>759944</th>\n",
       "      <td>759944</td>\n",
       "      <td>CY2013Q4</td>\n",
       "      <td>NaN</td>\n",
       "    </tr>\n",
       "    <tr>\n",
       "      <th>CY2014Q4</th>\n",
       "      <th>759944</th>\n",
       "      <td>759944</td>\n",
       "      <td>CY2014Q4</td>\n",
       "      <td>NaN</td>\n",
       "    </tr>\n",
       "    <tr>\n",
       "      <th>CY2015Q4</th>\n",
       "      <th>759944</th>\n",
       "      <td>759944</td>\n",
       "      <td>CY2015Q4</td>\n",
       "      <td>NaN</td>\n",
       "    </tr>\n",
       "    <tr>\n",
       "      <th>CY2016Q4</th>\n",
       "      <th>759944</th>\n",
       "      <td>759944</td>\n",
       "      <td>CY2016Q4</td>\n",
       "      <td>NaN</td>\n",
       "    </tr>\n",
       "    <tr>\n",
       "      <th>CY2017Q4</th>\n",
       "      <th>759944</th>\n",
       "      <td>759944</td>\n",
       "      <td>CY2017Q4</td>\n",
       "      <td>NaN</td>\n",
       "    </tr>\n",
       "    <tr>\n",
       "      <th>CY2018Q4</th>\n",
       "      <th>759944</th>\n",
       "      <td>759944</td>\n",
       "      <td>CY2018Q4</td>\n",
       "      <td>NaN</td>\n",
       "    </tr>\n",
       "    <tr>\n",
       "      <th>CY2019Q4</th>\n",
       "      <th>759944</th>\n",
       "      <td>759944</td>\n",
       "      <td>CY2019Q4</td>\n",
       "      <td>NaN</td>\n",
       "    </tr>\n",
       "    <tr>\n",
       "      <th>CY2020Q4</th>\n",
       "      <th>759944</th>\n",
       "      <td>759944</td>\n",
       "      <td>CY2020Q4</td>\n",
       "      <td>NaN</td>\n",
       "    </tr>\n",
       "    <tr>\n",
       "      <th>CY2021Q4</th>\n",
       "      <th>759944</th>\n",
       "      <td>759944</td>\n",
       "      <td>CY2021Q4</td>\n",
       "      <td>NaN</td>\n",
       "    </tr>\n",
       "    <tr>\n",
       "      <th>CY2022Q4</th>\n",
       "      <th>759944</th>\n",
       "      <td>759944</td>\n",
       "      <td>CY2022Q4</td>\n",
       "      <td>NaN</td>\n",
       "    </tr>\n",
       "    <tr>\n",
       "      <th>CY2011Q4</th>\n",
       "      <th>759944</th>\n",
       "      <td>759944</td>\n",
       "      <td>CY2011Q4</td>\n",
       "      <td>NaN</td>\n",
       "    </tr>\n",
       "    <tr>\n",
       "      <th>CY2012Q4</th>\n",
       "      <th>759944</th>\n",
       "      <td>759944</td>\n",
       "      <td>CY2012Q4</td>\n",
       "      <td>NaN</td>\n",
       "    </tr>\n",
       "    <tr>\n",
       "      <th>CY2013Q3</th>\n",
       "      <th>759944</th>\n",
       "      <td>759944</td>\n",
       "      <td>CY2013Q3</td>\n",
       "      <td>NaN</td>\n",
       "    </tr>\n",
       "    <tr>\n",
       "      <th>CY2014Q1</th>\n",
       "      <th>759944</th>\n",
       "      <td>759944</td>\n",
       "      <td>CY2014Q1</td>\n",
       "      <td>NaN</td>\n",
       "    </tr>\n",
       "    <tr>\n",
       "      <th>CY2014Q2</th>\n",
       "      <th>759944</th>\n",
       "      <td>759944</td>\n",
       "      <td>CY2014Q2</td>\n",
       "      <td>NaN</td>\n",
       "    </tr>\n",
       "    <tr>\n",
       "      <th>CY2014Q3</th>\n",
       "      <th>759944</th>\n",
       "      <td>759944</td>\n",
       "      <td>CY2014Q3</td>\n",
       "      <td>NaN</td>\n",
       "    </tr>\n",
       "    <tr>\n",
       "      <th>CY2015Q1</th>\n",
       "      <th>759944</th>\n",
       "      <td>759944</td>\n",
       "      <td>CY2015Q1</td>\n",
       "      <td>NaN</td>\n",
       "    </tr>\n",
       "    <tr>\n",
       "      <th>CY2015Q2</th>\n",
       "      <th>759944</th>\n",
       "      <td>759944</td>\n",
       "      <td>CY2015Q2</td>\n",
       "      <td>NaN</td>\n",
       "    </tr>\n",
       "    <tr>\n",
       "      <th>CY2015Q3</th>\n",
       "      <th>759944</th>\n",
       "      <td>759944</td>\n",
       "      <td>CY2015Q3</td>\n",
       "      <td>NaN</td>\n",
       "    </tr>\n",
       "    <tr>\n",
       "      <th>CY2016Q1</th>\n",
       "      <th>759944</th>\n",
       "      <td>759944</td>\n",
       "      <td>CY2016Q1</td>\n",
       "      <td>NaN</td>\n",
       "    </tr>\n",
       "    <tr>\n",
       "      <th>CY2016Q2</th>\n",
       "      <th>759944</th>\n",
       "      <td>759944</td>\n",
       "      <td>CY2016Q2</td>\n",
       "      <td>NaN</td>\n",
       "    </tr>\n",
       "    <tr>\n",
       "      <th>CY2016Q3</th>\n",
       "      <th>759944</th>\n",
       "      <td>759944</td>\n",
       "      <td>CY2016Q3</td>\n",
       "      <td>NaN</td>\n",
       "    </tr>\n",
       "    <tr>\n",
       "      <th>CY2017Q1</th>\n",
       "      <th>759944</th>\n",
       "      <td>759944</td>\n",
       "      <td>CY2017Q1</td>\n",
       "      <td>NaN</td>\n",
       "    </tr>\n",
       "    <tr>\n",
       "      <th>CY2017Q2</th>\n",
       "      <th>759944</th>\n",
       "      <td>759944</td>\n",
       "      <td>CY2017Q2</td>\n",
       "      <td>NaN</td>\n",
       "    </tr>\n",
       "    <tr>\n",
       "      <th>CY2017Q3</th>\n",
       "      <th>759944</th>\n",
       "      <td>759944</td>\n",
       "      <td>CY2017Q3</td>\n",
       "      <td>NaN</td>\n",
       "    </tr>\n",
       "    <tr>\n",
       "      <th>CY2018Q1</th>\n",
       "      <th>759944</th>\n",
       "      <td>759944</td>\n",
       "      <td>CY2018Q1</td>\n",
       "      <td>NaN</td>\n",
       "    </tr>\n",
       "    <tr>\n",
       "      <th>CY2018Q2</th>\n",
       "      <th>759944</th>\n",
       "      <td>759944</td>\n",
       "      <td>CY2018Q2</td>\n",
       "      <td>NaN</td>\n",
       "    </tr>\n",
       "    <tr>\n",
       "      <th>CY2018Q3</th>\n",
       "      <th>759944</th>\n",
       "      <td>759944</td>\n",
       "      <td>CY2018Q3</td>\n",
       "      <td>NaN</td>\n",
       "    </tr>\n",
       "    <tr>\n",
       "      <th>CY2019Q1</th>\n",
       "      <th>759944</th>\n",
       "      <td>759944</td>\n",
       "      <td>CY2019Q1</td>\n",
       "      <td>NaN</td>\n",
       "    </tr>\n",
       "    <tr>\n",
       "      <th>CY2019Q2</th>\n",
       "      <th>759944</th>\n",
       "      <td>759944</td>\n",
       "      <td>CY2019Q2</td>\n",
       "      <td>NaN</td>\n",
       "    </tr>\n",
       "    <tr>\n",
       "      <th>CY2019Q3</th>\n",
       "      <th>759944</th>\n",
       "      <td>759944</td>\n",
       "      <td>CY2019Q3</td>\n",
       "      <td>NaN</td>\n",
       "    </tr>\n",
       "    <tr>\n",
       "      <th>CY2020Q1</th>\n",
       "      <th>759944</th>\n",
       "      <td>759944</td>\n",
       "      <td>CY2020Q1</td>\n",
       "      <td>2.0</td>\n",
       "    </tr>\n",
       "    <tr>\n",
       "      <th>CY2020Q2</th>\n",
       "      <th>759944</th>\n",
       "      <td>759944</td>\n",
       "      <td>CY2020Q2</td>\n",
       "      <td>NaN</td>\n",
       "    </tr>\n",
       "    <tr>\n",
       "      <th>CY2020Q3</th>\n",
       "      <th>759944</th>\n",
       "      <td>759944</td>\n",
       "      <td>CY2020Q3</td>\n",
       "      <td>NaN</td>\n",
       "    </tr>\n",
       "    <tr>\n",
       "      <th>CY2021Q1</th>\n",
       "      <th>759944</th>\n",
       "      <td>759944</td>\n",
       "      <td>CY2021Q1</td>\n",
       "      <td>NaN</td>\n",
       "    </tr>\n",
       "    <tr>\n",
       "      <th>CY2021Q2</th>\n",
       "      <th>759944</th>\n",
       "      <td>759944</td>\n",
       "      <td>CY2021Q2</td>\n",
       "      <td>NaN</td>\n",
       "    </tr>\n",
       "    <tr>\n",
       "      <th>CY2021Q3</th>\n",
       "      <th>759944</th>\n",
       "      <td>759944</td>\n",
       "      <td>CY2021Q3</td>\n",
       "      <td>NaN</td>\n",
       "    </tr>\n",
       "    <tr>\n",
       "      <th>CY2022Q1</th>\n",
       "      <th>759944</th>\n",
       "      <td>759944</td>\n",
       "      <td>CY2022Q1</td>\n",
       "      <td>NaN</td>\n",
       "    </tr>\n",
       "    <tr>\n",
       "      <th>CY2022Q2</th>\n",
       "      <th>759944</th>\n",
       "      <td>759944</td>\n",
       "      <td>CY2022Q2</td>\n",
       "      <td>NaN</td>\n",
       "    </tr>\n",
       "    <tr>\n",
       "      <th>CY2022Q3</th>\n",
       "      <th>759944</th>\n",
       "      <td>759944</td>\n",
       "      <td>CY2022Q3</td>\n",
       "      <td>NaN</td>\n",
       "    </tr>\n",
       "    <tr>\n",
       "      <th>CY2023Q1</th>\n",
       "      <th>759944</th>\n",
       "      <td>759944</td>\n",
       "      <td>CY2023Q1</td>\n",
       "      <td>NaN</td>\n",
       "    </tr>\n",
       "    <tr>\n",
       "      <th>CY2023Q2</th>\n",
       "      <th>759944</th>\n",
       "      <td>759944</td>\n",
       "      <td>CY2023Q2</td>\n",
       "      <td>NaN</td>\n",
       "    </tr>\n",
       "    <tr>\n",
       "      <th>CY2023Q3</th>\n",
       "      <th>759944</th>\n",
       "      <td>759944</td>\n",
       "      <td>CY2023Q3</td>\n",
       "      <td>NaN</td>\n",
       "    </tr>\n",
       "    <tr>\n",
       "      <th>CY2014</th>\n",
       "      <th>759944</th>\n",
       "      <td>759944</td>\n",
       "      <td>CY2014</td>\n",
       "      <td>NaN</td>\n",
       "    </tr>\n",
       "    <tr>\n",
       "      <th>CY2015</th>\n",
       "      <th>759944</th>\n",
       "      <td>759944</td>\n",
       "      <td>CY2015</td>\n",
       "      <td>2.0</td>\n",
       "    </tr>\n",
       "    <tr>\n",
       "      <th>CY2016</th>\n",
       "      <th>759944</th>\n",
       "      <td>759944</td>\n",
       "      <td>CY2016</td>\n",
       "      <td>2.0</td>\n",
       "    </tr>\n",
       "    <tr>\n",
       "      <th>CY2017</th>\n",
       "      <th>759944</th>\n",
       "      <td>759944</td>\n",
       "      <td>CY2017</td>\n",
       "      <td>2.0</td>\n",
       "    </tr>\n",
       "    <tr>\n",
       "      <th>CY2018</th>\n",
       "      <th>759944</th>\n",
       "      <td>759944</td>\n",
       "      <td>CY2018</td>\n",
       "      <td>2.0</td>\n",
       "    </tr>\n",
       "    <tr>\n",
       "      <th>CY2019</th>\n",
       "      <th>759944</th>\n",
       "      <td>759944</td>\n",
       "      <td>CY2019</td>\n",
       "      <td>2.0</td>\n",
       "    </tr>\n",
       "    <tr>\n",
       "      <th>CY2020</th>\n",
       "      <th>759944</th>\n",
       "      <td>759944</td>\n",
       "      <td>CY2020</td>\n",
       "      <td>2.0</td>\n",
       "    </tr>\n",
       "    <tr>\n",
       "      <th>CY2021</th>\n",
       "      <th>759944</th>\n",
       "      <td>759944</td>\n",
       "      <td>CY2021</td>\n",
       "      <td>2.0</td>\n",
       "    </tr>\n",
       "    <tr>\n",
       "      <th>CY2022</th>\n",
       "      <th>759944</th>\n",
       "      <td>759944</td>\n",
       "      <td>CY2022</td>\n",
       "      <td>2.0</td>\n",
       "    </tr>\n",
       "    <tr>\n",
       "      <th>CY2012</th>\n",
       "      <th>759944</th>\n",
       "      <td>759944</td>\n",
       "      <td>CY2012</td>\n",
       "      <td>NaN</td>\n",
       "    </tr>\n",
       "    <tr>\n",
       "      <th>CY2013</th>\n",
       "      <th>759944</th>\n",
       "      <td>759944</td>\n",
       "      <td>CY2013</td>\n",
       "      <td>NaN</td>\n",
       "    </tr>\n",
       "    <tr>\n",
       "      <th>CY2013Q2</th>\n",
       "      <th>759944</th>\n",
       "      <td>759944</td>\n",
       "      <td>CY2013Q2</td>\n",
       "      <td>NaN</td>\n",
       "    </tr>\n",
       "  </tbody>\n",
       "</table>\n",
       "</div>"
      ],
      "text/plain": [
       "                    CIK     Frame  NumberOfReportingUnits\n",
       "CY2013Q4 759944  759944  CY2013Q4                     NaN\n",
       "CY2014Q4 759944  759944  CY2014Q4                     NaN\n",
       "CY2015Q4 759944  759944  CY2015Q4                     NaN\n",
       "CY2016Q4 759944  759944  CY2016Q4                     NaN\n",
       "CY2017Q4 759944  759944  CY2017Q4                     NaN\n",
       "CY2018Q4 759944  759944  CY2018Q4                     NaN\n",
       "CY2019Q4 759944  759944  CY2019Q4                     NaN\n",
       "CY2020Q4 759944  759944  CY2020Q4                     NaN\n",
       "CY2021Q4 759944  759944  CY2021Q4                     NaN\n",
       "CY2022Q4 759944  759944  CY2022Q4                     NaN\n",
       "CY2011Q4 759944  759944  CY2011Q4                     NaN\n",
       "CY2012Q4 759944  759944  CY2012Q4                     NaN\n",
       "CY2013Q3 759944  759944  CY2013Q3                     NaN\n",
       "CY2014Q1 759944  759944  CY2014Q1                     NaN\n",
       "CY2014Q2 759944  759944  CY2014Q2                     NaN\n",
       "CY2014Q3 759944  759944  CY2014Q3                     NaN\n",
       "CY2015Q1 759944  759944  CY2015Q1                     NaN\n",
       "CY2015Q2 759944  759944  CY2015Q2                     NaN\n",
       "CY2015Q3 759944  759944  CY2015Q3                     NaN\n",
       "CY2016Q1 759944  759944  CY2016Q1                     NaN\n",
       "CY2016Q2 759944  759944  CY2016Q2                     NaN\n",
       "CY2016Q3 759944  759944  CY2016Q3                     NaN\n",
       "CY2017Q1 759944  759944  CY2017Q1                     NaN\n",
       "CY2017Q2 759944  759944  CY2017Q2                     NaN\n",
       "CY2017Q3 759944  759944  CY2017Q3                     NaN\n",
       "CY2018Q1 759944  759944  CY2018Q1                     NaN\n",
       "CY2018Q2 759944  759944  CY2018Q2                     NaN\n",
       "CY2018Q3 759944  759944  CY2018Q3                     NaN\n",
       "CY2019Q1 759944  759944  CY2019Q1                     NaN\n",
       "CY2019Q2 759944  759944  CY2019Q2                     NaN\n",
       "CY2019Q3 759944  759944  CY2019Q3                     NaN\n",
       "CY2020Q1 759944  759944  CY2020Q1                     2.0\n",
       "CY2020Q2 759944  759944  CY2020Q2                     NaN\n",
       "CY2020Q3 759944  759944  CY2020Q3                     NaN\n",
       "CY2021Q1 759944  759944  CY2021Q1                     NaN\n",
       "CY2021Q2 759944  759944  CY2021Q2                     NaN\n",
       "CY2021Q3 759944  759944  CY2021Q3                     NaN\n",
       "CY2022Q1 759944  759944  CY2022Q1                     NaN\n",
       "CY2022Q2 759944  759944  CY2022Q2                     NaN\n",
       "CY2022Q3 759944  759944  CY2022Q3                     NaN\n",
       "CY2023Q1 759944  759944  CY2023Q1                     NaN\n",
       "CY2023Q2 759944  759944  CY2023Q2                     NaN\n",
       "CY2023Q3 759944  759944  CY2023Q3                     NaN\n",
       "CY2014   759944  759944    CY2014                     NaN\n",
       "CY2015   759944  759944    CY2015                     2.0\n",
       "CY2016   759944  759944    CY2016                     2.0\n",
       "CY2017   759944  759944    CY2017                     2.0\n",
       "CY2018   759944  759944    CY2018                     2.0\n",
       "CY2019   759944  759944    CY2019                     2.0\n",
       "CY2020   759944  759944    CY2020                     2.0\n",
       "CY2021   759944  759944    CY2021                     2.0\n",
       "CY2022   759944  759944    CY2022                     2.0\n",
       "CY2012   759944  759944    CY2012                     NaN\n",
       "CY2013   759944  759944    CY2013                     NaN\n",
       "CY2013Q2 759944  759944  CY2013Q2                     NaN"
      ]
     },
     "execution_count": 6,
     "metadata": {},
     "output_type": "execute_result"
    }
   ],
   "source": [
    "df[['CIK','Frame','NumberOfReportingUnits']]"
   ]
  },
  {
   "cell_type": "markdown",
   "id": "61176fef-83e2-43ba-8f7d-2c7f1fa6abaa",
   "metadata": {
    "tags": []
   },
   "source": [
    "# Missing EPS 10Qs"
   ]
  },
  {
   "cell_type": "code",
   "execution_count": 3,
   "id": "5e1841a6-ac44-4e75-bbe2-85a97e04862a",
   "metadata": {},
   "outputs": [],
   "source": [
    "sub = pd.read_csv('Submissions.csv')"
   ]
  },
  {
   "cell_type": "code",
   "execution_count": 7,
   "id": "1a3e3e20-2998-491a-9235-9412f2f7be08",
   "metadata": {},
   "outputs": [],
   "source": [
    "df_list = list(sub[sub['SIC']==2834]['CIK'].unique())"
   ]
  },
  {
   "cell_type": "code",
   "execution_count": 8,
   "id": "74b64cb3-dc93-4e12-a1e0-8fc59ee4c3a3",
   "metadata": {},
   "outputs": [],
   "source": [
    "new_list = Step01A_CikToFile(df_list)"
   ]
  },
  {
   "cell_type": "code",
   "execution_count": 2,
   "id": "bbc1cbc9-2ea0-48a0-a5f0-1a406d4abfa6",
   "metadata": {},
   "outputs": [],
   "source": [
    "df = pd.read_csv('df_37.csv')"
   ]
  },
  {
   "cell_type": "code",
   "execution_count": 3,
   "id": "fd54e642-eac6-4f66-a7b0-551732c91fe7",
   "metadata": {},
   "outputs": [
    {
     "data": {
      "text/plain": [
       "(11913, 6470)"
      ]
     },
     "execution_count": 3,
     "metadata": {},
     "output_type": "execute_result"
    }
   ],
   "source": [
    "df.shape"
   ]
  },
  {
   "cell_type": "code",
   "execution_count": 36,
   "id": "d2304737-d6bb-4026-9206-070f1a9f0214",
   "metadata": {},
   "outputs": [],
   "source": [
    "daf = df[df.columns[:7].tolist() + d]"
   ]
  },
  {
   "cell_type": "code",
   "execution_count": 23,
   "id": "016b39cc-4712-4ef8-80fe-c8e29cf6a098",
   "metadata": {},
   "outputs": [
    {
     "data": {
      "text/plain": [
       "294"
      ]
     },
     "execution_count": 23,
     "metadata": {},
     "output_type": "execute_result"
    }
   ],
   "source": [
    "len(daf[daf['EarningsPerShareBasic'].isna()]['CIK'].unique())"
   ]
  },
  {
   "cell_type": "code",
   "execution_count": 21,
   "id": "3dc78599-cfab-4850-bc90-c94380d247ec",
   "metadata": {},
   "outputs": [
    {
     "data": {
      "text/plain": [
       "294"
      ]
     },
     "execution_count": 21,
     "metadata": {},
     "output_type": "execute_result"
    }
   ],
   "source": [
    "len(daf['CIK'].unique())"
   ]
  },
  {
   "cell_type": "code",
   "execution_count": 25,
   "id": "f937e0f7-acfa-4772-bb78-10b9067d0844",
   "metadata": {},
   "outputs": [],
   "source": [
    "fat = daf[daf['EarningsPerShareBasic'].isna()]"
   ]
  },
  {
   "cell_type": "code",
   "execution_count": 38,
   "id": "a786372f-0b45-4f8e-981f-7c92796d7654",
   "metadata": {},
   "outputs": [],
   "source": [
    "daf.to_csv('eps_missing_10q.csv',mode='w',index=False)"
   ]
  },
  {
   "cell_type": "code",
   "execution_count": 34,
   "id": "343c3fd1-f1d9-4c31-af29-961b957f2219",
   "metadata": {},
   "outputs": [],
   "source": [
    "d = []\n",
    "for i in list(df.columns):\n",
    "    if i.startswith('EarningsPerShare'):\n",
    "        d.append(i)"
   ]
  },
  {
   "cell_type": "code",
   "execution_count": 42,
   "id": "cd19a3d5-14e8-4800-8fa8-593a4af96d42",
   "metadata": {},
   "outputs": [],
   "source": [
    "all_missing = daf[daf[d].isna().all(axis=1)]"
   ]
  },
  {
   "cell_type": "code",
   "execution_count": 48,
   "id": "a5533439-8b96-4882-ba3b-0f9cf699dd13",
   "metadata": {},
   "outputs": [
    {
     "data": {
      "text/plain": [
       "259"
      ]
     },
     "execution_count": 48,
     "metadata": {},
     "output_type": "execute_result"
    }
   ],
   "source": [
    "len(all_missing['CIK'].unique())"
   ]
  },
  {
   "cell_type": "code",
   "execution_count": 37,
   "id": "4ab40690-d9f8-44a2-9454-c348d9b21e12",
   "metadata": {},
   "outputs": [],
   "source": [
    "years_quarters = [\n",
    "            \"CY2012Q1\", \"CY2012Q2\", \"CY2012Q3\", \"CY2012Q4\",\n",
    "            \"CY2013Q1\", \"CY2013Q2\", \"CY2013Q3\", \"CY2013Q4\",\n",
    "            \"CY2014Q1\", \"CY2014Q2\", \"CY2014Q3\", \"CY2014Q4\",\n",
    "            \"CY2015Q1\", \"CY2015Q2\", \"CY2015Q3\", \"CY2015Q4\",\n",
    "            \"CY2016Q1\", \"CY2016Q2\", \"CY2016Q3\", \"CY2016Q4\",\n",
    "            \"CY2017Q1\", \"CY2017Q2\", \"CY2017Q3\", \"CY2017Q4\",\n",
    "            \"CY2018Q1\", \"CY2018Q2\", \"CY2018Q3\", \"CY2018Q4\",\n",
    "            \"CY2019Q1\", \"CY2019Q2\", \"CY2019Q3\", \"CY2019Q4\",\n",
    "            \"CY2020Q1\", \"CY2020Q2\", \"CY2020Q3\", \"CY2020Q4\",\n",
    "            \"CY2021Q1\", \"CY2021Q2\", \"CY2021Q3\", \"CY2021Q4\",\n",
    "            \"CY2022Q1\", \"CY2022Q2\", \"CY2022Q3\", \"CY2022Q4\",\n",
    "            \"CY2023Q1\", \"CY2023Q2\", \"CY2023Q3\", \"CY2023Q4\"\n",
    "        ]"
   ]
  },
  {
   "cell_type": "code",
   "execution_count": 46,
   "id": "fd043520-8eb4-40d9-a8af-e0ed5a965ffe",
   "metadata": {},
   "outputs": [],
   "source": [
    "all_missing = all_missing[all_missing['Frame'].isin(years_quarters)]"
   ]
  },
  {
   "cell_type": "code",
   "execution_count": 49,
   "id": "22789f4a-4eb1-4209-a7bb-b1c4a391c739",
   "metadata": {},
   "outputs": [],
   "source": [
    "all_missing.to_csv('all_missing.csv',index=False)"
   ]
  },
  {
   "cell_type": "code",
   "execution_count": 3,
   "id": "e8fbbc8b-3443-4346-8485-ff0ea30aaaa8",
   "metadata": {},
   "outputs": [],
   "source": [
    "df = pd.read_csv('eps_missing_10q.csv')"
   ]
  },
  {
   "cell_type": "code",
   "execution_count": 6,
   "id": "9de19203-07e6-4e30-a1b0-411b5d3fb40d",
   "metadata": {},
   "outputs": [],
   "source": [
    "df = df[df['Frame'].isin(years_quarters)]"
   ]
  },
  {
   "cell_type": "code",
   "execution_count": 8,
   "id": "eec7b17a-7388-4ff4-a217-7f0ee0df1bce",
   "metadata": {},
   "outputs": [],
   "source": [
    "df.to_csv('eps_missing_10q_from2012.csv',mode='w',index=False)"
   ]
  },
  {
   "cell_type": "markdown",
   "id": "91546be3-7858-4843-b9c3-a6f7946495ff",
   "metadata": {
    "tags": []
   },
   "source": [
    "# Calculating EPS by hand"
   ]
  },
  {
   "cell_type": "code",
   "execution_count": 9,
   "id": "6d1a7744-ace8-44ab-83c6-be778aa82804",
   "metadata": {},
   "outputs": [],
   "source": [
    "df = pd.read_csv('df_37.csv')"
   ]
  },
  {
   "cell_type": "code",
   "execution_count": 14,
   "id": "3d587137-c607-49bf-b63e-57cb365d377b",
   "metadata": {},
   "outputs": [],
   "source": [
    "d=[]\n",
    "for i in list(df.columns):\n",
    "    if 'netincome' in i.lower():\n",
    "        d.append(i)"
   ]
  },
  {
   "cell_type": "code",
   "execution_count": 28,
   "id": "5b8ad72c-fa69-46ac-bde7-3a3e33b54d57",
   "metadata": {},
   "outputs": [],
   "source": [
    "s = df.columns[:7].tolist()"
   ]
  },
  {
   "cell_type": "code",
   "execution_count": 29,
   "id": "2d086386-2a99-4b73-884e-158fd4b24ab5",
   "metadata": {},
   "outputs": [],
   "source": [
    "s.append('NetIncomeLoss')"
   ]
  },
  {
   "cell_type": "code",
   "execution_count": 32,
   "id": "57afe8dc-3384-4f76-9ac2-b7cea4a0696d",
   "metadata": {},
   "outputs": [],
   "source": [
    "df[s].to_csv('netincome.csv',index=False)"
   ]
  },
  {
   "cell_type": "code",
   "execution_count": 38,
   "id": "0fe28e31-b7df-4440-8a3f-8c4ddd056d2f",
   "metadata": {},
   "outputs": [],
   "source": [
    "daf = df[s]"
   ]
  },
  {
   "cell_type": "code",
   "execution_count": 39,
   "id": "c231e88c-14b4-45f8-b3ef-f9d1fd76ed00",
   "metadata": {},
   "outputs": [],
   "source": [
    "daf = daf[daf['Frame'].isin(years_quarters)]"
   ]
  },
  {
   "cell_type": "code",
   "execution_count": 44,
   "id": "710f3291-2cb8-4361-8cbe-54de9dd13e6a",
   "metadata": {},
   "outputs": [],
   "source": [
    "daf.to_csv('netincome_frame.csv',index=False)"
   ]
  },
  {
   "cell_type": "code",
   "execution_count": 43,
   "id": "599db63f-3946-441d-b689-7763d3337386",
   "metadata": {},
   "outputs": [
    {
     "data": {
      "text/html": [
       "<div>\n",
       "<style scoped>\n",
       "    .dataframe tbody tr th:only-of-type {\n",
       "        vertical-align: middle;\n",
       "    }\n",
       "\n",
       "    .dataframe tbody tr th {\n",
       "        vertical-align: top;\n",
       "    }\n",
       "\n",
       "    .dataframe thead th {\n",
       "        text-align: right;\n",
       "    }\n",
       "</style>\n",
       "<table border=\"1\" class=\"dataframe\">\n",
       "  <thead>\n",
       "    <tr style=\"text-align: right;\">\n",
       "      <th></th>\n",
       "      <th>CIK</th>\n",
       "      <th>EntityName</th>\n",
       "      <th>Form</th>\n",
       "      <th>FP</th>\n",
       "      <th>End</th>\n",
       "      <th>Filed</th>\n",
       "      <th>Frame</th>\n",
       "      <th>NetIncomeLoss</th>\n",
       "    </tr>\n",
       "  </thead>\n",
       "  <tbody>\n",
       "    <tr>\n",
       "      <th>2</th>\n",
       "      <td>1342643</td>\n",
       "      <td>WORTHINGTON ENERGY, INC.</td>\n",
       "      <td>10-K</td>\n",
       "      <td>FY</td>\n",
       "      <td>2012-12-31</td>\n",
       "      <td>2014-04-16</td>\n",
       "      <td>CY2012Q4</td>\n",
       "      <td>NaN</td>\n",
       "    </tr>\n",
       "    <tr>\n",
       "      <th>11</th>\n",
       "      <td>1342643</td>\n",
       "      <td>WORTHINGTON ENERGY, INC.</td>\n",
       "      <td>10-Q</td>\n",
       "      <td>Q3</td>\n",
       "      <td>2013-12-31</td>\n",
       "      <td>2015-03-05</td>\n",
       "      <td>CY2013Q4</td>\n",
       "      <td>NaN</td>\n",
       "    </tr>\n",
       "    <tr>\n",
       "      <th>35</th>\n",
       "      <td>1506814</td>\n",
       "      <td>JPX GLOBAL INC.</td>\n",
       "      <td>10-K/A</td>\n",
       "      <td>FY</td>\n",
       "      <td>2015-12-31</td>\n",
       "      <td>2017-04-19</td>\n",
       "      <td>CY2015Q4</td>\n",
       "      <td>NaN</td>\n",
       "    </tr>\n",
       "    <tr>\n",
       "      <th>39</th>\n",
       "      <td>1506814</td>\n",
       "      <td>JPX GLOBAL INC.</td>\n",
       "      <td>10-K</td>\n",
       "      <td>FY</td>\n",
       "      <td>2012-12-31</td>\n",
       "      <td>2015-04-15</td>\n",
       "      <td>CY2012Q4</td>\n",
       "      <td>NaN</td>\n",
       "    </tr>\n",
       "    <tr>\n",
       "      <th>47</th>\n",
       "      <td>1506814</td>\n",
       "      <td>JPX GLOBAL INC.</td>\n",
       "      <td>10-K</td>\n",
       "      <td>FY</td>\n",
       "      <td>2013-12-31</td>\n",
       "      <td>2016-04-14</td>\n",
       "      <td>CY2013Q4</td>\n",
       "      <td>NaN</td>\n",
       "    </tr>\n",
       "    <tr>\n",
       "      <th>...</th>\n",
       "      <td>...</td>\n",
       "      <td>...</td>\n",
       "      <td>...</td>\n",
       "      <td>...</td>\n",
       "      <td>...</td>\n",
       "      <td>...</td>\n",
       "      <td>...</td>\n",
       "      <td>...</td>\n",
       "    </tr>\n",
       "    <tr>\n",
       "      <th>11870</th>\n",
       "      <td>910073</td>\n",
       "      <td>NEW YORK COMMUNITY BANCORP, INC.</td>\n",
       "      <td>10-K</td>\n",
       "      <td>FY</td>\n",
       "      <td>2017-12-31</td>\n",
       "      <td>2019-03-01</td>\n",
       "      <td>CY2017Q4</td>\n",
       "      <td>NaN</td>\n",
       "    </tr>\n",
       "    <tr>\n",
       "      <th>11873</th>\n",
       "      <td>910073</td>\n",
       "      <td>NEW YORK COMMUNITY BANCORP, INC.</td>\n",
       "      <td>10-K</td>\n",
       "      <td>FY</td>\n",
       "      <td>2018-12-31</td>\n",
       "      <td>2020-02-28</td>\n",
       "      <td>CY2018Q4</td>\n",
       "      <td>NaN</td>\n",
       "    </tr>\n",
       "    <tr>\n",
       "      <th>11876</th>\n",
       "      <td>910073</td>\n",
       "      <td>NEW YORK COMMUNITY BANCORP, INC.</td>\n",
       "      <td>10-K</td>\n",
       "      <td>FY</td>\n",
       "      <td>2019-12-31</td>\n",
       "      <td>2021-02-26</td>\n",
       "      <td>CY2019Q4</td>\n",
       "      <td>NaN</td>\n",
       "    </tr>\n",
       "    <tr>\n",
       "      <th>11879</th>\n",
       "      <td>910073</td>\n",
       "      <td>NEW YORK COMMUNITY BANCORP, INC.</td>\n",
       "      <td>10-K</td>\n",
       "      <td>FY</td>\n",
       "      <td>2020-12-31</td>\n",
       "      <td>2022-02-25</td>\n",
       "      <td>CY2020Q4</td>\n",
       "      <td>NaN</td>\n",
       "    </tr>\n",
       "    <tr>\n",
       "      <th>11882</th>\n",
       "      <td>910073</td>\n",
       "      <td>NEW YORK COMMUNITY BANCORP, INC.</td>\n",
       "      <td>10-Q</td>\n",
       "      <td>Q3</td>\n",
       "      <td>2021-12-31</td>\n",
       "      <td>2023-11-09</td>\n",
       "      <td>CY2021Q4</td>\n",
       "      <td>NaN</td>\n",
       "    </tr>\n",
       "  </tbody>\n",
       "</table>\n",
       "<p>1883 rows × 8 columns</p>\n",
       "</div>"
      ],
      "text/plain": [
       "           CIK                        EntityName    Form  FP         End  \\\n",
       "2      1342643          WORTHINGTON ENERGY, INC.    10-K  FY  2012-12-31   \n",
       "11     1342643          WORTHINGTON ENERGY, INC.    10-Q  Q3  2013-12-31   \n",
       "35     1506814                   JPX GLOBAL INC.  10-K/A  FY  2015-12-31   \n",
       "39     1506814                   JPX GLOBAL INC.    10-K  FY  2012-12-31   \n",
       "47     1506814                   JPX GLOBAL INC.    10-K  FY  2013-12-31   \n",
       "...        ...                               ...     ...  ..         ...   \n",
       "11870   910073  NEW YORK COMMUNITY BANCORP, INC.    10-K  FY  2017-12-31   \n",
       "11873   910073  NEW YORK COMMUNITY BANCORP, INC.    10-K  FY  2018-12-31   \n",
       "11876   910073  NEW YORK COMMUNITY BANCORP, INC.    10-K  FY  2019-12-31   \n",
       "11879   910073  NEW YORK COMMUNITY BANCORP, INC.    10-K  FY  2020-12-31   \n",
       "11882   910073  NEW YORK COMMUNITY BANCORP, INC.    10-Q  Q3  2021-12-31   \n",
       "\n",
       "            Filed     Frame  NetIncomeLoss  \n",
       "2      2014-04-16  CY2012Q4            NaN  \n",
       "11     2015-03-05  CY2013Q4            NaN  \n",
       "35     2017-04-19  CY2015Q4            NaN  \n",
       "39     2015-04-15  CY2012Q4            NaN  \n",
       "47     2016-04-14  CY2013Q4            NaN  \n",
       "...           ...       ...            ...  \n",
       "11870  2019-03-01  CY2017Q4            NaN  \n",
       "11873  2020-02-28  CY2018Q4            NaN  \n",
       "11876  2021-02-26  CY2019Q4            NaN  \n",
       "11879  2022-02-25  CY2020Q4            NaN  \n",
       "11882  2023-11-09  CY2021Q4            NaN  \n",
       "\n",
       "[1883 rows x 8 columns]"
      ]
     },
     "execution_count": 43,
     "metadata": {},
     "output_type": "execute_result"
    }
   ],
   "source": [
    "daf[daf['NetIncomeLoss'].isna()]"
   ]
  },
  {
   "cell_type": "code",
   "execution_count": 45,
   "id": "5e18cd70-1ec7-4d6f-9ff1-e34a6370545e",
   "metadata": {},
   "outputs": [],
   "source": [
    "df = pd.read_csv('netincome.csv')"
   ]
  },
  {
   "cell_type": "code",
   "execution_count": 47,
   "id": "2585ae5e-a578-4e00-99ac-27532d94eccc",
   "metadata": {},
   "outputs": [],
   "source": [
    "years = [\n",
    "            \"CY2012\", \"CY2013\",\"CY2014\",\"CY2015\",\"CY2016\",\"CY2017\",\"CY2018\",\n",
    "    \"CY2019\", \"CY2020\",\"CY2021\",\"CY2022\",\"CY2023\"\n",
    "        ]"
   ]
  },
  {
   "cell_type": "code",
   "execution_count": 48,
   "id": "1ae94ba4-957f-4596-8671-35187809486f",
   "metadata": {},
   "outputs": [],
   "source": [
    "df = df[df['Frame'].isin(years)]"
   ]
  },
  {
   "cell_type": "code",
   "execution_count": 50,
   "id": "5962ff5c-52d1-4b7b-a898-ba29a552def9",
   "metadata": {},
   "outputs": [
    {
     "data": {
      "text/html": [
       "<div>\n",
       "<style scoped>\n",
       "    .dataframe tbody tr th:only-of-type {\n",
       "        vertical-align: middle;\n",
       "    }\n",
       "\n",
       "    .dataframe tbody tr th {\n",
       "        vertical-align: top;\n",
       "    }\n",
       "\n",
       "    .dataframe thead th {\n",
       "        text-align: right;\n",
       "    }\n",
       "</style>\n",
       "<table border=\"1\" class=\"dataframe\">\n",
       "  <thead>\n",
       "    <tr style=\"text-align: right;\">\n",
       "      <th></th>\n",
       "      <th>CIK</th>\n",
       "      <th>EntityName</th>\n",
       "      <th>Form</th>\n",
       "      <th>FP</th>\n",
       "      <th>End</th>\n",
       "      <th>Filed</th>\n",
       "      <th>Frame</th>\n",
       "      <th>NetIncomeLoss</th>\n",
       "    </tr>\n",
       "  </thead>\n",
       "  <tbody>\n",
       "    <tr>\n",
       "      <th>417</th>\n",
       "      <td>1645873</td>\n",
       "      <td>MODIV INDUSTRIAL, INC.</td>\n",
       "      <td>10-K</td>\n",
       "      <td>FY</td>\n",
       "      <td>2015-12-31</td>\n",
       "      <td>2017-04-03</td>\n",
       "      <td>CY2015</td>\n",
       "      <td>NaN</td>\n",
       "    </tr>\n",
       "    <tr>\n",
       "      <th>630</th>\n",
       "      <td>1620070</td>\n",
       "      <td>DNA TESTING CENTERS CORP</td>\n",
       "      <td>10-K</td>\n",
       "      <td>FY</td>\n",
       "      <td>2013-12-31</td>\n",
       "      <td>2016-06-13</td>\n",
       "      <td>CY2013</td>\n",
       "      <td>NaN</td>\n",
       "    </tr>\n",
       "    <tr>\n",
       "      <th>1039</th>\n",
       "      <td>1295810</td>\n",
       "      <td>Sunstone Hotel Investors, Inc.</td>\n",
       "      <td>10-K</td>\n",
       "      <td>FY</td>\n",
       "      <td>2017-12-31</td>\n",
       "      <td>2020-02-19</td>\n",
       "      <td>CY2017</td>\n",
       "      <td>NaN</td>\n",
       "    </tr>\n",
       "    <tr>\n",
       "      <th>1040</th>\n",
       "      <td>1295810</td>\n",
       "      <td>Sunstone Hotel Investors, Inc.</td>\n",
       "      <td>10-K</td>\n",
       "      <td>FY</td>\n",
       "      <td>2018-12-31</td>\n",
       "      <td>2021-02-12</td>\n",
       "      <td>CY2018</td>\n",
       "      <td>NaN</td>\n",
       "    </tr>\n",
       "    <tr>\n",
       "      <th>1041</th>\n",
       "      <td>1295810</td>\n",
       "      <td>Sunstone Hotel Investors, Inc.</td>\n",
       "      <td>10-K</td>\n",
       "      <td>FY</td>\n",
       "      <td>2019-12-31</td>\n",
       "      <td>2022-02-23</td>\n",
       "      <td>CY2019</td>\n",
       "      <td>NaN</td>\n",
       "    </tr>\n",
       "    <tr>\n",
       "      <th>...</th>\n",
       "      <td>...</td>\n",
       "      <td>...</td>\n",
       "      <td>...</td>\n",
       "      <td>...</td>\n",
       "      <td>...</td>\n",
       "      <td>...</td>\n",
       "      <td>...</td>\n",
       "      <td>...</td>\n",
       "    </tr>\n",
       "    <tr>\n",
       "      <th>11073</th>\n",
       "      <td>1857518</td>\n",
       "      <td>Jaguar Global Growth Corporation I</td>\n",
       "      <td>10-Q</td>\n",
       "      <td>Q1</td>\n",
       "      <td>2022-03-31</td>\n",
       "      <td>2022-05-16</td>\n",
       "      <td>CY2021</td>\n",
       "      <td>NaN</td>\n",
       "    </tr>\n",
       "    <tr>\n",
       "      <th>11304</th>\n",
       "      <td>1631282</td>\n",
       "      <td>DATASEA INC.</td>\n",
       "      <td>10-K</td>\n",
       "      <td>FY</td>\n",
       "      <td>2015-06-30</td>\n",
       "      <td>2016-09-28</td>\n",
       "      <td>CY2015</td>\n",
       "      <td>NaN</td>\n",
       "    </tr>\n",
       "    <tr>\n",
       "      <th>11444</th>\n",
       "      <td>1824036</td>\n",
       "      <td>IDEX Biometrics ASA</td>\n",
       "      <td>20-F</td>\n",
       "      <td>FY</td>\n",
       "      <td>2021-12-31</td>\n",
       "      <td>2023-04-26</td>\n",
       "      <td>CY2021</td>\n",
       "      <td>NaN</td>\n",
       "    </tr>\n",
       "    <tr>\n",
       "      <th>11445</th>\n",
       "      <td>1824036</td>\n",
       "      <td>IDEX Biometrics ASA</td>\n",
       "      <td>20-F</td>\n",
       "      <td>FY</td>\n",
       "      <td>2022-12-31</td>\n",
       "      <td>2023-04-26</td>\n",
       "      <td>CY2022</td>\n",
       "      <td>NaN</td>\n",
       "    </tr>\n",
       "    <tr>\n",
       "      <th>11812</th>\n",
       "      <td>1624203</td>\n",
       "      <td>AQUARIUS CANNABIS INC. /NV/</td>\n",
       "      <td>10-Q</td>\n",
       "      <td>Q1</td>\n",
       "      <td>2014-12-31</td>\n",
       "      <td>2016-06-30</td>\n",
       "      <td>CY2014</td>\n",
       "      <td>NaN</td>\n",
       "    </tr>\n",
       "  </tbody>\n",
       "</table>\n",
       "<p>136 rows × 8 columns</p>\n",
       "</div>"
      ],
      "text/plain": [
       "           CIK                          EntityName  Form  FP         End  \\\n",
       "417    1645873              MODIV INDUSTRIAL, INC.  10-K  FY  2015-12-31   \n",
       "630    1620070            DNA TESTING CENTERS CORP  10-K  FY  2013-12-31   \n",
       "1039   1295810      Sunstone Hotel Investors, Inc.  10-K  FY  2017-12-31   \n",
       "1040   1295810      Sunstone Hotel Investors, Inc.  10-K  FY  2018-12-31   \n",
       "1041   1295810      Sunstone Hotel Investors, Inc.  10-K  FY  2019-12-31   \n",
       "...        ...                                 ...   ...  ..         ...   \n",
       "11073  1857518  Jaguar Global Growth Corporation I  10-Q  Q1  2022-03-31   \n",
       "11304  1631282                        DATASEA INC.  10-K  FY  2015-06-30   \n",
       "11444  1824036                 IDEX Biometrics ASA  20-F  FY  2021-12-31   \n",
       "11445  1824036                 IDEX Biometrics ASA  20-F  FY  2022-12-31   \n",
       "11812  1624203         AQUARIUS CANNABIS INC. /NV/  10-Q  Q1  2014-12-31   \n",
       "\n",
       "            Filed   Frame  NetIncomeLoss  \n",
       "417    2017-04-03  CY2015            NaN  \n",
       "630    2016-06-13  CY2013            NaN  \n",
       "1039   2020-02-19  CY2017            NaN  \n",
       "1040   2021-02-12  CY2018            NaN  \n",
       "1041   2022-02-23  CY2019            NaN  \n",
       "...           ...     ...            ...  \n",
       "11073  2022-05-16  CY2021            NaN  \n",
       "11304  2016-09-28  CY2015            NaN  \n",
       "11444  2023-04-26  CY2021            NaN  \n",
       "11445  2023-04-26  CY2022            NaN  \n",
       "11812  2016-06-30  CY2014            NaN  \n",
       "\n",
       "[136 rows x 8 columns]"
      ]
     },
     "execution_count": 50,
     "metadata": {},
     "output_type": "execute_result"
    }
   ],
   "source": [
    "df[df['NetIncomeLoss'].isna()]"
   ]
  },
  {
   "cell_type": "code",
   "execution_count": 51,
   "id": "7e64eb8c-b763-4448-acb6-9e155411299a",
   "metadata": {},
   "outputs": [
    {
     "data": {
      "text/plain": [
       "(1811, 8)"
      ]
     },
     "execution_count": 51,
     "metadata": {},
     "output_type": "execute_result"
    }
   ],
   "source": [
    "df.shape"
   ]
  },
  {
   "cell_type": "code",
   "execution_count": 53,
   "id": "43d5fe51-68ba-4058-9338-6b10e9c66c76",
   "metadata": {},
   "outputs": [],
   "source": [
    "df.to_csv('netincome_annual.csv',index=False)"
   ]
  },
  {
   "cell_type": "markdown",
   "id": "28d3d65a-9e0f-454a-ab08-9be1742fc6b2",
   "metadata": {
    "tags": []
   },
   "source": [
    "# Calculating missing quarter of net income"
   ]
  },
  {
   "cell_type": "code",
   "execution_count": 70,
   "id": "e962ad97-a9af-448f-9e45-84c978d2e8be",
   "metadata": {},
   "outputs": [],
   "source": [
    "df = pd.read_csv('_data/netincome_test.csv')"
   ]
  },
  {
   "cell_type": "code",
   "execution_count": null,
   "id": "972c2577-cbef-46c7-8745-c8681f16c0f8",
   "metadata": {},
   "outputs": [],
   "source": [
    "def calculate_missing_quarters(df):\n",
    "    # Iterate over each CIK\n",
    "    for cik in df['CIK'].unique():\n",
    "        # Extract unique years from the 'Frame' column\n",
    "        years = df['Frame'].str.extract(r'(CY\\d{4})')[0].unique()\n",
    "        for year in years:\n",
    "            # Calculate the sum of known quarters for the current CIK and year\n",
    "            known_quarters_sum = df[(df['CIK'] == cik) & df['Frame'].str.startswith(year) & \n",
    "                                    (df['Frame'].str.len() > 6) & (~df['NetIncomeLoss'].isna())]['NetIncomeLoss'].sum()\n",
    "            # Define the annual frame\n",
    "            annual_frame = year\n",
    "            # Find the row for the annual data\n",
    "            annual_row = df[(df['CIK'] == cik) & (df['Frame'] == annual_frame)]\n",
    "            # Check if the annual row is not empty\n",
    "            if not annual_row.empty:\n",
    "                # Get the annual NetIncomeLoss value\n",
    "                annual_value = annual_row['NetIncomeLoss'].values[0]\n",
    "                # Iterate over each quarter\n",
    "                for quarter in ['Q1', 'Q2', 'Q3', 'Q4']:\n",
    "                    quarter_frame = year + quarter\n",
    "                    quarter_row = df[(df['CIK'] == cik) & (df['Frame'] == quarter_frame)]\n",
    "                    # Check if the quarter row is not empty and NetIncomeLoss is NaN\n",
    "                    if not quarter_row.empty and np.isnan(quarter_row['NetIncomeLoss'].values[0]):\n",
    "                        # Calculate the missing value for the quarter\n",
    "                        missing_value = annual_value - known_quarters_sum\n",
    "                        # Assign the missing value to the quarter's NetIncomeLoss\n",
    "                        df.loc[(df['CIK'] == cik) & (df['Frame'] == quarter_frame), 'NetIncomeLoss'] = missing_value\n",
    "    return df\n"
   ]
  },
  {
   "cell_type": "code",
   "execution_count": 71,
   "id": "8c632a5f-a6c1-44ce-8def-527753e352a6",
   "metadata": {},
   "outputs": [],
   "source": [
    "df_filled = calculate_missing_quarters(df)"
   ]
  },
  {
   "cell_type": "code",
   "execution_count": 72,
   "id": "a0512d30-5346-4bb8-ad2f-6a27453e51e3",
   "metadata": {},
   "outputs": [
    {
     "data": {
      "text/html": [
       "<div>\n",
       "<style scoped>\n",
       "    .dataframe tbody tr th:only-of-type {\n",
       "        vertical-align: middle;\n",
       "    }\n",
       "\n",
       "    .dataframe tbody tr th {\n",
       "        vertical-align: top;\n",
       "    }\n",
       "\n",
       "    .dataframe thead th {\n",
       "        text-align: right;\n",
       "    }\n",
       "</style>\n",
       "<table border=\"1\" class=\"dataframe\">\n",
       "  <thead>\n",
       "    <tr style=\"text-align: right;\">\n",
       "      <th></th>\n",
       "      <th>CIK</th>\n",
       "      <th>EntityName</th>\n",
       "      <th>Form</th>\n",
       "      <th>FP</th>\n",
       "      <th>End</th>\n",
       "      <th>Filed</th>\n",
       "      <th>Frame</th>\n",
       "      <th>NetIncomeLoss</th>\n",
       "    </tr>\n",
       "  </thead>\n",
       "  <tbody>\n",
       "    <tr>\n",
       "      <th>0</th>\n",
       "      <td>8504</td>\n",
       "      <td>AGEAGLE     AERIAL SYSTEMS INC.</td>\n",
       "      <td>10-K</td>\n",
       "      <td>FY</td>\n",
       "      <td>12/31/12</td>\n",
       "      <td>3/28/14</td>\n",
       "      <td>CY2012</td>\n",
       "      <td>7.411200e+05</td>\n",
       "    </tr>\n",
       "    <tr>\n",
       "      <th>1</th>\n",
       "      <td>8504</td>\n",
       "      <td>AGEAGLE     AERIAL SYSTEMS INC.</td>\n",
       "      <td>10-Q/A</td>\n",
       "      <td>Q1</td>\n",
       "      <td>3/31/12</td>\n",
       "      <td>9/13/13</td>\n",
       "      <td>CY2012Q1</td>\n",
       "      <td>-1.081682e+06</td>\n",
       "    </tr>\n",
       "    <tr>\n",
       "      <th>2</th>\n",
       "      <td>8504</td>\n",
       "      <td>AGEAGLE     AERIAL SYSTEMS INC.</td>\n",
       "      <td>10-Q/A</td>\n",
       "      <td>Q2</td>\n",
       "      <td>6/30/12</td>\n",
       "      <td>9/6/12</td>\n",
       "      <td>CY2012Q2</td>\n",
       "      <td>3.061726e+06</td>\n",
       "    </tr>\n",
       "    <tr>\n",
       "      <th>3</th>\n",
       "      <td>8504</td>\n",
       "      <td>AGEAGLE     AERIAL SYSTEMS INC.</td>\n",
       "      <td>10-Q</td>\n",
       "      <td>Q3</td>\n",
       "      <td>9/30/12</td>\n",
       "      <td>11/14/13</td>\n",
       "      <td>CY2012Q3</td>\n",
       "      <td>-1.296049e+06</td>\n",
       "    </tr>\n",
       "    <tr>\n",
       "      <th>4</th>\n",
       "      <td>8504</td>\n",
       "      <td>AGEAGLE     AERIAL SYSTEMS INC.</td>\n",
       "      <td>10-Q/A</td>\n",
       "      <td>Q1</td>\n",
       "      <td>12/31/12</td>\n",
       "      <td>9/13/13</td>\n",
       "      <td>CY2012Q4</td>\n",
       "      <td>5.712500e+04</td>\n",
       "    </tr>\n",
       "    <tr>\n",
       "      <th>...</th>\n",
       "      <td>...</td>\n",
       "      <td>...</td>\n",
       "      <td>...</td>\n",
       "      <td>...</td>\n",
       "      <td>...</td>\n",
       "      <td>...</td>\n",
       "      <td>...</td>\n",
       "      <td>...</td>\n",
       "    </tr>\n",
       "    <tr>\n",
       "      <th>169</th>\n",
       "      <td>34088</td>\n",
       "      <td>Exxon Mobil Corporation</td>\n",
       "      <td>10-Q</td>\n",
       "      <td>Q3</td>\n",
       "      <td>9/30/22</td>\n",
       "      <td>10/31/23</td>\n",
       "      <td>CY2022Q3</td>\n",
       "      <td>1.966000e+10</td>\n",
       "    </tr>\n",
       "    <tr>\n",
       "      <th>170</th>\n",
       "      <td>34088</td>\n",
       "      <td>Exxon Mobil Corporation</td>\n",
       "      <td>10-Q</td>\n",
       "      <td>Q3</td>\n",
       "      <td>12/31/22</td>\n",
       "      <td>10/31/23</td>\n",
       "      <td>CY2022Q4</td>\n",
       "      <td>1.275000e+10</td>\n",
       "    </tr>\n",
       "    <tr>\n",
       "      <th>171</th>\n",
       "      <td>34088</td>\n",
       "      <td>Exxon Mobil Corporation</td>\n",
       "      <td>10-Q</td>\n",
       "      <td>Q1</td>\n",
       "      <td>3/31/23</td>\n",
       "      <td>5/2/23</td>\n",
       "      <td>CY2023Q1</td>\n",
       "      <td>1.143000e+10</td>\n",
       "    </tr>\n",
       "    <tr>\n",
       "      <th>172</th>\n",
       "      <td>34088</td>\n",
       "      <td>Exxon Mobil Corporation</td>\n",
       "      <td>10-Q</td>\n",
       "      <td>Q2</td>\n",
       "      <td>6/30/23</td>\n",
       "      <td>8/1/23</td>\n",
       "      <td>CY2023Q2</td>\n",
       "      <td>7.880000e+09</td>\n",
       "    </tr>\n",
       "    <tr>\n",
       "      <th>173</th>\n",
       "      <td>34088</td>\n",
       "      <td>Exxon Mobil Corporation</td>\n",
       "      <td>10-Q</td>\n",
       "      <td>Q3</td>\n",
       "      <td>9/30/23</td>\n",
       "      <td>10/31/23</td>\n",
       "      <td>CY2023Q3</td>\n",
       "      <td>9.070000e+09</td>\n",
       "    </tr>\n",
       "  </tbody>\n",
       "</table>\n",
       "<p>174 rows × 8 columns</p>\n",
       "</div>"
      ],
      "text/plain": [
       "       CIK                       EntityName    Form  FP       End     Filed  \\\n",
       "0     8504  AGEAGLE     AERIAL SYSTEMS INC.    10-K  FY  12/31/12   3/28/14   \n",
       "1     8504  AGEAGLE     AERIAL SYSTEMS INC.  10-Q/A  Q1   3/31/12   9/13/13   \n",
       "2     8504  AGEAGLE     AERIAL SYSTEMS INC.  10-Q/A  Q2   6/30/12    9/6/12   \n",
       "3     8504  AGEAGLE     AERIAL SYSTEMS INC.    10-Q  Q3   9/30/12  11/14/13   \n",
       "4     8504  AGEAGLE     AERIAL SYSTEMS INC.  10-Q/A  Q1  12/31/12   9/13/13   \n",
       "..     ...                              ...     ...  ..       ...       ...   \n",
       "169  34088          Exxon Mobil Corporation    10-Q  Q3   9/30/22  10/31/23   \n",
       "170  34088          Exxon Mobil Corporation    10-Q  Q3  12/31/22  10/31/23   \n",
       "171  34088          Exxon Mobil Corporation    10-Q  Q1   3/31/23    5/2/23   \n",
       "172  34088          Exxon Mobil Corporation    10-Q  Q2   6/30/23    8/1/23   \n",
       "173  34088          Exxon Mobil Corporation    10-Q  Q3   9/30/23  10/31/23   \n",
       "\n",
       "        Frame  NetIncomeLoss  \n",
       "0      CY2012   7.411200e+05  \n",
       "1    CY2012Q1  -1.081682e+06  \n",
       "2    CY2012Q2   3.061726e+06  \n",
       "3    CY2012Q3  -1.296049e+06  \n",
       "4    CY2012Q4   5.712500e+04  \n",
       "..        ...            ...  \n",
       "169  CY2022Q3   1.966000e+10  \n",
       "170  CY2022Q4   1.275000e+10  \n",
       "171  CY2023Q1   1.143000e+10  \n",
       "172  CY2023Q2   7.880000e+09  \n",
       "173  CY2023Q3   9.070000e+09  \n",
       "\n",
       "[174 rows x 8 columns]"
      ]
     },
     "execution_count": 72,
     "metadata": {},
     "output_type": "execute_result"
    }
   ],
   "source": [
    "df_filled"
   ]
  },
  {
   "cell_type": "code",
   "execution_count": 66,
   "id": "b06ccfde-3445-44c6-92ca-cd72321d2f53",
   "metadata": {},
   "outputs": [],
   "source": [
    "df_filled.to_csv('_data/netincome_all_result.csv',mode='w',index=False)"
   ]
  },
  {
   "cell_type": "markdown",
   "id": "8c1409c2-ee2f-485c-aef0-72d640f3c5b0",
   "metadata": {},
   "source": [
    "# Replace all netincome values."
   ]
  },
  {
   "cell_type": "code",
   "execution_count": 73,
   "id": "f14cea79-30d1-43f3-9c67-8595ef24eb90",
   "metadata": {},
   "outputs": [],
   "source": [
    "df = pd.read_csv('_data/netincome.csv')"
   ]
  },
  {
   "cell_type": "code",
   "execution_count": 74,
   "id": "51dc9d96-2585-46cf-9296-b49f5d6ae982",
   "metadata": {},
   "outputs": [
    {
     "data": {
      "text/html": [
       "<div>\n",
       "<style scoped>\n",
       "    .dataframe tbody tr th:only-of-type {\n",
       "        vertical-align: middle;\n",
       "    }\n",
       "\n",
       "    .dataframe tbody tr th {\n",
       "        vertical-align: top;\n",
       "    }\n",
       "\n",
       "    .dataframe thead th {\n",
       "        text-align: right;\n",
       "    }\n",
       "</style>\n",
       "<table border=\"1\" class=\"dataframe\">\n",
       "  <thead>\n",
       "    <tr style=\"text-align: right;\">\n",
       "      <th></th>\n",
       "      <th>CIK</th>\n",
       "      <th>EntityName</th>\n",
       "      <th>Form</th>\n",
       "      <th>FP</th>\n",
       "      <th>End</th>\n",
       "      <th>Filed</th>\n",
       "      <th>Frame</th>\n",
       "      <th>NetIncomeLoss</th>\n",
       "    </tr>\n",
       "  </thead>\n",
       "  <tbody>\n",
       "    <tr>\n",
       "      <th>0</th>\n",
       "      <td>4828</td>\n",
       "      <td>AMERICAN CRYSTAL SUGAR CO /MN/</td>\n",
       "      <td>10-K</td>\n",
       "      <td>FY</td>\n",
       "      <td>8/31/12</td>\n",
       "      <td>11/8/12</td>\n",
       "      <td>CY2012</td>\n",
       "      <td>548253000.0</td>\n",
       "    </tr>\n",
       "    <tr>\n",
       "      <th>1</th>\n",
       "      <td>4828</td>\n",
       "      <td>AMERICAN CRYSTAL SUGAR CO /MN/</td>\n",
       "      <td>10-Q</td>\n",
       "      <td>Q2</td>\n",
       "      <td>2/29/12</td>\n",
       "      <td>4/15/13</td>\n",
       "      <td>CY2012Q1</td>\n",
       "      <td>212256000.0</td>\n",
       "    </tr>\n",
       "    <tr>\n",
       "      <th>2</th>\n",
       "      <td>4828</td>\n",
       "      <td>AMERICAN CRYSTAL SUGAR CO /MN/</td>\n",
       "      <td>10-Q</td>\n",
       "      <td>Q3</td>\n",
       "      <td>5/31/12</td>\n",
       "      <td>7/15/13</td>\n",
       "      <td>CY2012Q2</td>\n",
       "      <td>149485000.0</td>\n",
       "    </tr>\n",
       "    <tr>\n",
       "      <th>3</th>\n",
       "      <td>4828</td>\n",
       "      <td>AMERICAN CRYSTAL SUGAR CO /MN/</td>\n",
       "      <td>10-Q</td>\n",
       "      <td>Q3</td>\n",
       "      <td>8/31/12</td>\n",
       "      <td>7/15/13</td>\n",
       "      <td>CY2012Q3</td>\n",
       "      <td>NaN</td>\n",
       "    </tr>\n",
       "    <tr>\n",
       "      <th>4</th>\n",
       "      <td>4828</td>\n",
       "      <td>AMERICAN CRYSTAL SUGAR CO /MN/</td>\n",
       "      <td>10-Q</td>\n",
       "      <td>Q1</td>\n",
       "      <td>11/30/12</td>\n",
       "      <td>1/14/13</td>\n",
       "      <td>CY2012Q4</td>\n",
       "      <td>289479000.0</td>\n",
       "    </tr>\n",
       "    <tr>\n",
       "      <th>...</th>\n",
       "      <td>...</td>\n",
       "      <td>...</td>\n",
       "      <td>...</td>\n",
       "      <td>...</td>\n",
       "      <td>...</td>\n",
       "      <td>...</td>\n",
       "      <td>...</td>\n",
       "      <td>...</td>\n",
       "    </tr>\n",
       "    <tr>\n",
       "      <th>9410</th>\n",
       "      <td>1944902</td>\n",
       "      <td>OHMYHOME LIMITED</td>\n",
       "      <td>6-K</td>\n",
       "      <td>Q2</td>\n",
       "      <td>12/31/22</td>\n",
       "      <td>10/3/23</td>\n",
       "      <td>CY2022Q4</td>\n",
       "      <td>NaN</td>\n",
       "    </tr>\n",
       "    <tr>\n",
       "      <th>9411</th>\n",
       "      <td>1944902</td>\n",
       "      <td>OHMYHOME LIMITED</td>\n",
       "      <td>6-K</td>\n",
       "      <td>Q2</td>\n",
       "      <td>6/30/23</td>\n",
       "      <td>10/3/23</td>\n",
       "      <td>CY2023Q2</td>\n",
       "      <td>NaN</td>\n",
       "    </tr>\n",
       "    <tr>\n",
       "      <th>9412</th>\n",
       "      <td>1970509</td>\n",
       "      <td>HAYMAKER ACQUISITION CORP. 4</td>\n",
       "      <td>10-Q</td>\n",
       "      <td>Q3</td>\n",
       "      <td>3/31/23</td>\n",
       "      <td>11/9/23</td>\n",
       "      <td>CY2023Q1</td>\n",
       "      <td>-5550.0</td>\n",
       "    </tr>\n",
       "    <tr>\n",
       "      <th>9413</th>\n",
       "      <td>1970509</td>\n",
       "      <td>HAYMAKER ACQUISITION CORP. 4</td>\n",
       "      <td>10-Q</td>\n",
       "      <td>Q2</td>\n",
       "      <td>6/30/23</td>\n",
       "      <td>9/8/23</td>\n",
       "      <td>CY2023Q2</td>\n",
       "      <td>-3931.0</td>\n",
       "    </tr>\n",
       "    <tr>\n",
       "      <th>9414</th>\n",
       "      <td>1970509</td>\n",
       "      <td>HAYMAKER ACQUISITION CORP. 4</td>\n",
       "      <td>10-Q</td>\n",
       "      <td>Q3</td>\n",
       "      <td>9/30/23</td>\n",
       "      <td>11/9/23</td>\n",
       "      <td>CY2023Q3</td>\n",
       "      <td>864290.0</td>\n",
       "    </tr>\n",
       "  </tbody>\n",
       "</table>\n",
       "<p>9415 rows × 8 columns</p>\n",
       "</div>"
      ],
      "text/plain": [
       "          CIK                      EntityName  Form  FP       End    Filed  \\\n",
       "0        4828  AMERICAN CRYSTAL SUGAR CO /MN/  10-K  FY   8/31/12  11/8/12   \n",
       "1        4828  AMERICAN CRYSTAL SUGAR CO /MN/  10-Q  Q2   2/29/12  4/15/13   \n",
       "2        4828  AMERICAN CRYSTAL SUGAR CO /MN/  10-Q  Q3   5/31/12  7/15/13   \n",
       "3        4828  AMERICAN CRYSTAL SUGAR CO /MN/  10-Q  Q3   8/31/12  7/15/13   \n",
       "4        4828  AMERICAN CRYSTAL SUGAR CO /MN/  10-Q  Q1  11/30/12  1/14/13   \n",
       "...       ...                             ...   ...  ..       ...      ...   \n",
       "9410  1944902                OHMYHOME LIMITED   6-K  Q2  12/31/22  10/3/23   \n",
       "9411  1944902                OHMYHOME LIMITED   6-K  Q2   6/30/23  10/3/23   \n",
       "9412  1970509    HAYMAKER ACQUISITION CORP. 4  10-Q  Q3   3/31/23  11/9/23   \n",
       "9413  1970509    HAYMAKER ACQUISITION CORP. 4  10-Q  Q2   6/30/23   9/8/23   \n",
       "9414  1970509    HAYMAKER ACQUISITION CORP. 4  10-Q  Q3   9/30/23  11/9/23   \n",
       "\n",
       "         Frame  NetIncomeLoss  \n",
       "0       CY2012    548253000.0  \n",
       "1     CY2012Q1    212256000.0  \n",
       "2     CY2012Q2    149485000.0  \n",
       "3     CY2012Q3            NaN  \n",
       "4     CY2012Q4    289479000.0  \n",
       "...        ...            ...  \n",
       "9410  CY2022Q4            NaN  \n",
       "9411  CY2023Q2            NaN  \n",
       "9412  CY2023Q1        -5550.0  \n",
       "9413  CY2023Q2        -3931.0  \n",
       "9414  CY2023Q3       864290.0  \n",
       "\n",
       "[9415 rows x 8 columns]"
      ]
     },
     "execution_count": 74,
     "metadata": {},
     "output_type": "execute_result"
    }
   ],
   "source": [
    "df"
   ]
  },
  {
   "cell_type": "code",
   "execution_count": 76,
   "id": "aaf5be95-2220-4d6a-8119-2f67dea31f2f",
   "metadata": {},
   "outputs": [],
   "source": [
    "df_filled = calculate_missing_quarters(df)"
   ]
  },
  {
   "cell_type": "code",
   "execution_count": 77,
   "id": "10c30415-d129-4791-bfab-1fb2fe8c8d66",
   "metadata": {},
   "outputs": [],
   "source": [
    "df_filled.to_csv('_data/netincome_all_result_skip.csv',mode='w',index=False)"
   ]
  },
  {
   "cell_type": "markdown",
   "id": "0c6d923c-b725-4d7f-9fa7-44d5ba830074",
   "metadata": {},
   "source": [
    "### New function for skipping more than 1 missing quarters"
   ]
  },
  {
   "cell_type": "code",
   "execution_count": 75,
   "id": "85b92020-d34b-4c3b-8755-39076f5166da",
   "metadata": {},
   "outputs": [],
   "source": [
    "import numpy as np\n",
    "\n",
    "def calculate_missing_quarters(df):\n",
    "    # Iterate over each CIK\n",
    "    for cik in df['CIK'].unique():\n",
    "        # Extract unique years from the 'Frame' column\n",
    "        years = df['Frame'].str.extract(r'(CY\\d{4})')[0].unique()\n",
    "        for year in years:\n",
    "            # Calculate the sum of known quarters for the current CIK and year\n",
    "            known_quarters_sum = df[(df['CIK'] == cik) & df['Frame'].str.startswith(year) & \n",
    "                                    (df['Frame'].str.len() > 6) & (~df['NetIncomeLoss'].isna())]['NetIncomeLoss'].sum()\n",
    "            # Define the annual frame\n",
    "            annual_frame = year\n",
    "            # Find the row for the annual data\n",
    "            annual_row = df[(df['CIK'] == cik) & (df['Frame'] == annual_frame)]\n",
    "            # Check if the annual row is not empty\n",
    "            if not annual_row.empty:\n",
    "                # Get the annual NetIncomeLoss value\n",
    "                annual_value = annual_row['NetIncomeLoss'].values[0]\n",
    "                # Count the number of missing values for the year\n",
    "                missing_count = df[(df['CIK'] == cik) & df['Frame'].str.startswith(year) & \n",
    "                                   (df['Frame'].str.len() > 6) & (df['NetIncomeLoss'].isna())].shape[0]\n",
    "                # If there is more than one missing value, skip to the next year\n",
    "                if missing_count > 1:\n",
    "                    continue\n",
    "                # Otherwise, iterate over each quarter\n",
    "                for quarter in ['Q1', 'Q2', 'Q3', 'Q4']:\n",
    "                    quarter_frame = year + quarter\n",
    "                    quarter_row = df[(df['CIK'] == cik) & (df['Frame'] == quarter_frame)]\n",
    "                    # Check if the quarter row is not empty and NetIncomeLoss is NaN\n",
    "                    if not quarter_row.empty and np.isnan(quarter_row['NetIncomeLoss'].values[0]):\n",
    "                        # Calculate the missing value for the quarter\n",
    "                        missing_value = annual_value - known_quarters_sum\n",
    "                        # Assign the missing value to the quarter's NetIncomeLoss\n",
    "                        df.loc[(df['CIK'] == cik) & (df['Frame'] == quarter_frame), 'NetIncomeLoss'] = missing_value\n",
    "    return df\n"
   ]
  },
  {
   "cell_type": "code",
   "execution_count": null,
   "id": "4d7a03bb-b89b-43b2-b2e7-8140a8525994",
   "metadata": {},
   "outputs": [],
   "source": []
  }
 ],
 "metadata": {
  "kernelspec": {
   "display_name": "Python 3 (ipykernel)",
   "language": "python",
   "name": "python3"
  },
  "language_info": {
   "codemirror_mode": {
    "name": "ipython",
    "version": 3
   },
   "file_extension": ".py",
   "mimetype": "text/x-python",
   "name": "python",
   "nbconvert_exporter": "python",
   "pygments_lexer": "ipython3",
   "version": "3.10.9"
  }
 },
 "nbformat": 4,
 "nbformat_minor": 5
}
