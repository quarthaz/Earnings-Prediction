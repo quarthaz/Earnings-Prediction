{
 "cells": [
  {
   "cell_type": "code",
   "execution_count": 1,
   "id": "4a036d42-d676-4ec8-a973-95dd9384a14a",
   "metadata": {},
   "outputs": [],
   "source": [
    "from functions import *"
   ]
  },
  {
   "cell_type": "code",
   "execution_count": 2,
   "id": "b3d92652-1402-42e4-9fd8-9ef0026ae71e",
   "metadata": {},
   "outputs": [],
   "source": [
    "df = pd.read_csv('Submissions.csv')\n",
    "df_list = list(df[df['SIC']==6798]['CIK'])"
   ]
  },
  {
   "cell_type": "code",
   "execution_count": 14,
   "id": "0e8c81b7-4d9b-4247-bc24-b59f20b2c173",
   "metadata": {},
   "outputs": [
    {
     "name": "stdout",
     "output_type": "stream",
     "text": [
      "Key 'us-gaap' missing in file companyfacts/CIK0000899045.json. Skipping this file.\n",
      "Key 'cik' missing in file companyfacts/CIK0001781324.json. Skipping this file.\n",
      "Key 'us-gaap' missing in file companyfacts/CIK0001949029.json. Skipping this file.\n",
      "Key 'us-gaap' missing in file companyfacts/CIK0001742092.json. Skipping this file.\n",
      "Key 'us-gaap' missing in file companyfacts/CIK0001967097.json. Skipping this file.\n"
     ]
    },
    {
     "name": "stderr",
     "output_type": "stream",
     "text": [
      "/Users/khatansanaabandi/Documents/Python/SEC V3/functions.py:235: FutureWarning: pivot_table dropped a column because it failed to aggregate. This behavior is deprecated and will raise in a future version of pandas. Select only the columns that can be aggregated.\n",
      "  df = pd.pivot_table(df, index=['CIK', 'Frame'])\n"
     ]
    },
    {
     "name": "stdout",
     "output_type": "stream",
     "text": [
      "Training Accuracy: 0.645478374836173\n",
      "Training ROC AUC: 0.6761920226539719\n",
      "Unseen Data Accuracy: 0.6449541284403669\n",
      "Unseen Data ROC AUC: 0.6940890675990873\n",
      "(0.0, (5084, 262))\n"
     ]
    }
   ],
   "source": [
    "cik_list  = df_list   #List of CIKs of companies to test.\n",
    "lvl1      = 'CIK'     #Level 1 index to pivot.\n",
    "lvl2      = 'Frame'   #Level 2 index to pivot. \n",
    "shifts    = 2         #Number of Shifts/Lags\n",
    "chunks    = 10        #Chunks to Divide\n",
    "threshold = 0.8       #Threshold of Missing Values in a column\n",
    "target    = f'EarningsPerShareBasic_{shifts}' #Target column make into target.\n",
    "test_size = 0.3       #Test split size for first round.\n",
    "\n",
    "train_accuracy, train_roc_auc, unseen_accuracy, unseen_roc_auc = everything(cik_list,lvl1,lvl2,shifts,chunks,threshold,target,test_size)"
   ]
  },
  {
   "cell_type": "raw",
   "id": "80363009-d313-4ccd-9276-ab8f29956161",
   "metadata": {},
   "source": [
    "shift = 2, threshold = 0.8\n",
    "Training Accuracy: 0.645478374836173\n",
    "Training ROC AUC: 0.6761920226539719\n",
    "Unseen Data Accuracy: 0.6449541284403669\n",
    "Unseen Data ROC AUC: 0.6940890675990873\n",
    "(0.0, (5084, 262))\n",
    "\n",
    "shift = 3\n",
    "Training Accuracy: 0.6309278350515464\n",
    "Training ROC AUC: 0.6749842801839407\n",
    "Unseen Data Accuracy: 0.6395572666025024\n",
    "Unseen Data ROC AUC: 0.692926424812866\n",
    "(0.0, (4848, 349))\n",
    "\n",
    "shift = 5\n",
    "Training Accuracy: 0.625\n",
    "Training ROC AUC: 0.6697603566869622\n",
    "Unseen Data Accuracy: 0.601272534464475\n",
    "Unseen Data ROC AUC: 0.6420002856458464\n",
    "(0.0, (4400, 523))"
   ]
  },
  {
   "cell_type": "code",
   "execution_count": null,
   "id": "95a5419c-1d24-4429-936d-b8193edfd19d",
   "metadata": {},
   "outputs": [],
   "source": []
  }
 ],
 "metadata": {
  "kernelspec": {
   "display_name": "Python 3 (ipykernel)",
   "language": "python",
   "name": "python3"
  },
  "language_info": {
   "codemirror_mode": {
    "name": "ipython",
    "version": 3
   },
   "file_extension": ".py",
   "mimetype": "text/x-python",
   "name": "python",
   "nbconvert_exporter": "python",
   "pygments_lexer": "ipython3",
   "version": "3.10.9"
  }
 },
 "nbformat": 4,
 "nbformat_minor": 5
}
