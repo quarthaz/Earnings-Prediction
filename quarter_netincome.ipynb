{
 "cells": [
  {
   "cell_type": "code",
   "execution_count": 4,
   "id": "73e98d82-f36d-4995-bae4-bb1f5d7031fa",
   "metadata": {},
   "outputs": [],
   "source": [
    "from functions import *"
   ]
  },
  {
   "cell_type": "markdown",
   "id": "df5d7dd6-0a6e-4148-902e-a30a0c972efe",
   "metadata": {
    "tags": []
   },
   "source": [
    "# Loop Through SIC running Function"
   ]
  },
  {
   "cell_type": "code",
   "execution_count": 15,
   "id": "580f14ce-4cb6-40c5-a5b0-519977c3028b",
   "metadata": {
    "collapsed": true,
    "jupyter": {
     "outputs_hidden": true
    },
    "tags": []
   },
   "outputs": [
    {
     "name": "stdout",
     "output_type": "stream",
     "text": [
      "Feature Importances:\n",
      " NetIncomeLoss_1                                                                                        0.043926\n",
      "OperatingIncomeLoss_1                                                                                  0.037093\n",
      "NetCashProvidedByUsedInOperatingActivities_1                                                           0.018762\n",
      "EarningsPerShareBasicAndDiluted_1                                                                      0.016301\n",
      "ComprehensiveIncomeNetOfTax_1                                                                          0.015535\n",
      "                                                                                                         ...   \n",
      "EffectiveIncomeTaxRateReconciliationAtFederalStatutoryIncomeTaxRate                                    0.000728\n",
      "ShareBasedCompensationArrangementByShareBasedPaymentAwardFairValueAssumptionsExpectedDividendRate      0.000604\n",
      "ShareBasedCompensationArrangementByShareBasedPaymentAwardFairValueAssumptionsExpectedDividendRate_1    0.000459\n",
      "NumberOfOperatingSegments                                                                              0.000070\n",
      "NumberOfOperatingSegments_1                                                                            0.000000\n",
      "Length: 188, dtype: float64\n",
      "Training Accuracy: 0.7194570135746606\n",
      "Training ROC AUC: 0.786986301369863\n",
      "Unseen Data Accuracy: 0.7468354430379747\n",
      "Unseen Data ROC AUC: 0.7915457184325109\n",
      "(0.0, (736, 189))\n"
     ]
    },
    {
     "name": "stderr",
     "output_type": "stream",
     "text": [
      "/var/folders/rg/tjzq_l195rgdqwr9j37d24n00000gn/T/ipykernel_59145/726984327.py:15: FutureWarning: The frame.append method is deprecated and will be removed from pandas in a future version. Use pandas.concat instead.\n",
      "  results_df = results_df.append({\n"
     ]
    },
    {
     "name": "stdout",
     "output_type": "stream",
     "text": [
      "Feature Importances:\n",
      " NetIncomeLoss_1                                                                                0.099888\n",
      "NetIncomeLossAvailableToCommonStockholdersBasic_1                                              0.023039\n",
      "IncomeLossFromContinuingOperationsBeforeIncomeTaxesExtraordinaryItemsNoncontrollingInterest    0.021675\n",
      "NetCashProvidedByUsedInInvestingActivities                                                     0.019507\n",
      "ComprehensiveIncomeNetOfTax_1                                                                  0.019368\n",
      "                                                                                                 ...   \n",
      "InvestmentIncomeInterest_1                                                                     0.001765\n",
      "EffectiveIncomeTaxRateReconciliationAtFederalStatutoryIncomeTaxRate                            0.001710\n",
      "ImpairmentOfRealEstate_1                                                                       0.001616\n",
      "AllocatedShareBasedCompensationExpense                                                         0.001553\n",
      "CurrentIncomeTaxExpenseBenefit_1                                                               0.001141\n",
      "Length: 130, dtype: float64\n",
      "Training Accuracy: 0.6923076923076923\n",
      "Training ROC AUC: 0.6710059171597633\n",
      "Unseen Data Accuracy: 0.6711409395973155\n",
      "Unseen Data ROC AUC: 0.6340759075907592\n",
      "(0.0, (346, 131))\n"
     ]
    },
    {
     "name": "stderr",
     "output_type": "stream",
     "text": [
      "/var/folders/rg/tjzq_l195rgdqwr9j37d24n00000gn/T/ipykernel_59145/726984327.py:15: FutureWarning: The frame.append method is deprecated and will be removed from pandas in a future version. Use pandas.concat instead.\n",
      "  results_df = results_df.append({\n"
     ]
    },
    {
     "name": "stdout",
     "output_type": "stream",
     "text": [
      "Feature Importances:\n",
      " NetIncomeLoss_1                                                                                        0.080487\n",
      "EarningsPerShareBasicAndDiluted_1                                                                      0.036297\n",
      "OperatingIncomeLoss_1                                                                                  0.033622\n",
      "ComprehensiveIncomeNetOfTax_1                                                                          0.019707\n",
      "EarningsPerShareBasic_1                                                                                0.018519\n",
      "                                                                                                         ...   \n",
      "EffectiveIncomeTaxRateReconciliationAtFederalStatutoryIncomeTaxRate_1                                  0.001455\n",
      "ShareBasedCompensationArrangementByShareBasedPaymentAwardFairValueAssumptionsExpectedDividendRate_1    0.000499\n",
      "ShareBasedCompensationArrangementByShareBasedPaymentAwardFairValueAssumptionsExpectedDividendRate      0.000241\n",
      "NumberOfOperatingSegments_1                                                                            0.000198\n",
      "NumberOfOperatingSegments                                                                              0.000040\n",
      "Length: 178, dtype: float64\n",
      "Training Accuracy: 0.7406568516421291\n",
      "Training ROC AUC: 0.8049090806733097\n",
      "Unseen Data Accuracy: 0.742472266244057\n",
      "Unseen Data ROC AUC: 0.7872541108736424\n",
      "(0.0, (2943, 179))\n"
     ]
    },
    {
     "name": "stderr",
     "output_type": "stream",
     "text": [
      "/var/folders/rg/tjzq_l195rgdqwr9j37d24n00000gn/T/ipykernel_59145/726984327.py:15: FutureWarning: The frame.append method is deprecated and will be removed from pandas in a future version. Use pandas.concat instead.\n",
      "  results_df = results_df.append({\n"
     ]
    },
    {
     "name": "stdout",
     "output_type": "stream",
     "text": [
      "Feature Importances:\n",
      " NetIncomeLoss_1                                                                                  0.084591\n",
      "NetCashProvidedByUsedInOperatingActivities_1                                                     0.048304\n",
      "ComprehensiveIncomeNetOfTax_1                                                                    0.028823\n",
      "EarningsPerShareBasicAndDiluted_1                                                                0.025508\n",
      "IncomeLossFromContinuingOperationsBeforeIncomeTaxesExtraordinaryItemsNoncontrollingInterest_1    0.023375\n",
      "                                                                                                   ...   \n",
      "IncomeTaxReconciliationNondeductibleExpense                                                      0.001564\n",
      "IncomeTaxesPaid                                                                                  0.001476\n",
      "GainsLossesOnExtinguishmentOfDebt                                                                0.001437\n",
      "InterestPaid_1                                                                                   0.001349\n",
      "StockIssuedDuringPeriodSharesStockOptionsExercised                                               0.000652\n",
      "Length: 126, dtype: float64\n",
      "Training Accuracy: 0.7402597402597403\n",
      "Training ROC AUC: 0.7923850574712643\n",
      "Unseen Data Accuracy: 0.6727272727272727\n",
      "Unseen Data ROC AUC: 0.6288377192982457\n",
      "(0.0, (255, 127))\n"
     ]
    },
    {
     "name": "stderr",
     "output_type": "stream",
     "text": [
      "/var/folders/rg/tjzq_l195rgdqwr9j37d24n00000gn/T/ipykernel_59145/726984327.py:15: FutureWarning: The frame.append method is deprecated and will be removed from pandas in a future version. Use pandas.concat instead.\n",
      "  results_df = results_df.append({\n"
     ]
    },
    {
     "name": "stdout",
     "output_type": "stream",
     "text": [
      "Feature Importances:\n",
      " NetIncomeLoss_1                                                                                  0.051360\n",
      "EarningsPerShareDiluted_1                                                                        0.027328\n",
      "EarningsPerShareBasic_1                                                                          0.019758\n",
      "IncomeLossFromContinuingOperationsBeforeIncomeTaxesExtraordinaryItemsNoncontrollingInterest_1    0.019683\n",
      "ComprehensiveIncomeNetOfTax_1                                                                    0.015526\n",
      "                                                                                                   ...   \n",
      "PaymentsToAcquireBusinessesNetOfCashAcquired                                                     0.000146\n",
      "OtherComprehensiveIncomeLossForeignCurrencyTransactionAndTranslationAdjustmentNetOfTax_1         0.000130\n",
      "EffectiveIncomeTaxRateReconciliationAtFederalStatutoryIncomeTaxRate                              0.000000\n",
      "NumberOfOperatingSegments_1                                                                      0.000000\n",
      "NumberOfReportableSegments                                                                       0.000000\n",
      "Length: 276, dtype: float64\n",
      "Training Accuracy: 0.65\n",
      "Training ROC AUC: 0.6744791666666666\n",
      "Unseen Data Accuracy: 0.6643356643356644\n",
      "Unseen Data ROC AUC: 0.7362603305785125\n",
      "(0.0, (333, 277))\n"
     ]
    },
    {
     "name": "stderr",
     "output_type": "stream",
     "text": [
      "/var/folders/rg/tjzq_l195rgdqwr9j37d24n00000gn/T/ipykernel_59145/726984327.py:15: FutureWarning: The frame.append method is deprecated and will be removed from pandas in a future version. Use pandas.concat instead.\n",
      "  results_df = results_df.append({\n"
     ]
    },
    {
     "name": "stdout",
     "output_type": "stream",
     "text": [
      "Feature Importances:\n",
      " NetIncomeLoss_1                                                                                                     0.040563\n",
      "OperatingIncomeLoss_1                                                                                               0.029539\n",
      "ComprehensiveIncomeNetOfTax_1                                                                                       0.018186\n",
      "EarningsPerShareBasicAndDiluted_1                                                                                   0.018117\n",
      "ProfitLoss_1                                                                                                        0.015332\n",
      "                                                                                                                      ...   \n",
      "NumberOfOperatingSegments_1                                                                                         0.000000\n",
      "OperatingLeasePayments_1                                                                                            0.000000\n",
      "ShareBasedCompensationArrangementsByShareBasedPaymentAwardOptionsForfeituresInPeriodWeightedAverageExercisePrice    0.000000\n",
      "EffectiveIncomeTaxRateReconciliationForeignIncomeTaxRateDifferential                                                0.000000\n",
      "EffectiveIncomeTaxRateReconciliationAtFederalStatutoryIncomeTaxRate                                                 0.000000\n",
      "Length: 230, dtype: float64\n",
      "Training Accuracy: 0.7160493827160493\n",
      "Training ROC AUC: 0.7049019607843138\n",
      "Unseen Data Accuracy: 0.6923076923076923\n",
      "Unseen Data ROC AUC: 0.6221980074719802\n",
      "(0.0, (270, 231))\n"
     ]
    },
    {
     "name": "stderr",
     "output_type": "stream",
     "text": [
      "/var/folders/rg/tjzq_l195rgdqwr9j37d24n00000gn/T/ipykernel_59145/726984327.py:15: FutureWarning: The frame.append method is deprecated and will be removed from pandas in a future version. Use pandas.concat instead.\n",
      "  results_df = results_df.append({\n"
     ]
    },
    {
     "name": "stdout",
     "output_type": "stream",
     "text": [
      "Feature Importances:\n",
      " NetIncomeLoss_1                                                                        0.064077\n",
      "OperatingIncomeLoss_1                                                                  0.028971\n",
      "ProfitLoss_1                                                                           0.020392\n",
      "ComprehensiveIncomeNetOfTax_1                                                          0.019579\n",
      "NetCashProvidedByUsedInOperatingActivities_1                                           0.017741\n",
      "                                                                                         ...   \n",
      "GoodwillImpairmentLoss                                                                 0.000352\n",
      "PaymentsForRepurchaseOfCommonStock                                                     0.000186\n",
      "ShareBasedCompensationArrangementByShareBasedPaymentAwardOptionsGrantsInPeriodGross    0.000124\n",
      "NumberOfReportableSegments                                                             0.000000\n",
      "NumberOfReportableSegments_1                                                           0.000000\n",
      "Length: 168, dtype: float64\n",
      "Training Accuracy: 0.7378640776699029\n",
      "Training ROC AUC: 0.7757885763000854\n",
      "Unseen Data Accuracy: 0.6666666666666666\n",
      "Unseen Data ROC AUC: 0.7636550692106246\n",
      "(0.0, (342, 169))\n"
     ]
    },
    {
     "name": "stderr",
     "output_type": "stream",
     "text": [
      "/var/folders/rg/tjzq_l195rgdqwr9j37d24n00000gn/T/ipykernel_59145/726984327.py:15: FutureWarning: The frame.append method is deprecated and will be removed from pandas in a future version. Use pandas.concat instead.\n",
      "  results_df = results_df.append({\n"
     ]
    },
    {
     "name": "stdout",
     "output_type": "stream",
     "text": [
      "Feature Importances:\n",
      " NetIncomeLoss_1                                0.126004\n",
      "OperatingExpenses_1                            0.050384\n",
      "GeneralAndAdministrativeExpense_1              0.042041\n",
      "GeneralAndAdministrativeExpense                0.039716\n",
      "NetIncomeLoss                                  0.038884\n",
      "                                                 ...   \n",
      "DeferredFederalIncomeTaxExpenseBenefit         0.000546\n",
      "FairValueAdjustmentOfWarrants_1                0.000351\n",
      "FairValueAdjustmentOfWarrants                  0.000128\n",
      "ProceedsFromIssuanceInitialPublicOffering_1    0.000000\n",
      "ProceedsFromIssuanceInitialPublicOffering      0.000000\n",
      "Length: 66, dtype: float64\n",
      "Training Accuracy: 0.6736842105263158\n",
      "Training ROC AUC: 0.7160397074190179\n",
      "Unseen Data Accuracy: 0.6444444444444445\n",
      "Unseen Data ROC AUC: 0.7280578898225957\n",
      "(0.0, (315, 67))\n"
     ]
    },
    {
     "name": "stderr",
     "output_type": "stream",
     "text": [
      "/var/folders/rg/tjzq_l195rgdqwr9j37d24n00000gn/T/ipykernel_59145/726984327.py:15: FutureWarning: The frame.append method is deprecated and will be removed from pandas in a future version. Use pandas.concat instead.\n",
      "  results_df = results_df.append({\n"
     ]
    },
    {
     "name": "stdout",
     "output_type": "stream",
     "text": [
      "Feature Importances:\n",
      " NetIncomeLoss_1                                                          0.071096\n",
      "ProfitLoss_1                                                             0.042477\n",
      "EarningsPerShareDiluted_1                                                0.027631\n",
      "EarningsPerShareBasic_1                                                  0.021856\n",
      "ComprehensiveIncomeNetOfTax_1                                            0.021567\n",
      "                                                                           ...   \n",
      "EffectiveIncomeTaxRateReconciliationAtFederalStatutoryIncomeTaxRate_1    0.000936\n",
      "AmortizationOfDebtDiscountPremium                                        0.000933\n",
      "NumberOfReportableSegments_1                                             0.000619\n",
      "EffectiveIncomeTaxRateReconciliationAtFederalStatutoryIncomeTaxRate      0.000444\n",
      "NumberOfReportableSegments                                               0.000331\n",
      "Length: 250, dtype: float64\n",
      "Training Accuracy: 0.6836027713625866\n",
      "Training ROC AUC: 0.7585215835383584\n",
      "Unseen Data Accuracy: 0.691437802907916\n",
      "Unseen Data ROC AUC: 0.7254101161995898\n",
      "(0.0, (1442, 251))\n"
     ]
    },
    {
     "name": "stderr",
     "output_type": "stream",
     "text": [
      "/var/folders/rg/tjzq_l195rgdqwr9j37d24n00000gn/T/ipykernel_59145/726984327.py:15: FutureWarning: The frame.append method is deprecated and will be removed from pandas in a future version. Use pandas.concat instead.\n",
      "  results_df = results_df.append({\n"
     ]
    },
    {
     "name": "stdout",
     "output_type": "stream",
     "text": [
      "Feature Importances:\n",
      " NetIncomeLoss_1                                   0.071140\n",
      "OperatingIncomeLoss_1                             0.034851\n",
      "Depreciation_1                                    0.020427\n",
      "CashAndCashEquivalentsPeriodIncreaseDecrease_1    0.019780\n",
      "NetCashProvidedByUsedInOperatingActivities_1      0.017371\n",
      "                                                    ...   \n",
      "ProvisionForDoubtfulAccounts                      0.000797\n",
      "ProceedsFromIssuanceOfCommonStock_1               0.000775\n",
      "DeferredForeignIncomeTaxExpenseBenefit            0.000760\n",
      "AmortizationOfFinancingCosts_1                    0.000721\n",
      "InvestmentIncomeInterest_1                        0.000518\n",
      "Length: 170, dtype: float64\n",
      "Training Accuracy: 0.6666666666666666\n",
      "Training ROC AUC: 0.6919040479760119\n",
      "Unseen Data Accuracy: 0.7075471698113207\n",
      "Unseen Data ROC AUC: 0.7765027322404371\n",
      "(0.0, (247, 171))\n"
     ]
    },
    {
     "name": "stderr",
     "output_type": "stream",
     "text": [
      "/var/folders/rg/tjzq_l195rgdqwr9j37d24n00000gn/T/ipykernel_59145/726984327.py:15: FutureWarning: The frame.append method is deprecated and will be removed from pandas in a future version. Use pandas.concat instead.\n",
      "  results_df = results_df.append({\n"
     ]
    },
    {
     "name": "stdout",
     "output_type": "stream",
     "text": [
      "Feature Importances:\n",
      " NetIncomeLoss_1                                                     0.234740\n",
      "GainLossOnInvestments_1                                             0.032867\n",
      "EarningsPerShareBasic_1                                             0.029561\n",
      "OperatingExpenses_1                                                 0.027056\n",
      "OperatingExpenses                                                   0.026986\n",
      "StockRedeemedOrCalledDuringPeriodValue_1                            0.024976\n",
      "NetCashProvidedByUsedInOperatingActivities_1                        0.024240\n",
      "NetIncomeLoss                                                       0.024144\n",
      "SponsorFees_1                                                       0.023019\n",
      "UnrealizedGainLossOnInvestments_1                                   0.022047\n",
      "InterestIncomeOperating_1                                           0.021334\n",
      "InvestmentIncomeInterest                                            0.019158\n",
      "SponsorFees                                                         0.018553\n",
      "RealizedInvestmentGainsLosses                                       0.017980\n",
      "TradingGainsLosses_1                                                0.017944\n",
      "NetCashProvidedByUsedInFinancingActivities_1                        0.017901\n",
      "InterestIncomeOperating                                             0.015971\n",
      "StockRedeemedOrCalledDuringPeriodValue                              0.015388\n",
      "InvestmentIncomeInterest_1                                          0.015090\n",
      "NetCashProvidedByUsedInFinancingActivities                          0.015015\n",
      "PartnersCapitalAccountRedemptions_1                                 0.014897\n",
      "NetCashProvidedByUsedInOperatingActivities                          0.014650\n",
      "UnrealizedGainLossOnInvestments                                     0.014520\n",
      "CashAndCashEquivalentsPeriodIncreaseDecrease                        0.013892\n",
      "FloorBrokerageExchangeAndClearanceFees_1                            0.012728\n",
      "ProfessionalFees                                                    0.012638\n",
      "FloorBrokerageExchangeAndClearanceFees                              0.012323\n",
      "PartnersCapitalAccountContributions_1                               0.010981\n",
      "ManagementFeeExpense_1                                              0.010920\n",
      "Revenues_1                                                          0.010686\n",
      "StockIssuedDuringPeriodValueNewIssues                               0.010194\n",
      "ManagementFeeExpense                                                0.010110\n",
      "InvestmentIncomeNet_1                                               0.009997\n",
      "RealizedInvestmentGainsLosses_1                                     0.009945\n",
      "PartnersCapitalAccountRedemptions                                   0.009840\n",
      "NetCashProvidedByUsedInOperatingActivitiesContinuingOperations_1    0.009830\n",
      "InvestmentIncomeNet                                                 0.009405\n",
      "GainLossOnSaleOfInvestments_1                                       0.009326\n",
      "StockIssuedDuringPeriodValueNewIssues_1                             0.009185\n",
      "EarningsPerShareBasic                                               0.009088\n",
      "OperatingIncomeLoss_1                                               0.008909\n",
      "ProfessionalFees_1                                                  0.008687\n",
      "PartnersCapitalAccountContributions                                 0.008517\n",
      "CashAndCashEquivalentsPeriodIncreaseDecrease_1                      0.008378\n",
      "GainLossOnSaleOfCommodityContracts                                  0.007722\n",
      "UnrealizedGainLossOnCommodityContracts_1                            0.007417\n",
      "IncreaseDecreaseInPayablesToBrokerDealers_1                         0.007166\n",
      "Revenues                                                            0.007026\n",
      "IncreaseDecreaseInAccountsPayableRelatedParties_1                   0.006839\n",
      "OperatingIncomeLoss                                                 0.006711\n",
      "GainLossOnInvestments                                               0.006452\n",
      "NetCashProvidedByUsedInOperatingActivitiesContinuingOperations      0.006307\n",
      "GainLossOnSaleOfCommodityContracts_1                                0.006288\n",
      "TradingGainsLosses                                                  0.006185\n",
      "StockIssuedDuringPeriodSharesNewIssues                              0.005912\n",
      "UnrealizedGainLossOnCommodityContracts                              0.005323\n",
      "IncreaseDecreaseInPayablesToBrokerDealers                           0.005069\n",
      "GainLossOnSaleOfInvestments                                         0.004583\n",
      "IncreaseDecreaseInAccountsPayableRelatedParties                     0.003770\n",
      "StockIssuedDuringPeriodSharesNewIssues_1                            0.003611\n",
      "dtype: float64\n",
      "Training Accuracy: 0.7049180327868853\n",
      "Training ROC AUC: 0.7471424158171146\n",
      "Unseen Data Accuracy: 0.8045977011494253\n",
      "Unseen Data ROC AUC: 0.8714419978517725\n",
      "(0.0, (404, 61))\n"
     ]
    },
    {
     "name": "stderr",
     "output_type": "stream",
     "text": [
      "/var/folders/rg/tjzq_l195rgdqwr9j37d24n00000gn/T/ipykernel_59145/726984327.py:15: FutureWarning: The frame.append method is deprecated and will be removed from pandas in a future version. Use pandas.concat instead.\n",
      "  results_df = results_df.append({\n"
     ]
    },
    {
     "name": "stdout",
     "output_type": "stream",
     "text": [
      "Feature Importances:\n",
      " NetIncomeLoss_1                                                                                                   0.056922\n",
      "IncomeLossFromContinuingOperationsBeforeIncomeTaxesExtraordinaryItemsNoncontrollingInterest_1                     0.024688\n",
      "EarningsPerShareBasic_1                                                                                           0.018854\n",
      "CashAndCashEquivalentsPeriodIncreaseDecrease                                                                      0.018695\n",
      "NetIncomeLossAvailableToCommonStockholdersBasic_1                                                                 0.015660\n",
      "                                                                                                                    ...   \n",
      "NumberOfReportableSegments_1                                                                                      0.000000\n",
      "DefinedContributionPlanCostRecognized                                                                             0.000000\n",
      "EffectiveIncomeTaxRateReconciliationOtherAdjustments_1                                                            0.000000\n",
      "ShareBasedCompensationArrangementsByShareBasedPaymentAwardOptionsExercisesInPeriodWeightedAverageExercisePrice    0.000000\n",
      "StockIssuedDuringPeriodSharesStockOptionsExercised                                                                0.000000\n",
      "Length: 234, dtype: float64\n",
      "Training Accuracy: 0.65\n",
      "Training ROC AUC: 0.6510180995475112\n",
      "Unseen Data Accuracy: 0.6235294117647059\n",
      "Unseen Data ROC AUC: 0.7255306603773586\n",
      "(0.0, (198, 235))\n"
     ]
    },
    {
     "name": "stderr",
     "output_type": "stream",
     "text": [
      "/var/folders/rg/tjzq_l195rgdqwr9j37d24n00000gn/T/ipykernel_59145/726984327.py:15: FutureWarning: The frame.append method is deprecated and will be removed from pandas in a future version. Use pandas.concat instead.\n",
      "  results_df = results_df.append({\n"
     ]
    },
    {
     "name": "stdout",
     "output_type": "stream",
     "text": [
      "Feature Importances:\n",
      " EarningsPerShareBasic_1                              0.051213\n",
      "EarningsPerShareDiluted_1                            0.045908\n",
      "NetIncomeLoss_1                                      0.035528\n",
      "InterestPaidNet                                      0.017976\n",
      "NetIncomeLossAvailableToCommonStockholdersBasic_1    0.012441\n",
      "                                                       ...   \n",
      "GoodwillAcquiredDuringPeriod                         0.000152\n",
      "GoodwillImpairmentLoss_1                             0.000084\n",
      "NumberOfReportableSegments                           0.000000\n",
      "GoodwillImpairmentLoss                               0.000000\n",
      "NumberOfReportableSegments_1                         0.000000\n",
      "Length: 384, dtype: float64\n",
      "Training Accuracy: 0.7727272727272727\n",
      "Training ROC AUC: 0.861111111111111\n",
      "Unseen Data Accuracy: 0.7720848056537103\n",
      "Unseen Data ROC AUC: 0.8766389874338882\n",
      "(0.0, (1320, 385))\n"
     ]
    },
    {
     "name": "stderr",
     "output_type": "stream",
     "text": [
      "/var/folders/rg/tjzq_l195rgdqwr9j37d24n00000gn/T/ipykernel_59145/726984327.py:15: FutureWarning: The frame.append method is deprecated and will be removed from pandas in a future version. Use pandas.concat instead.\n",
      "  results_df = results_df.append({\n"
     ]
    },
    {
     "name": "stdout",
     "output_type": "stream",
     "text": [
      "Feature Importances:\n",
      " NetIncomeLoss_1                                                        0.093943\n",
      "OperatingExpenses_1                                                    0.036948\n",
      "GeneralAndAdministrativeExpense_1                                      0.028912\n",
      "CashAndCashEquivalentsPeriodIncreaseDecrease_1                         0.025115\n",
      "NetCashProvidedByUsedInFinancingActivities_1                           0.024798\n",
      "                                                                         ...   \n",
      "IncomeTaxExpenseBenefit                                                0.001864\n",
      "EffectiveIncomeTaxRateReconciliationAtFederalStatutoryIncomeTaxRate    0.001750\n",
      "IncomeTaxesPaid_1                                                      0.001419\n",
      "GainsLossesOnExtinguishmentOfDebt                                      0.001237\n",
      "IncomeTaxesPaid                                                        0.000331\n",
      "Length: 88, dtype: float64\n",
      "Training Accuracy: 0.6868686868686869\n",
      "Training ROC AUC: 0.6652892561983471\n",
      "Unseen Data Accuracy: 0.6971830985915493\n",
      "Unseen Data ROC AUC: 0.7516835016835017\n",
      "(0.0, (329, 89))\n"
     ]
    },
    {
     "name": "stderr",
     "output_type": "stream",
     "text": [
      "/var/folders/rg/tjzq_l195rgdqwr9j37d24n00000gn/T/ipykernel_59145/726984327.py:15: FutureWarning: The frame.append method is deprecated and will be removed from pandas in a future version. Use pandas.concat instead.\n",
      "  results_df = results_df.append({\n"
     ]
    },
    {
     "name": "stdout",
     "output_type": "stream",
     "text": [
      "Feature Importances:\n",
      " NetIncomeLoss_1                                                                          0.033795\n",
      "OperatingIncomeLoss_1                                                                    0.020397\n",
      "ProvisionForDoubtfulAccounts                                                             0.019822\n",
      "CashAndCashEquivalentsPeriodIncreaseDecrease                                             0.019600\n",
      "NetCashProvidedByUsedInFinancingActivities_1                                             0.019599\n",
      "                                                                                           ...   \n",
      "ShareBasedCompensationArrangementByShareBasedPaymentAwardOptionsGrantsInPeriodGross_1    0.001475\n",
      "IncomeTaxReconciliationStateAndLocalIncomeTaxes                                          0.001266\n",
      "IncreaseDecreaseInDeferredRevenue                                                        0.001229\n",
      "DeferredForeignIncomeTaxExpenseBenefit_1                                                 0.000723\n",
      "PaymentsToAcquireBusinessesNetOfCashAcquired                                             0.000680\n",
      "Length: 150, dtype: float64\n",
      "Training Accuracy: 0.7472527472527473\n",
      "Training ROC AUC: 0.7366898148148149\n",
      "Unseen Data Accuracy: 0.6076923076923076\n",
      "Unseen Data ROC AUC: 0.6312178387650086\n",
      "(0.0, (302, 151))\n"
     ]
    },
    {
     "name": "stderr",
     "output_type": "stream",
     "text": [
      "/var/folders/rg/tjzq_l195rgdqwr9j37d24n00000gn/T/ipykernel_59145/726984327.py:15: FutureWarning: The frame.append method is deprecated and will be removed from pandas in a future version. Use pandas.concat instead.\n",
      "  results_df = results_df.append({\n"
     ]
    },
    {
     "name": "stdout",
     "output_type": "stream",
     "text": [
      "Feature Importances:\n",
      " NetIncomeLoss_1                                                                                                  0.037840\n",
      "EarningsPerShareDiluted_1                                                                                        0.035027\n",
      "EarningsPerShareBasic_1                                                                                          0.032683\n",
      "IncomeLossFromContinuingOperationsBeforeIncomeTaxesMinorityInterestAndIncomeLossFromEquityMethodInvestments_1    0.019042\n",
      "InterestExpenseDeposits                                                                                          0.013416\n",
      "                                                                                                                   ...   \n",
      "NumberOfReportableSegments                                                                                       0.000080\n",
      "GoodwillImpairmentLoss                                                                                           0.000075\n",
      "DefinedContributionPlanEmployerMatchingContributionPercent                                                       0.000000\n",
      "NumberOfOperatingSegments_1                                                                                      0.000000\n",
      "NumberOfReportableSegments_1                                                                                     0.000000\n",
      "Length: 436, dtype: float64\n",
      "Training Accuracy: 0.7524752475247525\n",
      "Training ROC AUC: 0.7795231729055259\n",
      "Unseen Data Accuracy: 0.7569444444444444\n",
      "Unseen Data ROC AUC: 0.837201608388049\n",
      "(0.0, (672, 437))\n"
     ]
    },
    {
     "name": "stderr",
     "output_type": "stream",
     "text": [
      "/var/folders/rg/tjzq_l195rgdqwr9j37d24n00000gn/T/ipykernel_59145/726984327.py:15: FutureWarning: The frame.append method is deprecated and will be removed from pandas in a future version. Use pandas.concat instead.\n",
      "  results_df = results_df.append({\n"
     ]
    },
    {
     "name": "stdout",
     "output_type": "stream",
     "text": [
      "Feature Importances:\n",
      " NetIncomeLoss_1                                                                                                   0.035535\n",
      "EarningsPerShareBasic_1                                                                                           0.030892\n",
      "EarningsPerShareDiluted_1                                                                                         0.023215\n",
      "IncomeTaxReconciliationIncomeTaxExpenseBenefitAtFederalStatutoryIncomeTaxRate_1                                   0.013914\n",
      "FederalDepositInsuranceCorporationPremiumExpense                                                                  0.012865\n",
      "                                                                                                                    ...   \n",
      "CashCashEquivalentsRestrictedCashAndRestrictedCashEquivalentsPeriodIncreaseDecreaseIncludingExchangeRateEffect    0.000216\n",
      "ProfitLoss                                                                                                        0.000187\n",
      "GainLossOnSaleOfPropertyPlantEquipment_1                                                                          0.000158\n",
      "DefinedContributionPlanEmployerMatchingContributionPercent                                                        0.000155\n",
      "DepreciationNonproduction_1                                                                                       0.000125\n",
      "Length: 364, dtype: float64\n",
      "Training Accuracy: 0.6416666666666667\n",
      "Training ROC AUC: 0.7464747356051703\n",
      "Unseen Data Accuracy: 0.631578947368421\n",
      "Unseen Data ROC AUC: 0.6820239485981309\n",
      "(0.0, (399, 365))\n"
     ]
    },
    {
     "name": "stderr",
     "output_type": "stream",
     "text": [
      "/var/folders/rg/tjzq_l195rgdqwr9j37d24n00000gn/T/ipykernel_59145/726984327.py:15: FutureWarning: The frame.append method is deprecated and will be removed from pandas in a future version. Use pandas.concat instead.\n",
      "  results_df = results_df.append({\n"
     ]
    },
    {
     "name": "stdout",
     "output_type": "stream",
     "text": [
      "Feature Importances:\n",
      " NetIncomeLoss_1                                                                                        0.058221\n",
      "ComprehensiveIncomeNetOfTax_1                                                                          0.024588\n",
      "ProfitLoss_1                                                                                           0.022588\n",
      "OperatingIncomeLoss_1                                                                                  0.020053\n",
      "IncomeLossFromContinuingOperationsBeforeIncomeTaxesExtraordinaryItemsNoncontrollingInterest_1          0.018727\n",
      "                                                                                                         ...   \n",
      "ImpairmentOfLongLivedAssetsHeldForUse_1                                                                0.000000\n",
      "NumberOfReportableSegments                                                                             0.000000\n",
      "NumberOfReportableSegments_1                                                                           0.000000\n",
      "PaymentsOfDebtIssuanceCosts                                                                            0.000000\n",
      "ShareBasedCompensationArrangementByShareBasedPaymentAwardFairValueAssumptionsExpectedDividendRate_1    0.000000\n",
      "Length: 264, dtype: float64\n",
      "Training Accuracy: 0.711340206185567\n",
      "Training ROC AUC: 0.7855769230769231\n",
      "Unseen Data Accuracy: 0.5971223021582733\n",
      "Unseen Data ROC AUC: 0.6462765957446809\n",
      "(0.0, (322, 265))\n"
     ]
    },
    {
     "name": "stderr",
     "output_type": "stream",
     "text": [
      "/var/folders/rg/tjzq_l195rgdqwr9j37d24n00000gn/T/ipykernel_59145/726984327.py:15: FutureWarning: The frame.append method is deprecated and will be removed from pandas in a future version. Use pandas.concat instead.\n",
      "  results_df = results_df.append({\n"
     ]
    },
    {
     "name": "stdout",
     "output_type": "stream",
     "text": [
      "Feature Importances:\n",
      " NetIncomeLoss_1                                                                    0.101120\n",
      "EarningsPerShareDiluted_1                                                          0.049801\n",
      "IncomeTaxReconciliationIncomeTaxExpenseBenefitAtFederalStatutoryIncomeTaxRate_1    0.026234\n",
      "EarningsPerShareBasic_1                                                            0.025502\n",
      "OperatingIncomeLoss_1                                                              0.024414\n",
      "                                                                                     ...   \n",
      "InterestCostsCapitalized_1                                                         0.000760\n",
      "UnrealizedGainLossOnDerivatives                                                    0.000722\n",
      "AccretionOfDiscount_1                                                              0.000654\n",
      "IncomeTaxesPaid_1                                                                  0.000605\n",
      "InterestCostsCapitalized                                                           0.000399\n",
      "Length: 212, dtype: float64\n",
      "Training Accuracy: 0.753731343283582\n",
      "Training ROC AUC: 0.7906565656565657\n",
      "Unseen Data Accuracy: 0.7708333333333334\n",
      "Unseen Data ROC AUC: 0.8396598365373547\n",
      "(0.0, (893, 213))\n"
     ]
    },
    {
     "name": "stderr",
     "output_type": "stream",
     "text": [
      "/var/folders/rg/tjzq_l195rgdqwr9j37d24n00000gn/T/ipykernel_59145/726984327.py:15: FutureWarning: The frame.append method is deprecated and will be removed from pandas in a future version. Use pandas.concat instead.\n",
      "  results_df = results_df.append({\n"
     ]
    },
    {
     "name": "stdout",
     "output_type": "stream",
     "text": [
      "Feature Importances:\n",
      " NetIncomeLoss_1                                                                                  0.049840\n",
      "EarningsPerShareDiluted_1                                                                        0.028051\n",
      "EarningsPerShareBasic_1                                                                          0.022549\n",
      "IncomeLossFromContinuingOperationsBeforeIncomeTaxesExtraordinaryItemsNoncontrollingInterest_1    0.018259\n",
      "IncreaseDecreaseInLiabilityForClaimsAndClaimsAdjustmentExpenseReserve_1                          0.011241\n",
      "                                                                                                   ...   \n",
      "UnrecognizedTaxBenefitsIncreasesResultingFromCurrentPeriodTaxPositions_1                         0.000085\n",
      "UnrecognizedTaxBenefitsIncreasesResultingFromPriorPeriodTaxPositions_1                           0.000037\n",
      "DebtSecuritiesAvailableForSaleRealizedLoss_1                                                     0.000000\n",
      "NumberOfOperatingSegments_1                                                                      0.000000\n",
      "CommonStockDividendsPerShareCashPaid                                                             0.000000\n",
      "Length: 404, dtype: float64\n",
      "Training Accuracy: 0.6428571428571429\n",
      "Training ROC AUC: 0.6845661450924608\n",
      "Unseen Data Accuracy: 0.7\n",
      "Unseen Data ROC AUC: 0.7325868453535532\n",
      "(0.0, (372, 405))\n"
     ]
    },
    {
     "name": "stderr",
     "output_type": "stream",
     "text": [
      "/var/folders/rg/tjzq_l195rgdqwr9j37d24n00000gn/T/ipykernel_59145/726984327.py:15: FutureWarning: The frame.append method is deprecated and will be removed from pandas in a future version. Use pandas.concat instead.\n",
      "  results_df = results_df.append({\n"
     ]
    },
    {
     "name": "stdout",
     "output_type": "stream",
     "text": [
      "Feature Importances:\n",
      " NetIncomeLoss_1                                                                             0.054291\n",
      "OperatingIncomeLoss_1                                                                       0.029900\n",
      "IncomeTaxReconciliationIncomeTaxExpenseBenefitAtFederalStatutoryIncomeTaxRate_1             0.027159\n",
      "AntidilutiveSecuritiesExcludedFromComputationOfEarningsPerShareAmount_1                     0.018898\n",
      "GeneralAndAdministrativeExpense                                                             0.018365\n",
      "                                                                                              ...   \n",
      "NumberOfOperatingSegments                                                                   0.000000\n",
      "PaymentsForRepurchaseOfCommonStock                                                          0.000000\n",
      "NumberOfOperatingSegments_1                                                                 0.000000\n",
      "GoodwillAcquiredDuringPeriod                                                                0.000000\n",
      "OtherComprehensiveIncomeLossForeignCurrencyTransactionAndTranslationAdjustmentNetOfTax_1    0.000000\n",
      "Length: 210, dtype: float64\n",
      "Training Accuracy: 0.6842105263157895\n",
      "Training ROC AUC: 0.7723721590909091\n",
      "Unseen Data Accuracy: 0.6972477064220184\n",
      "Unseen Data ROC AUC: 0.6776315789473684\n",
      "(0.0, (252, 211))\n"
     ]
    },
    {
     "name": "stderr",
     "output_type": "stream",
     "text": [
      "/var/folders/rg/tjzq_l195rgdqwr9j37d24n00000gn/T/ipykernel_59145/726984327.py:15: FutureWarning: The frame.append method is deprecated and will be removed from pandas in a future version. Use pandas.concat instead.\n",
      "  results_df = results_df.append({\n"
     ]
    },
    {
     "name": "stdout",
     "output_type": "stream",
     "text": [
      "Feature Importances:\n",
      " NetIncomeLoss_1                                                                                  0.049705\n",
      "EarningsPerShareBasic_1                                                                          0.032918\n",
      "EarningsPerShareDiluted_1                                                                        0.022456\n",
      "IncomeLossFromContinuingOperationsBeforeIncomeTaxesExtraordinaryItemsNoncontrollingInterest_1    0.019853\n",
      "ComprehensiveIncomeNetOfTax_1                                                                    0.016801\n",
      "                                                                                                   ...   \n",
      "PaymentsOfDebtIssuanceCosts_1                                                                    0.000000\n",
      "NumberOfReportableSegments_1                                                                     0.000000\n",
      "NumberOfReportableSegments                                                                       0.000000\n",
      "NumberOfOperatingSegments                                                                        0.000000\n",
      "NumberOfOperatingSegments_1                                                                      0.000000\n",
      "Length: 280, dtype: float64\n",
      "Training Accuracy: 0.5945945945945946\n",
      "Training ROC AUC: 0.6932742054693274\n",
      "Unseen Data Accuracy: 0.7358490566037735\n",
      "Unseen Data ROC AUC: 0.8146533831465338\n",
      "(0.0, (246, 281))\n"
     ]
    },
    {
     "name": "stderr",
     "output_type": "stream",
     "text": [
      "/var/folders/rg/tjzq_l195rgdqwr9j37d24n00000gn/T/ipykernel_59145/726984327.py:15: FutureWarning: The frame.append method is deprecated and will be removed from pandas in a future version. Use pandas.concat instead.\n",
      "  results_df = results_df.append({\n"
     ]
    },
    {
     "name": "stdout",
     "output_type": "stream",
     "text": [
      "Feature Importances:\n",
      " NetIncomeLoss_1                                                                                        0.065221\n",
      "EarningsPerShareBasic_1                                                                                0.023519\n",
      "ComprehensiveIncomeNetOfTax_1                                                                          0.019225\n",
      "OperatingIncomeLoss_1                                                                                  0.016849\n",
      "EarningsPerShareBasicAndDiluted_1                                                                      0.016842\n",
      "                                                                                                         ...   \n",
      "ShareBasedCompensationArrangementByShareBasedPaymentAwardFairValueAssumptionsExpectedDividendRate      0.000502\n",
      "NumberOfReportableSegments                                                                             0.000436\n",
      "NumberOfOperatingSegments                                                                              0.000419\n",
      "ShareBasedCompensationArrangementByShareBasedPaymentAwardFairValueAssumptionsExpectedDividendRate_1    0.000265\n",
      "NumberOfReportableSegments_1                                                                           0.000000\n",
      "Length: 224, dtype: float64\n",
      "Training Accuracy: 0.7418032786885246\n",
      "Training ROC AUC: 0.7824675324675324\n",
      "Unseen Data Accuracy: 0.6925287356321839\n",
      "Unseen Data ROC AUC: 0.7543801363874802\n",
      "(0.0, (812, 225))\n"
     ]
    },
    {
     "name": "stderr",
     "output_type": "stream",
     "text": [
      "/var/folders/rg/tjzq_l195rgdqwr9j37d24n00000gn/T/ipykernel_59145/726984327.py:15: FutureWarning: The frame.append method is deprecated and will be removed from pandas in a future version. Use pandas.concat instead.\n",
      "  results_df = results_df.append({\n"
     ]
    },
    {
     "name": "stdout",
     "output_type": "stream",
     "text": [
      "Feature Importances:\n",
      " NetIncomeLoss_1                                                                                        0.064024\n",
      "ComprehensiveIncomeNetOfTax_1                                                                          0.022856\n",
      "EarningsPerShareBasic_1                                                                                0.017023\n",
      "IncomeLossFromContinuingOperationsBeforeIncomeTaxesExtraordinaryItemsNoncontrollingInterest_1          0.016016\n",
      "OperatingIncomeLoss_1                                                                                  0.015369\n",
      "                                                                                                         ...   \n",
      "NumberOfOperatingSegments_1                                                                            0.000249\n",
      "ShareBasedCompensationArrangementByShareBasedPaymentAwardFairValueAssumptionsExpectedDividendRate      0.000137\n",
      "GoodwillImpairmentLoss                                                                                 0.000114\n",
      "ShareBasedCompensationArrangementByShareBasedPaymentAwardFairValueAssumptionsExpectedDividendRate_1    0.000000\n",
      "NumberOfOperatingSegments                                                                              0.000000\n",
      "Length: 234, dtype: float64\n",
      "Training Accuracy: 0.6876404494382022\n",
      "Training ROC AUC: 0.7383442982456141\n",
      "Unseen Data Accuracy: 0.6771653543307087\n",
      "Unseen Data ROC AUC: 0.7233935088633994\n",
      "(0.0, (1481, 235))\n"
     ]
    },
    {
     "name": "stderr",
     "output_type": "stream",
     "text": [
      "/var/folders/rg/tjzq_l195rgdqwr9j37d24n00000gn/T/ipykernel_59145/726984327.py:15: FutureWarning: The frame.append method is deprecated and will be removed from pandas in a future version. Use pandas.concat instead.\n",
      "  results_df = results_df.append({\n"
     ]
    },
    {
     "name": "stdout",
     "output_type": "stream",
     "text": [
      "Feature Importances:\n",
      " NetIncomeLoss_1                                                                                        0.064387\n",
      "EarningsPerShareBasic_1                                                                                0.031910\n",
      "EarningsPerShareDiluted_1                                                                              0.020148\n",
      "IncomeLossFromContinuingOperationsBeforeIncomeTaxesExtraordinaryItemsNoncontrollingInterest_1          0.015103\n",
      "OperatingIncomeLoss_1                                                                                  0.013664\n",
      "                                                                                                         ...   \n",
      "NumberOfReportableSegments                                                                             0.000723\n",
      "NumberOfReportableSegments_1                                                                           0.000243\n",
      "ShareBasedCompensationArrangementByShareBasedPaymentAwardFairValueAssumptionsExpectedDividendRate_1    0.000229\n",
      "GoodwillImpairmentLoss                                                                                 0.000201\n",
      "ShareBasedCompensationArrangementByShareBasedPaymentAwardFairValueAssumptionsExpectedDividendRate      0.000061\n",
      "Length: 236, dtype: float64\n",
      "Training Accuracy: 0.6465863453815262\n",
      "Training ROC AUC: 0.6998316498316499\n",
      "Unseen Data Accuracy: 0.6414565826330533\n",
      "Unseen Data ROC AUC: 0.6921324629402965\n",
      "(0.0, (830, 237))\n"
     ]
    },
    {
     "name": "stderr",
     "output_type": "stream",
     "text": [
      "/var/folders/rg/tjzq_l195rgdqwr9j37d24n00000gn/T/ipykernel_59145/726984327.py:15: FutureWarning: The frame.append method is deprecated and will be removed from pandas in a future version. Use pandas.concat instead.\n",
      "  results_df = results_df.append({\n"
     ]
    },
    {
     "name": "stdout",
     "output_type": "stream",
     "text": [
      "Feature Importances:\n",
      " NetIncomeLoss_1                                                                                  0.043421\n",
      "ComprehensiveIncomeNetOfTax_1                                                                    0.032171\n",
      "IncomeLossFromContinuingOperationsBeforeIncomeTaxesExtraordinaryItemsNoncontrollingInterest_1    0.022543\n",
      "EarningsPerShareBasic_1                                                                          0.021014\n",
      "EarningsPerShareDiluted_1                                                                        0.018489\n",
      "                                                                                                   ...   \n",
      "DividendsCommonStock_1                                                                           0.000403\n",
      "UnrecognizedTaxBenefitsDecreasesResultingFromSettlementsWithTaxingAuthorities                    0.000399\n",
      "GainsLossesOnExtinguishmentOfDebt_1                                                              0.000165\n",
      "EffectiveIncomeTaxRateReconciliationAtFederalStatutoryIncomeTaxRate                              0.000000\n",
      "ProceedsFromMinorityShareholders_1                                                               0.000000\n",
      "Length: 256, dtype: float64\n",
      "Training Accuracy: 0.7195121951219512\n",
      "Training ROC AUC: 0.7326599326599325\n",
      "Unseen Data Accuracy: 0.6440677966101694\n",
      "Unseen Data ROC AUC: 0.751602564102564\n",
      "(0.0, (273, 257))\n"
     ]
    },
    {
     "name": "stderr",
     "output_type": "stream",
     "text": [
      "/var/folders/rg/tjzq_l195rgdqwr9j37d24n00000gn/T/ipykernel_59145/726984327.py:15: FutureWarning: The frame.append method is deprecated and will be removed from pandas in a future version. Use pandas.concat instead.\n",
      "  results_df = results_df.append({\n"
     ]
    },
    {
     "name": "stdout",
     "output_type": "stream",
     "text": [
      "Feature Importances:\n",
      " NetIncomeLoss_1                                                                                        0.042027\n",
      "ComprehensiveIncomeNetOfTax_1                                                                          0.031840\n",
      "EarningsPerShareDiluted_1                                                                              0.026586\n",
      "EarningsPerShareBasic_1                                                                                0.021542\n",
      "IncomeTaxReconciliationIncomeTaxExpenseBenefitAtFederalStatutoryIncomeTaxRate_1                        0.021283\n",
      "                                                                                                         ...   \n",
      "ShareBasedCompensationArrangementByShareBasedPaymentAwardFairValueAssumptionsExpectedDividendRate_1    0.000365\n",
      "NumberOfOperatingSegments                                                                              0.000157\n",
      "ProceedsFromIssuanceOfLongTermDebt                                                                     0.000101\n",
      "NumberOfReportableSegments                                                                             0.000000\n",
      "NumberOfOperatingSegments_1                                                                            0.000000\n",
      "Length: 294, dtype: float64\n",
      "Training Accuracy: 0.6910994764397905\n",
      "Training ROC AUC: 0.7426282795449268\n",
      "Unseen Data Accuracy: 0.6593406593406593\n",
      "Unseen Data ROC AUC: 0.6973290352291043\n",
      "(0.0, (636, 295))\n"
     ]
    },
    {
     "name": "stderr",
     "output_type": "stream",
     "text": [
      "/var/folders/rg/tjzq_l195rgdqwr9j37d24n00000gn/T/ipykernel_59145/726984327.py:15: FutureWarning: The frame.append method is deprecated and will be removed from pandas in a future version. Use pandas.concat instead.\n",
      "  results_df = results_df.append({\n"
     ]
    },
    {
     "name": "stdout",
     "output_type": "stream",
     "text": [
      "Feature Importances:\n",
      " NetIncomeLoss_1                                                                                        0.053991\n",
      "ProfitLoss_1                                                                                           0.021839\n",
      "OperatingIncomeLoss_1                                                                                  0.020917\n",
      "EarningsPerShareDiluted_1                                                                              0.020021\n",
      "IncomeTaxReconciliationIncomeTaxExpenseBenefitAtFederalStatutoryIncomeTaxRate_1                        0.018056\n",
      "                                                                                                         ...   \n",
      "PaymentsRelatedToTaxWithholdingForShareBasedCompensation                                               0.000351\n",
      "ShareBasedCompensationArrangementByShareBasedPaymentAwardFairValueAssumptionsExpectedDividendRate_1    0.000333\n",
      "NumberOfOperatingSegments_1                                                                            0.000236\n",
      "NumberOfReportableSegments_1                                                                           0.000000\n",
      "NumberOfReportableSegments                                                                             0.000000\n",
      "Length: 222, dtype: float64\n",
      "Training Accuracy: 0.673469387755102\n",
      "Training ROC AUC: 0.7278656126482214\n",
      "Unseen Data Accuracy: 0.7095238095238096\n",
      "Unseen Data ROC AUC: 0.7163634494809333\n",
      "(0.0, (490, 223))\n"
     ]
    },
    {
     "name": "stderr",
     "output_type": "stream",
     "text": [
      "/var/folders/rg/tjzq_l195rgdqwr9j37d24n00000gn/T/ipykernel_59145/726984327.py:15: FutureWarning: The frame.append method is deprecated and will be removed from pandas in a future version. Use pandas.concat instead.\n",
      "  results_df = results_df.append({\n"
     ]
    }
   ],
   "source": [
    "lvl1      = 'CIK'     #Level 1 index to pivot.\n",
    "lvl2      = 'Frame'   #Level 2 index to pivot. \n",
    "shifts    = 1       #Number of Shifts/Lags\n",
    "chunks    = 10        #Chunks to Divide\n",
    "threshold = 0.8       #Threshold of Missing Values in a column\n",
    "target    = f'NetIncomeLoss_{shifts}' #Target column make into target.\n",
    "test_size = 0.3       #Test split size for first round.\n",
    "results_df = pd.DataFrame(columns=['File', 'Train Accuracy', 'Train ROC AUC', 'Unseen Accuracy', 'Unseen ROC AUC','Shape'])\n",
    "for i in os.listdir('sics_merged'):\n",
    "    if i.endswith('.csv'):\n",
    "        df = pd.read_csv(f'sics_merged/{i}')\n",
    "        df_shape, train_accuracy, train_roc_auc, unseen_accuracy, unseen_roc_auc, feature_importances = everything_v2(df, lvl1, lvl2, shifts, chunks, threshold, target, test_size)\n",
    "        \n",
    "        # Append results to the dataframe\n",
    "        results_df = results_df.append({\n",
    "            'File': i,\n",
    "            'Train Accuracy': train_accuracy,\n",
    "            'Train ROC AUC': train_roc_auc,\n",
    "            'Unseen Accuracy': unseen_accuracy,\n",
    "            'Unseen ROC AUC': unseen_roc_auc,\n",
    "            'Shape': df_shape\n",
    "        }, ignore_index=True)\n",
    "results_df.to_csv('all_sics_result.csv',mode='w',index=False)"
   ]
  },
  {
   "cell_type": "markdown",
   "id": "9b06aa3c-a188-425f-bbaa-6b95db476727",
   "metadata": {
    "jp-MarkdownHeadingCollapsed": true,
    "tags": []
   },
   "source": [
    "# Single Company"
   ]
  },
  {
   "cell_type": "code",
   "execution_count": 2,
   "id": "cadf5c82-07ef-4ef0-a669-00dbd6d787fc",
   "metadata": {},
   "outputs": [],
   "source": [
    "import numpy as np\n",
    "\n",
    "def calculate_missing_quarters(df):\n",
    "    # Iterate over each CIK\n",
    "    for cik in df['CIK'].unique():\n",
    "        # Extract unique years from the 'Frame' column\n",
    "        years = df['Frame'].str.extract(r'(CY\\d{4})')[0].unique()\n",
    "        for year in years:\n",
    "            # Calculate the sum of known quarters for the current CIK and year\n",
    "            known_quarters_sum = df[(df['CIK'] == cik) & df['Frame'].str.startswith(year) & \n",
    "                                    (df['Frame'].str.len() > 6) & (~df['NetIncomeLoss'].isna())]['NetIncomeLoss'].sum()\n",
    "            # Define the annual frame\n",
    "            annual_frame = year\n",
    "            # Find the row for the annual data\n",
    "            annual_row = df[(df['CIK'] == cik) & (df['Frame'] == annual_frame)]\n",
    "            # Check if the annual row is not empty\n",
    "            if not annual_row.empty:\n",
    "                # Get the annual NetIncomeLoss value\n",
    "                annual_value = annual_row['NetIncomeLoss'].values[0]\n",
    "                # Count the number of missing values for the year\n",
    "                missing_count = df[(df['CIK'] == cik) & df['Frame'].str.startswith(year) & \n",
    "                                   (df['Frame'].str.len() > 6) & (df['NetIncomeLoss'].isna())].shape[0]\n",
    "                # If there is more than one missing value, skip to the next year\n",
    "                if missing_count > 1:\n",
    "                    continue\n",
    "                # Otherwise, iterate over each quarter\n",
    "                for quarter in ['Q1', 'Q2', 'Q3', 'Q4']:\n",
    "                    quarter_frame = year + quarter\n",
    "                    quarter_row = df[(df['CIK'] == cik) & (df['Frame'] == quarter_frame)]\n",
    "                    # Check if the quarter row is not empty and NetIncomeLoss is NaN\n",
    "                    if not quarter_row.empty and np.isnan(quarter_row['NetIncomeLoss'].values[0]):\n",
    "                        # Calculate the missing value for the quarter\n",
    "                        missing_value = annual_value - known_quarters_sum\n",
    "                        # Assign the missing value to the quarter's NetIncomeLoss\n",
    "                        df.loc[(df['CIK'] == cik) & (df['Frame'] == quarter_frame), 'NetIncomeLoss'] = missing_value\n",
    "    return df\n"
   ]
  },
  {
   "cell_type": "code",
   "execution_count": 68,
   "id": "95f08940-a742-4fd6-ba77-fbef84fcab01",
   "metadata": {},
   "outputs": [],
   "source": [
    "df = pd.read_csv('sics_merged/df_6199.csv')"
   ]
  },
  {
   "cell_type": "code",
   "execution_count": 69,
   "id": "a9365bbd-faf1-41b7-b616-c5444baa7fb1",
   "metadata": {},
   "outputs": [
    {
     "name": "stdout",
     "output_type": "stream",
     "text": [
      "(4368, 4486)\n",
      "(1399, 4486)\n",
      "0.32028388278388276\n"
     ]
    }
   ],
   "source": [
    "print(df.shape)\n",
    "print(df[df['NetIncomeLoss'].isna()].shape)\n",
    "print(df[df['NetIncomeLoss'].isna()].shape[0]/df.shape[0])"
   ]
  },
  {
   "cell_type": "code",
   "execution_count": 78,
   "id": "edf6171f-92ec-40e9-902d-f16912982fb6",
   "metadata": {},
   "outputs": [],
   "source": [
    "daf = chosen_frames(df)"
   ]
  },
  {
   "cell_type": "code",
   "execution_count": 79,
   "id": "a34fefbe-51f2-45b5-9ead-48a4749f3396",
   "metadata": {},
   "outputs": [
    {
     "name": "stdout",
     "output_type": "stream",
     "text": [
      "(3787, 4486)\n",
      "(1094, 4486)\n",
      "0.25045787545787546\n"
     ]
    }
   ],
   "source": [
    "print(daf.shape)\n",
    "print(daf[daf['NetIncomeLoss'].isna()].shape)\n",
    "print(daf[daf['NetIncomeLoss'].isna()].shape[0]/df.shape[0])"
   ]
  },
  {
   "cell_type": "code",
   "execution_count": 72,
   "id": "df569c44-301c-4dd7-b548-2c185015ed51",
   "metadata": {},
   "outputs": [],
   "source": [
    "df_filled = calculate_missing_quarters(daf)"
   ]
  },
  {
   "cell_type": "code",
   "execution_count": 89,
   "id": "2ae49a85-3a48-436d-98fd-16f07feb3f51",
   "metadata": {},
   "outputs": [
    {
     "name": "stdout",
     "output_type": "stream",
     "text": [
      "(3787, 4486)\n",
      "(569, 4486)\n",
      "0.13026556776556777\n"
     ]
    }
   ],
   "source": [
    "print(df_filled.shape)\n",
    "print(df_filled[df_filled['NetIncomeLoss'].isna()].shape)\n",
    "print(df_filled[df_filled['NetIncomeLoss'].isna()].shape[0]/df.shape[0])"
   ]
  },
  {
   "cell_type": "code",
   "execution_count": 81,
   "id": "df90403a-fa0b-436a-8c23-9135d9d01649",
   "metadata": {},
   "outputs": [],
   "source": [
    "daaf = daf[list(daf.columns[:7]) + ['NetIncomeLoss']]"
   ]
  },
  {
   "cell_type": "code",
   "execution_count": 85,
   "id": "d81d12a3-8625-41bc-87cc-3880dc0f267d",
   "metadata": {},
   "outputs": [
    {
     "name": "stderr",
     "output_type": "stream",
     "text": [
      "/var/folders/rg/tjzq_l195rgdqwr9j37d24n00000gn/T/ipykernel_69229/3594466094.py:1: SettingWithCopyWarning: \n",
      "A value is trying to be set on a copy of a slice from a DataFrame.\n",
      "Try using .loc[row_indexer,col_indexer] = value instead\n",
      "\n",
      "See the caveats in the documentation: https://pandas.pydata.org/pandas-docs/stable/user_guide/indexing.html#returning-a-view-versus-a-copy\n",
      "  daaf['Filled'] = df_filled['NetIncomeLoss']\n"
     ]
    }
   ],
   "source": [
    "daaf['Filled'] = df_filled['NetIncomeLoss']"
   ]
  },
  {
   "cell_type": "code",
   "execution_count": 88,
   "id": "0f314ab9-458d-4819-8532-e9584356186b",
   "metadata": {},
   "outputs": [],
   "source": [
    "daaf.to_csv('_data/netincome_6199_result.csv',mode='w',index=False)"
   ]
  },
  {
   "cell_type": "code",
   "execution_count": 86,
   "id": "bc63a973-98b8-499f-bc0b-215dc06c28d0",
   "metadata": {},
   "outputs": [
    {
     "name": "stdout",
     "output_type": "stream",
     "text": [
      "(3787, 4486)\n",
      "(1094, 9)\n",
      "0.25045787545787546\n"
     ]
    }
   ],
   "source": [
    "print(daf.shape)\n",
    "print(daaf[daaf['NetIncomeLoss'].isna()].shape)\n",
    "print(daaf[daaf['NetIncomeLoss'].isna()].shape[0]/df.shape[0])"
   ]
  },
  {
   "cell_type": "code",
   "execution_count": 87,
   "id": "ab6a391b-b3de-46e8-a916-0cf18dfb9b5d",
   "metadata": {},
   "outputs": [
    {
     "name": "stdout",
     "output_type": "stream",
     "text": [
      "(3787, 4486)\n",
      "(569, 9)\n",
      "0.13026556776556777\n"
     ]
    }
   ],
   "source": [
    "print(daf.shape)\n",
    "print(daaf[daaf['Filled'].isna()].shape)\n",
    "print(daaf[daaf['Filled'].isna()].shape[0]/df.shape[0])"
   ]
  },
  {
   "cell_type": "code",
   "execution_count": 91,
   "id": "69ed2883-179a-468e-9535-200f0136a1a0",
   "metadata": {},
   "outputs": [],
   "source": [
    "def everything_quarter(df,lvl1,lvl2,shift,chunk,threshold,target_shift,testsize):\n",
    "    df = chosen_frames(df)\n",
    "    na_maxed = na_max(df,threshold)\n",
    "    na_maxed = na_maxed.dropna(subset=['NetIncomeLoss'])\n",
    "    na_maxed = na_maxed.drop(['End',\t'EntityName',\t'FP',\t'Filed',\t'Form'],axis=1)\n",
    "    df_1 = percent_diff(na_maxed)\n",
    "    merged = process_in_chunks(df_1,lvl1,lvl2,shift,chunk)\n",
    "    df_targeted=target_dropna(merged,lvl1,lvl2,target_shift)\n",
    "    df_shuffled = df_targeted.sample(frac=1, random_state=42)\n",
    "    train_set, test_set = train_test_split(df_shuffled, test_size=testsize, random_state=42)\n",
    "    df = train_set\n",
    "    df2 = test_set\n",
    "    rf_model, train_accuracy, train_roc_auc = train_random_forest(df, 'target')\n",
    "    feature_importances = rf_model.feature_importances_\n",
    "    # Create a pandas series with the feature importances\n",
    "    importances = pd.Series(feature_importances, index=df.columns[:-1])  # assuming last column is 'target'\n",
    "    # Sort the feature importances in descending order\n",
    "    sorted_importances = importances.sort_values(ascending=False)\n",
    "\n",
    "    # Print the feature importances\n",
    "    print(\"Feature Importances:\\n\", sorted_importances)\n",
    "    save_model(rf_model, 'random_forest_classifier.joblib')\n",
    "    rf_model_loaded = load_model('random_forest_classifier.joblib')\n",
    "    unseen_accuracy, unseen_roc_auc = evaluate_model(rf_model_loaded, df2, 'target')\n",
    "    df_shape = df_info(df)\n",
    "    print(f\"Training Accuracy: {train_accuracy}\")\n",
    "    print(f\"Training ROC AUC: {train_roc_auc}\")\n",
    "    print(f\"Unseen Data Accuracy: {unseen_accuracy}\")\n",
    "    print(f\"Unseen Data ROC AUC: {unseen_roc_auc}\")\n",
    "    print(df_info(df))\n",
    "\n",
    "    return df_shape, train_accuracy, train_roc_auc, unseen_accuracy, unseen_roc_auc, sorted_importances"
   ]
  },
  {
   "cell_type": "code",
   "execution_count": 117,
   "id": "b2adfda4-6c31-4b17-a63d-f5438735f352",
   "metadata": {},
   "outputs": [],
   "source": [
    "def chosen_frames(df):\n",
    "    \n",
    "    chosen = [\n",
    "            \"CY2012Q1\", \"CY2012Q2\", \"CY2012Q3\", \"CY2012Q4\",\n",
    "            \"CY2013Q1\", \"CY2013Q2\", \"CY2013Q3\", \"CY2013Q4\",\n",
    "            \"CY2014Q1\", \"CY2014Q2\", \"CY2014Q3\", \"CY2014Q4\",\n",
    "            \"CY2015Q1\", \"CY2015Q2\", \"CY2015Q3\", \"CY2015Q4\",\n",
    "            \"CY2016Q1\", \"CY2016Q2\", \"CY2016Q3\", \"CY2016Q4\",\n",
    "            \"CY2017Q1\", \"CY2017Q2\", \"CY2017Q3\", \"CY2017Q4\",\n",
    "            \"CY2018Q1\", \"CY2018Q2\", \"CY2018Q3\", \"CY2018Q4\",\n",
    "            \"CY2019Q1\", \"CY2019Q2\", \"CY2019Q3\", \"CY2019Q4\",\n",
    "            \"CY2020Q1\", \"CY2020Q2\", \"CY2020Q3\", \"CY2020Q4\",\n",
    "            \"CY2021Q1\", \"CY2021Q2\", \"CY2021Q3\", \"CY2021Q4\",\n",
    "            \"CY2022Q1\", \"CY2022Q2\", \"CY2022Q3\", \"CY2022Q4\",\n",
    "            \"CY2023Q1\", \"CY2023Q2\", \"CY2023Q3\", \"CY2023Q4\"\n",
    "        ]\n",
    "    df = df[df['Frame'].isin(chosen)]\n",
    "    df = df.sort_values(['CIK','Frame'])\n",
    "\n",
    "    return df"
   ]
  },
  {
   "cell_type": "code",
   "execution_count": 115,
   "id": "63863699-e36c-4308-902e-207d89433c91",
   "metadata": {},
   "outputs": [
    {
     "data": {
      "text/html": [
       "<div>\n",
       "<style scoped>\n",
       "    .dataframe tbody tr th:only-of-type {\n",
       "        vertical-align: middle;\n",
       "    }\n",
       "\n",
       "    .dataframe tbody tr th {\n",
       "        vertical-align: top;\n",
       "    }\n",
       "\n",
       "    .dataframe thead th {\n",
       "        text-align: right;\n",
       "    }\n",
       "</style>\n",
       "<table border=\"1\" class=\"dataframe\">\n",
       "  <thead>\n",
       "    <tr style=\"text-align: right;\">\n",
       "      <th></th>\n",
       "      <th>CIK</th>\n",
       "      <th>EntityName</th>\n",
       "      <th>Form</th>\n",
       "      <th>FP</th>\n",
       "      <th>End</th>\n",
       "      <th>Filed</th>\n",
       "      <th>Frame</th>\n",
       "      <th>AccountsPayableOtherCurrent</th>\n",
       "      <th>AccountsPayableRelatedPartiesCurrent</th>\n",
       "      <th>AccountsPayableTradeCurrent</th>\n",
       "      <th>...</th>\n",
       "      <th>ProceedsFromSaleOfLandHeldforinvestment</th>\n",
       "      <th>ProceedsFromSecuredLinesOfCredit</th>\n",
       "      <th>InterestRateDerivativeLiabilitiesAtFairValue</th>\n",
       "      <th>DistributionMadeToMemberOrLimitedPartnerDistributionsPaidPerUnit</th>\n",
       "      <th>PaymentsForProceedsFromDerivativeInstrumentFinancingActivities</th>\n",
       "      <th>ProceedsFromPaymentsForDepositsAppliedToDebtRetirements</th>\n",
       "      <th>ProceedsFromSaleOfInterestInPartnershipUnit</th>\n",
       "      <th>ProceedsFromSaleOfInterestInCorporateUnit</th>\n",
       "      <th>GainLossOnSalesOfMortgageBackedSecuritiesMBS</th>\n",
       "      <th>ProceedsFromSaleOfLandHeldForUse</th>\n",
       "    </tr>\n",
       "  </thead>\n",
       "  <tbody>\n",
       "    <tr>\n",
       "      <th>518</th>\n",
       "      <td>4962</td>\n",
       "      <td>AMERICAN EXPRESS COMPANY</td>\n",
       "      <td>10-K</td>\n",
       "      <td>FY</td>\n",
       "      <td>2012-12-31</td>\n",
       "      <td>2015-02-24</td>\n",
       "      <td>CY2012</td>\n",
       "      <td>NaN</td>\n",
       "      <td>NaN</td>\n",
       "      <td>NaN</td>\n",
       "      <td>...</td>\n",
       "      <td>NaN</td>\n",
       "      <td>NaN</td>\n",
       "      <td>NaN</td>\n",
       "      <td>NaN</td>\n",
       "      <td>NaN</td>\n",
       "      <td>NaN</td>\n",
       "      <td>NaN</td>\n",
       "      <td>NaN</td>\n",
       "      <td>NaN</td>\n",
       "      <td>NaN</td>\n",
       "    </tr>\n",
       "    <tr>\n",
       "      <th>466</th>\n",
       "      <td>4962</td>\n",
       "      <td>AMERICAN EXPRESS COMPANY</td>\n",
       "      <td>10-Q</td>\n",
       "      <td>Q1</td>\n",
       "      <td>2012-03-31</td>\n",
       "      <td>2013-04-29</td>\n",
       "      <td>CY2012Q1</td>\n",
       "      <td>NaN</td>\n",
       "      <td>NaN</td>\n",
       "      <td>NaN</td>\n",
       "      <td>...</td>\n",
       "      <td>NaN</td>\n",
       "      <td>NaN</td>\n",
       "      <td>NaN</td>\n",
       "      <td>NaN</td>\n",
       "      <td>NaN</td>\n",
       "      <td>NaN</td>\n",
       "      <td>NaN</td>\n",
       "      <td>NaN</td>\n",
       "      <td>NaN</td>\n",
       "      <td>NaN</td>\n",
       "    </tr>\n",
       "    <tr>\n",
       "      <th>467</th>\n",
       "      <td>4962</td>\n",
       "      <td>AMERICAN EXPRESS COMPANY</td>\n",
       "      <td>10-Q</td>\n",
       "      <td>Q2</td>\n",
       "      <td>2012-06-30</td>\n",
       "      <td>2013-07-29</td>\n",
       "      <td>CY2012Q2</td>\n",
       "      <td>NaN</td>\n",
       "      <td>NaN</td>\n",
       "      <td>NaN</td>\n",
       "      <td>...</td>\n",
       "      <td>NaN</td>\n",
       "      <td>NaN</td>\n",
       "      <td>NaN</td>\n",
       "      <td>NaN</td>\n",
       "      <td>NaN</td>\n",
       "      <td>NaN</td>\n",
       "      <td>NaN</td>\n",
       "      <td>NaN</td>\n",
       "      <td>NaN</td>\n",
       "      <td>NaN</td>\n",
       "    </tr>\n",
       "    <tr>\n",
       "      <th>468</th>\n",
       "      <td>4962</td>\n",
       "      <td>AMERICAN EXPRESS COMPANY</td>\n",
       "      <td>10-Q</td>\n",
       "      <td>Q3</td>\n",
       "      <td>2012-09-30</td>\n",
       "      <td>2013-10-29</td>\n",
       "      <td>CY2012Q3</td>\n",
       "      <td>NaN</td>\n",
       "      <td>NaN</td>\n",
       "      <td>NaN</td>\n",
       "      <td>...</td>\n",
       "      <td>NaN</td>\n",
       "      <td>NaN</td>\n",
       "      <td>NaN</td>\n",
       "      <td>NaN</td>\n",
       "      <td>NaN</td>\n",
       "      <td>NaN</td>\n",
       "      <td>NaN</td>\n",
       "      <td>NaN</td>\n",
       "      <td>NaN</td>\n",
       "      <td>NaN</td>\n",
       "    </tr>\n",
       "    <tr>\n",
       "      <th>469</th>\n",
       "      <td>4962</td>\n",
       "      <td>AMERICAN EXPRESS COMPANY</td>\n",
       "      <td>10-K</td>\n",
       "      <td>FY</td>\n",
       "      <td>2012-12-31</td>\n",
       "      <td>2015-02-24</td>\n",
       "      <td>CY2012Q4</td>\n",
       "      <td>NaN</td>\n",
       "      <td>NaN</td>\n",
       "      <td>NaN</td>\n",
       "      <td>...</td>\n",
       "      <td>NaN</td>\n",
       "      <td>NaN</td>\n",
       "      <td>NaN</td>\n",
       "      <td>NaN</td>\n",
       "      <td>NaN</td>\n",
       "      <td>NaN</td>\n",
       "      <td>NaN</td>\n",
       "      <td>NaN</td>\n",
       "      <td>NaN</td>\n",
       "      <td>NaN</td>\n",
       "    </tr>\n",
       "    <tr>\n",
       "      <th>...</th>\n",
       "      <td>...</td>\n",
       "      <td>...</td>\n",
       "      <td>...</td>\n",
       "      <td>...</td>\n",
       "      <td>...</td>\n",
       "      <td>...</td>\n",
       "      <td>...</td>\n",
       "      <td>...</td>\n",
       "      <td>...</td>\n",
       "      <td>...</td>\n",
       "      <td>...</td>\n",
       "      <td>...</td>\n",
       "      <td>...</td>\n",
       "      <td>...</td>\n",
       "      <td>...</td>\n",
       "      <td>...</td>\n",
       "      <td>...</td>\n",
       "      <td>...</td>\n",
       "      <td>...</td>\n",
       "      <td>...</td>\n",
       "      <td>...</td>\n",
       "    </tr>\n",
       "    <tr>\n",
       "      <th>4125</th>\n",
       "      <td>1975931</td>\n",
       "      <td>Bloom HoldCo LLC</td>\n",
       "      <td>10-K</td>\n",
       "      <td>FY</td>\n",
       "      <td>2022-09-30</td>\n",
       "      <td>2023-12-21</td>\n",
       "      <td>CY2022Q3</td>\n",
       "      <td>NaN</td>\n",
       "      <td>NaN</td>\n",
       "      <td>NaN</td>\n",
       "      <td>...</td>\n",
       "      <td>NaN</td>\n",
       "      <td>NaN</td>\n",
       "      <td>NaN</td>\n",
       "      <td>NaN</td>\n",
       "      <td>NaN</td>\n",
       "      <td>NaN</td>\n",
       "      <td>NaN</td>\n",
       "      <td>NaN</td>\n",
       "      <td>NaN</td>\n",
       "      <td>NaN</td>\n",
       "    </tr>\n",
       "    <tr>\n",
       "      <th>4131</th>\n",
       "      <td>1975931</td>\n",
       "      <td>Bloom HoldCo LLC</td>\n",
       "      <td>10-K</td>\n",
       "      <td>FY</td>\n",
       "      <td>2023-09-30</td>\n",
       "      <td>2023-12-21</td>\n",
       "      <td>CY2023</td>\n",
       "      <td>NaN</td>\n",
       "      <td>NaN</td>\n",
       "      <td>NaN</td>\n",
       "      <td>...</td>\n",
       "      <td>NaN</td>\n",
       "      <td>NaN</td>\n",
       "      <td>NaN</td>\n",
       "      <td>NaN</td>\n",
       "      <td>NaN</td>\n",
       "      <td>NaN</td>\n",
       "      <td>NaN</td>\n",
       "      <td>NaN</td>\n",
       "      <td>NaN</td>\n",
       "      <td>NaN</td>\n",
       "    </tr>\n",
       "    <tr>\n",
       "      <th>4134</th>\n",
       "      <td>1975931</td>\n",
       "      <td>Bloom HoldCo LLC</td>\n",
       "      <td>10-Q</td>\n",
       "      <td>Q3</td>\n",
       "      <td>2023-03-31</td>\n",
       "      <td>2023-09-19</td>\n",
       "      <td>CY2023Q1</td>\n",
       "      <td>NaN</td>\n",
       "      <td>NaN</td>\n",
       "      <td>NaN</td>\n",
       "      <td>...</td>\n",
       "      <td>NaN</td>\n",
       "      <td>NaN</td>\n",
       "      <td>NaN</td>\n",
       "      <td>NaN</td>\n",
       "      <td>NaN</td>\n",
       "      <td>NaN</td>\n",
       "      <td>NaN</td>\n",
       "      <td>NaN</td>\n",
       "      <td>NaN</td>\n",
       "      <td>NaN</td>\n",
       "    </tr>\n",
       "    <tr>\n",
       "      <th>4126</th>\n",
       "      <td>1975931</td>\n",
       "      <td>Bloom HoldCo LLC</td>\n",
       "      <td>10-Q</td>\n",
       "      <td>Q3</td>\n",
       "      <td>2023-06-30</td>\n",
       "      <td>2023-09-19</td>\n",
       "      <td>CY2023Q2</td>\n",
       "      <td>NaN</td>\n",
       "      <td>NaN</td>\n",
       "      <td>NaN</td>\n",
       "      <td>...</td>\n",
       "      <td>NaN</td>\n",
       "      <td>NaN</td>\n",
       "      <td>NaN</td>\n",
       "      <td>NaN</td>\n",
       "      <td>NaN</td>\n",
       "      <td>NaN</td>\n",
       "      <td>NaN</td>\n",
       "      <td>NaN</td>\n",
       "      <td>NaN</td>\n",
       "      <td>NaN</td>\n",
       "    </tr>\n",
       "    <tr>\n",
       "      <th>4127</th>\n",
       "      <td>1975931</td>\n",
       "      <td>Bloom HoldCo LLC</td>\n",
       "      <td>10-K</td>\n",
       "      <td>FY</td>\n",
       "      <td>2023-09-30</td>\n",
       "      <td>2023-12-21</td>\n",
       "      <td>CY2023Q3</td>\n",
       "      <td>NaN</td>\n",
       "      <td>NaN</td>\n",
       "      <td>NaN</td>\n",
       "      <td>...</td>\n",
       "      <td>NaN</td>\n",
       "      <td>NaN</td>\n",
       "      <td>NaN</td>\n",
       "      <td>NaN</td>\n",
       "      <td>NaN</td>\n",
       "      <td>NaN</td>\n",
       "      <td>NaN</td>\n",
       "      <td>NaN</td>\n",
       "      <td>NaN</td>\n",
       "      <td>NaN</td>\n",
       "    </tr>\n",
       "  </tbody>\n",
       "</table>\n",
       "<p>3787 rows × 4486 columns</p>\n",
       "</div>"
      ],
      "text/plain": [
       "          CIK                EntityName  Form  FP         End       Filed  \\\n",
       "518      4962  AMERICAN EXPRESS COMPANY  10-K  FY  2012-12-31  2015-02-24   \n",
       "466      4962  AMERICAN EXPRESS COMPANY  10-Q  Q1  2012-03-31  2013-04-29   \n",
       "467      4962  AMERICAN EXPRESS COMPANY  10-Q  Q2  2012-06-30  2013-07-29   \n",
       "468      4962  AMERICAN EXPRESS COMPANY  10-Q  Q3  2012-09-30  2013-10-29   \n",
       "469      4962  AMERICAN EXPRESS COMPANY  10-K  FY  2012-12-31  2015-02-24   \n",
       "...       ...                       ...   ...  ..         ...         ...   \n",
       "4125  1975931          Bloom HoldCo LLC  10-K  FY  2022-09-30  2023-12-21   \n",
       "4131  1975931          Bloom HoldCo LLC  10-K  FY  2023-09-30  2023-12-21   \n",
       "4134  1975931          Bloom HoldCo LLC  10-Q  Q3  2023-03-31  2023-09-19   \n",
       "4126  1975931          Bloom HoldCo LLC  10-Q  Q3  2023-06-30  2023-09-19   \n",
       "4127  1975931          Bloom HoldCo LLC  10-K  FY  2023-09-30  2023-12-21   \n",
       "\n",
       "         Frame  AccountsPayableOtherCurrent  \\\n",
       "518     CY2012                          NaN   \n",
       "466   CY2012Q1                          NaN   \n",
       "467   CY2012Q2                          NaN   \n",
       "468   CY2012Q3                          NaN   \n",
       "469   CY2012Q4                          NaN   \n",
       "...        ...                          ...   \n",
       "4125  CY2022Q3                          NaN   \n",
       "4131    CY2023                          NaN   \n",
       "4134  CY2023Q1                          NaN   \n",
       "4126  CY2023Q2                          NaN   \n",
       "4127  CY2023Q3                          NaN   \n",
       "\n",
       "      AccountsPayableRelatedPartiesCurrent  AccountsPayableTradeCurrent  ...  \\\n",
       "518                                    NaN                          NaN  ...   \n",
       "466                                    NaN                          NaN  ...   \n",
       "467                                    NaN                          NaN  ...   \n",
       "468                                    NaN                          NaN  ...   \n",
       "469                                    NaN                          NaN  ...   \n",
       "...                                    ...                          ...  ...   \n",
       "4125                                   NaN                          NaN  ...   \n",
       "4131                                   NaN                          NaN  ...   \n",
       "4134                                   NaN                          NaN  ...   \n",
       "4126                                   NaN                          NaN  ...   \n",
       "4127                                   NaN                          NaN  ...   \n",
       "\n",
       "      ProceedsFromSaleOfLandHeldforinvestment  \\\n",
       "518                                       NaN   \n",
       "466                                       NaN   \n",
       "467                                       NaN   \n",
       "468                                       NaN   \n",
       "469                                       NaN   \n",
       "...                                       ...   \n",
       "4125                                      NaN   \n",
       "4131                                      NaN   \n",
       "4134                                      NaN   \n",
       "4126                                      NaN   \n",
       "4127                                      NaN   \n",
       "\n",
       "      ProceedsFromSecuredLinesOfCredit  \\\n",
       "518                                NaN   \n",
       "466                                NaN   \n",
       "467                                NaN   \n",
       "468                                NaN   \n",
       "469                                NaN   \n",
       "...                                ...   \n",
       "4125                               NaN   \n",
       "4131                               NaN   \n",
       "4134                               NaN   \n",
       "4126                               NaN   \n",
       "4127                               NaN   \n",
       "\n",
       "      InterestRateDerivativeLiabilitiesAtFairValue  \\\n",
       "518                                            NaN   \n",
       "466                                            NaN   \n",
       "467                                            NaN   \n",
       "468                                            NaN   \n",
       "469                                            NaN   \n",
       "...                                            ...   \n",
       "4125                                           NaN   \n",
       "4131                                           NaN   \n",
       "4134                                           NaN   \n",
       "4126                                           NaN   \n",
       "4127                                           NaN   \n",
       "\n",
       "      DistributionMadeToMemberOrLimitedPartnerDistributionsPaidPerUnit  \\\n",
       "518                                                 NaN                  \n",
       "466                                                 NaN                  \n",
       "467                                                 NaN                  \n",
       "468                                                 NaN                  \n",
       "469                                                 NaN                  \n",
       "...                                                 ...                  \n",
       "4125                                                NaN                  \n",
       "4131                                                NaN                  \n",
       "4134                                                NaN                  \n",
       "4126                                                NaN                  \n",
       "4127                                                NaN                  \n",
       "\n",
       "      PaymentsForProceedsFromDerivativeInstrumentFinancingActivities  \\\n",
       "518                                                 NaN                \n",
       "466                                                 NaN                \n",
       "467                                                 NaN                \n",
       "468                                                 NaN                \n",
       "469                                                 NaN                \n",
       "...                                                 ...                \n",
       "4125                                                NaN                \n",
       "4131                                                NaN                \n",
       "4134                                                NaN                \n",
       "4126                                                NaN                \n",
       "4127                                                NaN                \n",
       "\n",
       "      ProceedsFromPaymentsForDepositsAppliedToDebtRetirements  \\\n",
       "518                                                 NaN         \n",
       "466                                                 NaN         \n",
       "467                                                 NaN         \n",
       "468                                                 NaN         \n",
       "469                                                 NaN         \n",
       "...                                                 ...         \n",
       "4125                                                NaN         \n",
       "4131                                                NaN         \n",
       "4134                                                NaN         \n",
       "4126                                                NaN         \n",
       "4127                                                NaN         \n",
       "\n",
       "      ProceedsFromSaleOfInterestInPartnershipUnit  \\\n",
       "518                                           NaN   \n",
       "466                                           NaN   \n",
       "467                                           NaN   \n",
       "468                                           NaN   \n",
       "469                                           NaN   \n",
       "...                                           ...   \n",
       "4125                                          NaN   \n",
       "4131                                          NaN   \n",
       "4134                                          NaN   \n",
       "4126                                          NaN   \n",
       "4127                                          NaN   \n",
       "\n",
       "      ProceedsFromSaleOfInterestInCorporateUnit  \\\n",
       "518                                         NaN   \n",
       "466                                         NaN   \n",
       "467                                         NaN   \n",
       "468                                         NaN   \n",
       "469                                         NaN   \n",
       "...                                         ...   \n",
       "4125                                        NaN   \n",
       "4131                                        NaN   \n",
       "4134                                        NaN   \n",
       "4126                                        NaN   \n",
       "4127                                        NaN   \n",
       "\n",
       "      GainLossOnSalesOfMortgageBackedSecuritiesMBS  \\\n",
       "518                                            NaN   \n",
       "466                                            NaN   \n",
       "467                                            NaN   \n",
       "468                                            NaN   \n",
       "469                                            NaN   \n",
       "...                                            ...   \n",
       "4125                                           NaN   \n",
       "4131                                           NaN   \n",
       "4134                                           NaN   \n",
       "4126                                           NaN   \n",
       "4127                                           NaN   \n",
       "\n",
       "      ProceedsFromSaleOfLandHeldForUse  \n",
       "518                                NaN  \n",
       "466                                NaN  \n",
       "467                                NaN  \n",
       "468                                NaN  \n",
       "469                                NaN  \n",
       "...                                ...  \n",
       "4125                               NaN  \n",
       "4131                               NaN  \n",
       "4134                               NaN  \n",
       "4126                               NaN  \n",
       "4127                               NaN  \n",
       "\n",
       "[3787 rows x 4486 columns]"
      ]
     },
     "execution_count": 115,
     "metadata": {},
     "output_type": "execute_result"
    }
   ],
   "source": [
    "df_filled"
   ]
  },
  {
   "cell_type": "code",
   "execution_count": 118,
   "id": "9ea4bf40-9a26-4a98-973b-802b71e5cb5d",
   "metadata": {},
   "outputs": [
    {
     "name": "stdout",
     "output_type": "stream",
     "text": [
      "Feature Importances:\n",
      " NetIncomeLoss_2                                                                                  0.132813\n",
      "EarningsPerShareBasic_2                                                                          0.022478\n",
      "EarningsPerShareDiluted_2                                                                        0.020415\n",
      "NetIncomeLoss_1                                                                                  0.014913\n",
      "IncomeLossFromContinuingOperationsBeforeIncomeTaxesExtraordinaryItemsNoncontrollingInterest_2    0.013881\n",
      "                                                                                                   ...   \n",
      "PreferredStockValue_1                                                                            0.000250\n",
      "PreferredStockSharesIssued_2                                                                     0.000216\n",
      "PreferredStockParOrStatedValuePerShare                                                           0.000210\n",
      "PreferredStockParOrStatedValuePerShare_2                                                         0.000163\n",
      "PreferredStockParOrStatedValuePerShare_1                                                         0.000096\n",
      "Length: 168, dtype: float64\n",
      "Training Accuracy: 0.7822222222222223\n",
      "Training ROC AUC: 0.8387039203632831\n",
      "Unseen Data Accuracy: 0.7169517884914464\n",
      "Unseen Data ROC AUC: 0.7945093341319757\n",
      "(0.0, (1500, 169))\n"
     ]
    }
   ],
   "source": [
    "lvl1      = 'CIK'     #Level 1 index to pivot.\n",
    "lvl2      = 'Frame'   #Level 2 index to pivot. \n",
    "shifts    = 2       #Number of Shifts/Lags\n",
    "chunks    = 10        #Chunks to Divide\n",
    "threshold = 0.8       #Threshold of Missing Values in a column\n",
    "target    = f'NetIncomeLoss_{shifts}' #Target column make into target.\n",
    "test_size = 0.3       #Test split size for first round.\n",
    "results_df = pd.DataFrame(columns=['File', 'Train Accuracy', 'Train ROC AUC', 'Unseen Accuracy', 'Unseen ROC AUC','Shape'])\n",
    "\n",
    "df_shape, train_accuracy, train_roc_auc, unseen_accuracy, unseen_roc_auc, feature_importances = everything_quarter(df_filled, lvl1, lvl2, shifts, chunks, threshold, target, test_size)\n"
   ]
  },
  {
   "cell_type": "code",
   "execution_count": 95,
   "id": "3729eea5-9a21-4954-ba63-c41fa96e341f",
   "metadata": {},
   "outputs": [],
   "source": [
    "df = chosen_frames(df_filled)"
   ]
  },
  {
   "cell_type": "code",
   "execution_count": 98,
   "id": "4b90ca8b-cdca-4c8a-928f-ea76e0043216",
   "metadata": {},
   "outputs": [],
   "source": [
    "na_maxed = na_max(df,0.8)"
   ]
  },
  {
   "cell_type": "code",
   "execution_count": 100,
   "id": "b79c8a48-f8bf-4c51-ab94-483936ee52c6",
   "metadata": {},
   "outputs": [],
   "source": [
    "na_maxed = na_maxed.dropna(subset=['NetIncomeLoss'])"
   ]
  },
  {
   "cell_type": "code",
   "execution_count": 102,
   "id": "cf993d28-3623-4c79-a76f-aa9671320857",
   "metadata": {},
   "outputs": [],
   "source": [
    "na_maxed = na_maxed.drop(['End',\t'EntityName',\t'FP',\t'Filed',\t'Form'],axis=1)"
   ]
  },
  {
   "cell_type": "code",
   "execution_count": 104,
   "id": "f8757b8e-a2e2-4769-86a0-9520de6450e0",
   "metadata": {},
   "outputs": [],
   "source": [
    "df_1 = percent_diff(na_maxed)"
   ]
  },
  {
   "cell_type": "code",
   "execution_count": 107,
   "id": "4ca02380-a826-43f6-890b-a65ba1b7ed8a",
   "metadata": {},
   "outputs": [],
   "source": [
    "merged = process_in_chunks(df_1,'CIK','Frame',2,10)"
   ]
  },
  {
   "cell_type": "code",
   "execution_count": 110,
   "id": "2d9d2508-860b-4a6f-9ec3-c911a87b3495",
   "metadata": {},
   "outputs": [],
   "source": [
    "df_targeted=target_dropna(merged,'CIK','Frame','NetIncomeLoss_2')"
   ]
  },
  {
   "cell_type": "code",
   "execution_count": 111,
   "id": "bedeeaae-bb77-4b2c-9c78-78f1a09a7e4d",
   "metadata": {},
   "outputs": [
    {
     "data": {
      "text/html": [
       "<div>\n",
       "<style scoped>\n",
       "    .dataframe tbody tr th:only-of-type {\n",
       "        vertical-align: middle;\n",
       "    }\n",
       "\n",
       "    .dataframe tbody tr th {\n",
       "        vertical-align: top;\n",
       "    }\n",
       "\n",
       "    .dataframe thead th {\n",
       "        text-align: right;\n",
       "    }\n",
       "</style>\n",
       "<table border=\"1\" class=\"dataframe\">\n",
       "  <thead>\n",
       "    <tr style=\"text-align: right;\">\n",
       "      <th></th>\n",
       "      <th>AccountsPayableCurrent</th>\n",
       "      <th>AccountsPayableCurrent_1</th>\n",
       "      <th>AccountsPayableCurrent_2</th>\n",
       "      <th>AccountsReceivableNetCurrent</th>\n",
       "      <th>AccountsReceivableNetCurrent_1</th>\n",
       "      <th>AccountsReceivableNetCurrent_2</th>\n",
       "      <th>AccruedLiabilitiesCurrent</th>\n",
       "      <th>AccruedLiabilitiesCurrent_1</th>\n",
       "      <th>AccruedLiabilitiesCurrent_2</th>\n",
       "      <th>AccumulatedDepreciationDepletionAndAmortizationPropertyPlantAndEquipment</th>\n",
       "      <th>...</th>\n",
       "      <th>WeightedAverageNumberOfDilutedSharesOutstanding</th>\n",
       "      <th>WeightedAverageNumberOfDilutedSharesOutstanding_1</th>\n",
       "      <th>WeightedAverageNumberOfDilutedSharesOutstanding_2</th>\n",
       "      <th>WeightedAverageNumberOfShareOutstandingBasicAndDiluted</th>\n",
       "      <th>WeightedAverageNumberOfShareOutstandingBasicAndDiluted_1</th>\n",
       "      <th>WeightedAverageNumberOfShareOutstandingBasicAndDiluted_2</th>\n",
       "      <th>WeightedAverageNumberOfSharesOutstandingBasic</th>\n",
       "      <th>WeightedAverageNumberOfSharesOutstandingBasic_1</th>\n",
       "      <th>WeightedAverageNumberOfSharesOutstandingBasic_2</th>\n",
       "      <th>target</th>\n",
       "    </tr>\n",
       "  </thead>\n",
       "  <tbody>\n",
       "    <tr>\n",
       "      <th>0</th>\n",
       "      <td>0.00</td>\n",
       "      <td>0.00</td>\n",
       "      <td>0.00</td>\n",
       "      <td>0.0</td>\n",
       "      <td>0.0</td>\n",
       "      <td>0.00</td>\n",
       "      <td>0.00</td>\n",
       "      <td>0.00</td>\n",
       "      <td>0.00</td>\n",
       "      <td>0.04</td>\n",
       "      <td>...</td>\n",
       "      <td>-0.02</td>\n",
       "      <td>0.00</td>\n",
       "      <td>0.00</td>\n",
       "      <td>0.0</td>\n",
       "      <td>0.0</td>\n",
       "      <td>0.0</td>\n",
       "      <td>-0.02</td>\n",
       "      <td>0.00</td>\n",
       "      <td>0.00</td>\n",
       "      <td>0</td>\n",
       "    </tr>\n",
       "    <tr>\n",
       "      <th>1</th>\n",
       "      <td>0.00</td>\n",
       "      <td>0.00</td>\n",
       "      <td>0.00</td>\n",
       "      <td>0.0</td>\n",
       "      <td>0.0</td>\n",
       "      <td>0.00</td>\n",
       "      <td>0.00</td>\n",
       "      <td>0.00</td>\n",
       "      <td>0.00</td>\n",
       "      <td>0.02</td>\n",
       "      <td>...</td>\n",
       "      <td>0.00</td>\n",
       "      <td>0.00</td>\n",
       "      <td>-0.01</td>\n",
       "      <td>0.0</td>\n",
       "      <td>0.0</td>\n",
       "      <td>0.0</td>\n",
       "      <td>0.00</td>\n",
       "      <td>0.00</td>\n",
       "      <td>-0.01</td>\n",
       "      <td>0</td>\n",
       "    </tr>\n",
       "    <tr>\n",
       "      <th>2</th>\n",
       "      <td>0.00</td>\n",
       "      <td>0.00</td>\n",
       "      <td>0.00</td>\n",
       "      <td>0.0</td>\n",
       "      <td>0.0</td>\n",
       "      <td>0.00</td>\n",
       "      <td>0.00</td>\n",
       "      <td>0.00</td>\n",
       "      <td>0.00</td>\n",
       "      <td>0.04</td>\n",
       "      <td>...</td>\n",
       "      <td>0.00</td>\n",
       "      <td>-0.01</td>\n",
       "      <td>-0.02</td>\n",
       "      <td>0.0</td>\n",
       "      <td>0.0</td>\n",
       "      <td>0.0</td>\n",
       "      <td>0.00</td>\n",
       "      <td>-0.01</td>\n",
       "      <td>-0.02</td>\n",
       "      <td>0</td>\n",
       "    </tr>\n",
       "    <tr>\n",
       "      <th>3</th>\n",
       "      <td>0.00</td>\n",
       "      <td>0.00</td>\n",
       "      <td>0.00</td>\n",
       "      <td>0.0</td>\n",
       "      <td>0.0</td>\n",
       "      <td>0.00</td>\n",
       "      <td>0.00</td>\n",
       "      <td>0.00</td>\n",
       "      <td>0.00</td>\n",
       "      <td>0.01</td>\n",
       "      <td>...</td>\n",
       "      <td>-0.01</td>\n",
       "      <td>-0.02</td>\n",
       "      <td>0.00</td>\n",
       "      <td>0.0</td>\n",
       "      <td>0.0</td>\n",
       "      <td>0.0</td>\n",
       "      <td>-0.01</td>\n",
       "      <td>-0.02</td>\n",
       "      <td>0.00</td>\n",
       "      <td>1</td>\n",
       "    </tr>\n",
       "    <tr>\n",
       "      <th>4</th>\n",
       "      <td>0.00</td>\n",
       "      <td>0.00</td>\n",
       "      <td>0.00</td>\n",
       "      <td>0.0</td>\n",
       "      <td>0.0</td>\n",
       "      <td>0.00</td>\n",
       "      <td>0.00</td>\n",
       "      <td>0.00</td>\n",
       "      <td>0.00</td>\n",
       "      <td>0.03</td>\n",
       "      <td>...</td>\n",
       "      <td>-0.02</td>\n",
       "      <td>0.00</td>\n",
       "      <td>0.00</td>\n",
       "      <td>0.0</td>\n",
       "      <td>0.0</td>\n",
       "      <td>0.0</td>\n",
       "      <td>-0.02</td>\n",
       "      <td>0.00</td>\n",
       "      <td>0.00</td>\n",
       "      <td>0</td>\n",
       "    </tr>\n",
       "    <tr>\n",
       "      <th>...</th>\n",
       "      <td>...</td>\n",
       "      <td>...</td>\n",
       "      <td>...</td>\n",
       "      <td>...</td>\n",
       "      <td>...</td>\n",
       "      <td>...</td>\n",
       "      <td>...</td>\n",
       "      <td>...</td>\n",
       "      <td>...</td>\n",
       "      <td>...</td>\n",
       "      <td>...</td>\n",
       "      <td>...</td>\n",
       "      <td>...</td>\n",
       "      <td>...</td>\n",
       "      <td>...</td>\n",
       "      <td>...</td>\n",
       "      <td>...</td>\n",
       "      <td>...</td>\n",
       "      <td>...</td>\n",
       "      <td>...</td>\n",
       "      <td>...</td>\n",
       "    </tr>\n",
       "    <tr>\n",
       "      <th>2357</th>\n",
       "      <td>5.57</td>\n",
       "      <td>-0.56</td>\n",
       "      <td>336.97</td>\n",
       "      <td>0.0</td>\n",
       "      <td>0.0</td>\n",
       "      <td>0.00</td>\n",
       "      <td>0.70</td>\n",
       "      <td>24.49</td>\n",
       "      <td>2.72</td>\n",
       "      <td>0.00</td>\n",
       "      <td>...</td>\n",
       "      <td>0.00</td>\n",
       "      <td>0.00</td>\n",
       "      <td>0.00</td>\n",
       "      <td>0.0</td>\n",
       "      <td>0.0</td>\n",
       "      <td>0.0</td>\n",
       "      <td>0.00</td>\n",
       "      <td>0.00</td>\n",
       "      <td>0.00</td>\n",
       "      <td>1</td>\n",
       "    </tr>\n",
       "    <tr>\n",
       "      <th>2358</th>\n",
       "      <td>-0.56</td>\n",
       "      <td>336.97</td>\n",
       "      <td>-0.97</td>\n",
       "      <td>0.0</td>\n",
       "      <td>0.0</td>\n",
       "      <td>0.00</td>\n",
       "      <td>24.49</td>\n",
       "      <td>2.72</td>\n",
       "      <td>-0.59</td>\n",
       "      <td>0.00</td>\n",
       "      <td>...</td>\n",
       "      <td>0.00</td>\n",
       "      <td>0.00</td>\n",
       "      <td>0.00</td>\n",
       "      <td>0.0</td>\n",
       "      <td>0.0</td>\n",
       "      <td>0.0</td>\n",
       "      <td>0.00</td>\n",
       "      <td>0.00</td>\n",
       "      <td>0.00</td>\n",
       "      <td>0</td>\n",
       "    </tr>\n",
       "    <tr>\n",
       "      <th>2359</th>\n",
       "      <td>336.97</td>\n",
       "      <td>-0.97</td>\n",
       "      <td>41.61</td>\n",
       "      <td>0.0</td>\n",
       "      <td>0.0</td>\n",
       "      <td>0.00</td>\n",
       "      <td>2.72</td>\n",
       "      <td>-0.59</td>\n",
       "      <td>4.18</td>\n",
       "      <td>0.00</td>\n",
       "      <td>...</td>\n",
       "      <td>0.00</td>\n",
       "      <td>0.00</td>\n",
       "      <td>0.00</td>\n",
       "      <td>0.0</td>\n",
       "      <td>0.0</td>\n",
       "      <td>0.0</td>\n",
       "      <td>0.00</td>\n",
       "      <td>0.00</td>\n",
       "      <td>0.00</td>\n",
       "      <td>1</td>\n",
       "    </tr>\n",
       "    <tr>\n",
       "      <th>2360</th>\n",
       "      <td>-0.97</td>\n",
       "      <td>41.61</td>\n",
       "      <td>-0.30</td>\n",
       "      <td>0.0</td>\n",
       "      <td>0.0</td>\n",
       "      <td>-0.71</td>\n",
       "      <td>-0.59</td>\n",
       "      <td>4.18</td>\n",
       "      <td>-0.03</td>\n",
       "      <td>0.00</td>\n",
       "      <td>...</td>\n",
       "      <td>0.00</td>\n",
       "      <td>0.00</td>\n",
       "      <td>0.00</td>\n",
       "      <td>0.0</td>\n",
       "      <td>0.0</td>\n",
       "      <td>0.0</td>\n",
       "      <td>0.00</td>\n",
       "      <td>0.00</td>\n",
       "      <td>0.00</td>\n",
       "      <td>0</td>\n",
       "    </tr>\n",
       "    <tr>\n",
       "      <th>2363</th>\n",
       "      <td>0.00</td>\n",
       "      <td>0.00</td>\n",
       "      <td>0.00</td>\n",
       "      <td>0.0</td>\n",
       "      <td>0.0</td>\n",
       "      <td>0.00</td>\n",
       "      <td>0.00</td>\n",
       "      <td>0.00</td>\n",
       "      <td>0.00</td>\n",
       "      <td>0.00</td>\n",
       "      <td>...</td>\n",
       "      <td>0.00</td>\n",
       "      <td>0.00</td>\n",
       "      <td>0.00</td>\n",
       "      <td>0.0</td>\n",
       "      <td>0.0</td>\n",
       "      <td>0.0</td>\n",
       "      <td>0.00</td>\n",
       "      <td>0.00</td>\n",
       "      <td>0.00</td>\n",
       "      <td>0</td>\n",
       "    </tr>\n",
       "  </tbody>\n",
       "</table>\n",
       "<p>2143 rows × 169 columns</p>\n",
       "</div>"
      ],
      "text/plain": [
       "      AccountsPayableCurrent  AccountsPayableCurrent_1  \\\n",
       "0                       0.00                      0.00   \n",
       "1                       0.00                      0.00   \n",
       "2                       0.00                      0.00   \n",
       "3                       0.00                      0.00   \n",
       "4                       0.00                      0.00   \n",
       "...                      ...                       ...   \n",
       "2357                    5.57                     -0.56   \n",
       "2358                   -0.56                    336.97   \n",
       "2359                  336.97                     -0.97   \n",
       "2360                   -0.97                     41.61   \n",
       "2363                    0.00                      0.00   \n",
       "\n",
       "      AccountsPayableCurrent_2  AccountsReceivableNetCurrent  \\\n",
       "0                         0.00                           0.0   \n",
       "1                         0.00                           0.0   \n",
       "2                         0.00                           0.0   \n",
       "3                         0.00                           0.0   \n",
       "4                         0.00                           0.0   \n",
       "...                        ...                           ...   \n",
       "2357                    336.97                           0.0   \n",
       "2358                     -0.97                           0.0   \n",
       "2359                     41.61                           0.0   \n",
       "2360                     -0.30                           0.0   \n",
       "2363                      0.00                           0.0   \n",
       "\n",
       "      AccountsReceivableNetCurrent_1  AccountsReceivableNetCurrent_2  \\\n",
       "0                                0.0                            0.00   \n",
       "1                                0.0                            0.00   \n",
       "2                                0.0                            0.00   \n",
       "3                                0.0                            0.00   \n",
       "4                                0.0                            0.00   \n",
       "...                              ...                             ...   \n",
       "2357                             0.0                            0.00   \n",
       "2358                             0.0                            0.00   \n",
       "2359                             0.0                            0.00   \n",
       "2360                             0.0                           -0.71   \n",
       "2363                             0.0                            0.00   \n",
       "\n",
       "      AccruedLiabilitiesCurrent  AccruedLiabilitiesCurrent_1  \\\n",
       "0                          0.00                         0.00   \n",
       "1                          0.00                         0.00   \n",
       "2                          0.00                         0.00   \n",
       "3                          0.00                         0.00   \n",
       "4                          0.00                         0.00   \n",
       "...                         ...                          ...   \n",
       "2357                       0.70                        24.49   \n",
       "2358                      24.49                         2.72   \n",
       "2359                       2.72                        -0.59   \n",
       "2360                      -0.59                         4.18   \n",
       "2363                       0.00                         0.00   \n",
       "\n",
       "      AccruedLiabilitiesCurrent_2  \\\n",
       "0                            0.00   \n",
       "1                            0.00   \n",
       "2                            0.00   \n",
       "3                            0.00   \n",
       "4                            0.00   \n",
       "...                           ...   \n",
       "2357                         2.72   \n",
       "2358                        -0.59   \n",
       "2359                         4.18   \n",
       "2360                        -0.03   \n",
       "2363                         0.00   \n",
       "\n",
       "      AccumulatedDepreciationDepletionAndAmortizationPropertyPlantAndEquipment  \\\n",
       "0                                                  0.04                          \n",
       "1                                                  0.02                          \n",
       "2                                                  0.04                          \n",
       "3                                                  0.01                          \n",
       "4                                                  0.03                          \n",
       "...                                                 ...                          \n",
       "2357                                               0.00                          \n",
       "2358                                               0.00                          \n",
       "2359                                               0.00                          \n",
       "2360                                               0.00                          \n",
       "2363                                               0.00                          \n",
       "\n",
       "      ...  WeightedAverageNumberOfDilutedSharesOutstanding  \\\n",
       "0     ...                                            -0.02   \n",
       "1     ...                                             0.00   \n",
       "2     ...                                             0.00   \n",
       "3     ...                                            -0.01   \n",
       "4     ...                                            -0.02   \n",
       "...   ...                                              ...   \n",
       "2357  ...                                             0.00   \n",
       "2358  ...                                             0.00   \n",
       "2359  ...                                             0.00   \n",
       "2360  ...                                             0.00   \n",
       "2363  ...                                             0.00   \n",
       "\n",
       "      WeightedAverageNumberOfDilutedSharesOutstanding_1  \\\n",
       "0                                                  0.00   \n",
       "1                                                  0.00   \n",
       "2                                                 -0.01   \n",
       "3                                                 -0.02   \n",
       "4                                                  0.00   \n",
       "...                                                 ...   \n",
       "2357                                               0.00   \n",
       "2358                                               0.00   \n",
       "2359                                               0.00   \n",
       "2360                                               0.00   \n",
       "2363                                               0.00   \n",
       "\n",
       "      WeightedAverageNumberOfDilutedSharesOutstanding_2  \\\n",
       "0                                                  0.00   \n",
       "1                                                 -0.01   \n",
       "2                                                 -0.02   \n",
       "3                                                  0.00   \n",
       "4                                                  0.00   \n",
       "...                                                 ...   \n",
       "2357                                               0.00   \n",
       "2358                                               0.00   \n",
       "2359                                               0.00   \n",
       "2360                                               0.00   \n",
       "2363                                               0.00   \n",
       "\n",
       "      WeightedAverageNumberOfShareOutstandingBasicAndDiluted  \\\n",
       "0                                                   0.0        \n",
       "1                                                   0.0        \n",
       "2                                                   0.0        \n",
       "3                                                   0.0        \n",
       "4                                                   0.0        \n",
       "...                                                 ...        \n",
       "2357                                                0.0        \n",
       "2358                                                0.0        \n",
       "2359                                                0.0        \n",
       "2360                                                0.0        \n",
       "2363                                                0.0        \n",
       "\n",
       "      WeightedAverageNumberOfShareOutstandingBasicAndDiluted_1  \\\n",
       "0                                                   0.0          \n",
       "1                                                   0.0          \n",
       "2                                                   0.0          \n",
       "3                                                   0.0          \n",
       "4                                                   0.0          \n",
       "...                                                 ...          \n",
       "2357                                                0.0          \n",
       "2358                                                0.0          \n",
       "2359                                                0.0          \n",
       "2360                                                0.0          \n",
       "2363                                                0.0          \n",
       "\n",
       "      WeightedAverageNumberOfShareOutstandingBasicAndDiluted_2  \\\n",
       "0                                                   0.0          \n",
       "1                                                   0.0          \n",
       "2                                                   0.0          \n",
       "3                                                   0.0          \n",
       "4                                                   0.0          \n",
       "...                                                 ...          \n",
       "2357                                                0.0          \n",
       "2358                                                0.0          \n",
       "2359                                                0.0          \n",
       "2360                                                0.0          \n",
       "2363                                                0.0          \n",
       "\n",
       "      WeightedAverageNumberOfSharesOutstandingBasic  \\\n",
       "0                                             -0.02   \n",
       "1                                              0.00   \n",
       "2                                              0.00   \n",
       "3                                             -0.01   \n",
       "4                                             -0.02   \n",
       "...                                             ...   \n",
       "2357                                           0.00   \n",
       "2358                                           0.00   \n",
       "2359                                           0.00   \n",
       "2360                                           0.00   \n",
       "2363                                           0.00   \n",
       "\n",
       "      WeightedAverageNumberOfSharesOutstandingBasic_1  \\\n",
       "0                                                0.00   \n",
       "1                                                0.00   \n",
       "2                                               -0.01   \n",
       "3                                               -0.02   \n",
       "4                                                0.00   \n",
       "...                                               ...   \n",
       "2357                                             0.00   \n",
       "2358                                             0.00   \n",
       "2359                                             0.00   \n",
       "2360                                             0.00   \n",
       "2363                                             0.00   \n",
       "\n",
       "      WeightedAverageNumberOfSharesOutstandingBasic_2  target  \n",
       "0                                                0.00       0  \n",
       "1                                               -0.01       0  \n",
       "2                                               -0.02       0  \n",
       "3                                                0.00       1  \n",
       "4                                                0.00       0  \n",
       "...                                               ...     ...  \n",
       "2357                                             0.00       1  \n",
       "2358                                             0.00       0  \n",
       "2359                                             0.00       1  \n",
       "2360                                             0.00       0  \n",
       "2363                                             0.00       0  \n",
       "\n",
       "[2143 rows x 169 columns]"
      ]
     },
     "execution_count": 111,
     "metadata": {},
     "output_type": "execute_result"
    }
   ],
   "source": [
    "df_targeted"
   ]
  },
  {
   "cell_type": "code",
   "execution_count": 113,
   "id": "75072418-cfee-4e6a-b126-9acb70ec31c9",
   "metadata": {},
   "outputs": [
    {
     "name": "stdout",
     "output_type": "stream",
     "text": [
      "Feature Importances:\n",
      " NetIncomeLoss_2                                                                                  0.132813\n",
      "EarningsPerShareBasic_2                                                                          0.022478\n",
      "EarningsPerShareDiluted_2                                                                        0.020415\n",
      "NetIncomeLoss_1                                                                                  0.014913\n",
      "IncomeLossFromContinuingOperationsBeforeIncomeTaxesExtraordinaryItemsNoncontrollingInterest_2    0.013881\n",
      "                                                                                                   ...   \n",
      "PreferredStockValue_1                                                                            0.000250\n",
      "PreferredStockSharesIssued_2                                                                     0.000216\n",
      "PreferredStockParOrStatedValuePerShare                                                           0.000210\n",
      "PreferredStockParOrStatedValuePerShare_2                                                         0.000163\n",
      "PreferredStockParOrStatedValuePerShare_1                                                         0.000096\n",
      "Length: 168, dtype: float64\n",
      "Training Accuracy: 0.7822222222222223\n",
      "Training ROC AUC: 0.8387039203632831\n",
      "Unseen Data Accuracy: 0.7169517884914464\n",
      "Unseen Data ROC AUC: 0.7945093341319757\n",
      "(0.0, (1500, 169))\n"
     ]
    }
   ],
   "source": [
    "df_shuffled = df_targeted.sample(frac=1, random_state=42)\n",
    "train_set, test_set = train_test_split(df_shuffled, test_size=0.3, random_state=42)\n",
    "df = train_set\n",
    "df2 = test_set\n",
    "rf_model, train_accuracy, train_roc_auc = train_random_forest(df, 'target')\n",
    "feature_importances = rf_model.feature_importances_\n",
    "# Create a pandas series with the feature importances\n",
    "importances = pd.Series(feature_importances, index=df.columns[:-1])  # assuming last column is 'target'\n",
    "# Sort the feature importances in descending order\n",
    "sorted_importances = importances.sort_values(ascending=False)\n",
    "\n",
    "# Print the feature importances\n",
    "print(\"Feature Importances:\\n\", sorted_importances)\n",
    "save_model(rf_model, 'random_forest_classifier.joblib')\n",
    "rf_model_loaded = load_model('random_forest_classifier.joblib')\n",
    "unseen_accuracy, unseen_roc_auc = evaluate_model(rf_model_loaded, df2, 'target')\n",
    "df_shape = df_info(df)\n",
    "print(f\"Training Accuracy: {train_accuracy}\")\n",
    "print(f\"Training ROC AUC: {train_roc_auc}\")\n",
    "print(f\"Unseen Data Accuracy: {unseen_accuracy}\")\n",
    "print(f\"Unseen Data ROC AUC: {unseen_roc_auc}\")\n",
    "print(df_info(df))"
   ]
  },
  {
   "cell_type": "markdown",
   "id": "90a058f1-e638-4331-a007-9d7ee68e8469",
   "metadata": {
    "jp-MarkdownHeadingCollapsed": true,
    "tags": []
   },
   "source": [
    "# Everything quarter define"
   ]
  },
  {
   "cell_type": "code",
   "execution_count": 2,
   "id": "241194e3-6f3d-48b0-b507-2255044abaf9",
   "metadata": {},
   "outputs": [],
   "source": [
    "df = pd.read_csv('sics_merged/df_6199.csv')"
   ]
  },
  {
   "cell_type": "code",
   "execution_count": 3,
   "id": "55b20f35-ce2c-44ba-aee3-5433c9f57a78",
   "metadata": {},
   "outputs": [
    {
     "name": "stdout",
     "output_type": "stream",
     "text": [
      "Feature Importances:\n",
      " NetIncomeLoss_2                                                                                  0.132813\n",
      "EarningsPerShareBasic_2                                                                          0.022478\n",
      "EarningsPerShareDiluted_2                                                                        0.020415\n",
      "NetIncomeLoss_1                                                                                  0.014913\n",
      "IncomeLossFromContinuingOperationsBeforeIncomeTaxesExtraordinaryItemsNoncontrollingInterest_2    0.013881\n",
      "                                                                                                   ...   \n",
      "PreferredStockValue_1                                                                            0.000250\n",
      "PreferredStockSharesIssued_2                                                                     0.000216\n",
      "PreferredStockParOrStatedValuePerShare                                                           0.000210\n",
      "PreferredStockParOrStatedValuePerShare_2                                                         0.000163\n",
      "PreferredStockParOrStatedValuePerShare_1                                                         0.000096\n",
      "Length: 168, dtype: float64\n",
      "Training Accuracy: 0.7822222222222223\n",
      "Training ROC AUC: 0.8387039203632831\n",
      "Unseen Data Accuracy: 0.7169517884914464\n",
      "Unseen Data ROC AUC: 0.7945093341319757\n",
      "(0.0, (1500, 169))\n"
     ]
    }
   ],
   "source": [
    "lvl1      = 'CIK'     #Level 1 index to pivot.\n",
    "lvl2      = 'Frame'   #Level 2 index to pivot. \n",
    "shifts    = 2       #Number of Shifts/Lags\n",
    "chunks    = 10        #Chunks to Divide\n",
    "threshold = 0.8       #Threshold of Missing Values in a column\n",
    "target    = f'NetIncomeLoss_{shifts}' #Target column make into target.\n",
    "test_size = 0.3       #Test split size for first round.\n",
    "results_df = pd.DataFrame(columns=['File', 'Train Accuracy', 'Train ROC AUC', 'Unseen Accuracy', 'Unseen ROC AUC','Shape'])\n",
    "\n",
    "df_shape, train_accuracy, train_roc_auc, unseen_accuracy, unseen_roc_auc, feature_importances = everything_quarter(df, lvl1, lvl2, shifts, chunks, threshold, target, test_size)\n"
   ]
  },
  {
   "cell_type": "raw",
   "id": "bcac9dc9-ac78-4376-9cd4-01d4b4de54e4",
   "metadata": {},
   "source": [
    "Training Accuracy: 0.7822222222222223\n",
    "Training ROC AUC: 0.8387039203632831\n",
    "Unseen Data Accuracy: 0.7169517884914464\n",
    "Unseen Data ROC AUC: 0.7945093341319757\n",
    "(0.0, (1500, 169))"
   ]
  },
  {
   "cell_type": "markdown",
   "id": "cdca13c7-ae37-47cd-9d3b-cbf4bb246ba5",
   "metadata": {},
   "source": [
    "# SIC Loop through"
   ]
  },
  {
   "cell_type": "code",
   "execution_count": 2,
   "id": "3b4a0c53-b12c-455d-8ebd-afa1598d9d71",
   "metadata": {
    "collapsed": true,
    "jupyter": {
     "outputs_hidden": true
    },
    "tags": []
   },
   "outputs": [
    {
     "name": "stdout",
     "output_type": "stream",
     "text": [
      "Feature Importances:\n",
      " NetIncomeLoss_2                               0.135976\n",
      "OperatingIncomeLoss_2                         0.021968\n",
      "EarningsPerShareBasicAndDiluted_2             0.021490\n",
      "EarningsPerShareBasic_2                       0.020015\n",
      "NetIncomeLoss_1                               0.014016\n",
      "                                                ...   \n",
      "CommonStockParOrStatedValuePerShare_2         0.000083\n",
      "PreferredStockSharesIssued_1                  0.000068\n",
      "NetCashProvidedByUsedInOperatingActivities    0.000064\n",
      "PreferredStockParOrStatedValuePerShare_2      0.000012\n",
      "PreferredStockParOrStatedValuePerShare_1      0.000007\n",
      "Length: 234, dtype: float64\n",
      "Training Accuracy: 0.7482935153583617\n",
      "Training ROC AUC: 0.8117524103922867\n",
      "Unseen Data Accuracy: 0.7568697729988052\n",
      "Unseen Data ROC AUC: 0.8183524595799292\n",
      "(0.0, (3905, 235))\n"
     ]
    },
    {
     "name": "stderr",
     "output_type": "stream",
     "text": [
      "/var/folders/rg/tjzq_l195rgdqwr9j37d24n00000gn/T/ipykernel_74809/3597453006.py:17: FutureWarning: The frame.append method is deprecated and will be removed from pandas in a future version. Use pandas.concat instead.\n",
      "  results_df = results_df.append({\n"
     ]
    },
    {
     "name": "stdout",
     "output_type": "stream",
     "text": [
      "Feature Importances:\n",
      " NetIncomeLoss_2                             0.142255\n",
      "OperatingIncomeLoss_2                       0.022635\n",
      "ProfitLoss_2                                0.019052\n",
      "EarningsPerShareBasic_2                     0.018937\n",
      "EarningsPerShareBasicAndDiluted_2           0.017713\n",
      "                                              ...   \n",
      "PreferredStockSharesAuthorized_1            0.000155\n",
      "PreferredStockSharesIssued_2                0.000025\n",
      "PreferredStockParOrStatedValuePerShare      0.000000\n",
      "PreferredStockSharesIssued                  0.000000\n",
      "PreferredStockParOrStatedValuePerShare_1    0.000000\n",
      "Length: 165, dtype: float64\n",
      "Training Accuracy: 0.7675675675675676\n",
      "Training ROC AUC: 0.8201677826120939\n",
      "Unseen Data Accuracy: 0.7364438839848676\n",
      "Unseen Data ROC AUC: 0.806950167396343\n",
      "(0.0, (1848, 166))\n"
     ]
    },
    {
     "name": "stderr",
     "output_type": "stream",
     "text": [
      "/var/folders/rg/tjzq_l195rgdqwr9j37d24n00000gn/T/ipykernel_74809/3597453006.py:17: FutureWarning: The frame.append method is deprecated and will be removed from pandas in a future version. Use pandas.concat instead.\n",
      "  results_df = results_df.append({\n"
     ]
    },
    {
     "name": "stdout",
     "output_type": "stream",
     "text": [
      "Feature Importances:\n",
      " NetIncomeLoss_2                                 0.158518\n",
      "EarningsPerShareBasicAndDiluted_2               0.026936\n",
      "OperatingIncomeLoss_2                           0.021586\n",
      "EarningsPerShareBasic_2                         0.018312\n",
      "ComprehensiveIncomeNetOfTax_2                   0.016010\n",
      "                                                  ...   \n",
      "PreferredStockParOrStatedValuePerShare_1        0.000159\n",
      "CommonStockParOrStatedValuePerShare_1           0.000146\n",
      "NetCashProvidedByUsedInOperatingActivities_2    0.000142\n",
      "PreferredStockParOrStatedValuePerShare_2        0.000099\n",
      "PreferredStockParOrStatedValuePerShare          0.000090\n",
      "Length: 237, dtype: float64\n",
      "Training Accuracy: 0.7680457746478874\n",
      "Training ROC AUC: 0.8289390691026597\n",
      "Unseen Data Accuracy: 0.7590509936835619\n",
      "Unseen Data ROC AUC: 0.8251155746532856\n",
      "(0.0, (15144, 238))\n"
     ]
    },
    {
     "name": "stderr",
     "output_type": "stream",
     "text": [
      "/var/folders/rg/tjzq_l195rgdqwr9j37d24n00000gn/T/ipykernel_74809/3597453006.py:17: FutureWarning: The frame.append method is deprecated and will be removed from pandas in a future version. Use pandas.concat instead.\n",
      "  results_df = results_df.append({\n"
     ]
    },
    {
     "name": "stdout",
     "output_type": "stream",
     "text": [
      "Feature Importances:\n",
      " NetIncomeLoss_2                          0.162624\n",
      "OperatingIncomeLoss_2                    0.019185\n",
      "GeneralAndAdministrativeExpense_2        0.016001\n",
      "LiabilitiesCurrent_2                     0.014515\n",
      "EarningsPerShareBasic_2                  0.014051\n",
      "                                           ...   \n",
      "PreferredStockSharesOutstanding          0.000029\n",
      "PreferredStockSharesIssued               0.000000\n",
      "PreferredStockSharesIssued_1             0.000000\n",
      "CommonStockParOrStatedValuePerShare_2    0.000000\n",
      "PreferredStockSharesOutstanding_2        0.000000\n",
      "Length: 189, dtype: float64\n",
      "Training Accuracy: 0.7525252525252525\n",
      "Training ROC AUC: 0.8122694321904911\n",
      "Unseen Data Accuracy: 0.7473498233215548\n",
      "Unseen Data ROC AUC: 0.8161262105592003\n",
      "(0.0, (1320, 190))\n"
     ]
    },
    {
     "name": "stderr",
     "output_type": "stream",
     "text": [
      "/var/folders/rg/tjzq_l195rgdqwr9j37d24n00000gn/T/ipykernel_74809/3597453006.py:17: FutureWarning: The frame.append method is deprecated and will be removed from pandas in a future version. Use pandas.concat instead.\n",
      "  results_df = results_df.append({\n"
     ]
    },
    {
     "name": "stdout",
     "output_type": "stream",
     "text": [
      "Feature Importances:\n",
      " NetIncomeLoss_2                             0.090144\n",
      "EarningsPerShareBasic_2                     0.052591\n",
      "EarningsPerShareDiluted_2                   0.043470\n",
      "OperatingIncomeLoss_2                       0.034689\n",
      "NetIncomeLoss_1                             0.012570\n",
      "                                              ...   \n",
      "PreferredStockValue_2                       0.000032\n",
      "PreferredStockParOrStatedValuePerShare_1    0.000032\n",
      "PreferredStockSharesOutstanding             0.000030\n",
      "PreferredStockSharesIssued_2                0.000000\n",
      "PreferredStockSharesIssued_1                0.000000\n",
      "Length: 297, dtype: float64\n",
      "Training Accuracy: 0.7309941520467836\n",
      "Training ROC AUC: 0.8032964167382499\n",
      "Unseen Data Accuracy: 0.732605729877217\n",
      "Unseen Data ROC AUC: 0.7986171619144908\n",
      "(0.0, (1708, 298))\n"
     ]
    },
    {
     "name": "stderr",
     "output_type": "stream",
     "text": [
      "/var/folders/rg/tjzq_l195rgdqwr9j37d24n00000gn/T/ipykernel_74809/3597453006.py:17: FutureWarning: The frame.append method is deprecated and will be removed from pandas in a future version. Use pandas.concat instead.\n",
      "  results_df = results_df.append({\n"
     ]
    },
    {
     "name": "stdout",
     "output_type": "stream",
     "text": [
      "Feature Importances:\n",
      " NetIncomeLoss_2                             0.114702\n",
      "EarningsPerShareDiluted_2                   0.031012\n",
      "EarningsPerShareBasic_2                     0.030758\n",
      "OperatingIncomeLoss_2                       0.022780\n",
      "OperatingIncomeLoss                         0.010781\n",
      "                                              ...   \n",
      "PreferredStockSharesAuthorized_1            0.000054\n",
      "PreferredStockParOrStatedValuePerShare_2    0.000043\n",
      "PreferredStockParOrStatedValuePerShare_1    0.000000\n",
      "PreferredStockValue                         0.000000\n",
      "PreferredStockValue_1                       0.000000\n",
      "Length: 246, dtype: float64\n",
      "Training Accuracy: 0.725752508361204\n",
      "Training ROC AUC: 0.7693461710703091\n",
      "Unseen Data Accuracy: 0.7242990654205608\n",
      "Unseen Data ROC AUC: 0.7959062396830637\n",
      "(0.0, (996, 247))\n"
     ]
    },
    {
     "name": "stderr",
     "output_type": "stream",
     "text": [
      "/var/folders/rg/tjzq_l195rgdqwr9j37d24n00000gn/T/ipykernel_74809/3597453006.py:17: FutureWarning: The frame.append method is deprecated and will be removed from pandas in a future version. Use pandas.concat instead.\n",
      "  results_df = results_df.append({\n"
     ]
    },
    {
     "name": "stdout",
     "output_type": "stream",
     "text": [
      "Feature Importances:\n",
      " NetIncomeLoss_2                                                                                  0.132813\n",
      "EarningsPerShareBasic_2                                                                          0.022478\n",
      "EarningsPerShareDiluted_2                                                                        0.020415\n",
      "NetIncomeLoss_1                                                                                  0.014913\n",
      "IncomeLossFromContinuingOperationsBeforeIncomeTaxesExtraordinaryItemsNoncontrollingInterest_2    0.013881\n",
      "                                                                                                   ...   \n",
      "PreferredStockValue_1                                                                            0.000250\n",
      "PreferredStockSharesIssued_2                                                                     0.000216\n",
      "PreferredStockParOrStatedValuePerShare                                                           0.000210\n",
      "PreferredStockParOrStatedValuePerShare_2                                                         0.000163\n",
      "PreferredStockParOrStatedValuePerShare_1                                                         0.000096\n",
      "Length: 168, dtype: float64\n",
      "Training Accuracy: 0.7822222222222223\n",
      "Training ROC AUC: 0.8387039203632831\n",
      "Unseen Data Accuracy: 0.7169517884914464\n",
      "Unseen Data ROC AUC: 0.7945093341319757\n",
      "(0.0, (1500, 169))\n"
     ]
    },
    {
     "name": "stderr",
     "output_type": "stream",
     "text": [
      "/var/folders/rg/tjzq_l195rgdqwr9j37d24n00000gn/T/ipykernel_74809/3597453006.py:17: FutureWarning: The frame.append method is deprecated and will be removed from pandas in a future version. Use pandas.concat instead.\n",
      "  results_df = results_df.append({\n"
     ]
    },
    {
     "name": "stdout",
     "output_type": "stream",
     "text": [
      "Feature Importances:\n",
      " NetIncomeLoss_2                                                  0.191668\n",
      "NetIncomeLoss_1                                                  0.024151\n",
      "StockholdersEquity_2                                             0.024006\n",
      "RetainedEarningsAccumulatedDeficit_2                             0.021261\n",
      "StockholdersEquity_1                                             0.020598\n",
      "                                                                   ...   \n",
      "UnrecognizedTaxBenefits                                          0.000000\n",
      "UnrecognizedTaxBenefitsIncomeTaxPenaltiesAndInterestAccrued      0.000000\n",
      "UnrecognizedTaxBenefitsIncomeTaxPenaltiesAndInterestAccrued_2    0.000000\n",
      "PreferredStockValue_1                                            0.000000\n",
      "PreferredStockSharesOutstanding_1                                0.000000\n",
      "Length: 129, dtype: float64\n",
      "Training Accuracy: 0.7811023622047244\n",
      "Training ROC AUC: 0.8480507394186639\n",
      "Unseen Data Accuracy: 0.7816979051819184\n",
      "Unseen Data ROC AUC: 0.8474990121993381\n",
      "(0.0, (4231, 130))\n"
     ]
    },
    {
     "name": "stderr",
     "output_type": "stream",
     "text": [
      "/var/folders/rg/tjzq_l195rgdqwr9j37d24n00000gn/T/ipykernel_74809/3597453006.py:17: FutureWarning: The frame.append method is deprecated and will be removed from pandas in a future version. Use pandas.concat instead.\n",
      "  results_df = results_df.append({\n"
     ]
    },
    {
     "name": "stdout",
     "output_type": "stream",
     "text": [
      "Feature Importances:\n",
      " NetIncomeLoss_2                                      0.126510\n",
      "EarningsPerShareDiluted_2                            0.035480\n",
      "ProfitLoss_2                                         0.034548\n",
      "EarningsPerShareBasic_2                              0.026473\n",
      "NetIncomeLossAvailableToCommonStockholdersBasic_2    0.020567\n",
      "                                                       ...   \n",
      "CommonStockParOrStatedValuePerShare_2                0.000028\n",
      "NetCashProvidedByUsedInInvestingActivities_1         0.000027\n",
      "PreferredStockParOrStatedValuePerShare_2             0.000011\n",
      "PreferredStockParOrStatedValuePerShare_1             0.000007\n",
      "NetCashProvidedByUsedInFinancingActivities_2         0.000000\n",
      "Length: 267, dtype: float64\n",
      "Training Accuracy: 0.7459554000874508\n",
      "Training ROC AUC: 0.8105462262124927\n",
      "Unseen Data Accuracy: 0.7468625650443832\n",
      "Unseen Data ROC AUC: 0.8138555551799647\n",
      "(0.0, (7623, 268))\n"
     ]
    },
    {
     "name": "stderr",
     "output_type": "stream",
     "text": [
      "/var/folders/rg/tjzq_l195rgdqwr9j37d24n00000gn/T/ipykernel_74809/3597453006.py:17: FutureWarning: The frame.append method is deprecated and will be removed from pandas in a future version. Use pandas.concat instead.\n",
      "  results_df = results_df.append({\n"
     ]
    },
    {
     "name": "stdout",
     "output_type": "stream",
     "text": [
      "Feature Importances:\n",
      " NetIncomeLoss_2                                 0.130361\n",
      "OperatingIncomeLoss_2                           0.020944\n",
      "EarningsPerShareDiluted_2                       0.015244\n",
      "EarningsPerShareBasicAndDiluted_2               0.013498\n",
      "EarningsPerShareBasic_2                         0.012321\n",
      "                                                  ...   \n",
      "PreferredStockParOrStatedValuePerShare_2        0.000000\n",
      "PreferredStockSharesIssued                      0.000000\n",
      "PreferredStockSharesOutstanding                 0.000000\n",
      "CommonStockParOrStatedValuePerShare_1           0.000000\n",
      "NetCashProvidedByUsedInOperatingActivities_2    0.000000\n",
      "Length: 246, dtype: float64\n",
      "Training Accuracy: 0.7083333333333334\n",
      "Training ROC AUC: 0.7604915497924749\n",
      "Unseen Data Accuracy: 0.7007299270072993\n",
      "Unseen Data ROC AUC: 0.7587391392200444\n",
      "(0.0, (1277, 247))\n"
     ]
    },
    {
     "name": "stderr",
     "output_type": "stream",
     "text": [
      "/var/folders/rg/tjzq_l195rgdqwr9j37d24n00000gn/T/ipykernel_74809/3597453006.py:17: FutureWarning: The frame.append method is deprecated and will be removed from pandas in a future version. Use pandas.concat instead.\n",
      "  results_df = results_df.append({\n"
     ]
    },
    {
     "name": "stdout",
     "output_type": "stream",
     "text": [
      "Feature Importances:\n",
      " NetIncomeLoss_2          0.239422\n",
      "NetIncomeLoss_1          0.029576\n",
      "NetIncomeLoss            0.022053\n",
      "Liabilities_2            0.019047\n",
      "Liabilities_1            0.018866\n",
      "                           ...   \n",
      "GainLossOnInvestments    0.004729\n",
      "ProfessionalFees         0.004567\n",
      "ProfessionalFees_1       0.004337\n",
      "InvestmentIncomeNet_2    0.004143\n",
      "ProfessionalFees_2       0.003342\n",
      "Length: 81, dtype: float64\n",
      "Training Accuracy: 0.7797147385103012\n",
      "Training ROC AUC: 0.8389712696941612\n",
      "Unseen Data Accuracy: 0.7480577136514983\n",
      "Unseen Data ROC AUC: 0.8348999198567315\n",
      "(0.0, (2101, 82))\n"
     ]
    },
    {
     "name": "stderr",
     "output_type": "stream",
     "text": [
      "/var/folders/rg/tjzq_l195rgdqwr9j37d24n00000gn/T/ipykernel_74809/3597453006.py:17: FutureWarning: The frame.append method is deprecated and will be removed from pandas in a future version. Use pandas.concat instead.\n",
      "  results_df = results_df.append({\n"
     ]
    },
    {
     "name": "stdout",
     "output_type": "stream",
     "text": [
      "Feature Importances:\n",
      " NetIncomeLoss_2                                 0.149438\n",
      "EarningsPerShareBasic_2                         0.019657\n",
      "EarningsPerShareDiluted_2                       0.015837\n",
      "ProfitLoss_2                                    0.015769\n",
      "OperatingIncomeLoss_2                           0.011235\n",
      "                                                  ...   \n",
      "PreferredStockParOrStatedValuePerShare_2        0.000044\n",
      "CommonStockParOrStatedValuePerShare_1           0.000016\n",
      "NetCashProvidedByUsedInFinancingActivities      0.000000\n",
      "NetCashProvidedByUsedInFinancingActivities_2    0.000000\n",
      "NetCashProvidedByUsedInOperatingActivities      0.000000\n",
      "Length: 294, dtype: float64\n",
      "Training Accuracy: 0.7484276729559748\n",
      "Training ROC AUC: 0.8034857437442996\n",
      "Unseen Data Accuracy: 0.7136563876651982\n",
      "Unseen Data ROC AUC: 0.7565794588710932\n",
      "(0.0, (1059, 295))\n"
     ]
    },
    {
     "name": "stderr",
     "output_type": "stream",
     "text": [
      "/var/folders/rg/tjzq_l195rgdqwr9j37d24n00000gn/T/ipykernel_74809/3597453006.py:17: FutureWarning: The frame.append method is deprecated and will be removed from pandas in a future version. Use pandas.concat instead.\n",
      "  results_df = results_df.append({\n"
     ]
    },
    {
     "name": "stdout",
     "output_type": "stream",
     "text": [
      "Feature Importances:\n",
      " NetIncomeLoss_2                                      0.104899\n",
      "EarningsPerShareDiluted_2                            0.046056\n",
      "EarningsPerShareBasic_2                              0.037176\n",
      "NetIncomeLossAvailableToCommonStockholdersBasic_2    0.017129\n",
      "IncomeTaxExpenseBenefit_2                            0.016772\n",
      "                                                       ...   \n",
      "NetCashProvidedByUsedInInvestingActivities           0.000000\n",
      "NetCashProvidedByUsedInInvestingActivities_1         0.000000\n",
      "NetCashProvidedByUsedInInvestingActivities_2         0.000000\n",
      "NetCashProvidedByUsedInOperatingActivities           0.000000\n",
      "NetCashProvidedByUsedInOperatingActivities_2         0.000000\n",
      "Length: 669, dtype: float64\n",
      "Training Accuracy: 0.7676125244618396\n",
      "Training ROC AUC: 0.81049522961739\n",
      "Unseen Data Accuracy: 0.7678082191780822\n",
      "Unseen Data ROC AUC: 0.8205709454556566\n",
      "(0.0, (6813, 670))\n"
     ]
    },
    {
     "name": "stderr",
     "output_type": "stream",
     "text": [
      "/var/folders/rg/tjzq_l195rgdqwr9j37d24n00000gn/T/ipykernel_74809/3597453006.py:17: FutureWarning: The frame.append method is deprecated and will be removed from pandas in a future version. Use pandas.concat instead.\n",
      "  results_df = results_df.append({\n"
     ]
    },
    {
     "name": "stdout",
     "output_type": "stream",
     "text": [
      "Feature Importances:\n",
      " NetIncomeLoss_2                               0.177610\n",
      "OperatingIncomeLoss_2                         0.023319\n",
      "NetIncomeLoss_1                               0.018452\n",
      "OperatingExpenses_2                           0.018205\n",
      "NetIncomeLoss                                 0.014889\n",
      "                                                ...   \n",
      "PreferredStockSharesOutstanding               0.000103\n",
      "PreferredStockParOrStatedValuePerShare_2      0.000086\n",
      "PreferredStockValue_1                         0.000083\n",
      "PreferredStockSharesOutstanding_1             0.000070\n",
      "NetCashProvidedByUsedInFinancingActivities    0.000025\n",
      "Length: 156, dtype: float64\n",
      "Training Accuracy: 0.7398058252427184\n",
      "Training ROC AUC: 0.8020028957528957\n",
      "Unseen Data Accuracy: 0.7105978260869565\n",
      "Unseen Data ROC AUC: 0.7663535181205179\n",
      "(0.0, (1715, 157))\n"
     ]
    },
    {
     "name": "stderr",
     "output_type": "stream",
     "text": [
      "/var/folders/rg/tjzq_l195rgdqwr9j37d24n00000gn/T/ipykernel_74809/3597453006.py:17: FutureWarning: The frame.append method is deprecated and will be removed from pandas in a future version. Use pandas.concat instead.\n",
      "  results_df = results_df.append({\n"
     ]
    },
    {
     "name": "stdout",
     "output_type": "stream",
     "text": [
      "Feature Importances:\n",
      " NetIncomeLoss_2                                                                                  0.169098\n",
      "OperatingIncomeLoss_2                                                                            0.021328\n",
      "NetIncomeLoss_1                                                                                  0.016595\n",
      "EarningsPerShareBasic_2                                                                          0.015898\n",
      "IncomeLossFromContinuingOperationsBeforeIncomeTaxesExtraordinaryItemsNoncontrollingInterest_2    0.015860\n",
      "                                                                                                   ...   \n",
      "PreferredStockSharesIssued                                                                       0.000133\n",
      "PreferredStockSharesIssued_1                                                                     0.000114\n",
      "NetCashProvidedByUsedInFinancingActivities_1                                                     0.000083\n",
      "PreferredStockSharesOutstanding                                                                  0.000054\n",
      "PreferredStockSharesIssued_2                                                                     0.000027\n",
      "Length: 198, dtype: float64\n",
      "Training Accuracy: 0.7426778242677824\n",
      "Training ROC AUC: 0.794898316970547\n",
      "Unseen Data Accuracy: 0.7408491947291361\n",
      "Unseen Data ROC AUC: 0.7944918909592822\n",
      "(0.0, (1591, 199))\n"
     ]
    },
    {
     "name": "stderr",
     "output_type": "stream",
     "text": [
      "/var/folders/rg/tjzq_l195rgdqwr9j37d24n00000gn/T/ipykernel_74809/3597453006.py:17: FutureWarning: The frame.append method is deprecated and will be removed from pandas in a future version. Use pandas.concat instead.\n",
      "  results_df = results_df.append({\n"
     ]
    },
    {
     "name": "stdout",
     "output_type": "stream",
     "text": [
      "Feature Importances:\n",
      " NetIncomeLoss_2                                      0.081004\n",
      "EarningsPerShareBasic_2                              0.038884\n",
      "EarningsPerShareDiluted_2                            0.033707\n",
      "NetIncomeLossAvailableToCommonStockholdersBasic_2    0.015405\n",
      "IncomeTaxExpenseBenefit_2                            0.012845\n",
      "                                                       ...   \n",
      "NetCashProvidedByUsedInOperatingActivities_1         0.000000\n",
      "NetCashProvidedByUsedInFinancingActivities_2         0.000000\n",
      "NetCashProvidedByUsedInOperatingActivities           0.000000\n",
      "NetCashProvidedByUsedInInvestingActivities           0.000000\n",
      "CommonStockParOrStatedValuePerShare_2                0.000000\n",
      "Length: 669, dtype: float64\n",
      "Training Accuracy: 0.7720156555772995\n",
      "Training ROC AUC: 0.8310208107689926\n",
      "Unseen Data Accuracy: 0.7655928718300206\n",
      "Unseen Data ROC AUC: 0.8215304055854608\n",
      "(0.0, (3404, 670))\n"
     ]
    },
    {
     "name": "stderr",
     "output_type": "stream",
     "text": [
      "/var/folders/rg/tjzq_l195rgdqwr9j37d24n00000gn/T/ipykernel_74809/3597453006.py:17: FutureWarning: The frame.append method is deprecated and will be removed from pandas in a future version. Use pandas.concat instead.\n",
      "  results_df = results_df.append({\n"
     ]
    },
    {
     "name": "stdout",
     "output_type": "stream",
     "text": [
      "Feature Importances:\n",
      " NetIncomeLoss_2                                                                                                  0.096562\n",
      "EarningsPerShareDiluted_2                                                                                        0.029628\n",
      "EarningsPerShareBasic_2                                                                                          0.022558\n",
      "IncomeLossFromContinuingOperationsBeforeIncomeTaxesMinorityInterestAndIncomeLossFromEquityMethodInvestments_2    0.014559\n",
      "IncomeTaxExpenseBenefit_2                                                                                        0.012483\n",
      "                                                                                                                   ...   \n",
      "PreferredStockValue                                                                                              0.000000\n",
      "PreferredStockParOrStatedValuePerShare_2                                                                         0.000000\n",
      "PaymentsToAcquirePropertyPlantAndEquipment_2                                                                     0.000000\n",
      "PaymentsToAcquirePropertyPlantAndEquipment                                                                       0.000000\n",
      "PreferredStockParOrStatedValuePerShare                                                                           0.000000\n",
      "Length: 588, dtype: float64\n",
      "Training Accuracy: 0.7576642335766424\n",
      "Training ROC AUC: 0.8161371500471846\n",
      "Unseen Data Accuracy: 0.7548518896833504\n",
      "Unseen Data ROC AUC: 0.8081883346343347\n",
      "(0.0, (2282, 589))\n"
     ]
    },
    {
     "name": "stderr",
     "output_type": "stream",
     "text": [
      "/var/folders/rg/tjzq_l195rgdqwr9j37d24n00000gn/T/ipykernel_74809/3597453006.py:17: FutureWarning: The frame.append method is deprecated and will be removed from pandas in a future version. Use pandas.concat instead.\n",
      "  results_df = results_df.append({\n"
     ]
    },
    {
     "name": "stdout",
     "output_type": "stream",
     "text": [
      "Feature Importances:\n",
      " NetIncomeLoss_2                             0.155626\n",
      "EarningsPerShareDiluted_2                   0.022179\n",
      "EarningsPerShareBasic_2                     0.017006\n",
      "ComprehensiveIncomeNetOfTax_2               0.015227\n",
      "OperatingIncomeLoss_2                       0.014377\n",
      "                                              ...   \n",
      "PreferredStockParOrStatedValuePerShare      0.000000\n",
      "CommonStockParOrStatedValuePerShare_1       0.000000\n",
      "CommonStockParOrStatedValuePerShare         0.000000\n",
      "PreferredStockParOrStatedValuePerShare_2    0.000000\n",
      "CommonStockParOrStatedValuePerShare_2       0.000000\n",
      "Length: 288, dtype: float64\n",
      "Training Accuracy: 0.6817102137767221\n",
      "Training ROC AUC: 0.7473889143380669\n",
      "Unseen Data Accuracy: 0.6993355481727574\n",
      "Unseen Data ROC AUC: 0.7525840224059749\n",
      "(0.0, (1403, 289))\n"
     ]
    },
    {
     "name": "stderr",
     "output_type": "stream",
     "text": [
      "/var/folders/rg/tjzq_l195rgdqwr9j37d24n00000gn/T/ipykernel_74809/3597453006.py:17: FutureWarning: The frame.append method is deprecated and will be removed from pandas in a future version. Use pandas.concat instead.\n",
      "  results_df = results_df.append({\n"
     ]
    },
    {
     "name": "stdout",
     "output_type": "stream",
     "text": [
      "Feature Importances:\n",
      " NetIncomeLoss_2                                                                                  0.153698\n",
      "EarningsPerShareBasic_2                                                                          0.023140\n",
      "EarningsPerShareDiluted_2                                                                        0.021633\n",
      "IncomeLossFromContinuingOperationsBeforeIncomeTaxesExtraordinaryItemsNoncontrollingInterest_2    0.012051\n",
      "NetIncomeLoss_1                                                                                  0.010443\n",
      "                                                                                                   ...   \n",
      "NetCashProvidedByUsedInFinancingActivities_1                                                     0.000114\n",
      "PreferredStockParOrStatedValuePerShare_2                                                         0.000109\n",
      "PreferredStockValue_1                                                                            0.000108\n",
      "PreferredStockSharesAuthorized_2                                                                 0.000096\n",
      "PreferredStockSharesAuthorized                                                                   0.000029\n",
      "Length: 261, dtype: float64\n",
      "Training Accuracy: 0.7404682274247492\n",
      "Training ROC AUC: 0.7998914835263715\n",
      "Unseen Data Accuracy: 0.726123595505618\n",
      "Unseen Data ROC AUC: 0.8035776505286275\n",
      "(0.0, (4982, 262))\n"
     ]
    },
    {
     "name": "stderr",
     "output_type": "stream",
     "text": [
      "/var/folders/rg/tjzq_l195rgdqwr9j37d24n00000gn/T/ipykernel_74809/3597453006.py:17: FutureWarning: The frame.append method is deprecated and will be removed from pandas in a future version. Use pandas.concat instead.\n",
      "  results_df = results_df.append({\n"
     ]
    },
    {
     "name": "stdout",
     "output_type": "stream",
     "text": [
      "Feature Importances:\n",
      " NetIncomeLoss_2                                                                                  0.099096\n",
      "EarningsPerShareBasic_2                                                                          0.047805\n",
      "EarningsPerShareDiluted_2                                                                        0.047556\n",
      "ProfitLoss_2                                                                                     0.012712\n",
      "IncomeLossFromContinuingOperationsBeforeIncomeTaxesExtraordinaryItemsNoncontrollingInterest_2    0.012114\n",
      "                                                                                                   ...   \n",
      "PreferredStockSharesAuthorized_1                                                                 0.000000\n",
      "NetCashProvidedByUsedInInvestingActivities_1                                                     0.000000\n",
      "NetCashProvidedByUsedInInvestingActivities_2                                                     0.000000\n",
      "NetCashProvidedByUsedInOperatingActivities_1                                                     0.000000\n",
      "PreferredStockParOrStatedValuePerShare_2                                                         0.000000\n",
      "Length: 483, dtype: float64\n",
      "Training Accuracy: 0.7145390070921985\n",
      "Training ROC AUC: 0.7874275636180398\n",
      "Unseen Data Accuracy: 0.7236679058240396\n",
      "Unseen Data ROC AUC: 0.8013283013283012\n",
      "(0.0, (1880, 484))\n"
     ]
    },
    {
     "name": "stderr",
     "output_type": "stream",
     "text": [
      "/var/folders/rg/tjzq_l195rgdqwr9j37d24n00000gn/T/ipykernel_74809/3597453006.py:17: FutureWarning: The frame.append method is deprecated and will be removed from pandas in a future version. Use pandas.concat instead.\n",
      "  results_df = results_df.append({\n"
     ]
    },
    {
     "name": "stdout",
     "output_type": "stream",
     "text": [
      "Feature Importances:\n",
      " NetIncomeLoss_2                             0.119592\n",
      "EarningsPerShareDiluted_2                   0.025903\n",
      "EarningsPerShareBasic_2                     0.022349\n",
      "OperatingIncomeLoss_2                       0.020632\n",
      "RetainedEarningsAccumulatedDeficit_2        0.015629\n",
      "                                              ...   \n",
      "PreferredStockValue                         0.000067\n",
      "PreferredStockValue_2                       0.000041\n",
      "PreferredStockParOrStatedValuePerShare_1    0.000024\n",
      "CommonStockParOrStatedValuePerShare_1       0.000007\n",
      "PreferredStockValue_1                       0.000000\n",
      "Length: 246, dtype: float64\n",
      "Training Accuracy: 0.7604456824512534\n",
      "Training ROC AUC: 0.7935795705019209\n",
      "Unseen Data Accuracy: 0.708984375\n",
      "Unseen Data ROC AUC: 0.7908287140959274\n",
      "(0.0, (1194, 247))\n"
     ]
    },
    {
     "name": "stderr",
     "output_type": "stream",
     "text": [
      "/var/folders/rg/tjzq_l195rgdqwr9j37d24n00000gn/T/ipykernel_74809/3597453006.py:17: FutureWarning: The frame.append method is deprecated and will be removed from pandas in a future version. Use pandas.concat instead.\n",
      "  results_df = results_df.append({\n"
     ]
    },
    {
     "name": "stdout",
     "output_type": "stream",
     "text": [
      "Feature Importances:\n",
      " NetIncomeLoss_2                                                                                  0.104505\n",
      "EarningsPerShareDiluted_2                                                                        0.030184\n",
      "EarningsPerShareBasic_2                                                                          0.027846\n",
      "OperatingIncomeLoss_2                                                                            0.014155\n",
      "IncomeLossFromContinuingOperationsBeforeIncomeTaxesExtraordinaryItemsNoncontrollingInterest_2    0.012046\n",
      "                                                                                                   ...   \n",
      "PreferredStockSharesIssued_2                                                                     0.000000\n",
      "PreferredStockSharesIssued_1                                                                     0.000000\n",
      "NetCashProvidedByUsedInOperatingActivities_1                                                     0.000000\n",
      "PreferredStockParOrStatedValuePerShare_1                                                         0.000000\n",
      "PreferredStockParOrStatedValuePerShare                                                           0.000000\n",
      "Length: 315, dtype: float64\n",
      "Training Accuracy: 0.743073047858942\n",
      "Training ROC AUC: 0.8084607411246437\n",
      "Unseen Data Accuracy: 0.6936619718309859\n",
      "Unseen Data ROC AUC: 0.7720854475975695\n",
      "(0.0, (1323, 316))\n"
     ]
    },
    {
     "name": "stderr",
     "output_type": "stream",
     "text": [
      "/var/folders/rg/tjzq_l195rgdqwr9j37d24n00000gn/T/ipykernel_74809/3597453006.py:17: FutureWarning: The frame.append method is deprecated and will be removed from pandas in a future version. Use pandas.concat instead.\n",
      "  results_df = results_df.append({\n"
     ]
    },
    {
     "name": "stdout",
     "output_type": "stream",
     "text": [
      "Feature Importances:\n",
      " NetIncomeLoss_2                             0.158268\n",
      "EarningsPerShareDiluted_2                   0.020760\n",
      "EarningsPerShareBasic_2                     0.020521\n",
      "OperatingIncomeLoss_2                       0.018989\n",
      "EarningsPerShareBasicAndDiluted_2           0.016357\n",
      "                                              ...   \n",
      "CommonStockParOrStatedValuePerShare_2       0.000047\n",
      "PreferredStockParOrStatedValuePerShare      0.000011\n",
      "PreferredStockParOrStatedValuePerShare_1    0.000010\n",
      "CommonStockParOrStatedValuePerShare         0.000000\n",
      "CommonStockParOrStatedValuePerShare_1       0.000000\n",
      "Length: 294, dtype: float64\n",
      "Training Accuracy: 0.7509912767644726\n",
      "Training ROC AUC: 0.7929090734798491\n",
      "Unseen Data Accuracy: 0.7340366463076069\n",
      "Unseen Data ROC AUC: 0.7878696009066584\n",
      "(0.0, (4201, 295))\n"
     ]
    },
    {
     "name": "stderr",
     "output_type": "stream",
     "text": [
      "/var/folders/rg/tjzq_l195rgdqwr9j37d24n00000gn/T/ipykernel_74809/3597453006.py:17: FutureWarning: The frame.append method is deprecated and will be removed from pandas in a future version. Use pandas.concat instead.\n",
      "  results_df = results_df.append({\n"
     ]
    },
    {
     "name": "stdout",
     "output_type": "stream",
     "text": [
      "Feature Importances:\n",
      " NetIncomeLoss_2                                                                                  0.145604\n",
      "EarningsPerShareDiluted_2                                                                        0.024155\n",
      "OperatingIncomeLoss_2                                                                            0.019150\n",
      "EarningsPerShareBasic_2                                                                          0.019045\n",
      "IncomeLossFromContinuingOperationsBeforeIncomeTaxesExtraordinaryItemsNoncontrollingInterest_2    0.012959\n",
      "                                                                                                   ...   \n",
      "CommonStockParOrStatedValuePerShare_2                                                            0.000121\n",
      "PreferredStockParOrStatedValuePerShare_2                                                         0.000108\n",
      "PreferredStockValue_2                                                                            0.000102\n",
      "PreferredStockValue_1                                                                            0.000101\n",
      "PreferredStockParOrStatedValuePerShare_1                                                         0.000064\n",
      "Length: 264, dtype: float64\n",
      "Training Accuracy: 0.7463734206832008\n",
      "Training ROC AUC: 0.80774336438989\n",
      "Unseen Data Accuracy: 0.7332896461336829\n",
      "Unseen Data ROC AUC: 0.7982642251815981\n",
      "(0.0, (7121, 265))\n"
     ]
    },
    {
     "name": "stderr",
     "output_type": "stream",
     "text": [
      "/var/folders/rg/tjzq_l195rgdqwr9j37d24n00000gn/T/ipykernel_74809/3597453006.py:17: FutureWarning: The frame.append method is deprecated and will be removed from pandas in a future version. Use pandas.concat instead.\n",
      "  results_df = results_df.append({\n"
     ]
    },
    {
     "name": "stdout",
     "output_type": "stream",
     "text": [
      "Feature Importances:\n",
      " NetIncomeLoss_2                                                                                  0.148878\n",
      "EarningsPerShareDiluted_2                                                                        0.027612\n",
      "EarningsPerShareBasic_2                                                                          0.020394\n",
      "OperatingIncomeLoss_2                                                                            0.019550\n",
      "IncomeLossFromContinuingOperationsBeforeIncomeTaxesExtraordinaryItemsNoncontrollingInterest_2    0.010856\n",
      "                                                                                                   ...   \n",
      "PreferredStockParOrStatedValuePerShare_2                                                         0.000104\n",
      "NetCashProvidedByUsedInFinancingActivities                                                       0.000087\n",
      "PreferredStockSharesOutstanding_1                                                                0.000073\n",
      "PreferredStockParOrStatedValuePerShare                                                           0.000069\n",
      "PreferredStockParOrStatedValuePerShare_1                                                         0.000048\n",
      "Length: 273, dtype: float64\n",
      "Training Accuracy: 0.7466666666666667\n",
      "Training ROC AUC: 0.7978873724841468\n",
      "Unseen Data Accuracy: 0.7375068643602416\n",
      "Unseen Data ROC AUC: 0.7983632963320463\n",
      "(0.0, (4249, 274))\n"
     ]
    },
    {
     "name": "stderr",
     "output_type": "stream",
     "text": [
      "/var/folders/rg/tjzq_l195rgdqwr9j37d24n00000gn/T/ipykernel_74809/3597453006.py:17: FutureWarning: The frame.append method is deprecated and will be removed from pandas in a future version. Use pandas.concat instead.\n",
      "  results_df = results_df.append({\n"
     ]
    },
    {
     "name": "stdout",
     "output_type": "stream",
     "text": [
      "Feature Importances:\n",
      " NetIncomeLoss_2                                 0.093086\n",
      "EarningsPerShareDiluted_2                       0.029413\n",
      "OperatingIncomeLoss_2                           0.024152\n",
      "EarningsPerShareBasic_2                         0.021287\n",
      "ProfitLoss_2                                    0.015612\n",
      "                                                  ...   \n",
      "PreferredStockSharesAuthorized                  0.000000\n",
      "PreferredStockSharesAuthorized_1                0.000000\n",
      "CommonStockParOrStatedValuePerShare_1           0.000000\n",
      "CommonStockParOrStatedValuePerShare_2           0.000000\n",
      "NetCashProvidedByUsedInInvestingActivities_2    0.000000\n",
      "Length: 315, dtype: float64\n",
      "Training Accuracy: 0.753731343283582\n",
      "Training ROC AUC: 0.8399668119675056\n",
      "Unseen Data Accuracy: 0.7613240418118467\n",
      "Unseen Data ROC AUC: 0.8266449614671739\n",
      "(0.0, (1338, 316))\n"
     ]
    },
    {
     "name": "stderr",
     "output_type": "stream",
     "text": [
      "/var/folders/rg/tjzq_l195rgdqwr9j37d24n00000gn/T/ipykernel_74809/3597453006.py:17: FutureWarning: The frame.append method is deprecated and will be removed from pandas in a future version. Use pandas.concat instead.\n",
      "  results_df = results_df.append({\n"
     ]
    },
    {
     "name": "stdout",
     "output_type": "stream",
     "text": [
      "Feature Importances:\n",
      " NetIncomeLoss_2                             0.104504\n",
      "EarningsPerShareDiluted_2                   0.037603\n",
      "EarningsPerShareBasic_2                     0.033294\n",
      "ComprehensiveIncomeNetOfTax_2               0.011036\n",
      "OperatingIncomeLoss_2                       0.010417\n",
      "                                              ...   \n",
      "PreferredStockParOrStatedValuePerShare_1    0.000000\n",
      "PreferredStockParOrStatedValuePerShare      0.000000\n",
      "PreferredStockSharesIssued_1                0.000000\n",
      "PreferredStockValue                         0.000000\n",
      "PreferredStockValue_1                       0.000000\n",
      "Length: 369, dtype: float64\n",
      "Training Accuracy: 0.7191780821917808\n",
      "Training ROC AUC: 0.7807209417660724\n",
      "Unseen Data Accuracy: 0.7050359712230215\n",
      "Unseen Data ROC AUC: 0.7785210357659706\n",
      "(0.0, (2918, 370))\n"
     ]
    },
    {
     "name": "stderr",
     "output_type": "stream",
     "text": [
      "/var/folders/rg/tjzq_l195rgdqwr9j37d24n00000gn/T/ipykernel_74809/3597453006.py:17: FutureWarning: The frame.append method is deprecated and will be removed from pandas in a future version. Use pandas.concat instead.\n",
      "  results_df = results_df.append({\n"
     ]
    },
    {
     "name": "stdout",
     "output_type": "stream",
     "text": [
      "Feature Importances:\n",
      " NetIncomeLoss_2                                                                                  0.149539\n",
      "IncomeLossFromContinuingOperationsBeforeIncomeTaxesExtraordinaryItemsNoncontrollingInterest_2    0.021186\n",
      "OperatingIncomeLoss_2                                                                            0.019588\n",
      "EarningsPerShareBasic_2                                                                          0.017529\n",
      "OperatingExpenses_2                                                                              0.013460\n",
      "                                                                                                   ...   \n",
      "PreferredStockSharesIssued_1                                                                     0.000064\n",
      "PreferredStockParOrStatedValuePerShare_1                                                         0.000049\n",
      "CommonStockParOrStatedValuePerShare_2                                                            0.000042\n",
      "PreferredStockValue_2                                                                            0.000039\n",
      "PreferredStockValue                                                                              0.000000\n",
      "Length: 261, dtype: float64\n",
      "Training Accuracy: 0.7427385892116183\n",
      "Training ROC AUC: 0.8127326302729527\n",
      "Unseen Data Accuracy: 0.7405614714424008\n",
      "Unseen Data ROC AUC: 0.796705305125751\n",
      "(0.0, (2409, 262))\n"
     ]
    },
    {
     "name": "stderr",
     "output_type": "stream",
     "text": [
      "/var/folders/rg/tjzq_l195rgdqwr9j37d24n00000gn/T/ipykernel_74809/3597453006.py:17: FutureWarning: The frame.append method is deprecated and will be removed from pandas in a future version. Use pandas.concat instead.\n",
      "  results_df = results_df.append({\n"
     ]
    }
   ],
   "source": [
    "lvl1      = 'CIK'     #Level 1 index to pivot.\n",
    "lvl2      = 'Frame'   #Level 2 index to pivot. \n",
    "shifts    = 2       #Number of Shifts/Lags\n",
    "chunks    = 10        #Chunks to Divide\n",
    "threshold = 0.8       #Threshold of Missing Values in a column\n",
    "target    = f'NetIncomeLoss_{shifts}' #Target column make into target.\n",
    "test_size = 0.3       #Test split size for first round.\n",
    "results_df = pd.DataFrame(columns=['File', 'Train Accuracy', 'Train ROC AUC', 'Unseen Accuracy', 'Unseen ROC AUC','Shape'])\n",
    "\n",
    "\n",
    "for i in os.listdir('sics_merged'):\n",
    "    if i.endswith('.csv'):\n",
    "        df = pd.read_csv(f'sics_merged/{i}')\n",
    "        df_shape, train_accuracy, train_roc_auc, unseen_accuracy, unseen_roc_auc, feature_importances = everything_quarter(df, lvl1, lvl2, shifts, chunks, threshold, target, test_size)\n",
    "        \n",
    "        # Append results to the dataframe\n",
    "        results_df = results_df.append({\n",
    "            'File': i,\n",
    "            'Train Accuracy': train_accuracy,\n",
    "            'Train ROC AUC': train_roc_auc,\n",
    "            'Unseen Accuracy': unseen_accuracy,\n",
    "            'Unseen ROC AUC': unseen_roc_auc,\n",
    "            'Shape': df_shape\n",
    "        }, ignore_index=True)\n",
    "results_df.to_csv('all_sics_result.csv',mode='w',index=False)"
   ]
  },
  {
   "cell_type": "code",
   "execution_count": 3,
   "id": "59ca5787-c5cb-43af-88ea-5a3a10282637",
   "metadata": {},
   "outputs": [],
   "source": [
    "results_df.to_csv('all_sics_result_quarter.csv',mode='w',index=False)"
   ]
  },
  {
   "cell_type": "markdown",
   "id": "61e07041-d7b0-492f-a3e8-e57f6f59b873",
   "metadata": {},
   "source": [
    "# save with feature impo"
   ]
  },
  {
   "cell_type": "code",
   "execution_count": 5,
   "id": "7a281e26-9946-4b4e-8eb1-cefa9d19535a",
   "metadata": {
    "collapsed": true,
    "jupyter": {
     "outputs_hidden": true
    },
    "tags": []
   },
   "outputs": [
    {
     "name": "stdout",
     "output_type": "stream",
     "text": [
      "Feature Importances:\n",
      " NetIncomeLoss_2                               0.135976\n",
      "OperatingIncomeLoss_2                         0.021968\n",
      "EarningsPerShareBasicAndDiluted_2             0.021490\n",
      "EarningsPerShareBasic_2                       0.020015\n",
      "NetIncomeLoss_1                               0.014016\n",
      "                                                ...   \n",
      "CommonStockParOrStatedValuePerShare_2         0.000083\n",
      "PreferredStockSharesIssued_1                  0.000068\n",
      "NetCashProvidedByUsedInOperatingActivities    0.000064\n",
      "PreferredStockParOrStatedValuePerShare_2      0.000012\n",
      "PreferredStockParOrStatedValuePerShare_1      0.000007\n",
      "Length: 234, dtype: float64\n",
      "Training Accuracy: 0.7482935153583617\n",
      "Training ROC AUC: 0.8117524103922867\n",
      "Unseen Data Accuracy: 0.7568697729988052\n",
      "Unseen Data ROC AUC: 0.8183524595799292\n",
      "(0.0, (3905, 235))\n"
     ]
    },
    {
     "name": "stderr",
     "output_type": "stream",
     "text": [
      "/var/folders/rg/tjzq_l195rgdqwr9j37d24n00000gn/T/ipykernel_75536/1629834330.py:22: FutureWarning: The frame.append method is deprecated and will be removed from pandas in a future version. Use pandas.concat instead.\n",
      "  results_df = results_df.append({\n",
      "/var/folders/rg/tjzq_l195rgdqwr9j37d24n00000gn/T/ipykernel_75536/1629834330.py:37: FutureWarning: The frame.append method is deprecated and will be removed from pandas in a future version. Use pandas.concat instead.\n",
      "  feature_importances_df = feature_importances_df.append(temp_feature_importances_df, ignore_index=True)\n"
     ]
    },
    {
     "name": "stdout",
     "output_type": "stream",
     "text": [
      "Feature Importances:\n",
      " NetIncomeLoss_2                             0.142255\n",
      "OperatingIncomeLoss_2                       0.022635\n",
      "ProfitLoss_2                                0.019052\n",
      "EarningsPerShareBasic_2                     0.018937\n",
      "EarningsPerShareBasicAndDiluted_2           0.017713\n",
      "                                              ...   \n",
      "PreferredStockSharesAuthorized_1            0.000155\n",
      "PreferredStockSharesIssued_2                0.000025\n",
      "PreferredStockParOrStatedValuePerShare      0.000000\n",
      "PreferredStockSharesIssued                  0.000000\n",
      "PreferredStockParOrStatedValuePerShare_1    0.000000\n",
      "Length: 165, dtype: float64\n",
      "Training Accuracy: 0.7675675675675676\n",
      "Training ROC AUC: 0.8201677826120939\n",
      "Unseen Data Accuracy: 0.7364438839848676\n",
      "Unseen Data ROC AUC: 0.806950167396343\n",
      "(0.0, (1848, 166))\n"
     ]
    },
    {
     "name": "stderr",
     "output_type": "stream",
     "text": [
      "/var/folders/rg/tjzq_l195rgdqwr9j37d24n00000gn/T/ipykernel_75536/1629834330.py:22: FutureWarning: The frame.append method is deprecated and will be removed from pandas in a future version. Use pandas.concat instead.\n",
      "  results_df = results_df.append({\n",
      "/var/folders/rg/tjzq_l195rgdqwr9j37d24n00000gn/T/ipykernel_75536/1629834330.py:37: FutureWarning: The frame.append method is deprecated and will be removed from pandas in a future version. Use pandas.concat instead.\n",
      "  feature_importances_df = feature_importances_df.append(temp_feature_importances_df, ignore_index=True)\n"
     ]
    },
    {
     "name": "stdout",
     "output_type": "stream",
     "text": [
      "Feature Importances:\n",
      " NetIncomeLoss_2                                 0.158518\n",
      "EarningsPerShareBasicAndDiluted_2               0.026936\n",
      "OperatingIncomeLoss_2                           0.021586\n",
      "EarningsPerShareBasic_2                         0.018312\n",
      "ComprehensiveIncomeNetOfTax_2                   0.016010\n",
      "                                                  ...   \n",
      "PreferredStockParOrStatedValuePerShare_1        0.000159\n",
      "CommonStockParOrStatedValuePerShare_1           0.000146\n",
      "NetCashProvidedByUsedInOperatingActivities_2    0.000142\n",
      "PreferredStockParOrStatedValuePerShare_2        0.000099\n",
      "PreferredStockParOrStatedValuePerShare          0.000090\n",
      "Length: 237, dtype: float64\n",
      "Training Accuracy: 0.7680457746478874\n",
      "Training ROC AUC: 0.8289390691026597\n",
      "Unseen Data Accuracy: 0.7590509936835619\n",
      "Unseen Data ROC AUC: 0.8251155746532856\n",
      "(0.0, (15144, 238))\n"
     ]
    },
    {
     "name": "stderr",
     "output_type": "stream",
     "text": [
      "/var/folders/rg/tjzq_l195rgdqwr9j37d24n00000gn/T/ipykernel_75536/1629834330.py:22: FutureWarning: The frame.append method is deprecated and will be removed from pandas in a future version. Use pandas.concat instead.\n",
      "  results_df = results_df.append({\n",
      "/var/folders/rg/tjzq_l195rgdqwr9j37d24n00000gn/T/ipykernel_75536/1629834330.py:37: FutureWarning: The frame.append method is deprecated and will be removed from pandas in a future version. Use pandas.concat instead.\n",
      "  feature_importances_df = feature_importances_df.append(temp_feature_importances_df, ignore_index=True)\n"
     ]
    },
    {
     "name": "stdout",
     "output_type": "stream",
     "text": [
      "Feature Importances:\n",
      " NetIncomeLoss_2                          0.162624\n",
      "OperatingIncomeLoss_2                    0.019185\n",
      "GeneralAndAdministrativeExpense_2        0.016001\n",
      "LiabilitiesCurrent_2                     0.014515\n",
      "EarningsPerShareBasic_2                  0.014051\n",
      "                                           ...   \n",
      "PreferredStockSharesOutstanding          0.000029\n",
      "PreferredStockSharesIssued               0.000000\n",
      "PreferredStockSharesIssued_1             0.000000\n",
      "CommonStockParOrStatedValuePerShare_2    0.000000\n",
      "PreferredStockSharesOutstanding_2        0.000000\n",
      "Length: 189, dtype: float64\n",
      "Training Accuracy: 0.7525252525252525\n",
      "Training ROC AUC: 0.8122694321904911\n",
      "Unseen Data Accuracy: 0.7473498233215548\n",
      "Unseen Data ROC AUC: 0.8161262105592003\n",
      "(0.0, (1320, 190))\n"
     ]
    },
    {
     "name": "stderr",
     "output_type": "stream",
     "text": [
      "/var/folders/rg/tjzq_l195rgdqwr9j37d24n00000gn/T/ipykernel_75536/1629834330.py:22: FutureWarning: The frame.append method is deprecated and will be removed from pandas in a future version. Use pandas.concat instead.\n",
      "  results_df = results_df.append({\n",
      "/var/folders/rg/tjzq_l195rgdqwr9j37d24n00000gn/T/ipykernel_75536/1629834330.py:37: FutureWarning: The frame.append method is deprecated and will be removed from pandas in a future version. Use pandas.concat instead.\n",
      "  feature_importances_df = feature_importances_df.append(temp_feature_importances_df, ignore_index=True)\n"
     ]
    },
    {
     "name": "stdout",
     "output_type": "stream",
     "text": [
      "Feature Importances:\n",
      " NetIncomeLoss_2                             0.090144\n",
      "EarningsPerShareBasic_2                     0.052591\n",
      "EarningsPerShareDiluted_2                   0.043470\n",
      "OperatingIncomeLoss_2                       0.034689\n",
      "NetIncomeLoss_1                             0.012570\n",
      "                                              ...   \n",
      "PreferredStockValue_2                       0.000032\n",
      "PreferredStockParOrStatedValuePerShare_1    0.000032\n",
      "PreferredStockSharesOutstanding             0.000030\n",
      "PreferredStockSharesIssued_2                0.000000\n",
      "PreferredStockSharesIssued_1                0.000000\n",
      "Length: 297, dtype: float64\n",
      "Training Accuracy: 0.7309941520467836\n",
      "Training ROC AUC: 0.8032964167382499\n",
      "Unseen Data Accuracy: 0.732605729877217\n",
      "Unseen Data ROC AUC: 0.7986171619144908\n",
      "(0.0, (1708, 298))\n"
     ]
    },
    {
     "name": "stderr",
     "output_type": "stream",
     "text": [
      "/var/folders/rg/tjzq_l195rgdqwr9j37d24n00000gn/T/ipykernel_75536/1629834330.py:22: FutureWarning: The frame.append method is deprecated and will be removed from pandas in a future version. Use pandas.concat instead.\n",
      "  results_df = results_df.append({\n",
      "/var/folders/rg/tjzq_l195rgdqwr9j37d24n00000gn/T/ipykernel_75536/1629834330.py:37: FutureWarning: The frame.append method is deprecated and will be removed from pandas in a future version. Use pandas.concat instead.\n",
      "  feature_importances_df = feature_importances_df.append(temp_feature_importances_df, ignore_index=True)\n"
     ]
    },
    {
     "name": "stdout",
     "output_type": "stream",
     "text": [
      "Feature Importances:\n",
      " NetIncomeLoss_2                             0.114702\n",
      "EarningsPerShareDiluted_2                   0.031012\n",
      "EarningsPerShareBasic_2                     0.030758\n",
      "OperatingIncomeLoss_2                       0.022780\n",
      "OperatingIncomeLoss                         0.010781\n",
      "                                              ...   \n",
      "PreferredStockSharesAuthorized_1            0.000054\n",
      "PreferredStockParOrStatedValuePerShare_2    0.000043\n",
      "PreferredStockParOrStatedValuePerShare_1    0.000000\n",
      "PreferredStockValue                         0.000000\n",
      "PreferredStockValue_1                       0.000000\n",
      "Length: 246, dtype: float64\n",
      "Training Accuracy: 0.725752508361204\n",
      "Training ROC AUC: 0.7693461710703091\n",
      "Unseen Data Accuracy: 0.7242990654205608\n",
      "Unseen Data ROC AUC: 0.7959062396830637\n",
      "(0.0, (996, 247))\n"
     ]
    },
    {
     "name": "stderr",
     "output_type": "stream",
     "text": [
      "/var/folders/rg/tjzq_l195rgdqwr9j37d24n00000gn/T/ipykernel_75536/1629834330.py:22: FutureWarning: The frame.append method is deprecated and will be removed from pandas in a future version. Use pandas.concat instead.\n",
      "  results_df = results_df.append({\n",
      "/var/folders/rg/tjzq_l195rgdqwr9j37d24n00000gn/T/ipykernel_75536/1629834330.py:37: FutureWarning: The frame.append method is deprecated and will be removed from pandas in a future version. Use pandas.concat instead.\n",
      "  feature_importances_df = feature_importances_df.append(temp_feature_importances_df, ignore_index=True)\n"
     ]
    },
    {
     "name": "stdout",
     "output_type": "stream",
     "text": [
      "Feature Importances:\n",
      " NetIncomeLoss_2                                                                                  0.132813\n",
      "EarningsPerShareBasic_2                                                                          0.022478\n",
      "EarningsPerShareDiluted_2                                                                        0.020415\n",
      "NetIncomeLoss_1                                                                                  0.014913\n",
      "IncomeLossFromContinuingOperationsBeforeIncomeTaxesExtraordinaryItemsNoncontrollingInterest_2    0.013881\n",
      "                                                                                                   ...   \n",
      "PreferredStockValue_1                                                                            0.000250\n",
      "PreferredStockSharesIssued_2                                                                     0.000216\n",
      "PreferredStockParOrStatedValuePerShare                                                           0.000210\n",
      "PreferredStockParOrStatedValuePerShare_2                                                         0.000163\n",
      "PreferredStockParOrStatedValuePerShare_1                                                         0.000096\n",
      "Length: 168, dtype: float64\n",
      "Training Accuracy: 0.7822222222222223\n",
      "Training ROC AUC: 0.8387039203632831\n",
      "Unseen Data Accuracy: 0.7169517884914464\n",
      "Unseen Data ROC AUC: 0.7945093341319757\n",
      "(0.0, (1500, 169))\n"
     ]
    },
    {
     "name": "stderr",
     "output_type": "stream",
     "text": [
      "/var/folders/rg/tjzq_l195rgdqwr9j37d24n00000gn/T/ipykernel_75536/1629834330.py:22: FutureWarning: The frame.append method is deprecated and will be removed from pandas in a future version. Use pandas.concat instead.\n",
      "  results_df = results_df.append({\n",
      "/var/folders/rg/tjzq_l195rgdqwr9j37d24n00000gn/T/ipykernel_75536/1629834330.py:37: FutureWarning: The frame.append method is deprecated and will be removed from pandas in a future version. Use pandas.concat instead.\n",
      "  feature_importances_df = feature_importances_df.append(temp_feature_importances_df, ignore_index=True)\n"
     ]
    },
    {
     "name": "stdout",
     "output_type": "stream",
     "text": [
      "Feature Importances:\n",
      " NetIncomeLoss_2                                                  0.191668\n",
      "NetIncomeLoss_1                                                  0.024151\n",
      "StockholdersEquity_2                                             0.024006\n",
      "RetainedEarningsAccumulatedDeficit_2                             0.021261\n",
      "StockholdersEquity_1                                             0.020598\n",
      "                                                                   ...   \n",
      "UnrecognizedTaxBenefits                                          0.000000\n",
      "UnrecognizedTaxBenefitsIncomeTaxPenaltiesAndInterestAccrued      0.000000\n",
      "UnrecognizedTaxBenefitsIncomeTaxPenaltiesAndInterestAccrued_2    0.000000\n",
      "PreferredStockValue_1                                            0.000000\n",
      "PreferredStockSharesOutstanding_1                                0.000000\n",
      "Length: 129, dtype: float64\n",
      "Training Accuracy: 0.7811023622047244\n",
      "Training ROC AUC: 0.8480507394186639\n",
      "Unseen Data Accuracy: 0.7816979051819184\n",
      "Unseen Data ROC AUC: 0.8474990121993381\n",
      "(0.0, (4231, 130))\n"
     ]
    },
    {
     "name": "stderr",
     "output_type": "stream",
     "text": [
      "/var/folders/rg/tjzq_l195rgdqwr9j37d24n00000gn/T/ipykernel_75536/1629834330.py:22: FutureWarning: The frame.append method is deprecated and will be removed from pandas in a future version. Use pandas.concat instead.\n",
      "  results_df = results_df.append({\n",
      "/var/folders/rg/tjzq_l195rgdqwr9j37d24n00000gn/T/ipykernel_75536/1629834330.py:37: FutureWarning: The frame.append method is deprecated and will be removed from pandas in a future version. Use pandas.concat instead.\n",
      "  feature_importances_df = feature_importances_df.append(temp_feature_importances_df, ignore_index=True)\n"
     ]
    },
    {
     "name": "stdout",
     "output_type": "stream",
     "text": [
      "Feature Importances:\n",
      " NetIncomeLoss_2                                      0.126510\n",
      "EarningsPerShareDiluted_2                            0.035480\n",
      "ProfitLoss_2                                         0.034548\n",
      "EarningsPerShareBasic_2                              0.026473\n",
      "NetIncomeLossAvailableToCommonStockholdersBasic_2    0.020567\n",
      "                                                       ...   \n",
      "CommonStockParOrStatedValuePerShare_2                0.000028\n",
      "NetCashProvidedByUsedInInvestingActivities_1         0.000027\n",
      "PreferredStockParOrStatedValuePerShare_2             0.000011\n",
      "PreferredStockParOrStatedValuePerShare_1             0.000007\n",
      "NetCashProvidedByUsedInFinancingActivities_2         0.000000\n",
      "Length: 267, dtype: float64\n",
      "Training Accuracy: 0.7459554000874508\n",
      "Training ROC AUC: 0.8105462262124927\n",
      "Unseen Data Accuracy: 0.7468625650443832\n",
      "Unseen Data ROC AUC: 0.8138555551799647\n",
      "(0.0, (7623, 268))\n"
     ]
    },
    {
     "name": "stderr",
     "output_type": "stream",
     "text": [
      "/var/folders/rg/tjzq_l195rgdqwr9j37d24n00000gn/T/ipykernel_75536/1629834330.py:22: FutureWarning: The frame.append method is deprecated and will be removed from pandas in a future version. Use pandas.concat instead.\n",
      "  results_df = results_df.append({\n",
      "/var/folders/rg/tjzq_l195rgdqwr9j37d24n00000gn/T/ipykernel_75536/1629834330.py:37: FutureWarning: The frame.append method is deprecated and will be removed from pandas in a future version. Use pandas.concat instead.\n",
      "  feature_importances_df = feature_importances_df.append(temp_feature_importances_df, ignore_index=True)\n"
     ]
    },
    {
     "name": "stdout",
     "output_type": "stream",
     "text": [
      "Feature Importances:\n",
      " NetIncomeLoss_2                                 0.130361\n",
      "OperatingIncomeLoss_2                           0.020944\n",
      "EarningsPerShareDiluted_2                       0.015244\n",
      "EarningsPerShareBasicAndDiluted_2               0.013498\n",
      "EarningsPerShareBasic_2                         0.012321\n",
      "                                                  ...   \n",
      "PreferredStockParOrStatedValuePerShare_2        0.000000\n",
      "PreferredStockSharesIssued                      0.000000\n",
      "PreferredStockSharesOutstanding                 0.000000\n",
      "CommonStockParOrStatedValuePerShare_1           0.000000\n",
      "NetCashProvidedByUsedInOperatingActivities_2    0.000000\n",
      "Length: 246, dtype: float64\n",
      "Training Accuracy: 0.7083333333333334\n",
      "Training ROC AUC: 0.7604915497924749\n",
      "Unseen Data Accuracy: 0.7007299270072993\n",
      "Unseen Data ROC AUC: 0.7587391392200444\n",
      "(0.0, (1277, 247))\n"
     ]
    },
    {
     "name": "stderr",
     "output_type": "stream",
     "text": [
      "/var/folders/rg/tjzq_l195rgdqwr9j37d24n00000gn/T/ipykernel_75536/1629834330.py:22: FutureWarning: The frame.append method is deprecated and will be removed from pandas in a future version. Use pandas.concat instead.\n",
      "  results_df = results_df.append({\n",
      "/var/folders/rg/tjzq_l195rgdqwr9j37d24n00000gn/T/ipykernel_75536/1629834330.py:37: FutureWarning: The frame.append method is deprecated and will be removed from pandas in a future version. Use pandas.concat instead.\n",
      "  feature_importances_df = feature_importances_df.append(temp_feature_importances_df, ignore_index=True)\n"
     ]
    },
    {
     "name": "stdout",
     "output_type": "stream",
     "text": [
      "Feature Importances:\n",
      " NetIncomeLoss_2          0.239422\n",
      "NetIncomeLoss_1          0.029576\n",
      "NetIncomeLoss            0.022053\n",
      "Liabilities_2            0.019047\n",
      "Liabilities_1            0.018866\n",
      "                           ...   \n",
      "GainLossOnInvestments    0.004729\n",
      "ProfessionalFees         0.004567\n",
      "ProfessionalFees_1       0.004337\n",
      "InvestmentIncomeNet_2    0.004143\n",
      "ProfessionalFees_2       0.003342\n",
      "Length: 81, dtype: float64\n",
      "Training Accuracy: 0.7797147385103012\n",
      "Training ROC AUC: 0.8389712696941612\n",
      "Unseen Data Accuracy: 0.7480577136514983\n",
      "Unseen Data ROC AUC: 0.8348999198567315\n",
      "(0.0, (2101, 82))\n"
     ]
    },
    {
     "name": "stderr",
     "output_type": "stream",
     "text": [
      "/var/folders/rg/tjzq_l195rgdqwr9j37d24n00000gn/T/ipykernel_75536/1629834330.py:22: FutureWarning: The frame.append method is deprecated and will be removed from pandas in a future version. Use pandas.concat instead.\n",
      "  results_df = results_df.append({\n",
      "/var/folders/rg/tjzq_l195rgdqwr9j37d24n00000gn/T/ipykernel_75536/1629834330.py:37: FutureWarning: The frame.append method is deprecated and will be removed from pandas in a future version. Use pandas.concat instead.\n",
      "  feature_importances_df = feature_importances_df.append(temp_feature_importances_df, ignore_index=True)\n"
     ]
    },
    {
     "name": "stdout",
     "output_type": "stream",
     "text": [
      "Feature Importances:\n",
      " NetIncomeLoss_2                                 0.149438\n",
      "EarningsPerShareBasic_2                         0.019657\n",
      "EarningsPerShareDiluted_2                       0.015837\n",
      "ProfitLoss_2                                    0.015769\n",
      "OperatingIncomeLoss_2                           0.011235\n",
      "                                                  ...   \n",
      "PreferredStockParOrStatedValuePerShare_2        0.000044\n",
      "CommonStockParOrStatedValuePerShare_1           0.000016\n",
      "NetCashProvidedByUsedInFinancingActivities      0.000000\n",
      "NetCashProvidedByUsedInFinancingActivities_2    0.000000\n",
      "NetCashProvidedByUsedInOperatingActivities      0.000000\n",
      "Length: 294, dtype: float64\n",
      "Training Accuracy: 0.7484276729559748\n",
      "Training ROC AUC: 0.8034857437442996\n",
      "Unseen Data Accuracy: 0.7136563876651982\n",
      "Unseen Data ROC AUC: 0.7565794588710932\n",
      "(0.0, (1059, 295))\n"
     ]
    },
    {
     "name": "stderr",
     "output_type": "stream",
     "text": [
      "/var/folders/rg/tjzq_l195rgdqwr9j37d24n00000gn/T/ipykernel_75536/1629834330.py:22: FutureWarning: The frame.append method is deprecated and will be removed from pandas in a future version. Use pandas.concat instead.\n",
      "  results_df = results_df.append({\n",
      "/var/folders/rg/tjzq_l195rgdqwr9j37d24n00000gn/T/ipykernel_75536/1629834330.py:37: FutureWarning: The frame.append method is deprecated and will be removed from pandas in a future version. Use pandas.concat instead.\n",
      "  feature_importances_df = feature_importances_df.append(temp_feature_importances_df, ignore_index=True)\n"
     ]
    },
    {
     "name": "stdout",
     "output_type": "stream",
     "text": [
      "Feature Importances:\n",
      " NetIncomeLoss_2                                      0.104899\n",
      "EarningsPerShareDiluted_2                            0.046056\n",
      "EarningsPerShareBasic_2                              0.037176\n",
      "NetIncomeLossAvailableToCommonStockholdersBasic_2    0.017129\n",
      "IncomeTaxExpenseBenefit_2                            0.016772\n",
      "                                                       ...   \n",
      "NetCashProvidedByUsedInInvestingActivities           0.000000\n",
      "NetCashProvidedByUsedInInvestingActivities_1         0.000000\n",
      "NetCashProvidedByUsedInInvestingActivities_2         0.000000\n",
      "NetCashProvidedByUsedInOperatingActivities           0.000000\n",
      "NetCashProvidedByUsedInOperatingActivities_2         0.000000\n",
      "Length: 669, dtype: float64\n",
      "Training Accuracy: 0.7676125244618396\n",
      "Training ROC AUC: 0.81049522961739\n",
      "Unseen Data Accuracy: 0.7678082191780822\n",
      "Unseen Data ROC AUC: 0.8205709454556566\n",
      "(0.0, (6813, 670))\n"
     ]
    },
    {
     "name": "stderr",
     "output_type": "stream",
     "text": [
      "/var/folders/rg/tjzq_l195rgdqwr9j37d24n00000gn/T/ipykernel_75536/1629834330.py:22: FutureWarning: The frame.append method is deprecated and will be removed from pandas in a future version. Use pandas.concat instead.\n",
      "  results_df = results_df.append({\n",
      "/var/folders/rg/tjzq_l195rgdqwr9j37d24n00000gn/T/ipykernel_75536/1629834330.py:37: FutureWarning: The frame.append method is deprecated and will be removed from pandas in a future version. Use pandas.concat instead.\n",
      "  feature_importances_df = feature_importances_df.append(temp_feature_importances_df, ignore_index=True)\n"
     ]
    },
    {
     "name": "stdout",
     "output_type": "stream",
     "text": [
      "Feature Importances:\n",
      " NetIncomeLoss_2                               0.177610\n",
      "OperatingIncomeLoss_2                         0.023319\n",
      "NetIncomeLoss_1                               0.018452\n",
      "OperatingExpenses_2                           0.018205\n",
      "NetIncomeLoss                                 0.014889\n",
      "                                                ...   \n",
      "PreferredStockSharesOutstanding               0.000103\n",
      "PreferredStockParOrStatedValuePerShare_2      0.000086\n",
      "PreferredStockValue_1                         0.000083\n",
      "PreferredStockSharesOutstanding_1             0.000070\n",
      "NetCashProvidedByUsedInFinancingActivities    0.000025\n",
      "Length: 156, dtype: float64\n",
      "Training Accuracy: 0.7398058252427184\n",
      "Training ROC AUC: 0.8020028957528957\n",
      "Unseen Data Accuracy: 0.7105978260869565\n",
      "Unseen Data ROC AUC: 0.7663535181205179\n",
      "(0.0, (1715, 157))\n"
     ]
    },
    {
     "name": "stderr",
     "output_type": "stream",
     "text": [
      "/var/folders/rg/tjzq_l195rgdqwr9j37d24n00000gn/T/ipykernel_75536/1629834330.py:22: FutureWarning: The frame.append method is deprecated and will be removed from pandas in a future version. Use pandas.concat instead.\n",
      "  results_df = results_df.append({\n",
      "/var/folders/rg/tjzq_l195rgdqwr9j37d24n00000gn/T/ipykernel_75536/1629834330.py:37: FutureWarning: The frame.append method is deprecated and will be removed from pandas in a future version. Use pandas.concat instead.\n",
      "  feature_importances_df = feature_importances_df.append(temp_feature_importances_df, ignore_index=True)\n"
     ]
    },
    {
     "name": "stdout",
     "output_type": "stream",
     "text": [
      "Feature Importances:\n",
      " NetIncomeLoss_2                                                                                  0.169098\n",
      "OperatingIncomeLoss_2                                                                            0.021328\n",
      "NetIncomeLoss_1                                                                                  0.016595\n",
      "EarningsPerShareBasic_2                                                                          0.015898\n",
      "IncomeLossFromContinuingOperationsBeforeIncomeTaxesExtraordinaryItemsNoncontrollingInterest_2    0.015860\n",
      "                                                                                                   ...   \n",
      "PreferredStockSharesIssued                                                                       0.000133\n",
      "PreferredStockSharesIssued_1                                                                     0.000114\n",
      "NetCashProvidedByUsedInFinancingActivities_1                                                     0.000083\n",
      "PreferredStockSharesOutstanding                                                                  0.000054\n",
      "PreferredStockSharesIssued_2                                                                     0.000027\n",
      "Length: 198, dtype: float64\n",
      "Training Accuracy: 0.7426778242677824\n",
      "Training ROC AUC: 0.794898316970547\n",
      "Unseen Data Accuracy: 0.7408491947291361\n",
      "Unseen Data ROC AUC: 0.7944918909592822\n",
      "(0.0, (1591, 199))\n"
     ]
    },
    {
     "name": "stderr",
     "output_type": "stream",
     "text": [
      "/var/folders/rg/tjzq_l195rgdqwr9j37d24n00000gn/T/ipykernel_75536/1629834330.py:22: FutureWarning: The frame.append method is deprecated and will be removed from pandas in a future version. Use pandas.concat instead.\n",
      "  results_df = results_df.append({\n",
      "/var/folders/rg/tjzq_l195rgdqwr9j37d24n00000gn/T/ipykernel_75536/1629834330.py:37: FutureWarning: The frame.append method is deprecated and will be removed from pandas in a future version. Use pandas.concat instead.\n",
      "  feature_importances_df = feature_importances_df.append(temp_feature_importances_df, ignore_index=True)\n"
     ]
    },
    {
     "name": "stdout",
     "output_type": "stream",
     "text": [
      "Feature Importances:\n",
      " NetIncomeLoss_2                                      0.081004\n",
      "EarningsPerShareBasic_2                              0.038884\n",
      "EarningsPerShareDiluted_2                            0.033707\n",
      "NetIncomeLossAvailableToCommonStockholdersBasic_2    0.015405\n",
      "IncomeTaxExpenseBenefit_2                            0.012845\n",
      "                                                       ...   \n",
      "NetCashProvidedByUsedInOperatingActivities_1         0.000000\n",
      "NetCashProvidedByUsedInFinancingActivities_2         0.000000\n",
      "NetCashProvidedByUsedInOperatingActivities           0.000000\n",
      "NetCashProvidedByUsedInInvestingActivities           0.000000\n",
      "CommonStockParOrStatedValuePerShare_2                0.000000\n",
      "Length: 669, dtype: float64\n",
      "Training Accuracy: 0.7720156555772995\n",
      "Training ROC AUC: 0.8310208107689926\n",
      "Unseen Data Accuracy: 0.7655928718300206\n",
      "Unseen Data ROC AUC: 0.8215304055854608\n",
      "(0.0, (3404, 670))\n"
     ]
    },
    {
     "name": "stderr",
     "output_type": "stream",
     "text": [
      "/var/folders/rg/tjzq_l195rgdqwr9j37d24n00000gn/T/ipykernel_75536/1629834330.py:22: FutureWarning: The frame.append method is deprecated and will be removed from pandas in a future version. Use pandas.concat instead.\n",
      "  results_df = results_df.append({\n",
      "/var/folders/rg/tjzq_l195rgdqwr9j37d24n00000gn/T/ipykernel_75536/1629834330.py:37: FutureWarning: The frame.append method is deprecated and will be removed from pandas in a future version. Use pandas.concat instead.\n",
      "  feature_importances_df = feature_importances_df.append(temp_feature_importances_df, ignore_index=True)\n"
     ]
    },
    {
     "name": "stdout",
     "output_type": "stream",
     "text": [
      "Feature Importances:\n",
      " NetIncomeLoss_2                                                                                                  0.096562\n",
      "EarningsPerShareDiluted_2                                                                                        0.029628\n",
      "EarningsPerShareBasic_2                                                                                          0.022558\n",
      "IncomeLossFromContinuingOperationsBeforeIncomeTaxesMinorityInterestAndIncomeLossFromEquityMethodInvestments_2    0.014559\n",
      "IncomeTaxExpenseBenefit_2                                                                                        0.012483\n",
      "                                                                                                                   ...   \n",
      "PreferredStockValue                                                                                              0.000000\n",
      "PreferredStockParOrStatedValuePerShare_2                                                                         0.000000\n",
      "PaymentsToAcquirePropertyPlantAndEquipment_2                                                                     0.000000\n",
      "PaymentsToAcquirePropertyPlantAndEquipment                                                                       0.000000\n",
      "PreferredStockParOrStatedValuePerShare                                                                           0.000000\n",
      "Length: 588, dtype: float64\n",
      "Training Accuracy: 0.7576642335766424\n",
      "Training ROC AUC: 0.8161371500471846\n",
      "Unseen Data Accuracy: 0.7548518896833504\n",
      "Unseen Data ROC AUC: 0.8081883346343347\n",
      "(0.0, (2282, 589))\n"
     ]
    },
    {
     "name": "stderr",
     "output_type": "stream",
     "text": [
      "/var/folders/rg/tjzq_l195rgdqwr9j37d24n00000gn/T/ipykernel_75536/1629834330.py:22: FutureWarning: The frame.append method is deprecated and will be removed from pandas in a future version. Use pandas.concat instead.\n",
      "  results_df = results_df.append({\n",
      "/var/folders/rg/tjzq_l195rgdqwr9j37d24n00000gn/T/ipykernel_75536/1629834330.py:37: FutureWarning: The frame.append method is deprecated and will be removed from pandas in a future version. Use pandas.concat instead.\n",
      "  feature_importances_df = feature_importances_df.append(temp_feature_importances_df, ignore_index=True)\n"
     ]
    },
    {
     "name": "stdout",
     "output_type": "stream",
     "text": [
      "Feature Importances:\n",
      " NetIncomeLoss_2                             0.155626\n",
      "EarningsPerShareDiluted_2                   0.022179\n",
      "EarningsPerShareBasic_2                     0.017006\n",
      "ComprehensiveIncomeNetOfTax_2               0.015227\n",
      "OperatingIncomeLoss_2                       0.014377\n",
      "                                              ...   \n",
      "PreferredStockParOrStatedValuePerShare      0.000000\n",
      "CommonStockParOrStatedValuePerShare_1       0.000000\n",
      "CommonStockParOrStatedValuePerShare         0.000000\n",
      "PreferredStockParOrStatedValuePerShare_2    0.000000\n",
      "CommonStockParOrStatedValuePerShare_2       0.000000\n",
      "Length: 288, dtype: float64\n",
      "Training Accuracy: 0.6817102137767221\n",
      "Training ROC AUC: 0.7473889143380669\n",
      "Unseen Data Accuracy: 0.6993355481727574\n",
      "Unseen Data ROC AUC: 0.7525840224059749\n",
      "(0.0, (1403, 289))\n"
     ]
    },
    {
     "name": "stderr",
     "output_type": "stream",
     "text": [
      "/var/folders/rg/tjzq_l195rgdqwr9j37d24n00000gn/T/ipykernel_75536/1629834330.py:22: FutureWarning: The frame.append method is deprecated and will be removed from pandas in a future version. Use pandas.concat instead.\n",
      "  results_df = results_df.append({\n",
      "/var/folders/rg/tjzq_l195rgdqwr9j37d24n00000gn/T/ipykernel_75536/1629834330.py:37: FutureWarning: The frame.append method is deprecated and will be removed from pandas in a future version. Use pandas.concat instead.\n",
      "  feature_importances_df = feature_importances_df.append(temp_feature_importances_df, ignore_index=True)\n"
     ]
    },
    {
     "name": "stdout",
     "output_type": "stream",
     "text": [
      "Feature Importances:\n",
      " NetIncomeLoss_2                                                                                  0.153698\n",
      "EarningsPerShareBasic_2                                                                          0.023140\n",
      "EarningsPerShareDiluted_2                                                                        0.021633\n",
      "IncomeLossFromContinuingOperationsBeforeIncomeTaxesExtraordinaryItemsNoncontrollingInterest_2    0.012051\n",
      "NetIncomeLoss_1                                                                                  0.010443\n",
      "                                                                                                   ...   \n",
      "NetCashProvidedByUsedInFinancingActivities_1                                                     0.000114\n",
      "PreferredStockParOrStatedValuePerShare_2                                                         0.000109\n",
      "PreferredStockValue_1                                                                            0.000108\n",
      "PreferredStockSharesAuthorized_2                                                                 0.000096\n",
      "PreferredStockSharesAuthorized                                                                   0.000029\n",
      "Length: 261, dtype: float64\n",
      "Training Accuracy: 0.7404682274247492\n",
      "Training ROC AUC: 0.7998914835263715\n",
      "Unseen Data Accuracy: 0.726123595505618\n",
      "Unseen Data ROC AUC: 0.8035776505286275\n",
      "(0.0, (4982, 262))\n"
     ]
    },
    {
     "name": "stderr",
     "output_type": "stream",
     "text": [
      "/var/folders/rg/tjzq_l195rgdqwr9j37d24n00000gn/T/ipykernel_75536/1629834330.py:22: FutureWarning: The frame.append method is deprecated and will be removed from pandas in a future version. Use pandas.concat instead.\n",
      "  results_df = results_df.append({\n",
      "/var/folders/rg/tjzq_l195rgdqwr9j37d24n00000gn/T/ipykernel_75536/1629834330.py:37: FutureWarning: The frame.append method is deprecated and will be removed from pandas in a future version. Use pandas.concat instead.\n",
      "  feature_importances_df = feature_importances_df.append(temp_feature_importances_df, ignore_index=True)\n"
     ]
    },
    {
     "name": "stdout",
     "output_type": "stream",
     "text": [
      "Feature Importances:\n",
      " NetIncomeLoss_2                                                                                  0.099096\n",
      "EarningsPerShareBasic_2                                                                          0.047805\n",
      "EarningsPerShareDiluted_2                                                                        0.047556\n",
      "ProfitLoss_2                                                                                     0.012712\n",
      "IncomeLossFromContinuingOperationsBeforeIncomeTaxesExtraordinaryItemsNoncontrollingInterest_2    0.012114\n",
      "                                                                                                   ...   \n",
      "PreferredStockSharesAuthorized_1                                                                 0.000000\n",
      "NetCashProvidedByUsedInInvestingActivities_1                                                     0.000000\n",
      "NetCashProvidedByUsedInInvestingActivities_2                                                     0.000000\n",
      "NetCashProvidedByUsedInOperatingActivities_1                                                     0.000000\n",
      "PreferredStockParOrStatedValuePerShare_2                                                         0.000000\n",
      "Length: 483, dtype: float64\n",
      "Training Accuracy: 0.7145390070921985\n",
      "Training ROC AUC: 0.7874275636180398\n",
      "Unseen Data Accuracy: 0.7236679058240396\n",
      "Unseen Data ROC AUC: 0.8013283013283012\n",
      "(0.0, (1880, 484))\n"
     ]
    },
    {
     "name": "stderr",
     "output_type": "stream",
     "text": [
      "/var/folders/rg/tjzq_l195rgdqwr9j37d24n00000gn/T/ipykernel_75536/1629834330.py:22: FutureWarning: The frame.append method is deprecated and will be removed from pandas in a future version. Use pandas.concat instead.\n",
      "  results_df = results_df.append({\n",
      "/var/folders/rg/tjzq_l195rgdqwr9j37d24n00000gn/T/ipykernel_75536/1629834330.py:37: FutureWarning: The frame.append method is deprecated and will be removed from pandas in a future version. Use pandas.concat instead.\n",
      "  feature_importances_df = feature_importances_df.append(temp_feature_importances_df, ignore_index=True)\n"
     ]
    },
    {
     "name": "stdout",
     "output_type": "stream",
     "text": [
      "Feature Importances:\n",
      " NetIncomeLoss_2                             0.119592\n",
      "EarningsPerShareDiluted_2                   0.025903\n",
      "EarningsPerShareBasic_2                     0.022349\n",
      "OperatingIncomeLoss_2                       0.020632\n",
      "RetainedEarningsAccumulatedDeficit_2        0.015629\n",
      "                                              ...   \n",
      "PreferredStockValue                         0.000067\n",
      "PreferredStockValue_2                       0.000041\n",
      "PreferredStockParOrStatedValuePerShare_1    0.000024\n",
      "CommonStockParOrStatedValuePerShare_1       0.000007\n",
      "PreferredStockValue_1                       0.000000\n",
      "Length: 246, dtype: float64\n",
      "Training Accuracy: 0.7604456824512534\n",
      "Training ROC AUC: 0.7935795705019209\n",
      "Unseen Data Accuracy: 0.708984375\n",
      "Unseen Data ROC AUC: 0.7908287140959274\n",
      "(0.0, (1194, 247))\n"
     ]
    },
    {
     "name": "stderr",
     "output_type": "stream",
     "text": [
      "/var/folders/rg/tjzq_l195rgdqwr9j37d24n00000gn/T/ipykernel_75536/1629834330.py:22: FutureWarning: The frame.append method is deprecated and will be removed from pandas in a future version. Use pandas.concat instead.\n",
      "  results_df = results_df.append({\n",
      "/var/folders/rg/tjzq_l195rgdqwr9j37d24n00000gn/T/ipykernel_75536/1629834330.py:37: FutureWarning: The frame.append method is deprecated and will be removed from pandas in a future version. Use pandas.concat instead.\n",
      "  feature_importances_df = feature_importances_df.append(temp_feature_importances_df, ignore_index=True)\n"
     ]
    },
    {
     "name": "stdout",
     "output_type": "stream",
     "text": [
      "Feature Importances:\n",
      " NetIncomeLoss_2                                                                                  0.104505\n",
      "EarningsPerShareDiluted_2                                                                        0.030184\n",
      "EarningsPerShareBasic_2                                                                          0.027846\n",
      "OperatingIncomeLoss_2                                                                            0.014155\n",
      "IncomeLossFromContinuingOperationsBeforeIncomeTaxesExtraordinaryItemsNoncontrollingInterest_2    0.012046\n",
      "                                                                                                   ...   \n",
      "PreferredStockSharesIssued_2                                                                     0.000000\n",
      "PreferredStockSharesIssued_1                                                                     0.000000\n",
      "NetCashProvidedByUsedInOperatingActivities_1                                                     0.000000\n",
      "PreferredStockParOrStatedValuePerShare_1                                                         0.000000\n",
      "PreferredStockParOrStatedValuePerShare                                                           0.000000\n",
      "Length: 315, dtype: float64\n",
      "Training Accuracy: 0.743073047858942\n",
      "Training ROC AUC: 0.8084607411246437\n",
      "Unseen Data Accuracy: 0.6936619718309859\n",
      "Unseen Data ROC AUC: 0.7720854475975695\n",
      "(0.0, (1323, 316))\n"
     ]
    },
    {
     "name": "stderr",
     "output_type": "stream",
     "text": [
      "/var/folders/rg/tjzq_l195rgdqwr9j37d24n00000gn/T/ipykernel_75536/1629834330.py:22: FutureWarning: The frame.append method is deprecated and will be removed from pandas in a future version. Use pandas.concat instead.\n",
      "  results_df = results_df.append({\n",
      "/var/folders/rg/tjzq_l195rgdqwr9j37d24n00000gn/T/ipykernel_75536/1629834330.py:37: FutureWarning: The frame.append method is deprecated and will be removed from pandas in a future version. Use pandas.concat instead.\n",
      "  feature_importances_df = feature_importances_df.append(temp_feature_importances_df, ignore_index=True)\n"
     ]
    },
    {
     "name": "stdout",
     "output_type": "stream",
     "text": [
      "Feature Importances:\n",
      " NetIncomeLoss_2                             0.158268\n",
      "EarningsPerShareDiluted_2                   0.020760\n",
      "EarningsPerShareBasic_2                     0.020521\n",
      "OperatingIncomeLoss_2                       0.018989\n",
      "EarningsPerShareBasicAndDiluted_2           0.016357\n",
      "                                              ...   \n",
      "CommonStockParOrStatedValuePerShare_2       0.000047\n",
      "PreferredStockParOrStatedValuePerShare      0.000011\n",
      "PreferredStockParOrStatedValuePerShare_1    0.000010\n",
      "CommonStockParOrStatedValuePerShare         0.000000\n",
      "CommonStockParOrStatedValuePerShare_1       0.000000\n",
      "Length: 294, dtype: float64\n",
      "Training Accuracy: 0.7509912767644726\n",
      "Training ROC AUC: 0.7929090734798491\n",
      "Unseen Data Accuracy: 0.7340366463076069\n",
      "Unseen Data ROC AUC: 0.7878696009066584\n",
      "(0.0, (4201, 295))\n"
     ]
    },
    {
     "name": "stderr",
     "output_type": "stream",
     "text": [
      "/var/folders/rg/tjzq_l195rgdqwr9j37d24n00000gn/T/ipykernel_75536/1629834330.py:22: FutureWarning: The frame.append method is deprecated and will be removed from pandas in a future version. Use pandas.concat instead.\n",
      "  results_df = results_df.append({\n",
      "/var/folders/rg/tjzq_l195rgdqwr9j37d24n00000gn/T/ipykernel_75536/1629834330.py:37: FutureWarning: The frame.append method is deprecated and will be removed from pandas in a future version. Use pandas.concat instead.\n",
      "  feature_importances_df = feature_importances_df.append(temp_feature_importances_df, ignore_index=True)\n"
     ]
    },
    {
     "name": "stdout",
     "output_type": "stream",
     "text": [
      "Feature Importances:\n",
      " NetIncomeLoss_2                                                                                  0.145604\n",
      "EarningsPerShareDiluted_2                                                                        0.024155\n",
      "OperatingIncomeLoss_2                                                                            0.019150\n",
      "EarningsPerShareBasic_2                                                                          0.019045\n",
      "IncomeLossFromContinuingOperationsBeforeIncomeTaxesExtraordinaryItemsNoncontrollingInterest_2    0.012959\n",
      "                                                                                                   ...   \n",
      "CommonStockParOrStatedValuePerShare_2                                                            0.000121\n",
      "PreferredStockParOrStatedValuePerShare_2                                                         0.000108\n",
      "PreferredStockValue_2                                                                            0.000102\n",
      "PreferredStockValue_1                                                                            0.000101\n",
      "PreferredStockParOrStatedValuePerShare_1                                                         0.000064\n",
      "Length: 264, dtype: float64\n",
      "Training Accuracy: 0.7463734206832008\n",
      "Training ROC AUC: 0.80774336438989\n",
      "Unseen Data Accuracy: 0.7332896461336829\n",
      "Unseen Data ROC AUC: 0.7982642251815981\n",
      "(0.0, (7121, 265))\n"
     ]
    },
    {
     "name": "stderr",
     "output_type": "stream",
     "text": [
      "/var/folders/rg/tjzq_l195rgdqwr9j37d24n00000gn/T/ipykernel_75536/1629834330.py:22: FutureWarning: The frame.append method is deprecated and will be removed from pandas in a future version. Use pandas.concat instead.\n",
      "  results_df = results_df.append({\n",
      "/var/folders/rg/tjzq_l195rgdqwr9j37d24n00000gn/T/ipykernel_75536/1629834330.py:37: FutureWarning: The frame.append method is deprecated and will be removed from pandas in a future version. Use pandas.concat instead.\n",
      "  feature_importances_df = feature_importances_df.append(temp_feature_importances_df, ignore_index=True)\n"
     ]
    },
    {
     "name": "stdout",
     "output_type": "stream",
     "text": [
      "Feature Importances:\n",
      " NetIncomeLoss_2                                                                                  0.148878\n",
      "EarningsPerShareDiluted_2                                                                        0.027612\n",
      "EarningsPerShareBasic_2                                                                          0.020394\n",
      "OperatingIncomeLoss_2                                                                            0.019550\n",
      "IncomeLossFromContinuingOperationsBeforeIncomeTaxesExtraordinaryItemsNoncontrollingInterest_2    0.010856\n",
      "                                                                                                   ...   \n",
      "PreferredStockParOrStatedValuePerShare_2                                                         0.000104\n",
      "NetCashProvidedByUsedInFinancingActivities                                                       0.000087\n",
      "PreferredStockSharesOutstanding_1                                                                0.000073\n",
      "PreferredStockParOrStatedValuePerShare                                                           0.000069\n",
      "PreferredStockParOrStatedValuePerShare_1                                                         0.000048\n",
      "Length: 273, dtype: float64\n",
      "Training Accuracy: 0.7466666666666667\n",
      "Training ROC AUC: 0.7978873724841468\n",
      "Unseen Data Accuracy: 0.7375068643602416\n",
      "Unseen Data ROC AUC: 0.7983632963320463\n",
      "(0.0, (4249, 274))\n"
     ]
    },
    {
     "name": "stderr",
     "output_type": "stream",
     "text": [
      "/var/folders/rg/tjzq_l195rgdqwr9j37d24n00000gn/T/ipykernel_75536/1629834330.py:22: FutureWarning: The frame.append method is deprecated and will be removed from pandas in a future version. Use pandas.concat instead.\n",
      "  results_df = results_df.append({\n",
      "/var/folders/rg/tjzq_l195rgdqwr9j37d24n00000gn/T/ipykernel_75536/1629834330.py:37: FutureWarning: The frame.append method is deprecated and will be removed from pandas in a future version. Use pandas.concat instead.\n",
      "  feature_importances_df = feature_importances_df.append(temp_feature_importances_df, ignore_index=True)\n"
     ]
    },
    {
     "name": "stdout",
     "output_type": "stream",
     "text": [
      "Feature Importances:\n",
      " NetIncomeLoss_2                                 0.093086\n",
      "EarningsPerShareDiluted_2                       0.029413\n",
      "OperatingIncomeLoss_2                           0.024152\n",
      "EarningsPerShareBasic_2                         0.021287\n",
      "ProfitLoss_2                                    0.015612\n",
      "                                                  ...   \n",
      "PreferredStockSharesAuthorized                  0.000000\n",
      "PreferredStockSharesAuthorized_1                0.000000\n",
      "CommonStockParOrStatedValuePerShare_1           0.000000\n",
      "CommonStockParOrStatedValuePerShare_2           0.000000\n",
      "NetCashProvidedByUsedInInvestingActivities_2    0.000000\n",
      "Length: 315, dtype: float64\n",
      "Training Accuracy: 0.753731343283582\n",
      "Training ROC AUC: 0.8399668119675056\n",
      "Unseen Data Accuracy: 0.7613240418118467\n",
      "Unseen Data ROC AUC: 0.8266449614671739\n",
      "(0.0, (1338, 316))\n"
     ]
    },
    {
     "name": "stderr",
     "output_type": "stream",
     "text": [
      "/var/folders/rg/tjzq_l195rgdqwr9j37d24n00000gn/T/ipykernel_75536/1629834330.py:22: FutureWarning: The frame.append method is deprecated and will be removed from pandas in a future version. Use pandas.concat instead.\n",
      "  results_df = results_df.append({\n",
      "/var/folders/rg/tjzq_l195rgdqwr9j37d24n00000gn/T/ipykernel_75536/1629834330.py:37: FutureWarning: The frame.append method is deprecated and will be removed from pandas in a future version. Use pandas.concat instead.\n",
      "  feature_importances_df = feature_importances_df.append(temp_feature_importances_df, ignore_index=True)\n"
     ]
    },
    {
     "name": "stdout",
     "output_type": "stream",
     "text": [
      "Feature Importances:\n",
      " NetIncomeLoss_2                             0.104504\n",
      "EarningsPerShareDiluted_2                   0.037603\n",
      "EarningsPerShareBasic_2                     0.033294\n",
      "ComprehensiveIncomeNetOfTax_2               0.011036\n",
      "OperatingIncomeLoss_2                       0.010417\n",
      "                                              ...   \n",
      "PreferredStockParOrStatedValuePerShare_1    0.000000\n",
      "PreferredStockParOrStatedValuePerShare      0.000000\n",
      "PreferredStockSharesIssued_1                0.000000\n",
      "PreferredStockValue                         0.000000\n",
      "PreferredStockValue_1                       0.000000\n",
      "Length: 369, dtype: float64\n",
      "Training Accuracy: 0.7191780821917808\n",
      "Training ROC AUC: 0.7807209417660724\n",
      "Unseen Data Accuracy: 0.7050359712230215\n",
      "Unseen Data ROC AUC: 0.7785210357659706\n",
      "(0.0, (2918, 370))\n"
     ]
    },
    {
     "name": "stderr",
     "output_type": "stream",
     "text": [
      "/var/folders/rg/tjzq_l195rgdqwr9j37d24n00000gn/T/ipykernel_75536/1629834330.py:22: FutureWarning: The frame.append method is deprecated and will be removed from pandas in a future version. Use pandas.concat instead.\n",
      "  results_df = results_df.append({\n",
      "/var/folders/rg/tjzq_l195rgdqwr9j37d24n00000gn/T/ipykernel_75536/1629834330.py:37: FutureWarning: The frame.append method is deprecated and will be removed from pandas in a future version. Use pandas.concat instead.\n",
      "  feature_importances_df = feature_importances_df.append(temp_feature_importances_df, ignore_index=True)\n"
     ]
    },
    {
     "name": "stdout",
     "output_type": "stream",
     "text": [
      "Feature Importances:\n",
      " NetIncomeLoss_2                                                                                  0.149539\n",
      "IncomeLossFromContinuingOperationsBeforeIncomeTaxesExtraordinaryItemsNoncontrollingInterest_2    0.021186\n",
      "OperatingIncomeLoss_2                                                                            0.019588\n",
      "EarningsPerShareBasic_2                                                                          0.017529\n",
      "OperatingExpenses_2                                                                              0.013460\n",
      "                                                                                                   ...   \n",
      "PreferredStockSharesIssued_1                                                                     0.000064\n",
      "PreferredStockParOrStatedValuePerShare_1                                                         0.000049\n",
      "CommonStockParOrStatedValuePerShare_2                                                            0.000042\n",
      "PreferredStockValue_2                                                                            0.000039\n",
      "PreferredStockValue                                                                              0.000000\n",
      "Length: 261, dtype: float64\n",
      "Training Accuracy: 0.7427385892116183\n",
      "Training ROC AUC: 0.8127326302729527\n",
      "Unseen Data Accuracy: 0.7405614714424008\n",
      "Unseen Data ROC AUC: 0.796705305125751\n",
      "(0.0, (2409, 262))\n"
     ]
    },
    {
     "name": "stderr",
     "output_type": "stream",
     "text": [
      "/var/folders/rg/tjzq_l195rgdqwr9j37d24n00000gn/T/ipykernel_75536/1629834330.py:22: FutureWarning: The frame.append method is deprecated and will be removed from pandas in a future version. Use pandas.concat instead.\n",
      "  results_df = results_df.append({\n",
      "/var/folders/rg/tjzq_l195rgdqwr9j37d24n00000gn/T/ipykernel_75536/1629834330.py:37: FutureWarning: The frame.append method is deprecated and will be removed from pandas in a future version. Use pandas.concat instead.\n",
      "  feature_importances_df = feature_importances_df.append(temp_feature_importances_df, ignore_index=True)\n"
     ]
    }
   ],
   "source": [
    "import os\n",
    "import pandas as pd\n",
    "\n",
    "lvl1      = 'CIK'     # Level 1 index to pivot.\n",
    "lvl2      = 'Frame'   # Level 2 index to pivot. \n",
    "shifts    = 2         # Number of Shifts/Lags\n",
    "chunks    = 10        # Chunks to Divide\n",
    "threshold = 0.8       # Threshold of Missing Values in a column\n",
    "target    = f'NetIncomeLoss_{shifts}' # Target column make into target.\n",
    "test_size = 0.3       # Test split size for first round.\n",
    "results_df = pd.DataFrame(columns=['File', 'Train Accuracy', 'Train ROC AUC', 'Unseen Accuracy', 'Unseen ROC AUC', 'Shape'])\n",
    "\n",
    "# New DataFrame to store feature importances\n",
    "feature_importances_df = pd.DataFrame()\n",
    "\n",
    "for i in os.listdir('sics_merged'):\n",
    "    if i.endswith('.csv'):\n",
    "        df = pd.read_csv(f'sics_merged/{i}')\n",
    "        df_shape, train_accuracy, train_roc_auc, unseen_accuracy, unseen_roc_auc, feature_importances = everything_quarter(df, lvl1, lvl2, shifts, chunks, threshold, target, test_size)\n",
    "        \n",
    "        # Append results to the results dataframe\n",
    "        results_df = results_df.append({\n",
    "            'File': i,\n",
    "            'Train Accuracy': train_accuracy,\n",
    "            'Train ROC AUC': train_roc_auc,\n",
    "            'Unseen Accuracy': unseen_accuracy,\n",
    "            'Unseen ROC AUC': unseen_roc_auc,\n",
    "            'Shape': df_shape\n",
    "        }, ignore_index=True)\n",
    "\n",
    "        # Create a temporary DataFrame for the current file's feature importances\n",
    "        temp_feature_importances_df = pd.DataFrame(feature_importances)\n",
    "        temp_feature_importances_df = temp_feature_importances_df.reset_index()\n",
    "        temp_feature_importances_df['File'] = i\n",
    "        \n",
    "        # Append the temporary DataFrame to the main feature importances DataFrame\n",
    "        feature_importances_df = feature_importances_df.append(temp_feature_importances_df, ignore_index=True)\n",
    "\n",
    "# Save the results and feature importances DataFrames\n",
    "results_df.to_csv('all_sics_result_quarter.csv', mode='w', index=False)\n",
    "feature_importances_df.to_csv('all_sics_feature_importances_quarter.csv', mode='w', index=False)\n"
   ]
  },
  {
   "cell_type": "code",
   "execution_count": null,
   "id": "536d407a-eac4-4272-b665-41d12d0c112a",
   "metadata": {},
   "outputs": [],
   "source": []
  }
 ],
 "metadata": {
  "kernelspec": {
   "display_name": "Python 3 (ipykernel)",
   "language": "python",
   "name": "python3"
  },
  "language_info": {
   "codemirror_mode": {
    "name": "ipython",
    "version": 3
   },
   "file_extension": ".py",
   "mimetype": "text/x-python",
   "name": "python",
   "nbconvert_exporter": "python",
   "pygments_lexer": "ipython3",
   "version": "3.10.9"
  }
 },
 "nbformat": 4,
 "nbformat_minor": 5
}
