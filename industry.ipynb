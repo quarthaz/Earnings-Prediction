{
 "cells": [
  {
   "cell_type": "code",
   "execution_count": 1,
   "id": "592864fa-84f3-4d7a-bc4f-7e76e7c6ecc7",
   "metadata": {},
   "outputs": [],
   "source": [
    "import pandas as pd\n",
    "import os\n",
    "import json\n",
    "import numpy as np\n",
    "from functions import Convertor_Single\n",
    "from functions import Convertor_Multiple\n",
    "from functions import df_info\n",
    "from functions import df_process_num\n",
    "from functions import df_reshape\n",
    "from functions import random_forest_classifier\n",
    "from functions import df_pivot_multiple\n",
    "from functions import pivot_diff_lag\n",
    "from functions import merge_json_data\n",
    "from functions import retrieve_and_merge_data"
   ]
  },
  {
   "cell_type": "markdown",
   "id": "c9ae65c0-b8b9-42ba-8dfa-e2eae9a3098e",
   "metadata": {
    "tags": []
   },
   "source": [
    "## STEP01: Transform CIK into JSON name format."
   ]
  },
  {
   "cell_type": "code",
   "execution_count": null,
   "id": "6280a3ee-d192-48f6-9a30-5b90de37e736",
   "metadata": {},
   "outputs": [],
   "source": [
    "df = pd.read_csv('Clustering Structure/df_clustered_80.csv')"
   ]
  },
  {
   "cell_type": "code",
   "execution_count": null,
   "id": "228b8b1c-47a9-418f-89b1-1f0259b97bc8",
   "metadata": {},
   "outputs": [],
   "source": [
    "similar_companies = list(df['CIK'].unique())"
   ]
  },
  {
   "cell_type": "code",
   "execution_count": null,
   "id": "69c8dd35-923e-4459-a54b-6dbd926b5ae7",
   "metadata": {},
   "outputs": [],
   "source": [
    "def num_to_cik(num_list):\n",
    "    newlist = []\n",
    "    for i in similar_companies:\n",
    "        if len(str(i))==4:\n",
    "            newlist.append('CIK000000' + str(i)+'.json')\n",
    "        if len(str(i))==5:\n",
    "            newlist.append('CIK00000' + str(i)+'.json')\n",
    "        if len(str(i))==6:\n",
    "            newlist.append('CIK0000' + str(i)+'.json')\n",
    "        if len(str(i))==7:\n",
    "            newlist.append('CIK000' + str(i)+'.json')\n",
    "    return newlist"
   ]
  },
  {
   "cell_type": "code",
   "execution_count": null,
   "id": "2264a63e-7600-44c7-81bf-0a84ea65a2e1",
   "metadata": {},
   "outputs": [],
   "source": [
    "newlist = []"
   ]
  },
  {
   "cell_type": "code",
   "execution_count": null,
   "id": "6e36269b-19b2-4e57-b267-42269ce1e056",
   "metadata": {},
   "outputs": [],
   "source": [
    "asd = num_to_cik(similar_companies)"
   ]
  },
  {
   "cell_type": "code",
   "execution_count": null,
   "id": "2d744106-36d0-4636-8dad-2c923339688e",
   "metadata": {},
   "outputs": [],
   "source": [
    "len(asd)"
   ]
  },
  {
   "cell_type": "markdown",
   "id": "ca27a437-bf22-4c83-a0ad-e4ef6c345989",
   "metadata": {
    "tags": []
   },
   "source": [
    "## STEP02: Submissions to CSV Function"
   ]
  },
  {
   "cell_type": "code",
   "execution_count": null,
   "id": "6436b265-21f7-4ba4-a2ba-f6c0d3cdb0b1",
   "metadata": {},
   "outputs": [],
   "source": [
    "https://data.sec.gov/submissions/CIK0000105319.json"
   ]
  },
  {
   "cell_type": "code",
   "execution_count": null,
   "id": "3e165474-4d18-4a27-aed9-5eaf6a29ce5b",
   "metadata": {},
   "outputs": [],
   "source": [
    "import requests\n",
    "\n",
    "def get_submission_data(cik):\n",
    "    # Replace 'YOUR_CIK_HERE' with the actual CIK number.\n",
    "    url = f'https://data.sec.gov/submissions/CIK{cik}.json'\n",
    "    \n",
    "    try:\n",
    "        response = requests.get(url)\n",
    "        response.raise_for_status()  # Raises an HTTPError if the HTTP request returned an unsuccessful status code\n",
    "        data = response.json()\n",
    "        return data\n",
    "    except requests.exceptions.HTTPError as errh:\n",
    "        print (\"Http Error:\",errh)\n",
    "    except requests.exceptions.ConnectionError as errc:\n",
    "        print (\"Error Connecting:\",errc)\n",
    "    except requests.exceptions.Timeout as errt:\n",
    "        print (\"Timeout Error:\",errt)\n",
    "    except requests.exceptions.RequestException as err:\n",
    "        print (\"Oops: Something Else\",err)\n",
    "\n",
    "# Example usage:\n",
    "cik = 'CIK0000277135'  # Replace with the actual CIK number\n",
    "submission_data = get_submission_data(cik)\n",
    "print(submission_data)\n"
   ]
  },
  {
   "cell_type": "code",
   "execution_count": null,
   "id": "edbe5e45-7111-448b-8612-af926c492681",
   "metadata": {},
   "outputs": [],
   "source": [
    "import os\n",
    "import json\n",
    "import pandas as pd\n",
    "\n",
    "# Path to the folder containing JSON files\n",
    "folder_path = 'companyfacts'\n",
    "\n",
    "# List to hold the data\n",
    "data_list = []\n",
    "\n",
    "# Loop through each file in the folder\n",
    "for file_name in os.listdir(folder_path):\n",
    "    if file_name.endswith('.json'):\n",
    "        file_path = os.path.join(folder_path, file_name)\n",
    "        with open(file_path, 'r') as file:\n",
    "            # Load the content of the JSON file\n",
    "            json_data = json.load(file)\n",
    "            # Extract the desired data\n",
    "            data = {\n",
    "                'cik': json_data.get('cik', ''),\n",
    "                'entityType': json_data.get('entityName', '')\n",
    "            }\n",
    "            data_list.append(data)\n",
    "\n",
    "# Create a DataFrame from the list of data\n",
    "df = pd.DataFrame(data_list)\n"
   ]
  },
  {
   "cell_type": "code",
   "execution_count": null,
   "id": "9091ebe6-e3dd-41dc-a7da-1c8b09f9bee1",
   "metadata": {},
   "outputs": [],
   "source": [
    "with open('companyfacts/CIK0000225263.json', 'r') as file:\n",
    "    data = json.load(file)"
   ]
  },
  {
   "cell_type": "code",
   "execution_count": null,
   "id": "04e543d8-fcfb-46a8-8e76-912e87240a5f",
   "metadata": {},
   "outputs": [],
   "source": [
    "data.keys()"
   ]
  },
  {
   "cell_type": "code",
   "execution_count": null,
   "id": "a3a92a49-2310-4dfc-9a0f-3c4fc16dd896",
   "metadata": {},
   "outputs": [],
   "source": [
    "data_list=[]"
   ]
  },
  {
   "cell_type": "code",
   "execution_count": null,
   "id": "2a8030db-06bf-4be4-bbe2-f0d91d0b0352",
   "metadata": {},
   "outputs": [],
   "source": [
    "dataframe = {\n",
    "    'CIK': data.get('cik', ''),\n",
    "    'NAME': data.get('entityName', ''),\n",
    "    'FACTS': data.get('facts', '')\n",
    "}\n",
    "data_list.append(dataframe)"
   ]
  },
  {
   "cell_type": "code",
   "execution_count": null,
   "id": "c2cb2fde-2268-4e56-8a1d-0f37f7cddf28",
   "metadata": {},
   "outputs": [],
   "source": [
    "df = pd.DataFrame(data_list)"
   ]
  },
  {
   "cell_type": "code",
   "execution_count": null,
   "id": "cbae2ebd-5ac5-4617-a0fa-3545ced50973",
   "metadata": {},
   "outputs": [],
   "source": [
    "df"
   ]
  },
  {
   "cell_type": "code",
   "execution_count": null,
   "id": "79c8cc3c-fc93-40b6-9c09-75fe451362e9",
   "metadata": {},
   "outputs": [],
   "source": [
    "import os\n",
    "import json\n",
    "import pandas as pd\n",
    "\n",
    "# Path to the folder containing JSON files\n",
    "folder_path = 'companyfacts'\n",
    "\n",
    "# List to hold the data\n",
    "data_list = []\n",
    "\n",
    "# Loop through each file in the folder\n",
    "for file_name in os.listdir(folder_path):\n",
    "    if file_name.endswith('.json'):\n",
    "        file_path = os.path.join(folder_path, file_name)\n",
    "        try:\n",
    "            with open(file_path, 'r') as file:\n",
    "                # Load the content of the JSON file\n",
    "                json_data = json.load(file)\n",
    "                # Extract the desired data\n",
    "                data = {\n",
    "                    'cik': json_data['cik'],\n",
    "                    'entityType': json_data['entityName']\n",
    "                }\n",
    "                data_list.append(data)\n",
    "        except (KeyError, json.JSONDecodeError) as e:\n",
    "            print(f\"Skipping file {file_name} due to error: {e}\")\n",
    "\n",
    "# Create a DataFrame from the list of data\n",
    "df = pd.DataFrame(data_list)"
   ]
  },
  {
   "cell_type": "code",
   "execution_count": null,
   "id": "38233202-a6cd-4e49-8c3c-f0cbf29095f0",
   "metadata": {},
   "outputs": [],
   "source": [
    "import os\n",
    "import json\n",
    "import pandas as pd\n",
    "\n",
    "def merge_json_data(folder_path, columns):\n",
    "    \"\"\"\n",
    "    This function reads JSON files from the specified folder, extracts the specified keys,\n",
    "    and merges them into a single pandas DataFrame. Files missing any of these keys are skipped.\n",
    "    It also prints out the count of files processed by thousands.\n",
    "\n",
    "    Parameters:\n",
    "    folder_path (str): The path to the folder containing the JSON files.\n",
    "    columns (list): A list of column names (keys) to extract from the JSON files.\n",
    "\n",
    "    Returns:\n",
    "    pd.DataFrame: A DataFrame containing the merged data.\n",
    "    \"\"\"\n",
    "    data_list = []  # List to hold the data\n",
    "    file_count = 0  # Counter for the number of files processed\n",
    "\n",
    "    # Loop through each file in the folder\n",
    "    for file_name in os.listdir(folder_path):\n",
    "        if file_name.endswith('.json'):\n",
    "            file_count += 1\n",
    "            file_path = os.path.join(folder_path, file_name)\n",
    "            try:\n",
    "                with open(file_path, 'r') as file:\n",
    "                    # Load the content of the JSON file\n",
    "                    json_data = json.load(file)\n",
    "                    # Extract the desired data\n",
    "                    data = {column: json_data[column] for column in columns}\n",
    "                    data_list.append(data)\n",
    "            except (KeyError, json.JSONDecodeError):\n",
    "                continue  # Skip the file if an error occurs\n",
    "\n",
    "    # Print the count of files processed by thousands\n",
    "    print(f\"Processed {file_count // 1000 * 1000} files.\")\n",
    "\n",
    "    # Create a DataFrame from the list of data\n",
    "    return pd.DataFrame(data_list)\n",
    "\n",
    "# Usage example:\n",
    "folder_path = 'companyfacts'  # Replace with your folder path\n",
    "columns = ['cik', 'entityName']  # Replace with your desired column names\n",
    "df = merge_json_data(folder_path, columns)\n"
   ]
  },
  {
   "cell_type": "code",
   "execution_count": null,
   "id": "ab1851b3-fd8a-405b-93fa-0b8878e77887",
   "metadata": {},
   "outputs": [],
   "source": [
    "df"
   ]
  },
  {
   "cell_type": "markdown",
   "id": "ff6fd103-4167-4a99-9400-f7cbe86814be",
   "metadata": {
    "tags": []
   },
   "source": [
    "## STEP03: Converting Submissions"
   ]
  },
  {
   "cell_type": "code",
   "execution_count": null,
   "id": "8b3d7711-43bf-4171-9776-d0a13699e709",
   "metadata": {},
   "outputs": [],
   "source": [
    "company_ciks = parts[0]\n",
    "keys_of_interest = ['cik', 'entityType', 'sic', 'sicDescription', 'name', 'tickers', 'exchanges']\n",
    "df = retrieve_and_merge_data(company_ciks, keys_of_interest)"
   ]
  },
  {
   "cell_type": "code",
   "execution_count": 3,
   "id": "3cadd07b-1984-41f6-99f5-3fc1c4266e9f",
   "metadata": {},
   "outputs": [
    {
     "data": {
      "text/plain": [
       "17693"
      ]
     },
     "execution_count": 3,
     "metadata": {},
     "output_type": "execute_result"
    }
   ],
   "source": [
    "len(list(os.listdir('companyfacts')))"
   ]
  },
  {
   "cell_type": "code",
   "execution_count": null,
   "id": "6f8a6749-472f-4d1a-b3c2-39289b1d67c2",
   "metadata": {},
   "outputs": [],
   "source": [
    "df.to_csv('submissions_merged.csv',index=False)"
   ]
  },
  {
   "cell_type": "code",
   "execution_count": 44,
   "id": "079493d3-8605-4253-bf9e-eb9f8432b826",
   "metadata": {},
   "outputs": [
    {
     "data": {
      "text/html": [
       "<div>\n",
       "<style scoped>\n",
       "    .dataframe tbody tr th:only-of-type {\n",
       "        vertical-align: middle;\n",
       "    }\n",
       "\n",
       "    .dataframe tbody tr th {\n",
       "        vertical-align: top;\n",
       "    }\n",
       "\n",
       "    .dataframe thead th {\n",
       "        text-align: right;\n",
       "    }\n",
       "</style>\n",
       "<table border=\"1\" class=\"dataframe\">\n",
       "  <thead>\n",
       "    <tr style=\"text-align: right;\">\n",
       "      <th></th>\n",
       "    </tr>\n",
       "  </thead>\n",
       "  <tbody>\n",
       "  </tbody>\n",
       "</table>\n",
       "</div>"
      ],
      "text/plain": [
       "Empty DataFrame\n",
       "Columns: []\n",
       "Index: []"
      ]
     },
     "execution_count": 44,
     "metadata": {},
     "output_type": "execute_result"
    }
   ],
   "source": [
    "df"
   ]
  },
  {
   "cell_type": "code",
   "execution_count": 3,
   "id": "75983af8-13b6-4db4-b6f3-918fbdb620f8",
   "metadata": {},
   "outputs": [],
   "source": [
    "def split_list(lst, n):\n",
    "    \"\"\"Split a list into n equal parts.\"\"\"\n",
    "    k, m = divmod(len(lst), n)\n",
    "    return [lst[i * k + min(i, m):(i + 1) * k + min(i + 1, m)] for i in range(n)]\n",
    "\n",
    "# Example usage:\n",
    "my_list = list(os.listdir('companyfacts'))\n",
    "parts = split_list(my_list, 200)"
   ]
  },
  {
   "cell_type": "code",
   "execution_count": 4,
   "id": "935a1270-0b20-4e76-a840-ccc48ce78964",
   "metadata": {},
   "outputs": [
    {
     "data": {
      "text/plain": [
       "89"
      ]
     },
     "execution_count": 4,
     "metadata": {},
     "output_type": "execute_result"
    }
   ],
   "source": [
    "len(parts[0])"
   ]
  },
  {
   "cell_type": "code",
   "execution_count": 2,
   "id": "1c2c2956-719c-4f91-b16e-1d3c22dd2d14",
   "metadata": {},
   "outputs": [],
   "source": [
    "import concurrent.futures\n",
    "import requests\n",
    "import pandas as pd\n",
    "\n",
    "def fetch_data(cik, headers, keys_of_interest):\n",
    "    url = f'https://data.sec.gov/submissions/{cik}'\n",
    "    response = requests.get(url, headers=headers)\n",
    "    if response.status_code == 200:\n",
    "        data = response.json()\n",
    "        return {key: data.get(key, None) for key in keys_of_interest}\n",
    "    else:\n",
    "        print(f'Failed to retrieve data for CIK: {cik}')\n",
    "        return None\n",
    "\n",
    "def retrieve_and_merge_data(company_ciks, keys_of_interest):\n",
    "    headers = {'User-Agent': 'YourAppName/1.0 (your-email@example.com)'}\n",
    "    company_data = []\n",
    "    \n",
    "    with concurrent.futures.ThreadPoolExecutor() as executor:\n",
    "        future_to_cik = {executor.submit(fetch_data, cik, headers, keys_of_interest): cik for cik in company_ciks}\n",
    "        for future in concurrent.futures.as_completed(future_to_cik):\n",
    "            data = future.result()\n",
    "            if data:\n",
    "                company_data.append(data)\n",
    "\n",
    "    return pd.DataFrame(company_data)\n"
   ]
  },
  {
   "cell_type": "code",
   "execution_count": 5,
   "id": "80c35508-f8c5-45bc-b2d2-2a0b67fb1dd2",
   "metadata": {},
   "outputs": [],
   "source": [
    "company_ciks = parts[0]\n",
    "keys_of_interest = ['cik', 'entityType', 'sic', 'sicDescription', 'name', 'tickers', 'exchanges']"
   ]
  },
  {
   "cell_type": "code",
   "execution_count": 34,
   "id": "2ab4595c-dfd2-4fba-916f-c52ee951aa06",
   "metadata": {},
   "outputs": [
    {
     "data": {
      "text/plain": [
       "dict_keys(['cik', 'entityType', 'sic', 'sicDescription', 'insiderTransactionForOwnerExists', 'insiderTransactionForIssuerExists', 'name', 'tickers', 'exchanges', 'ein', 'description', 'website', 'investorWebsite', 'category', 'fiscalYearEnd', 'stateOfIncorporation', 'stateOfIncorporationDescription', 'addresses', 'phone', 'flags', 'formerNames', 'filings'])"
      ]
     },
     "execution_count": 34,
     "metadata": {},
     "output_type": "execute_result"
    }
   ],
   "source": [
    "headers = {'User-Agent': 'YourAppName/1.0 (your-email@example.com)'}\n",
    "url = f'https://data.sec.gov/submissions/CIK0001816581.json'\n",
    "response = requests.get(url, headers=headers)\n",
    "data = response.json()\n",
    "data.keys()"
   ]
  },
  {
   "cell_type": "code",
   "execution_count": 3,
   "id": "10eb95d0-c320-4024-982c-771d49489a88",
   "metadata": {},
   "outputs": [
    {
     "data": {
      "text/plain": [
       "882437"
      ]
     },
     "execution_count": 3,
     "metadata": {},
     "output_type": "execute_result"
    }
   ],
   "source": [
    "len(os.listdir('sub'))"
   ]
  },
  {
   "cell_type": "code",
   "execution_count": 4,
   "id": "1a7235b6-f921-43a8-93e6-c7925568725f",
   "metadata": {},
   "outputs": [],
   "source": [
    "def merge_json_data(folder_path, columns):\n",
    "    \"\"\"\n",
    "    This function reads JSON files from the specified folder, extracts the specified keys,\n",
    "    and merges them into a single pandas DataFrame. Files missing any of these keys are skipped.\n",
    "    It also prints out the count of files processed by thousands.\n",
    "\n",
    "    Parameters:\n",
    "    folder_path (str): The path to the folder containing the JSON files.\n",
    "    columns (list): A list of column names (keys) to extract from the JSON files.\n",
    "\n",
    "    Returns:\n",
    "    pd.DataFrame: A DataFrame containing the merged data.\n",
    "    \"\"\"\n",
    "    data_list = []  # List to hold the data\n",
    "    file_count = 0  # Counter for the number of files processed\n",
    "\n",
    "    # Loop through each file in the folder\n",
    "    for file_name in os.listdir(folder_path):\n",
    "        if file_name.endswith('.json'):\n",
    "            file_count += 1\n",
    "            file_path = os.path.join(folder_path, file_name)\n",
    "            try:\n",
    "                with open(file_path, 'r') as file:\n",
    "                    # Load the content of the JSON file\n",
    "                    json_data = json.load(file)\n",
    "                    # Extract the desired data\n",
    "                    data = {column: json_data[column] for column in columns}\n",
    "                    data_list.append(data)\n",
    "            except (KeyError, json.JSONDecodeError):\n",
    "                continue  # Skip the file if an error occurs\n",
    "\n",
    "    # Print the count of files processed by thousands\n",
    "    print(f\"Processed {file_count // 1000 * 1000} files.\")\n",
    "\n",
    "    # Create a DataFrame from the list of data\n",
    "    return pd.DataFrame(data_list)"
   ]
  },
  {
   "cell_type": "code",
   "execution_count": null,
   "id": "99417404-ff6d-4797-ad2e-bf7b9c3fab9a",
   "metadata": {},
   "outputs": [],
   "source": [
    "folder_path = 'companyfacts'  # Replace with your folder path\n",
    "columns = ['cik', 'entityName']  # Replace with your desired column names\n",
    "df = merge_json_data(folder_path, columns)"
   ]
  },
  {
   "cell_type": "code",
   "execution_count": 18,
   "id": "f5f9b9d6-edad-4138-8051-75bb4b2a39e0",
   "metadata": {},
   "outputs": [],
   "source": [
    "data_list=[]"
   ]
  },
  {
   "cell_type": "code",
   "execution_count": 19,
   "id": "4a40263d-9718-485d-b120-f586b613e048",
   "metadata": {},
   "outputs": [],
   "source": [
    "for file_name in os.listdir('companyfacts'):\n",
    "    file_path = os.path.join('sub',file_name)\n",
    "    if file_name.endswith('.json'):\n",
    "        try:\n",
    "            with open(file_path, 'r') as file:\n",
    "                # Load the content of the JSON file\n",
    "                json_data = json.load(file)\n",
    "                # Extract the desired data\n",
    "                data = {'CIK': json_data['cik'],\n",
    "                        'Type':json_data['entityType'], \n",
    "                        'SIC': json_data['sic'],\n",
    "                        'Description':json_data['sicDescription'], \n",
    "                        'Name': json_data['name'],\n",
    "                        'Ticker':json_data['tickers'], \n",
    "                        'Exchange':json_data['exchanges']}\n",
    "                data_list.append(data)\n",
    "        except (KeyError, json.JSONDecodeError):\n",
    "            continue  # Skip the file if an error occurs"
   ]
  },
  {
   "cell_type": "code",
   "execution_count": 21,
   "id": "1d7a7683-ad23-4dd6-8e9c-1ee66b669793",
   "metadata": {},
   "outputs": [],
   "source": [
    "pd.DataFrame(data_list).to_csv('Submissions.csv',index=False)"
   ]
  },
  {
   "cell_type": "code",
   "execution_count": 23,
   "id": "4551ca80-cb7a-40fc-915e-4094832b916c",
   "metadata": {},
   "outputs": [
    {
     "data": {
      "text/plain": [
       "'/Users/khatansanaabandi/Documents/Python/SEC V3'"
      ]
     },
     "execution_count": 23,
     "metadata": {},
     "output_type": "execute_result"
    }
   ],
   "source": [
    "os.getcwd()"
   ]
  },
  {
   "cell_type": "code",
   "execution_count": 24,
   "id": "69134878-c31b-40f1-9ff9-30288814f603",
   "metadata": {},
   "outputs": [],
   "source": [
    "df = pd.DataFrame(data_list)"
   ]
  },
  {
   "cell_type": "markdown",
   "id": "84ac9f0c-98ea-412b-b631-134e3bb5f6f4",
   "metadata": {
    "tags": []
   },
   "source": [
    "## SIC EDA"
   ]
  },
  {
   "cell_type": "code",
   "execution_count": 33,
   "id": "bf90adaa-75df-421b-a627-797665d1a820",
   "metadata": {},
   "outputs": [
    {
     "data": {
      "text/plain": [
       "435"
      ]
     },
     "execution_count": 33,
     "metadata": {},
     "output_type": "execute_result"
    }
   ],
   "source": [
    "len(df['SIC'].unique())"
   ]
  },
  {
   "cell_type": "code",
   "execution_count": 28,
   "id": "5ea1db3c-475c-4e6e-8d06-218505ce4991",
   "metadata": {},
   "outputs": [
    {
     "data": {
      "text/plain": [
       "14203"
      ]
     },
     "execution_count": 28,
     "metadata": {},
     "output_type": "execute_result"
    }
   ],
   "source": [
    "len(df[df['Type']=='operating']['Type'])"
   ]
  },
  {
   "cell_type": "code",
   "execution_count": 29,
   "id": "19ba0cfc-1d71-4f48-95a8-f4db54ef1e39",
   "metadata": {},
   "outputs": [
    {
     "data": {
      "text/plain": [
       "2621"
      ]
     },
     "execution_count": 29,
     "metadata": {},
     "output_type": "execute_result"
    }
   ],
   "source": [
    "len(df[df['Type']=='other']['Type'])"
   ]
  },
  {
   "cell_type": "code",
   "execution_count": 30,
   "id": "f4996eb0-4023-4d05-adf5-28b571bd6fff",
   "metadata": {},
   "outputs": [
    {
     "data": {
      "text/plain": [
       "868"
      ]
     },
     "execution_count": 30,
     "metadata": {},
     "output_type": "execute_result"
    }
   ],
   "source": [
    "len(df[df['Type']=='investment']['Type'])"
   ]
  },
  {
   "cell_type": "code",
   "execution_count": 35,
   "id": "ecc9788e-f7c6-4d85-8572-4cb133f6e975",
   "metadata": {},
   "outputs": [],
   "source": [
    "import pandas as pd\n",
    "\n",
    "# Assuming df is your DataFrame and 'SIC' is the column of interest\n",
    "# Count the occurrences of each unique item in 'SIC'\n",
    "sic_counts = df['SIC'].value_counts()\n",
    "\n",
    "# Convert the series to a DataFrame\n",
    "sic_counts_df = sic_counts.reset_index()\n",
    "\n",
    "# Rename the columns to reflect the content\n",
    "sic_counts_df.columns = ['SIC', 'Count']"
   ]
  },
  {
   "cell_type": "code",
   "execution_count": 37,
   "id": "01e2e5ab-ba57-458b-9a94-1e3d44fcb728",
   "metadata": {},
   "outputs": [
    {
     "data": {
      "image/png": "[encoded data removed]",
      "text/plain": [
       "<Figure size 1000x800 with 1 Axes>"
      ]
     },
     "metadata": {},
     "output_type": "display_data"
    }
   ],
   "source": [
    "import pandas as pd\n",
    "import matplotlib.pyplot as plt\n",
    "\n",
    "# Assuming sic_counts_df is your DataFrame from the previous step\n",
    "# and it has 'SIC' and 'Count' columns\n",
    "\n",
    "# Plotting\n",
    "plt.figure(figsize=(10, 8))  # Adjust the size as needed\n",
    "sic_counts_df = sic_counts_df.sort_values('Count', ascending=False)  # Sort the DataFrame by 'Count'\n",
    "plt.bar(sic_counts_df['SIC'], sic_counts_df['Count'])  # Create a bar chart\n",
    "plt.xlabel('SIC')  # Label for the x-axis\n",
    "plt.ylabel('Count')  # Label for the y-axis\n",
    "plt.title('Frequency of SIC Codes')  # Title of the chart\n",
    "plt.xticks(rotation=90)  # Rotate the x-axis labels if needed\n",
    "plt.show()  # Display the plot\n"
   ]
  },
  {
   "cell_type": "code",
   "execution_count": 38,
   "id": "37eea656-a06b-4657-b67e-e3c0517a99c2",
   "metadata": {},
   "outputs": [
    {
     "data": {
      "text/html": [
       "<div>\n",
       "<style scoped>\n",
       "    .dataframe tbody tr th:only-of-type {\n",
       "        vertical-align: middle;\n",
       "    }\n",
       "\n",
       "    .dataframe tbody tr th {\n",
       "        vertical-align: top;\n",
       "    }\n",
       "\n",
       "    .dataframe thead th {\n",
       "        text-align: right;\n",
       "    }\n",
       "</style>\n",
       "<table border=\"1\" class=\"dataframe\">\n",
       "  <thead>\n",
       "    <tr style=\"text-align: right;\">\n",
       "      <th></th>\n",
       "      <th>SIC</th>\n",
       "      <th>Count</th>\n",
       "    </tr>\n",
       "  </thead>\n",
       "  <tbody>\n",
       "    <tr>\n",
       "      <th>0</th>\n",
       "      <td></td>\n",
       "      <td>2008</td>\n",
       "    </tr>\n",
       "    <tr>\n",
       "      <th>1</th>\n",
       "      <td>2834</td>\n",
       "      <td>1087</td>\n",
       "    </tr>\n",
       "    <tr>\n",
       "      <th>2</th>\n",
       "      <td>6770</td>\n",
       "      <td>1045</td>\n",
       "    </tr>\n",
       "    <tr>\n",
       "      <th>3</th>\n",
       "      <td>7372</td>\n",
       "      <td>653</td>\n",
       "    </tr>\n",
       "    <tr>\n",
       "      <th>4</th>\n",
       "      <td>6798</td>\n",
       "      <td>502</td>\n",
       "    </tr>\n",
       "    <tr>\n",
       "      <th>...</th>\n",
       "      <td>...</td>\n",
       "      <td>...</td>\n",
       "    </tr>\n",
       "    <tr>\n",
       "      <th>422</th>\n",
       "      <td>7384</td>\n",
       "      <td>1</td>\n",
       "    </tr>\n",
       "    <tr>\n",
       "      <th>421</th>\n",
       "      <td>3260</td>\n",
       "      <td>1</td>\n",
       "    </tr>\n",
       "    <tr>\n",
       "      <th>419</th>\n",
       "      <td>2092</td>\n",
       "      <td>1</td>\n",
       "    </tr>\n",
       "    <tr>\n",
       "      <th>418</th>\n",
       "      <td>2253</td>\n",
       "      <td>1</td>\n",
       "    </tr>\n",
       "    <tr>\n",
       "      <th>434</th>\n",
       "      <td>8351</td>\n",
       "      <td>1</td>\n",
       "    </tr>\n",
       "  </tbody>\n",
       "</table>\n",
       "<p>435 rows × 2 columns</p>\n",
       "</div>"
      ],
      "text/plain": [
       "      SIC  Count\n",
       "0           2008\n",
       "1    2834   1087\n",
       "2    6770   1045\n",
       "3    7372    653\n",
       "4    6798    502\n",
       "..    ...    ...\n",
       "422  7384      1\n",
       "421  3260      1\n",
       "419  2092      1\n",
       "418  2253      1\n",
       "434  8351      1\n",
       "\n",
       "[435 rows x 2 columns]"
      ]
     },
     "execution_count": 38,
     "metadata": {},
     "output_type": "execute_result"
    }
   ],
   "source": [
    "sic_counts_df"
   ]
  },
  {
   "cell_type": "code",
   "execution_count": 55,
   "id": "9b69b452-fa35-48d2-ac33-f8d573bd5e2d",
   "metadata": {},
   "outputs": [],
   "source": [
    "import pandas as pd\n",
    "\n",
    "# Assuming you have two DataFrames: df1 and df2\n",
    "# And a common key column named 'KeyColumn' that you want to merge on\n",
    "\n",
    "# Merge df1 and df2 on 'KeyColumn'\n",
    "merged_df = pd.merge(df, sic_counts_df, on='SIC', how='inner')\n",
    "\n"
   ]
  },
  {
   "cell_type": "code",
   "execution_count": 59,
   "id": "21ece9e3-297d-4510-8679-40bb3ee4a7ee",
   "metadata": {},
   "outputs": [],
   "source": [
    "sic_counts_df.to_csv('sic_counts.csv', index=False)"
   ]
  },
  {
   "cell_type": "code",
   "execution_count": 60,
   "id": "30dbbd7a-9f92-40a5-ba08-8c49ed0446f4",
   "metadata": {},
   "outputs": [
    {
     "data": {
      "text/plain": [
       "Index(['CIK', 'Type', 'SIC', 'Description', 'Name', 'Ticker', 'Exchange'], dtype='object')"
      ]
     },
     "execution_count": 60,
     "metadata": {},
     "output_type": "execute_result"
    }
   ],
   "source": [
    "df.columns"
   ]
  },
  {
   "cell_type": "code",
   "execution_count": 71,
   "id": "acafaf42-16c3-42ed-9442-2a82b8cc4d60",
   "metadata": {},
   "outputs": [
    {
     "data": {
      "text/html": [
       "<div>\n",
       "<style scoped>\n",
       "    .dataframe tbody tr th:only-of-type {\n",
       "        vertical-align: middle;\n",
       "    }\n",
       "\n",
       "    .dataframe tbody tr th {\n",
       "        vertical-align: top;\n",
       "    }\n",
       "\n",
       "    .dataframe thead th {\n",
       "        text-align: right;\n",
       "    }\n",
       "</style>\n",
       "<table border=\"1\" class=\"dataframe\">\n",
       "  <thead>\n",
       "    <tr style=\"text-align: right;\">\n",
       "      <th></th>\n",
       "      <th>SIC_x</th>\n",
       "      <th>Count</th>\n",
       "      <th>CIK</th>\n",
       "      <th>Type</th>\n",
       "      <th>SIC_y</th>\n",
       "      <th>Description</th>\n",
       "      <th>Name</th>\n",
       "      <th>Ticker</th>\n",
       "      <th>Exchange</th>\n",
       "    </tr>\n",
       "  </thead>\n",
       "  <tbody>\n",
       "    <tr>\n",
       "      <th>0</th>\n",
       "      <td></td>\n",
       "      <td>2008</td>\n",
       "      <td>NaN</td>\n",
       "      <td>NaN</td>\n",
       "      <td>NaN</td>\n",
       "      <td>NaN</td>\n",
       "      <td>NaN</td>\n",
       "      <td>NaN</td>\n",
       "      <td>NaN</td>\n",
       "    </tr>\n",
       "    <tr>\n",
       "      <th>1</th>\n",
       "      <td>2834</td>\n",
       "      <td>1087</td>\n",
       "      <td>NaN</td>\n",
       "      <td>NaN</td>\n",
       "      <td>NaN</td>\n",
       "      <td>NaN</td>\n",
       "      <td>NaN</td>\n",
       "      <td>NaN</td>\n",
       "      <td>NaN</td>\n",
       "    </tr>\n",
       "    <tr>\n",
       "      <th>2</th>\n",
       "      <td>6770</td>\n",
       "      <td>1045</td>\n",
       "      <td>NaN</td>\n",
       "      <td>NaN</td>\n",
       "      <td>NaN</td>\n",
       "      <td>NaN</td>\n",
       "      <td>NaN</td>\n",
       "      <td>NaN</td>\n",
       "      <td>NaN</td>\n",
       "    </tr>\n",
       "    <tr>\n",
       "      <th>3</th>\n",
       "      <td>7372</td>\n",
       "      <td>653</td>\n",
       "      <td>NaN</td>\n",
       "      <td>NaN</td>\n",
       "      <td>NaN</td>\n",
       "      <td>NaN</td>\n",
       "      <td>NaN</td>\n",
       "      <td>NaN</td>\n",
       "      <td>NaN</td>\n",
       "    </tr>\n",
       "    <tr>\n",
       "      <th>4</th>\n",
       "      <td>6798</td>\n",
       "      <td>502</td>\n",
       "      <td>NaN</td>\n",
       "      <td>NaN</td>\n",
       "      <td>NaN</td>\n",
       "      <td>NaN</td>\n",
       "      <td>NaN</td>\n",
       "      <td>NaN</td>\n",
       "      <td>NaN</td>\n",
       "    </tr>\n",
       "    <tr>\n",
       "      <th>...</th>\n",
       "      <td>...</td>\n",
       "      <td>...</td>\n",
       "      <td>...</td>\n",
       "      <td>...</td>\n",
       "      <td>...</td>\n",
       "      <td>...</td>\n",
       "      <td>...</td>\n",
       "      <td>...</td>\n",
       "      <td>...</td>\n",
       "    </tr>\n",
       "    <tr>\n",
       "      <th>430</th>\n",
       "      <td>7384</td>\n",
       "      <td>1</td>\n",
       "      <td>NaN</td>\n",
       "      <td>NaN</td>\n",
       "      <td>NaN</td>\n",
       "      <td>NaN</td>\n",
       "      <td>NaN</td>\n",
       "      <td>NaN</td>\n",
       "      <td>NaN</td>\n",
       "    </tr>\n",
       "    <tr>\n",
       "      <th>431</th>\n",
       "      <td>3260</td>\n",
       "      <td>1</td>\n",
       "      <td>NaN</td>\n",
       "      <td>NaN</td>\n",
       "      <td>NaN</td>\n",
       "      <td>NaN</td>\n",
       "      <td>NaN</td>\n",
       "      <td>NaN</td>\n",
       "      <td>NaN</td>\n",
       "    </tr>\n",
       "    <tr>\n",
       "      <th>432</th>\n",
       "      <td>2092</td>\n",
       "      <td>1</td>\n",
       "      <td>NaN</td>\n",
       "      <td>NaN</td>\n",
       "      <td>NaN</td>\n",
       "      <td>NaN</td>\n",
       "      <td>NaN</td>\n",
       "      <td>NaN</td>\n",
       "      <td>NaN</td>\n",
       "    </tr>\n",
       "    <tr>\n",
       "      <th>433</th>\n",
       "      <td>2253</td>\n",
       "      <td>1</td>\n",
       "      <td>NaN</td>\n",
       "      <td>NaN</td>\n",
       "      <td>NaN</td>\n",
       "      <td>NaN</td>\n",
       "      <td>NaN</td>\n",
       "      <td>NaN</td>\n",
       "      <td>NaN</td>\n",
       "    </tr>\n",
       "    <tr>\n",
       "      <th>434</th>\n",
       "      <td>8351</td>\n",
       "      <td>1</td>\n",
       "      <td>NaN</td>\n",
       "      <td>NaN</td>\n",
       "      <td>NaN</td>\n",
       "      <td>NaN</td>\n",
       "      <td>NaN</td>\n",
       "      <td>NaN</td>\n",
       "      <td>NaN</td>\n",
       "    </tr>\n",
       "  </tbody>\n",
       "</table>\n",
       "<p>435 rows × 9 columns</p>\n",
       "</div>"
      ],
      "text/plain": [
       "    SIC_x  Count  CIK Type SIC_y Description Name Ticker Exchange\n",
       "0           2008  NaN  NaN   NaN         NaN  NaN    NaN      NaN\n",
       "1    2834   1087  NaN  NaN   NaN         NaN  NaN    NaN      NaN\n",
       "2    6770   1045  NaN  NaN   NaN         NaN  NaN    NaN      NaN\n",
       "3    7372    653  NaN  NaN   NaN         NaN  NaN    NaN      NaN\n",
       "4    6798    502  NaN  NaN   NaN         NaN  NaN    NaN      NaN\n",
       "..    ...    ...  ...  ...   ...         ...  ...    ...      ...\n",
       "430  7384      1  NaN  NaN   NaN         NaN  NaN    NaN      NaN\n",
       "431  3260      1  NaN  NaN   NaN         NaN  NaN    NaN      NaN\n",
       "432  2092      1  NaN  NaN   NaN         NaN  NaN    NaN      NaN\n",
       "433  2253      1  NaN  NaN   NaN         NaN  NaN    NaN      NaN\n",
       "434  8351      1  NaN  NaN   NaN         NaN  NaN    NaN      NaN\n",
       "\n",
       "[435 rows x 9 columns]"
      ]
     },
     "execution_count": 71,
     "metadata": {},
     "output_type": "execute_result"
    }
   ],
   "source": [
    "import pandas as pd\n",
    "\n",
    "# Assuming you have two DataFrames: df1 and df2\n",
    "# And you want to look up values from 'lookup_column' in df2 based on 'key_column' in df1\n",
    "\n",
    "# Perform the equivalent of VLOOKUP\n",
    "result_df = pd.merge(sic_counts_df, df, left_on='SIC', right_on='CIK', how='left')\n",
    "result_df\n",
    "# 'how='left'' ensures that all rows from the left DataFrame (df1) are included in the"
   ]
  },
  {
   "cell_type": "markdown",
   "id": "a866fe28-78fa-42fe-b823-f224b2720f8a",
   "metadata": {},
   "source": [
    "## SIC EDA v2"
   ]
  },
  {
   "cell_type": "code",
   "execution_count": 24,
   "id": "c384d8d1-c462-400d-b9f5-dc5c253502f7",
   "metadata": {},
   "outputs": [],
   "source": [
    "df = pd.read_csv('sic_counts.csv')"
   ]
  },
  {
   "cell_type": "code",
   "execution_count": 25,
   "id": "318fd670-bedc-485c-b9e2-0697ade1028e",
   "metadata": {},
   "outputs": [],
   "source": [
    "df = df[1:]"
   ]
  },
  {
   "cell_type": "code",
   "execution_count": 27,
   "id": "5fef3c8f-5f60-4b05-9c13-adb918cd890d",
   "metadata": {},
   "outputs": [
    {
     "data": {
      "image/png": "[encoded data removed]",
      "text/plain": [
       "<Figure size 640x480 with 1 Axes>"
      ]
     },
     "metadata": {},
     "output_type": "display_data"
    }
   ],
   "source": [
    "import matplotlib.pyplot as plt\n",
    "\n",
    "# Assuming 'df' is your DataFrame\n",
    "df.plot(kind='bar', x='SIC', y='Count', legend=False)\n",
    "plt.xlabel('SIC')\n",
    "plt.ylabel('Count')\n",
    "plt.title('Count by SIC Code')\n",
    "plt.show()\n"
   ]
  },
  {
   "cell_type": "code",
   "execution_count": 26,
   "id": "4ea3fc1f-1d47-48c6-8f0e-37fd39c985ab",
   "metadata": {},
   "outputs": [
    {
     "data": {
      "text/html": [
       "<div>\n",
       "<style scoped>\n",
       "    .dataframe tbody tr th:only-of-type {\n",
       "        vertical-align: middle;\n",
       "    }\n",
       "\n",
       "    .dataframe tbody tr th {\n",
       "        vertical-align: top;\n",
       "    }\n",
       "\n",
       "    .dataframe thead th {\n",
       "        text-align: right;\n",
       "    }\n",
       "</style>\n",
       "<table border=\"1\" class=\"dataframe\">\n",
       "  <thead>\n",
       "    <tr style=\"text-align: right;\">\n",
       "      <th></th>\n",
       "      <th>SIC</th>\n",
       "      <th>Count</th>\n",
       "      <th>Description</th>\n",
       "    </tr>\n",
       "  </thead>\n",
       "  <tbody>\n",
       "    <tr>\n",
       "      <th>1</th>\n",
       "      <td>2834.0</td>\n",
       "      <td>1087</td>\n",
       "      <td>Pharmaceutical Preparations</td>\n",
       "    </tr>\n",
       "    <tr>\n",
       "      <th>2</th>\n",
       "      <td>6770.0</td>\n",
       "      <td>1045</td>\n",
       "      <td>Blank Checks</td>\n",
       "    </tr>\n",
       "    <tr>\n",
       "      <th>3</th>\n",
       "      <td>7372.0</td>\n",
       "      <td>653</td>\n",
       "      <td>Services-Prepackaged Software</td>\n",
       "    </tr>\n",
       "    <tr>\n",
       "      <th>4</th>\n",
       "      <td>6798.0</td>\n",
       "      <td>502</td>\n",
       "      <td>Real Estate Investment Trusts</td>\n",
       "    </tr>\n",
       "    <tr>\n",
       "      <th>5</th>\n",
       "      <td>1311.0</td>\n",
       "      <td>441</td>\n",
       "      <td>Crude Petroleum &amp; Natural Gas</td>\n",
       "    </tr>\n",
       "    <tr>\n",
       "      <th>...</th>\n",
       "      <td>...</td>\n",
       "      <td>...</td>\n",
       "      <td>...</td>\n",
       "    </tr>\n",
       "    <tr>\n",
       "      <th>430</th>\n",
       "      <td>7384.0</td>\n",
       "      <td>1</td>\n",
       "      <td>Services-Photofinishing Laboratories</td>\n",
       "    </tr>\n",
       "    <tr>\n",
       "      <th>431</th>\n",
       "      <td>3260.0</td>\n",
       "      <td>1</td>\n",
       "      <td>Pottery &amp; Related Products</td>\n",
       "    </tr>\n",
       "    <tr>\n",
       "      <th>432</th>\n",
       "      <td>2092.0</td>\n",
       "      <td>1</td>\n",
       "      <td>Prepared Fresh or  Frozen Fish &amp; Seafoods</td>\n",
       "    </tr>\n",
       "    <tr>\n",
       "      <th>433</th>\n",
       "      <td>2253.0</td>\n",
       "      <td>1</td>\n",
       "      <td>Knit Outerwear Mills</td>\n",
       "    </tr>\n",
       "    <tr>\n",
       "      <th>434</th>\n",
       "      <td>8351.0</td>\n",
       "      <td>1</td>\n",
       "      <td>Services-Child Day Care Services</td>\n",
       "    </tr>\n",
       "  </tbody>\n",
       "</table>\n",
       "<p>434 rows × 3 columns</p>\n",
       "</div>"
      ],
      "text/plain": [
       "        SIC  Count                                Description\n",
       "1    2834.0   1087                Pharmaceutical Preparations\n",
       "2    6770.0   1045                               Blank Checks\n",
       "3    7372.0    653              Services-Prepackaged Software\n",
       "4    6798.0    502              Real Estate Investment Trusts\n",
       "5    1311.0    441              Crude Petroleum & Natural Gas\n",
       "..      ...    ...                                        ...\n",
       "430  7384.0      1       Services-Photofinishing Laboratories\n",
       "431  3260.0      1                 Pottery & Related Products\n",
       "432  2092.0      1  Prepared Fresh or  Frozen Fish & Seafoods\n",
       "433  2253.0      1                       Knit Outerwear Mills\n",
       "434  8351.0      1           Services-Child Day Care Services\n",
       "\n",
       "[434 rows x 3 columns]"
      ]
     },
     "execution_count": 26,
     "metadata": {},
     "output_type": "execute_result"
    }
   ],
   "source": [
    "df"
   ]
  },
  {
   "cell_type": "code",
   "execution_count": null,
   "id": "a7c5c31e-43a8-4752-818d-d0c67ee8ac81",
   "metadata": {},
   "outputs": [],
   "source": []
  }
 ],
 "metadata": {
  "kernelspec": {
   "display_name": "Python 3 (ipykernel)",
   "language": "python",
   "name": "python3"
  },
  "language_info": {
   "codemirror_mode": {
    "name": "ipython",
    "version": 3
   },
   "file_extension": ".py",
   "mimetype": "text/x-python",
   "name": "python",
   "nbconvert_exporter": "python",
   "pygments_lexer": "ipython3",
   "version": "3.10.9"
  }
 },
 "nbformat": 4,
 "nbformat_minor": 5
}
